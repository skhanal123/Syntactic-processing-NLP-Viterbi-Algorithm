{
 "cells": [
  {
   "cell_type": "markdown",
   "metadata": {},
   "source": [
    "## POS tagging using modified Viterbi"
   ]
  },
  {
   "cell_type": "markdown",
   "metadata": {},
   "source": [
    "### 1. Project Description"
   ]
  },
  {
   "cell_type": "markdown",
   "metadata": {},
   "source": [
    "One of the reasons for loss of accuracy in POS tagging (plain vanilla viterbi algorithm) is due to the presence of unknown words. Hence, we need to modify the algorithm to tackle the problem of unknown words. There are multiple ways to tackle these unknown words. However, in this project, we will implement two techniques to tackle unknown words and improve the accuracy"
   ]
  },
  {
   "cell_type": "markdown",
   "metadata": {},
   "source": [
    "### 2. Data Preparation"
   ]
  },
  {
   "cell_type": "code",
   "execution_count": 1,
   "metadata": {},
   "outputs": [
    {
     "name": "stderr",
     "output_type": "stream",
     "text": [
      "[nltk_data] Downloading package universal_tagset to\n",
      "[nltk_data]     C:\\Users\\Suman.Khanal\\AppData\\Roaming\\nltk_data...\n",
      "[nltk_data]   Package universal_tagset is already up-to-date!\n"
     ]
    },
    {
     "data": {
      "text/plain": [
       "True"
      ]
     },
     "execution_count": 1,
     "metadata": {},
     "output_type": "execute_result"
    }
   ],
   "source": [
    "#Importing libraries required for the tagging\n",
    "import nltk, re, pprint\n",
    "import numpy as np\n",
    "import pandas as pd\n",
    "import requests\n",
    "import matplotlib.pyplot as plt\n",
    "import seaborn as sns\n",
    "import pprint, time\n",
    "import random\n",
    "from sklearn.model_selection import train_test_split\n",
    "from nltk.tokenize import word_tokenize\n",
    "import nltk\n",
    "nltk.download('universal_tagset')"
   ]
  },
  {
   "cell_type": "code",
   "execution_count": 2,
   "metadata": {},
   "outputs": [],
   "source": [
    "# Reading the Treebank tagged sentences\n",
    "nltk_data = list(nltk.corpus.treebank.tagged_sents(tagset='universal'))"
   ]
  },
  {
   "cell_type": "code",
   "execution_count": 3,
   "metadata": {},
   "outputs": [
    {
     "name": "stdout",
     "output_type": "stream",
     "text": [
      "[[('Pierre', 'NOUN'), ('Vinken', 'NOUN'), (',', '.'), ('61', 'NUM'), ('years', 'NOUN'), ('old', 'ADJ'), (',', '.'), ('will', 'VERB'), ('join', 'VERB'), ('the', 'DET'), ('board', 'NOUN'), ('as', 'ADP'), ('a', 'DET'), ('nonexecutive', 'ADJ'), ('director', 'NOUN'), ('Nov.', 'NOUN'), ('29', 'NUM'), ('.', '.')], [('Mr.', 'NOUN'), ('Vinken', 'NOUN'), ('is', 'VERB'), ('chairman', 'NOUN'), ('of', 'ADP'), ('Elsevier', 'NOUN'), ('N.V.', 'NOUN'), (',', '.'), ('the', 'DET'), ('Dutch', 'NOUN'), ('publishing', 'VERB'), ('group', 'NOUN'), ('.', '.')], [('Rudolph', 'NOUN'), ('Agnew', 'NOUN'), (',', '.'), ('55', 'NUM'), ('years', 'NOUN'), ('old', 'ADJ'), ('and', 'CONJ'), ('former', 'ADJ'), ('chairman', 'NOUN'), ('of', 'ADP'), ('Consolidated', 'NOUN'), ('Gold', 'NOUN'), ('Fields', 'NOUN'), ('PLC', 'NOUN'), (',', '.'), ('was', 'VERB'), ('named', 'VERB'), ('*-1', 'X'), ('a', 'DET'), ('nonexecutive', 'ADJ'), ('director', 'NOUN'), ('of', 'ADP'), ('this', 'DET'), ('British', 'ADJ'), ('industrial', 'ADJ'), ('conglomerate', 'NOUN'), ('.', '.')]]\n"
     ]
    }
   ],
   "source": [
    "# Checkinng first few tagged sentences\n",
    "print(nltk_data[:3])"
   ]
  },
  {
   "cell_type": "code",
   "execution_count": 4,
   "metadata": {},
   "outputs": [
    {
     "name": "stdout",
     "output_type": "stream",
     "text": [
      "3718\n",
      "196\n"
     ]
    }
   ],
   "source": [
    "# Splitting into train and validation set witht 95% training set and 5% for validation set\n",
    "# Only 5% is taken as validation as the runtime would be extremely high otherwise\n",
    "random.seed(1234)\n",
    "train_set, validation_set = train_test_split(nltk_data,test_size=0.05)\n",
    "\n",
    "# Checking the size of train and validation set\n",
    "print(len(train_set))\n",
    "print(len(validation_set))"
   ]
  },
  {
   "cell_type": "code",
   "execution_count": 5,
   "metadata": {},
   "outputs": [
    {
     "name": "stdout",
     "output_type": "stream",
     "text": [
      "[[('Chateau', 'NOUN'), ('Yquem', 'NOUN'), (',', '.'), ('the', 'DET'), ('leading', 'VERB'), ('Sauternes', 'NOUN'), (',', '.'), ('now', 'ADV'), ('goes', 'VERB'), ('for', 'ADP'), ('well', 'ADV'), ('over', 'ADV'), ('$', '.'), ('100', 'NUM'), ('*U*', 'X'), ('a', 'DET'), ('bottle', 'NOUN'), ('for', 'ADP'), ('a', 'DET'), ('lighter', 'ADJ'), ('vintage', 'NOUN'), ('like', 'ADP'), ('1984', 'NUM'), (';', '.'), ('the', 'DET'), ('spectacularly', 'ADV'), ('rich', 'ADJ'), ('1983', 'NUM'), ('runs', 'VERB'), ('$', '.'), ('179', 'NUM'), ('*U*', 'X'), ('.', '.')], [('The', 'DET'), ('rule', 'NOUN'), ('also', 'ADV'), ('prohibits', 'VERB'), ('funding', 'NOUN'), ('for', 'ADP'), ('activities', 'NOUN'), ('that', 'DET'), ('``', '.'), ('*T*-137', 'X'), ('encourage', 'VERB'), (',', '.'), ('promote', 'VERB'), ('or', 'CONJ'), ('advocate', 'VERB'), ('abortion', 'NOUN'), ('.', '.'), (\"''\", '.')], [('That', 'DET'), (\"'s\", 'VERB'), ('almost', 'ADV'), ('$', '.'), ('10', 'NUM'), ('*U*', 'X'), ('of', 'ADP'), ('equity', 'NOUN'), ('for', 'ADP'), ('each', 'DET'), ('Columbia', 'NOUN'), ('share', 'NOUN'), (',', '.'), ('including', 'VERB'), ('convertible', 'ADJ'), ('preferred', 'ADJ'), ('shares', 'NOUN'), (',', '.'), ('though', 'ADP'), ('more', 'ADJ'), ('junk', 'NOUN'), ('markdowns', 'NOUN'), ('would', 'VERB'), ('reduce', 'VERB'), ('the', 'DET'), ('cushion', 'NOUN'), ('.', '.')]]\n"
     ]
    }
   ],
   "source": [
    "# Checking tagging of first few sentence of the train data of universal dataset\n",
    "print(train_set[:3])"
   ]
  },
  {
   "cell_type": "code",
   "execution_count": 6,
   "metadata": {},
   "outputs": [
    {
     "data": {
      "text/plain": [
       "95464"
      ]
     },
     "execution_count": 6,
     "metadata": {},
     "output_type": "execute_result"
    }
   ],
   "source": [
    "# Getting list of tagged words from the train dataset\n",
    "# Printing the length of list of tagged words\n",
    "train_tagged_words = [tup for sent in train_set for tup in sent]\n",
    "len(train_tagged_words)"
   ]
  },
  {
   "cell_type": "code",
   "execution_count": 7,
   "metadata": {},
   "outputs": [
    {
     "data": {
      "text/plain": [
       "[('Chateau', 'NOUN'), ('Yquem', 'NOUN'), (',', '.')]"
      ]
     },
     "execution_count": 7,
     "metadata": {},
     "output_type": "execute_result"
    }
   ],
   "source": [
    "# Checking first few tagged words\n",
    "train_tagged_words[:3]"
   ]
  },
  {
   "cell_type": "code",
   "execution_count": 8,
   "metadata": {},
   "outputs": [],
   "source": [
    "# Creating the list of token from the list of tagged words created above\n",
    "tokens = [pair[0] for pair in train_tagged_words]"
   ]
  },
  {
   "cell_type": "code",
   "execution_count": 9,
   "metadata": {},
   "outputs": [
    {
     "name": "stdout",
     "output_type": "stream",
     "text": [
      "12079\n"
     ]
    }
   ],
   "source": [
    "# Creating the vocabulary of the words and  checking the size of the vocabulory\n",
    "V = set(tokens)\n",
    "print(len(V))"
   ]
  },
  {
   "cell_type": "markdown",
   "metadata": {},
   "source": [
    "Observation: We observed that 12079 uniques words have been tagged in the training data set"
   ]
  },
  {
   "cell_type": "code",
   "execution_count": 10,
   "metadata": {},
   "outputs": [
    {
     "data": {
      "text/plain": [
       "12"
      ]
     },
     "execution_count": 10,
     "metadata": {},
     "output_type": "execute_result"
    }
   ],
   "source": [
    "# Creating a set of tags and checking the size of the tags\n",
    "tags = ([pair[1] for pair in train_tagged_words])\n",
    "T=set(tags)\n",
    "len(T)"
   ]
  },
  {
   "cell_type": "markdown",
   "metadata": {},
   "source": [
    "Observation: We observe that there are 12 POS tags used. Lets find the name of tags."
   ]
  },
  {
   "cell_type": "code",
   "execution_count": 11,
   "metadata": {},
   "outputs": [
    {
     "name": "stdout",
     "output_type": "stream",
     "text": [
      "{'CONJ', 'ADP', '.', 'PRT', 'DET', 'ADV', 'ADJ', 'NUM', 'VERB', 'X', 'PRON', 'NOUN'}\n"
     ]
    }
   ],
   "source": [
    "# Checking the names of the tags used\n",
    "print(T)"
   ]
  },
  {
   "cell_type": "code",
   "execution_count": 12,
   "metadata": {},
   "outputs": [
    {
     "data": {
      "text/plain": [
       "Counter({'NOUN': 27415,\n",
       "         '.': 11108,\n",
       "         'DET': 8279,\n",
       "         'VERB': 12853,\n",
       "         'ADV': 3018,\n",
       "         'ADP': 9311,\n",
       "         'NUM': 3352,\n",
       "         'X': 6257,\n",
       "         'ADJ': 6082,\n",
       "         'CONJ': 2161,\n",
       "         'PRT': 3051,\n",
       "         'PRON': 2577})"
      ]
     },
     "execution_count": 12,
     "metadata": {},
     "output_type": "execute_result"
    }
   ],
   "source": [
    "# Checking the number of times each tag is used in the train data set\n",
    "from collections import Counter\n",
    "tag_counts = Counter(tags)\n",
    "tag_counts"
   ]
  },
  {
   "cell_type": "markdown",
   "metadata": {},
   "source": [
    "Observation:\n",
    "    1. It is observed that NOUN has been tagged most followed by VERB and '.'"
   ]
  },
  {
   "cell_type": "code",
   "execution_count": 13,
   "metadata": {},
   "outputs": [],
   "source": [
    "# Creating a zero matrix and computing P(w/t) and storing in T x V matrix\n",
    "t = len(T)\n",
    "v = len(V)\n",
    "w_given_t = np.zeros((t, v))"
   ]
  },
  {
   "cell_type": "code",
   "execution_count": 14,
   "metadata": {},
   "outputs": [],
   "source": [
    "# Defining a function to compute probability of word given tag: Emission Probability\n",
    "\n",
    "def word_given_tag(word, tag, train_bag = train_tagged_words):\n",
    "    tag_list = [pair for pair in train_bag if pair[1]==tag]\n",
    "    count_tag = len(tag_list)\n",
    "    w_given_tag_list = [pair[0] for pair in tag_list if pair[0]==word]\n",
    "    count_w_given_tag = len(w_given_tag_list)\n",
    "    \n",
    "    return (count_w_given_tag, count_tag)"
   ]
  },
  {
   "cell_type": "code",
   "execution_count": 15,
   "metadata": {},
   "outputs": [
    {
     "name": "stdout",
     "output_type": "stream",
     "text": [
      "\n",
      " addition\n",
      "(0, 6082)\n",
      "(0, 12853)\n",
      "(21, 27415) \n",
      "\n",
      "\n",
      " the\n",
      "(3841, 8279)\n",
      "(0, 2577)\n",
      "(0, 12853)\n",
      "\n",
      " damages\n",
      "(5, 27415)\n",
      "(0, 6082)\n",
      "(0, 0)\n"
     ]
    }
   ],
   "source": [
    "# Checking the functionality of the function defined above with few words from the training data\n",
    "\n",
    "# addition\n",
    "print(\"\\n\", \"addition\")\n",
    "print(word_given_tag('addition', 'ADJ'))\n",
    "print(word_given_tag('addition', 'VERB'))\n",
    "print(word_given_tag('addition', 'NOUN'), \"\\n\")\n",
    "\n",
    "# the\n",
    "print(\"\\n\", \"the\")\n",
    "print(word_given_tag('the', 'DET'))\n",
    "print(word_given_tag('the', 'PRON'))\n",
    "print(word_given_tag('the', 'VERB'))\n",
    "\n",
    "# damages\n",
    "print(\"\\n\", \"damages\")\n",
    "print(word_given_tag('damages', 'NOUN'))\n",
    "print(word_given_tag('damages', 'ADJ'))\n",
    "print(word_given_tag('damages', 'verb'))"
   ]
  },
  {
   "cell_type": "code",
   "execution_count": 16,
   "metadata": {},
   "outputs": [],
   "source": [
    "# Computing tag given tag: tag2(t2) given tag1 (t1), i.e. Transition Probability\n",
    "\n",
    "def t2_given_t1(t2, t1, train_bag = train_tagged_words):\n",
    "    tags = [pair[1] for pair in train_bag]\n",
    "    count_t1 = len([t for t in tags if t==t1])\n",
    "    count_t2_t1 = 0\n",
    "    for index in range(len(tags)-1):\n",
    "        if tags[index]==t1 and tags[index+1] == t2:\n",
    "            count_t2_t1 += 1\n",
    "    return (count_t2_t1, count_t1)"
   ]
  },
  {
   "cell_type": "code",
   "execution_count": 17,
   "metadata": {},
   "outputs": [],
   "source": [
    "# Creating t x t transition matrix of tags\n",
    "# Each column is t2, each row is t1\n",
    "# Thus M(i, j) represents P(tj given ti)\n",
    "\n",
    "tags_matrix = np.zeros((len(T), len(T)), dtype='float32')\n",
    "for i, t1 in enumerate(list(T)):\n",
    "    for j, t2 in enumerate(list(T)): \n",
    "        tags_matrix[i, j] = t2_given_t1(t2, t1)[0]/t2_given_t1(t2, t1)[1]"
   ]
  },
  {
   "cell_type": "code",
   "execution_count": 18,
   "metadata": {},
   "outputs": [
    {
     "data": {
      "text/plain": [
       "array([[4.62748721e-04, 5.32161035e-02, 3.47061530e-02, 5.09023620e-03,\n",
       "        1.19389169e-01, 5.22906072e-02, 1.18926421e-01, 4.21101339e-02,\n",
       "        1.55946314e-01, 8.32947716e-03, 5.83063401e-02, 3.51226270e-01],\n",
       "       [7.51798972e-04, 1.68617759e-02, 3.97379436e-02, 1.50359794e-03,\n",
       "        3.23917955e-01, 1.34249814e-02, 1.07399851e-01, 6.22919127e-02,\n",
       "        8.05498846e-03, 3.50123495e-02, 6.93803057e-02, 3.21662545e-01],\n",
       "       [5.84263578e-02, 9.03853104e-02, 9.36262161e-02, 2.34065531e-03,\n",
       "        1.74108744e-01, 5.33849485e-02, 4.49225791e-02, 8.04825351e-02,\n",
       "        8.77745748e-02, 2.71876119e-02, 6.46381006e-02, 2.22632334e-01],\n",
       "       [1.63880689e-03, 1.99934449e-02, 4.35922630e-02, 1.96656841e-03,\n",
       "        1.02917075e-01, 9.50508006e-03, 8.45624357e-02, 5.73582426e-02,\n",
       "        3.99213374e-01, 1.37659786e-02, 1.83546375e-02, 2.47132093e-01],\n",
       "       [4.83150128e-04, 9.30063985e-03, 1.82389170e-02, 1.20787532e-04,\n",
       "        5.43543929e-03, 1.28034791e-02, 2.03526989e-01, 2.10170317e-02,\n",
       "        3.97390984e-02, 4.58992645e-02, 3.62362596e-03, 6.39811575e-01],\n",
       "       [6.95825042e-03, 1.18290260e-01, 1.34857520e-01, 1.35851558e-02,\n",
       "        6.99138492e-02, 7.98542053e-02, 1.31544068e-01, 3.14778015e-02,\n",
       "        3.43936384e-01, 2.38568597e-02, 1.49105368e-02, 3.08151096e-02],\n",
       "       [1.66063793e-02, 7.71127939e-02, 6.54390007e-02, 1.08516933e-02,\n",
       "        4.93258797e-03, 4.76816855e-03, 6.64255172e-02, 2.05524489e-02,\n",
       "        1.20026311e-02, 2.12101284e-02, 6.57678407e-04, 6.99440956e-01],\n",
       "       [1.34248212e-02, 3.55011933e-02, 1.18138425e-01, 2.74462998e-02,\n",
       "        3.28162289e-03, 2.98329350e-03, 3.25178988e-02, 1.85262531e-01,\n",
       "        1.76014323e-02, 2.09725544e-01, 1.19331747e-03, 3.52923632e-01],\n",
       "       [5.52400202e-03, 9.07181203e-02, 3.47778723e-02, 3.14323492e-02,\n",
       "        1.34132102e-01, 8.20042044e-02, 6.54321983e-02, 2.30296422e-02,\n",
       "        1.68909982e-01, 2.17225552e-01, 3.54781002e-02, 1.11335874e-01],\n",
       "       [1.00687230e-02, 1.43519253e-01, 1.62378132e-01, 1.83634326e-01,\n",
       "        5.62569909e-02, 2.58910023e-02, 1.72606688e-02, 2.71695689e-03,\n",
       "        2.06328914e-01, 7.46364072e-02, 5.48186041e-02, 6.24900125e-02],\n",
       "       [5.04462561e-03, 2.25067902e-02, 3.88048105e-02, 1.28055876e-02,\n",
       "        8.92510638e-03, 3.41482349e-02, 7.52813369e-02, 7.37291435e-03,\n",
       "        4.83507961e-01, 9.27435011e-02, 7.37291435e-03, 2.11486220e-01],\n",
       "       [4.30786051e-02, 1.76180929e-01, 2.39832208e-01, 4.40634675e-02,\n",
       "        1.31679736e-02, 1.70709472e-02, 1.20372055e-02, 9.66624077e-03,\n",
       "        1.47401065e-01, 2.87069120e-02, 4.74192947e-03, 2.64052540e-01]],\n",
       "      dtype=float32)"
      ]
     },
     "execution_count": 18,
     "metadata": {},
     "output_type": "execute_result"
    }
   ],
   "source": [
    "# Checking the tag matrix\n",
    "tags_matrix"
   ]
  },
  {
   "cell_type": "code",
   "execution_count": 19,
   "metadata": {},
   "outputs": [],
   "source": [
    "# Converting the matrix to a dataframe for better readability\n",
    "tags_df = pd.DataFrame(tags_matrix, columns = list(T), index=list(T))"
   ]
  },
  {
   "cell_type": "code",
   "execution_count": 20,
   "metadata": {},
   "outputs": [
    {
     "data": {
      "text/html": [
       "<div>\n",
       "<style scoped>\n",
       "    .dataframe tbody tr th:only-of-type {\n",
       "        vertical-align: middle;\n",
       "    }\n",
       "\n",
       "    .dataframe tbody tr th {\n",
       "        vertical-align: top;\n",
       "    }\n",
       "\n",
       "    .dataframe thead th {\n",
       "        text-align: right;\n",
       "    }\n",
       "</style>\n",
       "<table border=\"1\" class=\"dataframe\">\n",
       "  <thead>\n",
       "    <tr style=\"text-align: right;\">\n",
       "      <th></th>\n",
       "      <th>CONJ</th>\n",
       "      <th>ADP</th>\n",
       "      <th>.</th>\n",
       "      <th>PRT</th>\n",
       "      <th>DET</th>\n",
       "      <th>ADV</th>\n",
       "      <th>ADJ</th>\n",
       "      <th>NUM</th>\n",
       "      <th>VERB</th>\n",
       "      <th>X</th>\n",
       "      <th>PRON</th>\n",
       "      <th>NOUN</th>\n",
       "    </tr>\n",
       "  </thead>\n",
       "  <tbody>\n",
       "    <tr>\n",
       "      <th>CONJ</th>\n",
       "      <td>0.000463</td>\n",
       "      <td>0.053216</td>\n",
       "      <td>0.034706</td>\n",
       "      <td>0.005090</td>\n",
       "      <td>0.119389</td>\n",
       "      <td>0.052291</td>\n",
       "      <td>0.118926</td>\n",
       "      <td>0.042110</td>\n",
       "      <td>0.155946</td>\n",
       "      <td>0.008329</td>\n",
       "      <td>0.058306</td>\n",
       "      <td>0.351226</td>\n",
       "    </tr>\n",
       "    <tr>\n",
       "      <th>ADP</th>\n",
       "      <td>0.000752</td>\n",
       "      <td>0.016862</td>\n",
       "      <td>0.039738</td>\n",
       "      <td>0.001504</td>\n",
       "      <td>0.323918</td>\n",
       "      <td>0.013425</td>\n",
       "      <td>0.107400</td>\n",
       "      <td>0.062292</td>\n",
       "      <td>0.008055</td>\n",
       "      <td>0.035012</td>\n",
       "      <td>0.069380</td>\n",
       "      <td>0.321663</td>\n",
       "    </tr>\n",
       "    <tr>\n",
       "      <th>.</th>\n",
       "      <td>0.058426</td>\n",
       "      <td>0.090385</td>\n",
       "      <td>0.093626</td>\n",
       "      <td>0.002341</td>\n",
       "      <td>0.174109</td>\n",
       "      <td>0.053385</td>\n",
       "      <td>0.044923</td>\n",
       "      <td>0.080483</td>\n",
       "      <td>0.087775</td>\n",
       "      <td>0.027188</td>\n",
       "      <td>0.064638</td>\n",
       "      <td>0.222632</td>\n",
       "    </tr>\n",
       "    <tr>\n",
       "      <th>PRT</th>\n",
       "      <td>0.001639</td>\n",
       "      <td>0.019993</td>\n",
       "      <td>0.043592</td>\n",
       "      <td>0.001967</td>\n",
       "      <td>0.102917</td>\n",
       "      <td>0.009505</td>\n",
       "      <td>0.084562</td>\n",
       "      <td>0.057358</td>\n",
       "      <td>0.399213</td>\n",
       "      <td>0.013766</td>\n",
       "      <td>0.018355</td>\n",
       "      <td>0.247132</td>\n",
       "    </tr>\n",
       "    <tr>\n",
       "      <th>DET</th>\n",
       "      <td>0.000483</td>\n",
       "      <td>0.009301</td>\n",
       "      <td>0.018239</td>\n",
       "      <td>0.000121</td>\n",
       "      <td>0.005435</td>\n",
       "      <td>0.012803</td>\n",
       "      <td>0.203527</td>\n",
       "      <td>0.021017</td>\n",
       "      <td>0.039739</td>\n",
       "      <td>0.045899</td>\n",
       "      <td>0.003624</td>\n",
       "      <td>0.639812</td>\n",
       "    </tr>\n",
       "    <tr>\n",
       "      <th>ADV</th>\n",
       "      <td>0.006958</td>\n",
       "      <td>0.118290</td>\n",
       "      <td>0.134858</td>\n",
       "      <td>0.013585</td>\n",
       "      <td>0.069914</td>\n",
       "      <td>0.079854</td>\n",
       "      <td>0.131544</td>\n",
       "      <td>0.031478</td>\n",
       "      <td>0.343936</td>\n",
       "      <td>0.023857</td>\n",
       "      <td>0.014911</td>\n",
       "      <td>0.030815</td>\n",
       "    </tr>\n",
       "    <tr>\n",
       "      <th>ADJ</th>\n",
       "      <td>0.016606</td>\n",
       "      <td>0.077113</td>\n",
       "      <td>0.065439</td>\n",
       "      <td>0.010852</td>\n",
       "      <td>0.004933</td>\n",
       "      <td>0.004768</td>\n",
       "      <td>0.066426</td>\n",
       "      <td>0.020552</td>\n",
       "      <td>0.012003</td>\n",
       "      <td>0.021210</td>\n",
       "      <td>0.000658</td>\n",
       "      <td>0.699441</td>\n",
       "    </tr>\n",
       "    <tr>\n",
       "      <th>NUM</th>\n",
       "      <td>0.013425</td>\n",
       "      <td>0.035501</td>\n",
       "      <td>0.118138</td>\n",
       "      <td>0.027446</td>\n",
       "      <td>0.003282</td>\n",
       "      <td>0.002983</td>\n",
       "      <td>0.032518</td>\n",
       "      <td>0.185263</td>\n",
       "      <td>0.017601</td>\n",
       "      <td>0.209726</td>\n",
       "      <td>0.001193</td>\n",
       "      <td>0.352924</td>\n",
       "    </tr>\n",
       "    <tr>\n",
       "      <th>VERB</th>\n",
       "      <td>0.005524</td>\n",
       "      <td>0.090718</td>\n",
       "      <td>0.034778</td>\n",
       "      <td>0.031432</td>\n",
       "      <td>0.134132</td>\n",
       "      <td>0.082004</td>\n",
       "      <td>0.065432</td>\n",
       "      <td>0.023030</td>\n",
       "      <td>0.168910</td>\n",
       "      <td>0.217226</td>\n",
       "      <td>0.035478</td>\n",
       "      <td>0.111336</td>\n",
       "    </tr>\n",
       "    <tr>\n",
       "      <th>X</th>\n",
       "      <td>0.010069</td>\n",
       "      <td>0.143519</td>\n",
       "      <td>0.162378</td>\n",
       "      <td>0.183634</td>\n",
       "      <td>0.056257</td>\n",
       "      <td>0.025891</td>\n",
       "      <td>0.017261</td>\n",
       "      <td>0.002717</td>\n",
       "      <td>0.206329</td>\n",
       "      <td>0.074636</td>\n",
       "      <td>0.054819</td>\n",
       "      <td>0.062490</td>\n",
       "    </tr>\n",
       "    <tr>\n",
       "      <th>PRON</th>\n",
       "      <td>0.005045</td>\n",
       "      <td>0.022507</td>\n",
       "      <td>0.038805</td>\n",
       "      <td>0.012806</td>\n",
       "      <td>0.008925</td>\n",
       "      <td>0.034148</td>\n",
       "      <td>0.075281</td>\n",
       "      <td>0.007373</td>\n",
       "      <td>0.483508</td>\n",
       "      <td>0.092744</td>\n",
       "      <td>0.007373</td>\n",
       "      <td>0.211486</td>\n",
       "    </tr>\n",
       "    <tr>\n",
       "      <th>NOUN</th>\n",
       "      <td>0.043079</td>\n",
       "      <td>0.176181</td>\n",
       "      <td>0.239832</td>\n",
       "      <td>0.044063</td>\n",
       "      <td>0.013168</td>\n",
       "      <td>0.017071</td>\n",
       "      <td>0.012037</td>\n",
       "      <td>0.009666</td>\n",
       "      <td>0.147401</td>\n",
       "      <td>0.028707</td>\n",
       "      <td>0.004742</td>\n",
       "      <td>0.264053</td>\n",
       "    </tr>\n",
       "  </tbody>\n",
       "</table>\n",
       "</div>"
      ],
      "text/plain": [
       "          CONJ       ADP         .       PRT       DET       ADV       ADJ  \\\n",
       "CONJ  0.000463  0.053216  0.034706  0.005090  0.119389  0.052291  0.118926   \n",
       "ADP   0.000752  0.016862  0.039738  0.001504  0.323918  0.013425  0.107400   \n",
       ".     0.058426  0.090385  0.093626  0.002341  0.174109  0.053385  0.044923   \n",
       "PRT   0.001639  0.019993  0.043592  0.001967  0.102917  0.009505  0.084562   \n",
       "DET   0.000483  0.009301  0.018239  0.000121  0.005435  0.012803  0.203527   \n",
       "ADV   0.006958  0.118290  0.134858  0.013585  0.069914  0.079854  0.131544   \n",
       "ADJ   0.016606  0.077113  0.065439  0.010852  0.004933  0.004768  0.066426   \n",
       "NUM   0.013425  0.035501  0.118138  0.027446  0.003282  0.002983  0.032518   \n",
       "VERB  0.005524  0.090718  0.034778  0.031432  0.134132  0.082004  0.065432   \n",
       "X     0.010069  0.143519  0.162378  0.183634  0.056257  0.025891  0.017261   \n",
       "PRON  0.005045  0.022507  0.038805  0.012806  0.008925  0.034148  0.075281   \n",
       "NOUN  0.043079  0.176181  0.239832  0.044063  0.013168  0.017071  0.012037   \n",
       "\n",
       "           NUM      VERB         X      PRON      NOUN  \n",
       "CONJ  0.042110  0.155946  0.008329  0.058306  0.351226  \n",
       "ADP   0.062292  0.008055  0.035012  0.069380  0.321663  \n",
       ".     0.080483  0.087775  0.027188  0.064638  0.222632  \n",
       "PRT   0.057358  0.399213  0.013766  0.018355  0.247132  \n",
       "DET   0.021017  0.039739  0.045899  0.003624  0.639812  \n",
       "ADV   0.031478  0.343936  0.023857  0.014911  0.030815  \n",
       "ADJ   0.020552  0.012003  0.021210  0.000658  0.699441  \n",
       "NUM   0.185263  0.017601  0.209726  0.001193  0.352924  \n",
       "VERB  0.023030  0.168910  0.217226  0.035478  0.111336  \n",
       "X     0.002717  0.206329  0.074636  0.054819  0.062490  \n",
       "PRON  0.007373  0.483508  0.092744  0.007373  0.211486  \n",
       "NOUN  0.009666  0.147401  0.028707  0.004742  0.264053  "
      ]
     },
     "execution_count": 20,
     "metadata": {},
     "output_type": "execute_result"
    }
   ],
   "source": [
    "# Checking the dataframe for the probability of tag T1 given tag T2\n",
    "tags_df"
   ]
  },
  {
   "cell_type": "code",
   "execution_count": 21,
   "metadata": {},
   "outputs": [
    {
     "data": {
      "image/png": "[encoded data removed]",
      "text/plain": [
       "<Figure size 1296x864 with 2 Axes>"
      ]
     },
     "metadata": {
      "needs_background": "light"
     },
     "output_type": "display_data"
    }
   ],
   "source": [
    "# For more visibility checking the heatmap of tags matrix\n",
    "# T(i, j) means P(tag j given tag i)\n",
    "plt.figure(figsize=(18, 12))\n",
    "sns.heatmap(tags_df)\n",
    "plt.show()"
   ]
  },
  {
   "cell_type": "code",
   "execution_count": 22,
   "metadata": {},
   "outputs": [
    {
     "data": {
      "image/png": "[encoded data removed]",
      "text/plain": [
       "<Figure size 1296x864 with 2 Axes>"
      ]
     },
     "metadata": {
      "needs_background": "light"
     },
     "output_type": "display_data"
    }
   ],
   "source": [
    "# Cheking the frequency tags\n",
    "# Filtering the df to get P(t2, t1) > 0.5\n",
    "tags_frequent = tags_df[tags_df>0.5]\n",
    "plt.figure(figsize=(18, 12))\n",
    "sns.heatmap(tags_frequent)\n",
    "plt.show()"
   ]
  },
  {
   "cell_type": "markdown",
   "metadata": {},
   "source": [
    "### 3. Build the vanilla Viterbi based POS tagger"
   ]
  },
  {
   "cell_type": "code",
   "execution_count": 23,
   "metadata": {},
   "outputs": [
    {
     "data": {
      "text/plain": [
       "95464"
      ]
     },
     "execution_count": 23,
     "metadata": {},
     "output_type": "execute_result"
    }
   ],
   "source": [
    "#Checking the length of tain tagged words\n",
    "len(train_tagged_words)"
   ]
  },
  {
   "cell_type": "code",
   "execution_count": 24,
   "metadata": {},
   "outputs": [],
   "source": [
    "# Defining a function for plain vanilla Viterbi Heuristic\n",
    "\n",
    "def Viterbi(words, train_bag = train_tagged_words):\n",
    "    state = []\n",
    "    T = list(set([pair[1] for pair in train_bag]))\n",
    "    \n",
    "    for key, word in enumerate(words):\n",
    "        #initialise list of probability column for a given observation\n",
    "        p = [] \n",
    "        for tag in T:\n",
    "            if key == 0:\n",
    "                transition_p = tags_df.loc['.', tag]\n",
    "            else:\n",
    "                transition_p = tags_df.loc[state[-1], tag]\n",
    "                \n",
    "            # compute emission and state probabilities\n",
    "            emission_p = word_given_tag(words[key], tag)[0]/word_given_tag(words[key], tag)[1]\n",
    "            state_probability = emission_p * transition_p    \n",
    "            p.append(state_probability)\n",
    "            \n",
    "        pmax = max(p)\n",
    "        # getting state for which probability is maximum\n",
    "        state_max = T[p.index(pmax)] \n",
    "        state.append(state_max)\n",
    "    return list(zip(words, state))"
   ]
  },
  {
   "cell_type": "code",
   "execution_count": 25,
   "metadata": {},
   "outputs": [],
   "source": [
    "# Creating a list of words in the test dataset\n",
    "validation_tagged_words = [tup[0] for sent in validation_set for tup in sent]"
   ]
  },
  {
   "cell_type": "code",
   "execution_count": 26,
   "metadata": {},
   "outputs": [
    {
     "data": {
      "text/plain": [
       "['*-1', 'Crude', 'as', 'they', 'were']"
      ]
     },
     "execution_count": 26,
     "metadata": {},
     "output_type": "execute_result"
    }
   ],
   "source": [
    "# Checking few words from validation tagged words\n",
    "validation_tagged_words[:5]"
   ]
  },
  {
   "cell_type": "code",
   "execution_count": 27,
   "metadata": {},
   "outputs": [
    {
     "data": {
      "text/plain": [
       "5212"
      ]
     },
     "execution_count": 27,
     "metadata": {},
     "output_type": "execute_result"
    }
   ],
   "source": [
    "# Checking the list of validation tagged words\n",
    "len(validation_tagged_words)"
   ]
  },
  {
   "cell_type": "markdown",
   "metadata": {},
   "source": [
    "#### 3.1 Implementing plain vanilla on the validation dataset"
   ]
  },
  {
   "cell_type": "code",
   "execution_count": 28,
   "metadata": {},
   "outputs": [],
   "source": [
    "# Callig the above defined plain valina viterbi heuritc to tag the validation sentences\n",
    "start = time.time()\n",
    "tagged_seq_plain = Viterbi(validation_tagged_words)\n",
    "end = time.time()\n",
    "difference = end-start"
   ]
  },
  {
   "cell_type": "code",
   "execution_count": 29,
   "metadata": {},
   "outputs": [
    {
     "name": "stdout",
     "output_type": "stream",
     "text": [
      "Time taken in seconds:  1060.3660340309143\n",
      "[('*-1', 'X'), ('Crude', 'ADJ'), ('as', 'ADP'), ('they', 'PRON'), ('were', 'VERB'), ('*?*', 'X'), (',', '.'), ('these', 'DET'), ('early', 'ADJ'), ('PCs', 'NOUN'), ('triggered', 'VERB'), ('explosive', 'CONJ'), ('product', 'NOUN'), ('development', 'NOUN'), ('in', 'ADP'), ('desktop', 'CONJ'), ('models', 'NOUN'), ('for', 'ADP'), ('the', 'DET'), ('home', 'NOUN'), ('and', 'CONJ'), ('office', 'NOUN'), ('.', '.'), ('Researchers', 'CONJ'), ('at', 'ADP'), ('American', 'ADJ'), ('Telephone', 'NOUN'), ('&', 'CONJ'), ('Telegraph', 'NOUN'), ('Co.', 'NOUN'), (\"'s\", 'PRT'), ('Bell', 'NOUN'), ('Laboratories', 'NOUN'), ('reported', 'VERB'), ('0', 'X'), ('they', 'PRON'), ('raised', 'VERB'), ('the', 'DET'), ('electrical', 'ADJ'), ('current-carrying', 'ADJ'), ('capacity', 'NOUN'), ('of', 'ADP'), ('new', 'ADJ'), ('superconductor', 'NOUN'), ('crystals', 'NOUN'), ('by', 'ADP'), ('a', 'DET'), ('factor', 'NOUN'), ('of', 'ADP'), ('100', 'NUM'), (',', '.'), ('*-1', 'X'), ('moving', 'VERB'), ('the', 'DET'), ('materials', 'NOUN'), ('closer', 'ADV'), ('to', 'PRT'), ('commercial', 'ADJ'), ('use', 'NOUN'), ('.', '.'), ('But', 'CONJ'), ('people', 'NOUN'), ('familiar', 'ADJ'), ('with', 'ADP'), ('the', 'DET'), ('agenda', 'NOUN'), ('of', 'ADP'), ('the', 'DET'), ('board', 'NOUN'), (\"'s\", 'PRT'), ('meeting', 'NOUN'), ('last', 'ADJ'), ('week', 'NOUN'), ('in', 'ADP'), ('London', 'NOUN'), ('said', 'VERB'), ('0', 'X'), ('Mr.', 'NOUN'), ('McGovern', 'NOUN'), ('was', 'VERB'), ('fired', 'VERB'), ('*-42', 'X'), ('.', '.'), ('``', '.'), ('When', 'ADV'), ('scientific', 'ADJ'), ('progress', 'NOUN'), ('moves', 'NOUN'), ('into', 'ADP'), ('uncharted', 'ADJ'), ('ground', 'NOUN'), ('*T*-1', 'X'), (',', '.'), ('there', 'DET'), ('has', 'VERB'), ('*-3', 'X'), ('to', 'PRT'), ('be', 'VERB'), ('a', 'DET'), ('role', 'NOUN'), ('*ICH*-4', 'X'), ('for', 'ADP'), ('society', 'NOUN'), ('*', 'X'), ('to', 'PRT'), ('make', 'VERB'), ('judgments', 'CONJ'), ('about', 'ADP'), ('its', 'PRON'), ('applications', 'NOUN'), (',', '.'), (\"''\", '.'), ('says', 'VERB'), ('*T*-2', 'X'), ('Myron', 'CONJ'), ('Genel', 'NOUN'), (',', '.'), ('associate', 'NOUN'), ('dean', 'CONJ'), ('of', 'ADP'), ('the', 'DET'), ('Yale', 'NOUN'), ('Medical', 'NOUN'), ('School', 'NOUN'), ('.', '.'), ('Mitsubishi', 'NOUN'), (\"'s\", 'PRT'), ('investment', 'NOUN'), ('in', 'ADP'), ('Free', 'NOUN'), ('State', 'NOUN'), ('is', 'VERB'), ('``', '.'), ('very', 'ADV'), ('small', 'ADJ'), ('...', '.'), ('less', 'ADV'), ('than', 'ADP'), ('$', '.'), ('4', 'NUM'), ('million', 'NUM'), ('*U*', 'X'), (',', '.'), (\"''\", '.'), ('Mr.', 'NOUN'), ('Wakui', 'NOUN'), ('says', 'VERB'), ('0', 'X'), ('*T*-1', 'X'), ('.', '.'), ('In', 'ADP'), ('other', 'ADJ'), ('years', 'NOUN'), ('in', 'ADP'), ('which', 'DET'), ('there', 'ADV'), ('have', 'VERB'), ('been', 'VERB'), ('moderate', 'ADJ'), ('economic', 'ADJ'), ('slowdowns', 'CONJ'), ('--', '.'), ('the', 'DET'), ('environment', 'NOUN'), ('0', 'X'), ('the', 'DET'), ('firm', 'NOUN'), ('expects', 'VERB'), ('*T*-1', 'X'), ('in', 'ADP'), ('1990', 'NUM'), ('*T*-2', 'X'), ('--', '.'), ('the', 'DET'), ('change', 'NOUN'), ('in', 'ADP'), ('dividends', 'NOUN'), ('ranged', 'VERB'), ('from', 'ADP'), ('a', 'DET'), ('gain', 'NOUN'), ('of', 'ADP'), ('4', 'NUM'), ('%', 'NOUN'), ('to', 'PRT'), ('a', 'DET'), ('decline', 'NOUN'), ('of', 'ADP'), ('1', 'NUM'), ('%', 'NOUN'), (',', '.'), ('according', 'VERB'), ('to', 'PRT'), ('PaineWebber', 'NOUN'), ('analyst', 'NOUN'), ('Thomas', 'NOUN'), ('Doerflinger', 'CONJ'), ('.', '.'), ('Ralston', 'NOUN'), ('said', 'VERB'), ('0', 'X'), ('its', 'PRON'), ('Eveready', 'CONJ'), ('battery', 'NOUN'), ('unit', 'NOUN'), ('was', 'VERB'), ('hurt', 'VERB'), ('*-1', 'X'), ('by', 'ADP'), ('continuing', 'VERB'), ('economic', 'ADJ'), ('problems', 'NOUN'), ('in', 'ADP'), ('South', 'NOUN'), ('America', 'NOUN'), ('.', '.'), ('``', '.'), ('It', 'PRON'), (\"'s\", 'VERB'), ('a', 'DET'), ('cosmetic', 'NOUN'), ('move', 'NOUN'), (',', '.'), (\"''\", '.'), ('said', 'VERB'), ('*T*-1', 'X'), ('Jonathan', 'NOUN'), ('S.', 'NOUN'), ('Gelles', 'CONJ'), ('of', 'ADP'), ('Wertheim', 'CONJ'), ('Schroder', 'CONJ'), ('&', 'CONJ'), ('Co', 'NOUN'), ('.', '.'), ('At', 'ADP'), ('one', 'NUM'), ('point', 'NOUN'), (',', '.'), ('Hammersmith', 'NOUN'), ('is', 'VERB'), ('reported', 'VERB'), ('*-1', 'X'), ('to', 'PRT'), ('have', 'VERB'), ('accounted', 'CONJ'), ('for', 'ADP'), ('as', 'ADP'), ('much', 'ADJ'), ('as', 'ADP'), ('10', 'NUM'), ('%', 'NOUN'), ('of', 'ADP'), ('the', 'DET'), ('sterling', 'CONJ'), ('market', 'NOUN'), ('in', 'ADP'), ('interest-rate', 'NOUN'), ('swap', 'NOUN'), ('dealings', 'NOUN'), ('.', '.'), ('They', 'PRON'), ('found', 'VERB'), ('students', 'NOUN'), ('in', 'ADP'), ('an', 'DET'), ('advanced', 'ADJ'), ('class', 'NOUN'), ('a', 'DET'), ('year', 'NOUN'), ('earlier', 'ADV'), ('who', 'PRON'), ('*T*-95', 'CONJ'), ('said', 'VERB'), ('0', 'X'), ('she', 'PRON'), ('gave', 'VERB'), ('them', 'PRON'), ('similar', 'ADJ'), ('help', 'NOUN'), (',', '.'), ('although', 'ADP'), ('because', 'ADP'), ('the', 'DET'), ('case', 'NOUN'), ('was', 'VERB'), (\"n't\", 'ADV'), ('tried', 'VERB'), ('in', 'ADP'), ('court', 'NOUN'), (',', '.'), ('this', 'DET'), ('evidence', 'NOUN'), ('was', 'VERB'), ('never', 'ADV'), ('presented', 'VERB'), ('*-1', 'X'), ('publicly', 'ADV'), ('.', '.'), ('The', 'DET'), ('proposal', 'NOUN'), ('comes', 'VERB'), ('as', 'ADP'), ('a', 'DET'), ('surprise', 'NOUN'), ('even', 'ADV'), ('to', 'PRT'), ('administration', 'NOUN'), ('officials', 'NOUN'), ('and', 'CONJ'), ('temporarily', 'ADV'), ('throws', 'VERB'), ('into', 'ADP'), ('chaos', 'CONJ'), ('the', 'DET'), ('House', 'NOUN'), (\"'s\", 'PRT'), ('work', 'VERB'), ('on', 'ADP'), ('clean-air', 'ADJ'), ('legislation', 'NOUN'), ('.', '.'), ('Giant', 'NOUN'), ('Group', 'NOUN'), ('is', 'VERB'), ('led', 'VERB'), ('*-1', 'X'), ('by', 'ADP'), ('three', 'NUM'), ('Rally', 'NOUN'), (\"'s\", 'PRT'), ('directors', 'NOUN'), (',', '.'), ('Burt', 'CONJ'), ('Sugarman', 'CONJ'), (',', '.'), ('James', 'NOUN'), ('M.', 'NOUN'), ('Trotter', 'CONJ'), ('III', 'NOUN'), ('and', 'CONJ'), ('William', 'NOUN'), ('E.', 'NOUN'), ('Trotter', 'CONJ'), ('II', 'NOUN'), (',', '.'), ('who', 'PRON'), ('earlier', 'ADJ'), ('this', 'DET'), ('month', 'NOUN'), ('*T*-2', 'X'), ('indicated', 'VERB'), ('0', 'X'), ('they', 'PRON'), ('had', 'VERB'), ('a', 'DET'), ('42.5', 'CONJ'), ('%', 'NOUN'), ('stake', 'NOUN'), ('in', 'ADP'), ('Rally', 'NOUN'), (\"'s\", 'PRT'), ('and', 'CONJ'), ('planned', 'VERB'), ('*-3', 'X'), ('to', 'PRT'), ('seek', 'VERB'), ('a', 'DET'), ('majority', 'NOUN'), ('of', 'ADP'), ('seats', 'NOUN'), ('on', 'ADP'), ('Rally', 'NOUN'), (\"'s\", 'PRT'), ('nine-member', 'CONJ'), ('board', 'NOUN'), ('.', '.'), ('Long-term', 'CONJ'), ('bond', 'NOUN'), ('prices', 'NOUN'), ('rose', 'VERB'), ('despite', 'ADP'), ('prospects', 'NOUN'), ('of', 'ADP'), ('a', 'DET'), ('huge', 'ADJ'), ('new', 'ADJ'), ('supply', 'NOUN'), ('of', 'ADP'), ('Treasury', 'NOUN'), ('debt', 'NOUN'), ('this', 'DET'), ('month', 'NOUN'), ('.', '.'), ('``', '.'), ('What', 'PRON'), ('*T*-164', 'CONJ'), (\"'s\", 'PRT'), ('different', 'ADJ'), ('is', 'VERB'), ('that', 'ADP'), ('it', 'PRON'), ('is', 'VERB'), ('happening', 'CONJ'), ('with', 'ADP'), ('young', 'ADJ'), ('wines', 'NOUN'), ('just', 'ADV'), ('coming', 'VERB'), ('out', 'PRT'), ('.', '.'), ('``', '.'), ('We', 'PRON'), ('do', 'VERB'), (\"n't\", 'ADV'), ('spend', 'VERB'), ('much', 'ADV'), ('on', 'ADP'), ('print', 'VERB'), ('advertising', 'VERB'), (',', '.'), (\"''\", '.'), ('she', 'PRON'), ('says', 'VERB'), ('*T*-1', 'X'), ('.', '.'), ('Commodity', 'NOUN'), ('prices', 'NOUN'), ('have', 'VERB'), ('been', 'VERB'), ('rising', 'VERB'), ('in', 'ADP'), ('recent', 'ADJ'), ('years', 'NOUN'), (',', '.'), ('with', 'ADP'), ('the', 'DET'), ('farm', 'NOUN'), ('price', 'NOUN'), ('index', 'NOUN'), ('hitting', 'VERB'), ('record', 'NOUN'), ('peaks', 'NOUN'), ('earlier', 'ADV'), ('this', 'DET'), ('year', 'NOUN'), (',', '.'), ('as', 'ADP'), ('the', 'DET'), ('government', 'NOUN'), ('curtailed', 'CONJ'), ('production', 'NOUN'), ('with', 'ADP'), ('land-idling', 'CONJ'), ('programs', 'NOUN'), ('*-1', 'X'), ('to', 'PRT'), ('reduce', 'VERB'), ('price-depressing', 'CONJ'), ('surpluses', 'CONJ'), ('.', '.'), ('Some', 'DET'), ('3.8', 'NUM'), ('million', 'NUM'), ('of', 'ADP'), ('the', 'DET'), ('five', 'NUM'), ('million', 'NUM'), ('who', 'PRON'), ('*T*-55', 'X'), ('will', 'VERB'), ('get', 'VERB'), ('letters', 'NOUN'), ('were', 'VERB'), ('preapproved', 'CONJ'), ('*-67', 'CONJ'), ('for', 'ADP'), ('credit', 'NOUN'), ('with', 'ADP'), ('GMAC', 'NOUN'), ('.', '.'), ('The', 'DET'), ('Bush', 'NOUN'), ('administration', 'NOUN'), ('has', 'VERB'), ('threatened', 'VERB'), ('*-1', 'X'), ('to', 'PRT'), ('veto', 'NOUN'), ('such', 'ADJ'), ('a', 'DET'), ('bill', 'NOUN'), ('because', 'ADP'), ('of', 'ADP'), ('what', 'PRON'), ('it', 'PRON'), ('views', 'NOUN'), ('*T*-2', 'X'), ('as', 'ADP'), ('an', 'DET'), ('undesirable', 'CONJ'), ('intrusion', 'CONJ'), ('into', 'ADP'), ('the', 'DET'), ('affairs', 'NOUN'), ('of', 'ADP'), ('industry', 'NOUN'), (',', '.'), ('but', 'CONJ'), ('the', 'DET'), ('300-113', 'CONJ'), ('vote', 'NOUN'), ('suggests', 'VERB'), ('that', 'ADP'), ('supporters', 'NOUN'), ('have', 'VERB'), ('the', 'DET'), ('potential', 'ADJ'), ('0', 'X'), ('*', 'X'), ('to', 'PRT'), ('override', 'CONJ'), ('a', 'DET'), ('veto', 'NOUN'), ('*T*-3', 'X'), ('.', '.'), ('The', 'DET'), ('student', 'NOUN'), ('surrendered', 'VERB'), ('the', 'DET'), ('notes', 'NOUN'), (',', '.'), ('but', 'CONJ'), ('not', 'ADV'), ('without', 'ADP'), ('a', 'DET'), ('protest', 'NOUN'), ('.', '.'), ('While', 'ADP'), ('it', 'PRON'), ('breaks', 'VERB'), ('down', 'ADV'), ('in', 'ADP'), ('prolonged', 'VERB'), ('sunlight', 'CONJ'), (',', '.'), ('it', 'PRON'), ('is', 'VERB'), (\"n't\", 'ADV'), ('recyclable', 'CONJ'), ('.', '.'), ('For', 'ADP'), ('the', 'DET'), ('year', 'NOUN'), (',', '.'), ('pet', 'NOUN'), ('food', 'NOUN'), ('volume', 'NOUN'), ('was', 'VERB'), ('flat', 'ADJ'), (',', '.'), ('the', 'DET'), ('company', 'NOUN'), ('said', 'VERB'), ('0', 'X'), ('*T*-1', 'X'), ('.', '.'), ('Despite', 'ADP'), ('the', 'DET'), ('flap', 'NOUN'), ('over', 'ADP'), ('transplants', 'NOUN'), (',', '.'), ('federal', 'ADJ'), ('funding', 'NOUN'), ('of', 'ADP'), ('research', 'NOUN'), ('involving', 'VERB'), ('fetal', 'ADJ'), ('tissues', 'NOUN'), ('will', 'VERB'), ('continue', 'VERB'), ('on', 'ADP'), ('a', 'DET'), ('number', 'NOUN'), ('of', 'ADP'), ('fronts', 'CONJ'), ('.', '.'), ('Free', 'NOUN'), ('State', 'NOUN'), ('Glass', 'CONJ'), ('Industries', 'NOUN'), ('of', 'ADP'), ('Warrenton', 'CONJ'), (',', '.'), ('Va.', 'NOUN'), (',', '.'), ('a', 'DET'), ('small', 'ADJ'), ('fabricator', 'CONJ'), ('of', 'ADP'), ('architectural', 'CONJ'), ('glass', 'NOUN'), (',', '.'), ('was', 'VERB'), ('foundering', 'CONJ'), ('under', 'ADP'), ('its', 'PRON'), ('original', 'ADJ'), ('management', 'NOUN'), ('.', '.'), ('That', 'DET'), ('package', 'NOUN'), ('now', 'ADV'), ('sells', 'VERB'), ('for', 'ADP'), ('about', 'ADP'), ('$', '.'), ('2,099', 'CONJ'), ('*U*', 'X'), ('.', '.'), ('The', 'DET'), ('size', 'NOUN'), ('of', 'ADP'), ('IBM', 'NOUN'), (\"'s\", 'PRT'), ('issue', 'NOUN'), ('was', 'VERB'), ('increased', 'VERB'), ('*-1', 'X'), ('from', 'ADP'), ('an', 'DET'), ('originally', 'ADV'), ('planned', 'VERB'), ('$', '.'), ('500', 'NUM'), ('million', 'NUM'), ('*U*', 'X'), ('as', 'ADP'), ('money', 'NOUN'), ('managers', 'NOUN'), ('and', 'CONJ'), ('investors', 'NOUN'), ('scrambled', 'VERB'), ('*-2', 'X'), ('to', 'PRT'), ('buy', 'VERB'), ('the', 'DET'), ('bonds', 'NOUN'), ('.', '.'), ('A', 'DET'), ('spokesman', 'NOUN'), ('for', 'ADP'), ('the', 'DET'), ('Toronto', 'NOUN'), ('cable', 'CONJ'), ('television', 'NOUN'), ('and', 'CONJ'), ('telecommunications', 'NOUN'), ('concern', 'NOUN'), ('said', 'VERB'), ('0', 'X'), ('the', 'DET'), ('coupon', 'NOUN'), ('rate', 'NOUN'), ('has', 'VERB'), (\"n't\", 'ADV'), ('yet', 'ADV'), ('been', 'VERB'), ('fixed', 'VERB'), ('*-1', 'X'), (',', '.'), ('but', 'CONJ'), ('will', 'VERB'), ('probably', 'ADV'), ('be', 'VERB'), ('set', 'VERB'), ('*-1', 'X'), ('at', 'ADP'), ('around', 'ADP'), ('8', 'NUM'), ('%', 'NOUN'), ('.', '.'), ('Mr.', 'NOUN'), ('Nemeth', 'NOUN'), ('said', 'VERB'), ('in', 'ADP'), ('parliament', 'NOUN'), ('that', 'ADP'), ('Czechoslovakia', 'NOUN'), ('and', 'CONJ'), ('Hungary', 'NOUN'), ('would', 'VERB'), ('suffer', 'VERB'), ('environmental', 'ADJ'), ('damage', 'NOUN'), ('if', 'ADP'), ('the', 'DET'), ('twin', 'CONJ'), ('dams', 'CONJ'), ('were', 'VERB'), ('built', 'VERB'), ('*-67', 'CONJ'), ('as', 'ADP'), ('*', 'X'), ('planned', 'VERB'), ('*-2', 'X'), ('.', '.'), ('Indexing', 'CONJ'), ('--', '.'), ('Many', 'ADJ'), ('investors', 'NOUN'), (',', '.'), ('mainly', 'ADV'), ('institutions', 'NOUN'), (',', '.'), ('follow', 'VERB'), ('an', 'DET'), ('investment', 'NOUN'), ('strategy', 'NOUN'), ('of', 'ADP'), ('*', 'X'), ('buying', 'VERB'), ('and', 'CONJ'), ('holding', 'VERB'), ('a', 'DET'), ('mix', 'NOUN'), ('of', 'ADP'), ('stocks', 'NOUN'), ('0', 'X'), ('*T*-1', 'X'), ('to', 'PRT'), ('match', 'VERB'), ('the', 'DET'), ('performance', 'NOUN'), ('of', 'ADP'), ('a', 'DET'), ('broad', 'ADJ'), ('stock-market', 'NOUN'), ('barometer', 'CONJ'), ('such', 'ADJ'), ('as', 'ADP'), ('the', 'DET'), ('S&P', 'NOUN'), ('500', 'NUM'), ('.', '.'), ('The', 'DET'), ('municipalities', 'NOUN'), ('said', 'VERB'), ('0', 'X'), ('they', 'PRON'), ('have', 'VERB'), (\"n't\", 'ADV'), ('decided', 'VERB'), ('whether', 'ADP'), ('*-1', 'X'), ('to', 'PRT'), ('try', 'VERB'), ('*-2', 'X'), ('to', 'PRT'), ('force', 'VERB'), ('the', 'DET'), ('company', 'NOUN'), ('to', 'PRT'), ('go', 'VERB'), ('through', 'ADP'), ('with', 'ADP'), ('the', 'DET'), ('contracts', 'NOUN'), ('.', '.'), ('Those', 'DET'), ('who', 'PRON'), ('*T*-1', 'X'), ('still', 'ADV'), ('want', 'VERB'), ('*-2', 'X'), ('to', 'PRT'), ('do', 'VERB'), ('it', 'PRON'), ('``', '.'), ('will', 'VERB'), ('just', 'ADV'), ('find', 'VERB'), ('some', 'DET'), ('way', 'NOUN'), ('0', 'X'), ('*', 'X'), ('to', 'PRT'), ('get', 'VERB'), ('around', 'ADP'), (\"''\", '.'), ('any', 'DET'), ('attempt', 'NOUN'), ('*', 'X'), ('to', 'PRT'), ('curb', 'VERB'), ('it', 'PRON'), ('*T*-3', 'X'), ('.', '.'), ('Heritage', 'NOUN'), ('Media', 'NOUN'), ('Corp.', 'NOUN'), (',', '.'), ('New', 'NOUN'), ('York', 'NOUN'), (',', '.'), ('said', 'VERB'), ('0', 'X'), ('it', 'PRON'), ('offered', 'VERB'), ('*-2', 'X'), ('to', 'PRT'), ('buy', 'VERB'), ('the', 'DET'), ('shares', 'NOUN'), ('of', 'ADP'), ('POP', 'NOUN'), ('Radio', 'NOUN'), ('Corp.', 'NOUN'), ('0', 'X'), ('it', 'PRON'), ('does', 'VERB'), (\"n't\", 'ADV'), ('already', 'ADV'), ('own', 'ADJ'), ('*T*-1', 'X'), ('in', 'ADP'), ('a', 'DET'), ('stock', 'NOUN'), ('swap', 'NOUN'), ('.', '.'), ('NEC', 'NOUN'), (',', '.'), ('one', 'NUM'), ('of', 'ADP'), ('its', 'PRON'), ('largest', 'ADJ'), ('domestic', 'ADJ'), ('competitors', 'NOUN'), (',', '.'), ('said', 'VERB'), ('0', 'X'), ('it', 'PRON'), ('bid', 'NOUN'), ('one', 'NUM'), ('yen', 'NOUN'), ('in', 'ADP'), ('two', 'NUM'), ('separate', 'ADJ'), ('public', 'NOUN'), ('auctions', 'NOUN'), ('since', 'ADP'), ('1987', 'NUM'), ('.', '.'), ('The', 'DET'), ('Fed', 'NOUN'), ('is', 'VERB'), ('coming', 'VERB'), ('under', 'ADP'), ('pressure', 'NOUN'), ('*', 'X'), ('to', 'PRT'), ('cut', 'VERB'), ('short-term', 'ADJ'), ('interest', 'NOUN'), ('rates', 'NOUN'), ('due', 'ADJ'), ('to', 'PRT'), ('the', 'DET'), ('apparent', 'CONJ'), ('slowing', 'VERB'), ('of', 'ADP'), ('the', 'DET'), ('economy', 'NOUN'), ('.', '.'), ('They', 'PRON'), ('fell', 'VERB'), ('into', 'ADP'), ('oblivion', 'CONJ'), ('after', 'ADP'), ('the', 'DET'), ('1929', 'NUM'), ('crash', 'NOUN'), ('.', '.'), ('Nissan', 'NOUN'), ('scheduled', 'VERB'), ('a', 'DET'), ('seven-yen', 'CONJ'), ('interim', 'ADJ'), ('dividend', 'NOUN'), ('payment', 'NOUN'), (',', '.'), ('unchanged', 'ADJ'), ('.', '.'), ('The', 'DET'), ('multilevel', 'CONJ'), ('railcars', 'NOUN'), (',', '.'), ('scheduled', 'VERB'), ('*', 'X'), ('for', 'ADP'), ('delivery', 'NOUN'), ('in', 'ADP'), ('1990', 'NUM'), (',', '.'), ('will', 'VERB'), ('be', 'VERB'), ('made', 'VERB'), ('*-1', 'X'), ('by', 'ADP'), ('Thrall', 'CONJ'), ('Manufacturing', 'NOUN'), ('Co.', 'NOUN'), (',', '.'), ('a', 'DET'), ('Chicago', 'NOUN'), ('Heights', 'NOUN'), (',', '.'), ('Ill.', 'NOUN'), (',', '.'), ('division', 'NOUN'), ('of', 'ADP'), ('closely', 'ADV'), ('held', 'VERB'), ('Duchossois', 'CONJ'), ('Industries', 'NOUN'), ('Inc.', 'NOUN'), (',', '.'), ('Elmhurst', 'CONJ'), (',', '.'), ('Ill', 'NOUN'), ('.', '.'), ('Rep.', 'NOUN'), ('Dingell', 'NOUN'), ('of', 'ADP'), ('Michigan', 'NOUN'), ('plans', 'VERB'), ('*-3', 'X'), ('to', 'PRT'), ('unveil', 'VERB'), ('today', 'NOUN'), ('a', 'DET'), ('proposal', 'NOUN'), ('that', 'ADP'), ('*T*-1', 'X'), ('would', 'VERB'), ('break', 'VERB'), ('with', 'ADP'), ('Bush', 'NOUN'), (\"'s\", 'PRT'), ('clean-air', 'ADJ'), ('bill', 'NOUN'), ('on', 'ADP'), ('the', 'DET'), ('issue', 'NOUN'), ('of', 'ADP'), ('emissions', 'NOUN'), ('that', 'ADP'), ('*T*-2', 'X'), ('lead', 'VERB'), ('to', 'PRT'), ('acid', 'ADJ'), ('rain', 'NOUN'), ('.', '.'), ('U.S.', 'NOUN'), ('stock-index', 'NOUN'), ('futures', 'NOUN'), ('are', 'VERB'), (\"n't\", 'ADV'), ('even', 'ADV'), ('traded', 'VERB'), ('*-1', 'X'), ('in', 'ADP'), ('Japan', 'NOUN'), ('now', 'ADV'), ('.', '.'), ('-LRB-', '.'), ('During', 'ADP'), ('its', 'PRON'), ('centennial', 'CONJ'), ('year', 'NOUN'), (',', '.'), ('The', 'DET'), ('Wall', 'NOUN'), ('Street', 'NOUN'), ('Journal', 'NOUN'), ('will', 'VERB'), ('report', 'NOUN'), ('events', 'NOUN'), ('of', 'ADP'), ('the', 'DET'), ('past', 'ADJ'), ('century', 'NOUN'), ('that', 'ADP'), ('*T*-30', 'X'), ('stand', 'VERB'), ('as', 'ADP'), ('milestones', 'CONJ'), ('of', 'ADP'), ('American', 'ADJ'), ('business', 'NOUN'), ('history', 'NOUN'), ('.', '.'), ('-RRB-', '.'), ('Magna', 'NOUN'), ('said', 'VERB'), ('0', 'X'), ('Mr.', 'NOUN'), ('McAlpine', 'NOUN'), ('resigned', 'VERB'), ('*-1', 'X'), ('to', 'PRT'), ('pursue', 'VERB'), ('a', 'DET'), ('consulting', 'NOUN'), ('career', 'NOUN'), (',', '.'), ('with', 'ADP'), ('Magna', 'NOUN'), ('as', 'ADP'), ('one', 'NUM'), ('of', 'ADP'), ('his', 'PRON'), ('clients', 'NOUN'), ('.', '.'), ('``', '.'), ('An', 'DET'), ('active', 'ADJ'), ('55-year-old', 'CONJ'), ('in', 'ADP'), ('Boca', 'NOUN'), ('Raton', 'NOUN'), ('may', 'VERB'), ('care', 'VERB'), ('more', 'ADV'), ('about', 'ADP'), ('Senior', 'CONJ'), ('Olympic', 'NOUN'), ('games', 'NOUN'), (',', '.'), ('while', 'ADP'), ('a', 'DET'), ('75-year-old', 'CONJ'), ('in', 'ADP'), ('Panama', 'NOUN'), ('City', 'NOUN'), ('may', 'VERB'), ('care', 'VERB'), ('more', 'ADV'), ('about', 'ADP'), ('a', 'DET'), ('seminar', 'NOUN'), ('on', 'ADP'), ('health', 'NOUN'), (',', '.'), (\"''\", '.'), ('she', 'PRON'), ('says', 'VERB'), ('*T*-1', 'X'), ('.', '.'), ('First', 'NOUN'), ('Securities', 'NOUN'), ('Group', 'NOUN'), ('of', 'ADP'), ('California', 'NOUN'), ('and', 'CONJ'), ('a', 'DET'), ('principal', 'NOUN'), ('of', 'ADP'), ('the', 'DET'), ('firm', 'NOUN'), (',', '.'), ('Louis', 'NOUN'), ('Fernando', 'NOUN'), ('Vargas', 'NOUN'), ('of', 'ADP'), ('Marina', 'CONJ'), ('del', 'CONJ'), ('Rey', 'CONJ'), (',', '.'), ('Calif.', 'NOUN'), (',', '.'), ('were', 'VERB'), ('jointly', 'ADV'), ('fined', 'VERB'), ('*-1', 'X'), ('$', '.'), ('15,000', 'NUM'), ('*U*', 'X'), ('and', 'CONJ'), ('expelled', 'VERB'), ('*-1', 'X'), ('for', 'ADP'), ('alleged', 'ADJ'), ('violations', 'NOUN'), ('of', 'ADP'), ('reporting', 'NOUN'), ('requirements', 'NOUN'), ('on', 'ADP'), ('securities', 'NOUN'), ('sales', 'NOUN'), ('.', '.'), ('``', '.'), ('It', 'PRON'), (\"'s\", 'VERB'), ('the', 'DET'), ('classic', 'ADJ'), ('problem', 'NOUN'), ('of', 'ADP'), ('the', 'DET'), ('small', 'ADJ'), ('businessman', 'NOUN'), (',', '.'), (\"''\", '.'), ('says', 'VERB'), ('*T*-1', 'X'), ('Malcolm', 'NOUN'), ('Davies', 'CONJ'), (',', '.'), ('managing', 'VERB'), ('director', 'NOUN'), ('of', 'ADP'), ('Trading', 'NOUN'), ('Alliance', 'CONJ'), ('Corp.', 'NOUN'), ('of', 'ADP'), ('New', 'NOUN'), ('York', 'NOUN'), ('.', '.'), ('Equitable', 'NOUN'), ('of', 'ADP'), ('Iowa', 'NOUN'), ('Cos.', 'CONJ'), (',', '.'), ('Des', 'NOUN'), ('Moines', 'NOUN'), (',', '.'), ('had', 'VERB'), ('been', 'VERB'), ('seeking', 'VERB'), ('a', 'DET'), ('buyer', 'NOUN'), ('for', 'ADP'), ('the', 'DET'), ('36-store', 'CONJ'), ('Younkers', 'NOUN'), ('chain', 'NOUN'), ('since', 'ADP'), ('June', 'NOUN'), (',', '.'), ('when', 'ADV'), ('it', 'PRON'), ('announced', 'VERB'), ('its', 'PRON'), ('intention', 'NOUN'), ('*', 'X'), ('to', 'PRT'), ('free', 'ADJ'), ('up', 'PRT'), ('capital', 'NOUN'), ('*', 'X'), ('to', 'PRT'), ('expand', 'VERB'), ('its', 'PRON'), ('insurance', 'NOUN'), ('business', 'NOUN'), ('*T*-1', 'X'), ('.', '.'), ('The', 'DET'), ('benchmark', 'NOUN'), ('30-year', 'ADJ'), ('bond', 'NOUN'), ('about', 'ADP'), ('1\\\\/4', 'NUM'), ('point', 'NOUN'), (',', '.'), ('or', 'CONJ'), ('$', '.'), ('2.50', 'NUM'), ('*U*', 'X'), ('for', 'ADP'), ('each', 'DET'), ('$', '.'), ('1,000', 'NUM'), ('*U*', 'X'), ('face', 'VERB'), ('amount', 'NOUN'), ('.', '.'), ('Besides', 'ADP'), (',', '.'), ('Eggers', 'NOUN'), ('says', 'VERB'), ('0', 'X'), ('*T*-1', 'X'), (',', '.'), ('grain', 'NOUN'), ('elevators', 'NOUN'), ('are', 'VERB'), ('worth', 'ADJ'), ('*', 'X'), ('preserving', 'VERB'), ('for', 'ADP'), ('aesthetic', 'CONJ'), ('reasons', 'NOUN'), ('--', '.'), ('one', 'NUM'), ('famed', 'CONJ'), ('architect', 'NOUN'), ('compared', 'VERB'), ('them', 'PRON'), ('to', 'PRT'), ('the', 'DET'), ('pyramids', 'NOUN'), ('of', 'ADP'), ('Egypt', 'NOUN'), ('.', '.'), ('In', 'ADP'), ('heavy', 'ADJ'), ('trading', 'NOUN'), ('on', 'ADP'), ('the', 'DET'), ('New', 'NOUN'), ('York', 'NOUN'), ('Stock', 'NOUN'), ('Exchange', 'NOUN'), (',', '.'), ('Campbell', 'NOUN'), (\"'s\", 'PRT'), ('shares', 'NOUN'), ('rose', 'VERB'), ('$', '.'), ('3.375', 'NUM'), ('*U*', 'X'), ('*', 'X'), ('to', 'PRT'), ('close', 'VERB'), ('at', 'ADP'), ('$', '.'), ('47.125', 'NUM'), ('*U*', 'X'), ('.', '.'), ('IBM', 'NOUN'), (\"'s\", 'PRT'), ('$', '.'), ('750', 'NUM'), ('million', 'NUM'), ('*U*', 'X'), ('debenture', 'NOUN'), ('offering', 'NOUN'), ('dominated', 'VERB'), ('activity', 'NOUN'), ('in', 'ADP'), ('the', 'DET'), ('corporate', 'ADJ'), ('debt', 'NOUN'), ('market', 'NOUN'), ('.', '.'), ('If', 'ADP'), ('not', 'ADV'), ('Chicago', 'NOUN'), (',', '.'), ('then', 'ADV'), ('in', 'ADP'), ('New', 'NOUN'), ('York', 'NOUN'), (';', '.'), ('if', 'ADP'), ('not', 'ADV'), ('the', 'DET'), ('U.S.', 'NOUN'), (',', '.'), ('then', 'ADV'), ('overseas', 'ADJ'), ('.', '.'), ('Performing', 'CONJ'), ('loans', 'NOUN'), ('.', '.'), ('In', 'ADP'), ('the', 'DET'), ('first', 'ADJ'), ('three', 'NUM'), ('months', 'NOUN'), ('of', 'ADP'), ('1990', 'NUM'), (',', '.'), ('the', 'DET'), ('Treasury', 'NOUN'), ('estimates', 'NOUN'), ('that', 'ADP'), ('it', 'PRON'), ('will', 'VERB'), ('have', 'VERB'), ('*-1', 'X'), ('to', 'PRT'), ('raise', 'VERB'), ('between', 'ADP'), ('$', '.'), ('45', 'NUM'), ('billion', 'NUM'), ('and', 'CONJ'), ('$', '.'), ('50', 'NUM'), ('billion', 'NUM'), ('*U*', 'X'), (',', '.'), ('*', 'X'), ('assuming', 'VERB'), ('that', 'ADP'), ('it', 'PRON'), ('decides', 'CONJ'), ('*-2', 'X'), ('to', 'PRT'), ('aim', 'NOUN'), ('for', 'ADP'), ('a', 'DET'), ('$', '.'), ('10', 'NUM'), ('billion', 'NUM'), ('*U*', 'X'), ('cash', 'NOUN'), ('balance', 'NOUN'), ('at', 'ADP'), ('the', 'DET'), ('end', 'NOUN'), ('of', 'ADP'), ('March', 'NOUN'), ('.', '.'), ('United', 'NOUN'), ('Illuminating', 'NOUN'), ('is', 'VERB'), ('based', 'VERB'), ('*-13', 'X'), ('in', 'ADP'), ('New', 'NOUN'), ('Haven', 'NOUN'), (',', '.'), ('Conn.', 'NOUN'), (',', '.'), ('and', 'CONJ'), ('Northeast', 'NOUN'), ('is', 'VERB'), ('based', 'VERB'), ('*-14', 'X'), ('in', 'ADP'), ('Hartford', 'NOUN'), (',', '.'), ('Conn', 'NOUN'), ('.', '.'), ('But', 'CONJ'), ('some', 'DET'), ('European', 'ADJ'), ('funds', 'NOUN'), ('recently', 'ADV'), ('have', 'VERB'), ('skyrocketed', 'VERB'), (';', '.'), ('Spain', 'NOUN'), ('Fund', 'NOUN'), ('has', 'VERB'), ('surged', 'VERB'), ('to', 'PRT'), ('a', 'DET'), ('startling', 'ADJ'), ('120', 'NUM'), ('%', 'NOUN'), ('premium', 'NOUN'), ('.', '.'), ('``', '.'), ('*-1', 'X'), ('To', 'PRT'), ('get', 'VERB'), ('people', 'NOUN'), (\"'s\", 'PRT'), ('attention', 'NOUN'), ('these', 'DET'), ('days', 'NOUN'), (',', '.'), (\"''\", '.'), ('says', 'VERB'), ('*T*-2', 'X'), ('Douglas', 'NOUN'), ('Bailey', 'NOUN'), (',', '.'), ('a', 'DET'), ('political', 'ADJ'), ('consultant', 'NOUN'), (',', '.'), ('``', '.'), ('your', 'PRON'), ('TV', 'NOUN'), ('ad', 'NOUN'), ('needs', 'VERB'), ('*-1', 'X'), ('to', 'PRT'), ('be', 'VERB'), ('bold', 'ADJ'), ('and', 'CONJ'), ('entertaining', 'CONJ'), (',', '.'), ('and', 'CONJ'), (',', '.'), ('more', 'ADV'), ('often', 'ADV'), ('than', 'ADP'), ('not', 'ADV'), (',', '.'), ('that', 'DET'), ('means', 'NOUN'), ('confrontational', 'CONJ'), ('.', '.'), ('``', '.'), ('We', 'PRON'), (\"'re\", 'VERB'), ('offering', 'VERB'), ('this', 'DET'), ('plan', 'NOUN'), ('now', 'ADV'), ('because', 'ADP'), ('we', 'PRON'), ('feel', 'VERB'), ('0', 'X'), ('it', 'PRON'), (\"'s\", 'VERB'), ('the', 'DET'), ('right', 'NOUN'), ('time', 'NOUN'), ('.', '.'), (\"''\", '.'), ('The', 'DET'), ('newly', 'ADV'), ('fattened', 'CONJ'), ('premiums', 'NOUN'), ('reflect', 'VERB'), ('the', 'DET'), ('increasingly', 'ADV'), ('global', 'ADJ'), ('marketing', 'NOUN'), ('of', 'ADP'), ('some', 'DET'), ('country', 'NOUN'), ('funds', 'NOUN'), (',', '.'), ('Mr.', 'NOUN'), ('Porter', 'NOUN'), ('suggests', 'VERB'), ('0', 'X'), ('*T*-1', 'X'), ('.', '.'), ('Both', 'DET'), ('sides', 'NOUN'), ('have', 'VERB'), ('agreed', 'VERB'), ('that', 'ADP'), ('the', 'DET'), ('talks', 'NOUN'), ('will', 'VERB'), ('be', 'VERB'), ('most', 'ADV'), ('successful', 'ADJ'), ('if', 'ADP'), ('negotiators', 'NOUN'), ('start', 'VERB'), ('by', 'ADP'), ('*', 'X'), ('focusing', 'VERB'), ('on', 'ADP'), ('the', 'DET'), ('areas', 'NOUN'), ('that', 'ADP'), ('*T*-186', 'CONJ'), ('can', 'VERB'), ('be', 'VERB'), ('most', 'ADV'), ('easily', 'ADV'), ('changed', 'VERB'), ('*-1', 'X'), ('.', '.'), ('A', 'DET'), ('federal', 'ADJ'), ('appeals', 'NOUN'), ('court', 'NOUN'), ('upheld', 'VERB'), ('a', 'DET'), ('lower', 'ADJ'), ('court', 'NOUN'), ('ruling', 'NOUN'), ('that', 'ADP'), ('the', 'DET'), ('U.S.', 'NOUN'), ('can', 'VERB'), ('bar', 'NOUN'), ('the', 'DET'), ('use', 'NOUN'), ('of', 'ADP'), ('federal', 'ADJ'), ('funds', 'NOUN'), ('for', 'ADP'), ('family-planning', 'ADJ'), ('programs', 'NOUN'), ('that', 'ADP'), ('*T*-1', 'X'), ('include', 'VERB'), ('abortion-related', 'CONJ'), ('services', 'NOUN'), ('.', '.'), ('Big', 'NOUN'), ('Board', 'NOUN'), ('volume', 'NOUN'), ('amounted', 'VERB'), ('to', 'PRT'), ('154,240,000', 'NUM'), ('shares', 'NOUN'), (',', '.'), ('down', 'ADV'), ('from', 'ADP'), ('176.1', 'CONJ'), ('million', 'NUM'), ('Tuesday', 'NOUN'), ('.', '.'), ('When', 'ADV'), ('Bell', 'NOUN'), ('established', 'CONJ'), ('that', 'DET'), ('the', 'DET'), ('Berliner', 'NOUN'), ('patent', 'NOUN'), ('caveat', 'CONJ'), ('was', 'VERB'), ('registered', 'VERB'), ('*-145', 'CONJ'), ('10', 'NUM'), ('days', 'NOUN'), ('before', 'ADP'), ('Edison', 'NOUN'), (\"'s\", 'PRT'), ('application', 'NOUN'), ('*T*-1', 'X'), (',', '.'), ('Western', 'NOUN'), ('Union', 'NOUN'), ('dropped', 'VERB'), ('the', 'DET'), ('lawsuit', 'NOUN'), ('and', 'CONJ'), ('agreed', 'VERB'), ('*-2', 'X'), ('never', 'ADV'), ('to', 'PRT'), ('enter', 'CONJ'), ('the', 'DET'), ('telephone', 'NOUN'), ('business', 'NOUN'), ('--', '.'), ('the', 'DET'), ('basis', 'NOUN'), ('for', 'ADP'), ('the', 'DET'), ('company', 'NOUN'), (\"'s\", 'PRT'), ('current', 'ADJ'), ('plight', 'NOUN'), ('.', '.'), ('This', 'DET'), ('is', 'VERB'), ('Japan', 'NOUN'), ('?', '.'), ('In', 'ADP'), ('addition', 'NOUN'), (',', '.'), ('the', 'DET'), ('company', 'NOUN'), ('has', 'VERB'), ('replaced', 'VERB'), ('its', 'PRON'), ('president', 'NOUN'), ('and', 'CONJ'), ('chief', 'NOUN'), ('executive', 'NOUN'), (',', '.'), ('*-1', 'X'), ('naming', 'VERB'), ('W.', 'NOUN'), ('James', 'NOUN'), ('Nichol', 'NOUN'), (',', '.'), ('head', 'NOUN'), ('of', 'ADP'), ('the', 'DET'), ('company', 'NOUN'), (\"'s\", 'PRT'), ('contract', 'NOUN'), ('health', 'NOUN'), ('services', 'NOUN'), (',', '.'), ('to', 'PRT'), ('succeed', 'VERB'), ('B.', 'NOUN'), ('Lee', 'NOUN'), ('Karns', 'NOUN'), ('.', '.'), ('Many', 'ADJ'), ('lost', 'VERB'), ('their', 'PRON'), ('farms', 'CONJ'), ('.', '.'), ('The', 'DET'), ('antitrust', 'ADJ'), ('staffs', 'CONJ'), ('of', 'ADP'), ('both', 'DET'), ('the', 'DET'), ('FTC', 'NOUN'), ('and', 'CONJ'), ('Justice', 'NOUN'), ('Department', 'NOUN'), ('were', 'VERB'), ('cut', 'VERB'), ('*-87', 'X'), ('more', 'ADV'), ('than', 'ADP'), ('40', 'NUM'), ('%', 'NOUN'), ('in', 'ADP'), ('the', 'DET'), ('Reagan', 'NOUN'), ('administration', 'NOUN'), (',', '.'), ('and', 'CONJ'), ('enforcement', 'NOUN'), ('of', 'ADP'), ('major', 'ADJ'), ('merger', 'NOUN'), ('cases', 'NOUN'), ('fell', 'VERB'), ('off', 'PRT'), ('drastically', 'CONJ'), ('during', 'ADP'), ('that', 'DET'), ('period', 'NOUN'), ('.', '.'), ('The', 'DET'), ('company', 'NOUN'), ('also', 'ADV'), ('disclosed', 'VERB'), ('that', 'ADP'), ('during', 'ADP'), ('that', 'DET'), ('period', 'NOUN'), ('it', 'PRON'), ('offered', 'VERB'), ('10,000', 'NUM'), ('yen', 'NOUN'), (',', '.'), ('or', 'CONJ'), ('about', 'ADP'), ('$', '.'), ('70', 'NUM'), ('*U*', 'X'), (',', '.'), ('for', 'ADP'), ('another', 'DET'), ('contract', 'NOUN'), ('.', '.'), ('*-1', 'X'), ('Assuming', 'VERB'), ('that', 'ADP'), ('post', 'NOUN'), ('at', 'ADP'), ('the', 'DET'), ('age', 'NOUN'), ('of', 'ADP'), ('35', 'NUM'), (',', '.'), ('he', 'PRON'), ('managed', 'VERB'), ('by', 'ADP'), ('consensus', 'NOUN'), (',', '.'), ('as', 'ADP'), ('*', 'X'), ('is', 'VERB'), ('the', 'DET'), ('rule', 'NOUN'), ('in', 'ADP'), ('universities', 'CONJ'), (',', '.'), ('says', 'VERB'), ('0', 'X'), ('*T*-3', 'X'), ('Warren', 'NOUN'), ('H.', 'NOUN'), ('Strother', 'CONJ'), (',', '.'), ('a', 'DET'), ('university', 'NOUN'), ('official', 'NOUN'), ('who', 'PRON'), ('*T*-2', 'X'), ('is', 'VERB'), ('researching', 'CONJ'), ('a', 'DET'), ('book', 'NOUN'), ('on', 'ADP'), ('Mr.', 'NOUN'), ('Hahn', 'NOUN'), ('.', '.'), ('He', 'PRON'), ('said', 'VERB'), ('0', 'X'), ('the', 'DET'), ('exchange', 'NOUN'), ('is', 'VERB'), ('``', '.'), ('headed', 'CONJ'), ('for', 'ADP'), ('a', 'DET'), ('real', 'ADJ'), ('crisis', 'NOUN'), (\"''\", '.'), ('if', 'ADP'), ('program', 'NOUN'), ('trading', 'NOUN'), ('is', 'VERB'), (\"n't\", 'ADV'), ('curbed', 'CONJ'), ('*-1', 'X'), ('.', '.'), ('He', 'PRON'), ('is', 'VERB'), ('just', 'ADV'), ('passing', 'VERB'), ('the', 'DET'), ('buck', 'CONJ'), ('to', 'PRT'), ('young', 'ADJ'), ('people', 'NOUN'), ('.', '.'), ('The', 'DET'), ('U.S.', 'NOUN'), ('and', 'CONJ'), ('Soviet', 'ADJ'), ('Union', 'NOUN'), ('are', 'VERB'), ('holding', 'VERB'), ('technical', 'ADJ'), ('talks', 'NOUN'), ('about', 'ADP'), ('possible', 'ADJ'), ('repayment', 'CONJ'), ('by', 'ADP'), ('Moscow', 'NOUN'), ('of', 'ADP'), ('$', '.'), ('188', 'NUM'), ('million', 'NUM'), ('*U*', 'X'), ('in', 'ADP'), ('pre-Communist', 'CONJ'), ('Russian', 'CONJ'), ('debts', 'NOUN'), ('owed', 'VERB'), ('*', 'X'), ('to', 'PRT'), ('the', 'DET'), ('U.S.', 'NOUN'), ('government', 'NOUN'), (',', '.'), ('the', 'DET'), ('State', 'NOUN'), ('Department', 'NOUN'), ('said', 'VERB'), ('0', 'X'), ('*T*-2', 'X'), ('.', '.'), ('For', 'ADP'), ('the', 'DET'), ('first', 'ADJ'), ('time', 'NOUN'), (',', '.'), ('the', 'DET'), ('October', 'NOUN'), ('survey', 'NOUN'), ('polled', 'VERB'), ('members', 'NOUN'), ('on', 'ADP'), ('imports', 'NOUN'), ('.', '.'), ('Ten', 'CONJ'), ('shirt-sleeved', 'CONJ'), ('ringers', 'NOUN'), ('stand', 'VERB'), ('in', 'ADP'), ('a', 'DET'), ('circle', 'CONJ'), (',', '.'), ('one', 'NUM'), ('foot', 'CONJ'), ('ahead', 'ADV'), ('of', 'ADP'), ('the', 'DET'), ('other', 'ADJ'), ('in', 'ADP'), ('a', 'DET'), ('prize-fighter', 'CONJ'), (\"'s\", 'PRT'), ('stance', 'NOUN'), (',', '.'), ('each', 'DET'), ('pulling', 'CONJ'), ('a', 'DET'), ('rope', 'CONJ'), ('that', 'DET'), ('*T*-225', 'CONJ'), ('disappears', 'CONJ'), ('through', 'ADP'), ('a', 'DET'), ('small', 'ADJ'), ('hole', 'CONJ'), ('in', 'ADP'), ('the', 'DET'), ('high', 'ADJ'), ('ceiling', 'NOUN'), ('of', 'ADP'), ('the', 'DET'), ('ringing', 'NOUN'), ('chamber', 'CONJ'), ('.', '.'), ('Carnival', 'NOUN'), ('said', 'VERB'), ('0', 'X'), ('it', 'PRON'), ('will', 'VERB'), ('be', 'VERB'), ('an', 'DET'), ('11', 'NUM'), ('%', 'NOUN'), ('shareholder', 'NOUN'), ('in', 'ADP'), ('the', 'DET'), ('new', 'ADJ'), ('company', 'NOUN'), ('.', '.'), ('Excluding', 'VERB'), ('these', 'DET'), ('orders', 'NOUN'), (',', '.'), ('backlogs', 'NOUN'), ('declined', 'VERB'), ('0.3', 'NUM'), ('%', 'NOUN'), ('.', '.'), ('They', 'PRON'), ('also', 'ADV'), ('have', 'VERB'), ('become', 'VERB'), ('large', 'ADJ'), ('purchasers', 'NOUN'), ('of', 'ADP'), ('Fannie', 'NOUN'), ('Mae', 'NOUN'), (\"'s\", 'PRT'), ('corporate', 'ADJ'), ('debt', 'NOUN'), (',', '.'), ('*-2', 'X'), ('buying', 'VERB'), ('$', '.'), ('2.4', 'NUM'), ('billion', 'NUM'), ('*U*', 'X'), ('in', 'ADP'), ('Fannie', 'NOUN'), ('Mae', 'NOUN'), ('bonds', 'NOUN'), ('during', 'ADP'), ('the', 'DET'), ('first', 'ADJ'), ('nine', 'NUM'), ('months', 'NOUN'), ('of', 'ADP'), ('the', 'DET'), ('year', 'NOUN'), (',', '.'), ('or', 'CONJ'), ('almost', 'ADV'), ('a', 'DET'), ('tenth', 'CONJ'), ('of', 'ADP'), ('the', 'DET'), ('total', 'ADJ'), ('amount', 'NOUN'), ('issued', 'VERB'), ('*', 'X'), ('.', '.'), ('Sales', 'NOUN'), ('fell', 'VERB'), ('20', 'NUM'), ('%', 'NOUN'), ('to', 'PRT'), ('#', '.'), ('722', 'CONJ'), ('million', 'NUM'), ('*U*', 'X'), ('.', '.'), ('Travelers', 'NOUN'), ('estimated', 'VERB'), ('that', 'ADP'), ('the', 'DET'), ('California', 'NOUN'), ('earthquake', 'NOUN'), ('last', 'ADJ'), ('month', 'NOUN'), ('will', 'VERB'), ('result', 'VERB'), ('in', 'ADP'), ('a', 'DET'), ('fourth-quarter', 'NOUN'), ('pre-tax', 'CONJ'), ('charge', 'NOUN'), ('of', 'ADP'), ('less', 'ADJ'), ('than', 'ADP'), ('$', '.'), ('10', 'NUM'), ('million', 'NUM'), ('*U*', 'X'), ('.', '.'), ('The', 'DET'), ('two', 'NUM'), ('concerns', 'NOUN'), ('said', 'VERB'), ('0', 'X'), ('they', 'PRON'), ('entered', 'VERB'), ('into', 'ADP'), ('a', 'DET'), ('definitive', 'CONJ'), ('merger', 'NOUN'), ('agreement', 'NOUN'), ('under', 'ADP'), ('which', 'DET'), ('Ratners', 'NOUN'), ('will', 'VERB'), ('begin', 'VERB'), ('a', 'DET'), ('tender', 'NOUN'), ('offer', 'NOUN'), ('for', 'ADP'), ('all', 'DET'), ('of', 'ADP'), ('Weisfield', 'NOUN'), (\"'s\", 'PRT'), ('common', 'ADJ'), ('shares', 'NOUN'), ('for', 'ADP'), ('$', '.'), ('57.50', 'NUM'), ('*U*', 'X'), ('each', 'DET'), ('*T*-1', 'X'), ('.', '.'), ('We', 'PRON'), ('also', 'ADV'), ('know', 'VERB'), ('that', 'ADP'), ('the', 'DET'), ('tort', 'CONJ'), ('system', 'NOUN'), ('is', 'VERB'), ('a', 'DET'), ('lousy', 'CONJ'), ('way', 'NOUN'), ('0', 'X'), ('*', 'X'), ('to', 'PRT'), ('compensate', 'VERB'), ('victims', 'NOUN'), ('*T*-1', 'X'), ('anyway', 'CONJ'), (';', '.'), ('some', 'DET'), ('win', 'VERB'), ('the', 'DET'), ('legal', 'ADJ'), ('lottery', 'NOUN'), (',', '.'), ('others', 'NOUN'), ('get', 'VERB'), ('much', 'ADV'), ('less', 'ADJ'), ('and', 'CONJ'), ('contingency-fee', 'CONJ'), ('lawyers', 'NOUN'), ('take', 'VERB'), ('a', 'DET'), ('big', 'ADJ'), ('cut', 'NOUN'), ('either', 'CONJ'), ('way', 'NOUN'), ('.', '.'), ('Meanwhile', 'ADV'), (',', '.'), ('the', 'DET'), ('bad', 'ADJ'), ('bank', 'NOUN'), ('with', 'ADP'), ('the', 'DET'), ('junk', 'NOUN'), ('bonds', 'NOUN'), ('--', '.'), ('and', 'CONJ'), ('some', 'DET'), ('capital', 'NOUN'), ('--', '.'), ('might', 'VERB'), ('be', 'VERB'), ('spun', 'CONJ'), ('off', 'ADV'), ('*-1', 'X'), ('to', 'PRT'), ('Columbia', 'NOUN'), ('shareholders', 'NOUN'), (',', '.'), ('including', 'VERB'), ('Mr.', 'NOUN'), ('Spiegel', 'NOUN'), (',', '.'), ('who', 'PRON'), ('*T*-2', 'X'), ('might', 'VERB'), ('then', 'ADV'), ('have', 'VERB'), ('a', 'DET'), ('new', 'ADJ'), ('career', 'NOUN'), (',', '.'), ('investors', 'NOUN'), ('say', 'VERB'), ('0', 'X'), ('*T*-3', 'X'), ('.', '.'), ('Sales', 'NOUN'), ('rose', 'VERB'), ('4', 'NUM'), ('%', 'NOUN'), ('to', 'PRT'), ('$', '.'), ('3.28', 'CONJ'), ('billion', 'NUM'), ('*U*', 'X'), ('from', 'ADP'), ('$', '.'), ('3.16', 'CONJ'), ('billion', 'NUM'), ('*U*', 'X'), ('.', '.'), ('Its', 'PRON'), ('budget', 'NOUN'), ('$', '.'), ('184', 'CONJ'), ('million', 'NUM'), ('*U*', 'X'), ('--', '.'), ('is', 'VERB'), ('paid', 'VERB'), ('for', 'ADP'), ('*-30', 'CONJ'), ('by', 'ADP'), ('you', 'PRON'), ('.', '.'), ('That', 'DET'), ('response', 'NOUN'), ('annoyed', 'CONJ'), ('Rep.', 'NOUN'), ('Markey', 'NOUN'), (',', '.'), ('House', 'NOUN'), ('aides', 'NOUN'), ('said', 'VERB'), ('0', 'X'), ('*T*-1', 'X'), (',', '.'), ('and', 'CONJ'), ('the', 'DET'), ('congressman', 'CONJ'), ('snapped', 'VERB'), ('back', 'ADV'), ('that', 'ADP'), ('there', 'DET'), ('had', 'VERB'), ('been', 'VERB'), ('enough', 'ADV'), ('studies', 'NOUN'), ('of', 'ADP'), ('the', 'DET'), ('issue', 'NOUN'), ('and', 'CONJ'), ('that', 'DET'), ('it', 'PRON'), ('was', 'VERB'), ('time', 'NOUN'), ('for', 'ADP'), ('action', 'NOUN'), ('on', 'ADP'), ('the', 'DET'), ('matter', 'NOUN'), ('.', '.'), ('Robert', 'NOUN'), ('P.', 'NOUN'), ('Tassinari', 'CONJ'), (',', '.'), ('63', 'NUM'), (',', '.'), ('was', 'VERB'), ('named', 'VERB'), ('*-29', 'X'), ('senior', 'ADJ'), ('vice', 'NOUN'), ('president', 'NOUN'), ('of', 'ADP'), ('Eastern', 'NOUN'), ('Utilities', 'NOUN'), ('.', '.'), ('About', 'ADP'), ('20,000', 'NUM'), ('sets', 'NOUN'), ('of', 'ADP'), ('Learning', 'NOUN'), ('Materials', 'NOUN'), ('teachers', 'NOUN'), (\"'\", 'PRT'), ('binders', 'CONJ'), ('have', 'VERB'), ('also', 'ADV'), ('been', 'VERB'), ('sold', 'VERB'), ('*-1', 'X'), ('in', 'ADP'), ('the', 'DET'), ('past', 'ADJ'), ('four', 'NUM'), ('years', 'NOUN'), ('.', '.'), ('A', 'DET'), ('full', 'ADJ'), (',', '.'), ('four-color', 'CONJ'), ('page', 'NOUN'), ('in', 'ADP'), ('Newsweek', 'NOUN'), ('will', 'VERB'), ('cost', 'NOUN'), ('$', '.'), ('100,980', 'CONJ'), ('*U*', 'X'), ('.', '.'), ('In', 'ADP'), ('London', 'NOUN'), ('at', 'ADP'), ('mid-afternoon', 'CONJ'), ('yesterday', 'NOUN'), (',', '.'), ('Ratners', 'NOUN'), (\"'s\", 'PRT'), ('shares', 'NOUN'), ('were', 'VERB'), ('up', 'ADV'), ('2', 'NUM'), ('pence', 'NOUN'), ('-LRB-', '.'), ('1.26', 'NUM'), ('cents', 'NOUN'), ('-RRB-', '.'), (',', '.'), ('at', 'ADP'), ('260', 'CONJ'), ('pence', 'NOUN'), ('-LRB-', '.'), ('$', '.'), ('1.64', 'NUM'), ('*U*', 'X'), ('-RRB-', '.'), ('.', '.'), ('In', 'ADP'), ('the', 'DET'), ('last', 'ADJ'), ('year', 'NOUN'), ('or', 'CONJ'), ('so', 'ADV'), (',', '.'), ('however', 'ADV'), (',', '.'), ('this', 'DET'), ('exclusive', 'ADJ'), ('club', 'NOUN'), ('has', 'VERB'), ('taken', 'VERB'), ('in', 'ADP'), ('a', 'DET'), ('host', 'NOUN'), ('of', 'ADP'), ('flashy', 'CONJ'), ('new', 'ADJ'), ('members', 'NOUN'), ('.', '.'), ('But', 'CONJ'), ('I', 'PRON'), ('--', '.'), ('I', 'PRON'), ('like', 'VERB'), ('*-1', 'X'), ('to', 'PRT'), ('think', 'VERB'), ('of', 'ADP'), ('it', 'PRON'), ('in', 'ADP'), ('terms', 'NOUN'), ('of', 'ADP'), ('we', 'PRON'), (',', '.'), ('all', 'DET'), ('of', 'ADP'), ('us', 'PRON'), ('--', '.'), ('won', 'VERB'), ('the', 'DET'), ('point', 'NOUN'), ('.', '.'), ('More', 'ADV'), ('than', 'ADP'), ('a', 'DET'), ('half', 'NOUN'), ('of', 'ADP'), ('all', 'DET'), ('sugar', 'NOUN'), ('produced', 'VERB'), ('*', 'X'), ('in', 'ADP'), ('Brazil', 'NOUN'), ('goes', 'VERB'), ('for', 'ADP'), ('alcohol', 'NOUN'), ('production', 'NOUN'), (',', '.'), ('according', 'VERB'), ('to', 'PRT'), ('Ms.', 'NOUN'), ('Ganes', 'NOUN'), ('.', '.'), ('In', 'ADP'), ('American', 'ADJ'), ('Stock', 'NOUN'), ('Exchange', 'NOUN'), ('composite', 'ADJ'), ('trading', 'NOUN'), (',', '.'), ('Citadel', 'NOUN'), ('shares', 'NOUN'), ('closed', 'VERB'), ('yesterday', 'NOUN'), ('at', 'ADP'), ('$', '.'), ('45.75', 'CONJ'), ('*U*', 'X'), (',', '.'), ('down', 'ADV'), ('25', 'NUM'), ('cents', 'NOUN'), ('.', '.'), ('After', 'ADP'), ('years', 'NOUN'), ('of', 'ADP'), ('decline', 'NOUN'), (',', '.'), ('weddings', 'NOUN'), ('in', 'ADP'), ('France', 'NOUN'), ('showed', 'VERB'), ('a', 'DET'), ('2.2', 'NUM'), ('%', 'NOUN'), ('upturn', 'CONJ'), ('last', 'ADJ'), ('year', 'NOUN'), (',', '.'), ('with', 'ADP'), ('6,000', 'NUM'), ('more', 'ADJ'), ('couples', 'CONJ'), ('*ICH*-1', 'X'), ('exchanging', 'CONJ'), ('rings', 'VERB'), ('in', 'ADP'), ('1988', 'NUM'), ('than', 'ADP'), ('in', 'ADP'), ('the', 'DET'), ('previous', 'ADJ'), ('year', 'NOUN'), (',', '.'), ('the', 'DET'), ('national', 'ADJ'), ('statistics', 'NOUN'), ('office', 'NOUN'), ('said', 'VERB'), ('0', 'X'), ('*T*-2', 'X'), ('.', '.'), ('American', 'NOUN'), ('Express', 'NOUN'), ('also', 'ADV'), ('represents', 'VERB'), ('the', 'DET'), ('upscale', 'ADJ'), ('image', 'NOUN'), ('0', 'X'), ('``', '.'), ('we', 'PRON'), (\"'re\", 'VERB'), ('trying', 'VERB'), ('*-2', 'X'), ('to', 'PRT'), ('project', 'NOUN'), ('*T*-1', 'X'), (',', '.'), (\"''\", '.'), ('she', 'PRON'), ('adds', 'VERB'), ('*T*-3', 'X'), ('.', '.'), ('The', 'DET'), ('report', 'NOUN'), ('from', 'ADP'), ('the', 'DET'), ('Fed', 'NOUN'), ('found', 'VERB'), ('that', 'ADP'), ('manufacturing', 'NOUN'), (',', '.'), ('in', 'ADP'), ('particular', 'ADJ'), (',', '.'), ('has', 'VERB'), ('been', 'VERB'), ('weak', 'ADJ'), ('in', 'ADP'), ('recent', 'ADJ'), ('weeks', 'NOUN'), ('.', '.'), ('According', 'VERB'), ('to', 'PRT'), ('an', 'DET'), ('American', 'ADJ'), ('member', 'NOUN'), ('of', 'ADP'), ('the', 'DET'), ('Nixon', 'NOUN'), ('party', 'NOUN'), (',', '.'), ('the', 'DET'), ('former', 'ADJ'), ('president', 'NOUN'), ('raised', 'VERB'), ('a', 'DET'), ('number', 'NOUN'), ('of', 'ADP'), ('controversial', 'ADJ'), ('issues', 'NOUN'), ('in', 'ADP'), ('his', 'PRON'), ('20', 'NUM'), ('hours', 'NOUN'), ('of', 'ADP'), ('talks', 'NOUN'), ('with', 'ADP'), ('top-level', 'CONJ'), ('Chinese', 'ADJ'), ('officials', 'NOUN'), ('.', '.'), ('His', 'PRON'), ('duties', 'NOUN'), ('as', 'ADP'), ('chief', 'NOUN'), ('executive', 'NOUN'), ('will', 'VERB'), ('be', 'VERB'), ('assumed', 'VERB'), ('*-121', 'CONJ'), ('by', 'ADP'), ('Chairman', 'NOUN'), ('Jay', 'NOUN'), ('B.', 'NOUN'), ('Langner', 'CONJ'), ('.', '.'), ('Meanwhile', 'ADV'), (',', '.'), ('stations', 'NOUN'), ('are', 'VERB'), ('fuming', 'CONJ'), ('because', 'ADP'), (',', '.'), ('many', 'ADJ'), ('of', 'ADP'), ('them', 'PRON'), ('say', 'VERB'), ('0', 'X'), ('*T*-1', 'X'), (',', '.'), ('the', 'DET'), ('show', 'NOUN'), (\"'s\", 'PRT'), ('distributor', 'NOUN'), (',', '.'), ('Viacom', 'NOUN'), ('Inc.', 'NOUN'), (',', '.'), ('is', 'VERB'), ('giving', 'VERB'), ('an', 'DET'), ('ultimatum', 'CONJ'), (':', '.'), ('*', 'X'), ('Either', 'CONJ'), ('sign', 'NOUN'), ('new', 'ADJ'), ('long-term', 'ADJ'), ('commitments', 'NOUN'), ('*', 'X'), ('to', 'PRT'), ('buy', 'VERB'), ('future', 'ADJ'), ('episodes', 'NOUN'), ('or', 'CONJ'), ('risk', 'NOUN'), ('*-2', 'X'), ('losing', 'VERB'), ('``', '.'), ('Cosby', 'NOUN'), (\"''\", '.'), ('to', 'PRT'), ('a', 'DET'), ('competitor', 'NOUN'), ('.', '.'), ('A', 'DET'), ('second', 'ADJ'), ('citation', 'CONJ'), ('covering', 'VERB'), ('the', 'DET'), ('company', 'NOUN'), (\"'s\", 'PRT'), ('Clairton', 'NOUN'), (',', '.'), ('Pa.', 'NOUN'), (',', '.'), ('coke', 'CONJ'), ('works', 'NOUN'), ('involved', 'VERB'), ('more', 'ADV'), ('than', 'ADP'), ('200', 'NUM'), ('alleged', 'ADJ'), ('violations', 'NOUN'), ('of', 'ADP'), ('electrical-safety', 'CONJ'), ('and', 'CONJ'), ('other', 'ADJ'), ('requirements', 'NOUN'), (',', '.'), ('for', 'ADP'), ('which', 'DET'), ('OSHA', 'NOUN'), ('proposed', 'VERB'), ('$', '.'), ('1.2', 'NUM'), ('million', 'NUM'), ('*U*', 'X'), ('in', 'ADP'), ('fines', 'NOUN'), ('*T*-1', 'X'), ('.', '.'), ('But', 'CONJ'), ('as', 'ADP'), ('the', 'DET'), ('craze', 'NOUN'), ('died', 'VERB'), (',', '.'), ('Coleco', 'NOUN'), ('failed', 'VERB'), ('*-1', 'X'), ('to', 'PRT'), ('come', 'VERB'), ('up', 'ADV'), ('with', 'ADP'), ('another', 'DET'), ('winner', 'CONJ'), ('and', 'CONJ'), ('filed', 'VERB'), ('for', 'ADP'), ('bankruptcy-law', 'CONJ'), ('protection', 'NOUN'), ('in', 'ADP'), ('July', 'NOUN'), ('1988', 'NUM'), ('.', '.'), ('The', 'DET'), ('Treasury', 'NOUN'), ('said', 'VERB'), ('0', 'X'), ('it', 'PRON'), ('needs', 'VERB'), ('*-1', 'X'), ('to', 'PRT'), ('raise', 'VERB'), ('$', '.'), ('47.5', 'CONJ'), ('billion', 'NUM'), ('*U*', 'X'), ('in', 'ADP'), ('the', 'DET'), ('current', 'ADJ'), ('quarter', 'NOUN'), ('in', 'ADP'), ('order', 'NOUN'), ('*-1', 'X'), ('to', 'PRT'), ('end', 'VERB'), ('December', 'NOUN'), ('with', 'ADP'), ('a', 'DET'), ('$', '.'), ('20', 'NUM'), ('billion', 'NUM'), ('*U*', 'X'), ('cash', 'NOUN'), ('balance', 'NOUN'), ('.', '.'), ('It', 'PRON'), ('*EXP*-1', 'X'), ('is', 'VERB'), ('easy', 'ADJ'), ('*', 'X'), ('to', 'PRT'), ('see', 'VERB'), ('why', 'ADV'), ('the', 'DET'), ('ancient', 'ADJ'), ('art', 'NOUN'), ('is', 'VERB'), ('on', 'ADP'), ('the', 'DET'), ('ropes', 'NOUN'), ('*T*-2', 'X'), ('.', '.'), ('Grain', 'CONJ'), ('elevators', 'NOUN'), ('built', 'VERB'), ('*', 'X'), ('in', 'ADP'), ('the', 'DET'), ('1920s', 'NOUN'), ('and', 'CONJ'), (\"'30s\", 'CONJ'), ('have', 'VERB'), ('six-inch', 'ADJ'), ('concrete', 'ADJ'), ('walls', 'CONJ'), ('and', 'CONJ'), ('a', 'DET'), ('tubular', 'ADJ'), ('shape', 'NOUN'), ('that', 'ADP'), ('*T*-1', 'X'), ('would', 'VERB'), ('easily', 'ADV'), ('contain', 'VERB'), ('semicircular', 'CONJ'), ('cells', 'CONJ'), ('with', 'ADP'), ('a', 'DET'), ('control', 'NOUN'), ('point', 'NOUN'), ('in', 'ADP'), ('the', 'DET'), ('middle', 'ADJ'), (',', '.'), ('the', 'DET'), ('New', 'NOUN'), ('York', 'NOUN'), ('firm', 'NOUN'), ('says', 'VERB'), ('0', 'X'), ('*T*-2', 'X'), ('.', '.'), ('Says', 'VERB'), ('*ICH*-1', 'X'), ('Kathryn', 'CONJ'), ('McAuley', 'CONJ'), (',', '.'), ('an', 'DET'), ('analyst', 'NOUN'), ('at', 'ADP'), ('First', 'NOUN'), ('Manhattan', 'NOUN'), ('Co.', 'NOUN'), (':', '.'), ('``', '.'), ('This', 'DET'), ('is', 'VERB'), ('the', 'DET'), ('greatest', 'ADJ'), ('acquisition', 'NOUN'), ('challenge', 'NOUN'), ('0', 'X'), ('he', 'PRON'), ('has', 'VERB'), ('faced', 'VERB'), ('*T*-2', 'X'), ('.', '.'), ('Sales', 'NOUN'), ('of', 'ADP'), ('passenger', 'NOUN'), ('cars', 'NOUN'), ('grew', 'VERB'), ('22', 'NUM'), ('%', 'NOUN'), ('from', 'ADP'), ('a', 'DET'), ('year', 'NOUN'), ('earlier', 'ADV'), ('to', 'PRT'), ('361,376', 'CONJ'), ('units', 'NOUN'), ('.', '.'), ('The', 'DET'), ('tire', 'NOUN'), ('maker', 'NOUN'), ('said', 'VERB'), ('0', 'X'), ('the', 'DET'), ('buildings', 'NOUN'), ('consist', 'VERB'), ('of', 'ADP'), ('1.8', 'NUM'), ('million', 'NUM'), ('square', 'ADJ'), ('feet', 'NOUN'), ('of', 'ADP'), ('office', 'NOUN'), (',', '.'), ('manufacturing', 'NOUN'), ('and', 'CONJ'), ('warehousing', 'CONJ'), ('space', 'NOUN'), ('on', 'ADP'), ('353', 'CONJ'), ('acres', 'NOUN'), ('of', 'ADP'), ('land', 'NOUN'), ('.', '.'), ('``', '.'), ('We', 'PRON'), ('are', 'VERB'), ('prepared', 'VERB'), ('*-1', 'X'), ('to', 'PRT'), ('pursue', 'VERB'), ('aggressively', 'ADV'), ('completion', 'NOUN'), ('of', 'ADP'), ('this', 'DET'), ('transaction', 'NOUN'), (',', '.'), (\"''\", '.'), ('he', 'PRON'), ('says', 'VERB'), ('*T*-2', 'X'), ('.', '.'), ('William', 'NOUN'), ('G.', 'NOUN'), ('Kuhns', 'CONJ'), (',', '.'), ('former', 'ADJ'), ('chairman', 'NOUN'), ('*RNR*-1', 'X'), ('and', 'CONJ'), ('chief', 'NOUN'), ('executive', 'NOUN'), ('officer', 'NOUN'), ('*RNR*-1', 'X'), ('of', 'ADP'), ('General', 'NOUN'), ('Public', 'NOUN'), ('Utilities', 'NOUN'), ('Corp.', 'NOUN'), (',', '.'), ('was', 'VERB'), ('elected', 'VERB'), ('*-2', 'X'), ('a', 'DET'), ('director', 'NOUN'), ('of', 'ADP'), ('this', 'DET'), ('maker', 'NOUN'), ('of', 'ADP'), ('industrial', 'ADJ'), ('and', 'CONJ'), ('construction', 'NOUN'), ('equipment', 'NOUN'), (',', '.'), ('*', 'X'), ('increasing', 'VERB'), ('board', 'NOUN'), ('membership', 'NOUN'), ('to', 'PRT'), ('10', 'NUM'), ('.', '.'), ('They', 'PRON'), ('say', 'VERB'), ('0', 'X'), ('greedy', 'CONJ'), ('market', 'NOUN'), ('manipulators', 'CONJ'), ('have', 'VERB'), ('made', 'VERB'), ('a', 'DET'), ('shambles', 'CONJ'), ('of', 'ADP'), ('the', 'DET'), ('nation', 'NOUN'), (\"'s\", 'PRT'), ('free-enterprise', 'CONJ'), ('system', 'NOUN'), (',', '.'), ('*-1', 'X'), ('turning', 'VERB'), ('the', 'DET'), ('stock', 'NOUN'), ('market', 'NOUN'), ('into', 'ADP'), ('a', 'DET'), ('big', 'ADJ'), ('gambling', 'CONJ'), ('den', 'CONJ'), (',', '.'), ('with', 'ADP'), ('the', 'DET'), ('odds', 'CONJ'), ('heavily', 'ADV'), ('stacked', 'CONJ'), ('*-2', 'X'), ('against', 'ADP'), ('the', 'DET'), ('small', 'ADJ'), ('investor', 'NOUN'), ('.', '.'), ('It', 'PRON'), (\"'s\", 'VERB'), ('not', 'ADV'), ('a', 'DET'), ('sound', 'NOUN'), ('thing', 'NOUN'), (';', '.'), ('there', 'DET'), (\"'s\", 'VERB'), ('no', 'DET'), ('inherent', 'ADJ'), ('virtue', 'NOUN'), ('in', 'ADP'), ('it', 'PRON'), ('.', '.'), (\"''\", '.'), ('As', 'ADP'), ('liability', 'NOUN'), ('expert', 'NOUN'), ('Peter', 'NOUN'), ('Huber', 'CONJ'), ('tells', 'VERB'), ('us', 'PRON'), (',', '.'), ('after', 'ADP'), ('the', 'DET'), ('Hymowitz', 'NOUN'), ('case', 'NOUN'), (',', '.'), ('if', 'ADP'), ('any', 'DET'), ('drug', 'NOUN'), ('maker', 'NOUN'), ('introduces', 'CONJ'), ('an', 'DET'), ('anti-miscarriage', 'CONJ'), ('drug', 'NOUN'), ('``', '.'), ('it', 'PRON'), (\"'s\", 'VERB'), ('time', 'NOUN'), ('0', 'X'), ('*', 'X'), ('to', 'PRT'), ('sell', 'VERB'), ('that', 'ADP'), ('company', 'NOUN'), (\"'s\", 'PRT'), ('stock', 'NOUN'), ('short', 'ADJ'), ('*T*-1', 'X'), ('.', '.'), (\"''\", '.'), ('The', 'DET'), ('combined', 'ADJ'), ('processes', 'NOUN'), ('may', 'VERB'), ('significantly', 'ADV'), ('raise', 'VERB'), ('the', 'DET'), ('current-carrying', 'ADJ'), ('capacity', 'NOUN'), ('of', 'ADP'), ('multi-crystal', 'ADJ'), ('samples', 'NOUN'), ('.', '.'), ('Thomas', 'NOUN'), ('Oxnard', 'NOUN'), (',', '.'), ('sugar', 'NOUN'), ('analyst', 'NOUN'), ('for', 'ADP'), ('PaineWebber', 'NOUN'), ('in', 'ADP'), ('Hackensack', 'CONJ'), (',', '.'), ('N.J.', 'NOUN'), (',', '.'), ('said', 'VERB'), (':', '.'), ('``', '.'), ('I', 'PRON'), ('am', 'CONJ'), ('highly', 'ADV'), ('skeptical', 'ADJ'), ('that', 'ADP'), ('Brazil', 'NOUN'), ('will', 'VERB'), ('curtail', 'VERB'), ('sugar', 'NOUN'), ('exports', 'NOUN'), (',', '.'), ('particularly', 'ADV'), ('with', 'ADP'), ('the', 'DET'), ('price', 'NOUN'), ('of', 'ADP'), ('sugar', 'NOUN'), ('at', 'ADP'), ('over', 'ADP'), ('14', 'NUM'), ('cents', 'NOUN'), ('a', 'DET'), ('pound', 'NOUN'), ('.', '.'), (\"''\", '.'), ('Norman', 'NOUN'), ('Ricken', 'CONJ'), (',', '.'), ('52', 'NUM'), ('years', 'NOUN'), ('old', 'ADJ'), ('and', 'CONJ'), ('former', 'ADJ'), ('president', 'NOUN'), ('and', 'CONJ'), ('chief', 'NOUN'), ('operating', 'NOUN'), ('officer', 'NOUN'), ('of', 'ADP'), ('Toys', 'CONJ'), ('``', '.'), ('R', 'CONJ'), (\"''\", '.'), ('Us', 'CONJ'), ('Inc.', 'NOUN'), (',', '.'), ('and', 'CONJ'), ('Frederick', 'NOUN'), ('Deane', 'CONJ'), ('Jr.', 'NOUN'), (',', '.'), ('63', 'NUM'), (',', '.'), ('chairman', 'NOUN'), ('of', 'ADP'), ('Signet', 'CONJ'), ('Banking', 'NOUN'), ('Corp.', 'NOUN'), (',', '.'), ('were', 'VERB'), ('elected', 'VERB'), ('*-15', 'X'), ('directors', 'NOUN'), ('of', 'ADP'), ('this', 'DET'), ('consumer', 'NOUN'), ('electronics', 'NOUN'), ('and', 'CONJ'), ('appliances', 'NOUN'), ('retailing', 'NOUN'), ('chain', 'NOUN'), ('.', '.'), ('The', 'DET'), ('department', 'NOUN'), ('would', 'VERB'), ('be', 'VERB'), ('required', 'VERB'), ('*-1', 'X'), ('to', 'PRT'), ('block', 'VERB'), ('the', 'DET'), ('buy-out', 'NOUN'), ('if', 'ADP'), ('the', 'DET'), ('acquisition', 'NOUN'), ('is', 'VERB'), ('likely', 'ADJ'), ('*-2', 'X'), ('to', 'PRT'), ('financially', 'ADV'), ('weaken', 'VERB'), ('a', 'DET'), ('carrier', 'NOUN'), ('so', 'ADV'), ('that', 'ADP'), ('safety', 'NOUN'), ('would', 'VERB'), ('be', 'VERB'), ('impaired', 'CONJ'), ('*-27', 'X'), (';', '.'), ('its', 'PRON'), ('ability', 'NOUN'), ('*', 'X'), ('to', 'PRT'), ('compete', 'VERB'), ('would', 'VERB'), ('be', 'VERB'), ('sharply', 'ADV'), ('diminished', 'VERB'), ('*-3', 'X'), (';', '.'), ('it', 'PRON'), ('would', 'VERB'), ('be', 'VERB'), ('put', 'VERB'), ('*-28', 'X'), ('into', 'ADP'), ('foreign', 'ADJ'), ('control', 'NOUN'), (';', '.'), ('or', 'CONJ'), ('if', 'ADP'), ('the', 'DET'), ('transaction', 'NOUN'), ('would', 'VERB'), ('result', 'VERB'), ('in', 'ADP'), ('the', 'DET'), ('sale', 'NOUN'), ('of', 'ADP'), ('airline-related', 'CONJ'), ('assets', 'NOUN'), ('--', '.'), ('unless', 'ADP'), ('*', 'X'), ('selling', 'VERB'), ('such', 'ADJ'), ('assets', 'NOUN'), ('had', 'VERB'), ('an', 'DET'), ('overriding', 'CONJ'), ('public', 'ADJ'), ('benefit', 'NOUN'), ('.', '.'), ('Until', 'ADP'), ('last', 'ADJ'), ('week', 'NOUN'), (',', '.'), ('the', 'DET'), ('IRS', 'NOUN'), ('rarely', 'CONJ'), ('acted', 'CONJ'), ('on', 'ADP'), ('the', 'DET'), ('incomplete', 'ADJ'), ('forms', 'NOUN'), ('.', '.'), ('Composer', 'CONJ'), ('Marc', 'CONJ'), ('Marder', 'CONJ'), (',', '.'), ('a', 'DET'), ('college', 'NOUN'), ('friend', 'NOUN'), ('of', 'ADP'), ('Mr.', 'NOUN'), ('Lane', 'NOUN'), (\"'s\", 'PRT'), ('who', 'PRON'), ('*T*-66', 'X'), ('earns', 'VERB'), ('his', 'PRON'), ('living', 'VERB'), ('*-1', 'X'), ('playing', 'VERB'), ('the', 'DET'), ('double', 'VERB'), ('bass', 'CONJ'), ('in', 'ADP'), ('classical', 'CONJ'), ('music', 'NOUN'), ('ensembles', 'CONJ'), (',', '.'), ('has', 'VERB'), ('prepared', 'VERB'), ('an', 'DET'), ('exciting', 'CONJ'), (',', '.'), ('eclectic', 'CONJ'), ('score', 'NOUN'), ('that', 'ADP'), ('*T*-67', 'X'), ('tells', 'VERB'), ('you', 'PRON'), ('what', 'PRON'), ('the', 'DET'), ('characters', 'CONJ'), ('are', 'VERB'), ('thinking', 'VERB'), ('*T*-2', 'X'), ('and', 'CONJ'), ('feeling', 'VERB'), ('*T*-2', 'X'), ('far', 'ADV'), ('more', 'ADJ'), ('precisely', 'ADV'), ('than', 'ADP'), ('intertitles', 'CONJ'), (',', '.'), ('or', 'CONJ'), ('even', 'ADV'), ('words', 'NOUN'), (',', '.'), ('would', 'VERB'), ('*?*', 'X'), ('.', '.'), ('But', 'CONJ'), ('Apple', 'NOUN'), ('II', 'NOUN'), ('was', 'VERB'), ('a', 'DET'), ('major', 'ADJ'), ('advance', 'NOUN'), ('from', 'ADP'), ('Apple', 'NOUN'), ('I', 'PRON'), (',', '.'), ('which', 'DET'), ('*T*-1', 'X'), ('was', 'VERB'), ('built', 'VERB'), ('*-33', 'X'), ('in', 'ADP'), ('a', 'DET'), ('garage', 'CONJ'), ('by', 'ADP'), ('Stephen', 'NOUN'), ('Wozniak', 'CONJ'), ('and', 'CONJ'), ('Steven', 'NOUN'), ('Jobs', 'CONJ'), ('for', 'ADP'), ('hobbyists', 'CONJ'), ('such', 'ADJ'), ('as', 'ADP'), ('the', 'DET'), ('Homebrew', 'CONJ'), ('Computer', 'NOUN'), ('Club', 'CONJ'), ('.', '.'), ('``', '.'), ('The', 'DET'), ('U.S.', 'NOUN'), (',', '.'), ('with', 'ADP'), ('its', 'PRON'), ('regional', 'ADJ'), ('friends', 'NOUN'), (',', '.'), ('must', 'VERB'), ('play', 'VERB'), ('a', 'DET'), ('crucial', 'ADJ'), ('role', 'NOUN'), ('in', 'ADP'), ('*', 'X'), ('designing', 'CONJ'), ('its', 'PRON'), ('architecture', 'NOUN'), ('.', '.'), (\"''\", '.'), ('Says', 'VERB'), ('*ICH*-1', 'X'), ('Gayle', 'CONJ'), ('Key', 'NOUN'), (',', '.'), ('a', 'DET'), ('mathematics', 'NOUN'), ('teacher', 'NOUN'), (',', '.'), ('``', '.'), ('The', 'DET'), ('incentive', 'NOUN'), ('pay', 'VERB'), ('thing', 'NOUN'), ('has', 'VERB'), ('opened', 'VERB'), ('up', 'ADV'), ('a', 'DET'), ('can', 'VERB'), ('of', 'ADP'), ('worms', 'CONJ'), ('.', '.'), ('Bribe', 'CONJ'), ('by', 'ADP'), ('bribe', 'CONJ'), (',', '.'), ('Mr.', 'NOUN'), ('Sternberg', 'NOUN'), ('and', 'CONJ'), ('his', 'PRON'), ('co-author', 'NOUN'), (',', '.'), ('Matthew', 'CONJ'), ('C.', 'NOUN'), ('Harrison', 'CONJ'), ('Jr.', 'NOUN'), (',', '.'), ('lead', 'VERB'), ('us', 'PRON'), ('along', 'ADP'), ('the', 'DET'), ('path', 'CONJ'), ('0', 'X'), ('Wedtech', 'NOUN'), ('traveled', 'CONJ'), ('*T*-1', 'X'), (',', '.'), ('from', 'ADP'), ('its', 'PRON'), ('inception', 'CONJ'), ('as', 'ADP'), ('a', 'DET'), ('small', 'ADJ'), ('manufacturing', 'NOUN'), ('company', 'NOUN'), ('to', 'PRT'), ('the', 'DET'), ('status', 'NOUN'), ('of', 'ADP'), ('full-fledged', 'CONJ'), ('defense', 'NOUN'), ('contractor', 'NOUN'), (',', '.'), ('entrusted', 'VERB'), ('*', 'X'), ('with', 'ADP'), ('the', 'DET'), ('task', 'NOUN'), ('of', 'ADP'), ('*', 'X'), ('producing', 'VERB'), ('vital', 'CONJ'), ('equipment', 'NOUN'), ('for', 'ADP'), ('the', 'DET'), ('Army', 'NOUN'), ('and', 'CONJ'), ('Navy', 'NOUN'), ('.', '.'), ('Mr.', 'NOUN'), ('Stearn', 'NOUN'), (',', '.'), ('46', 'NUM'), ('years', 'NOUN'), ('old', 'ADJ'), (',', '.'), ('could', 'VERB'), (\"n't\", 'ADV'), ('be', 'VERB'), ('reached', 'VERB'), ('*-120', 'CONJ'), ('for', 'ADP'), ('comment', 'NOUN'), ('.', '.'), ('The', 'DET'), ('company', 'NOUN'), (\"'s\", 'PRT'), ('prepared', 'VERB'), ('statement', 'NOUN'), ('quoted', 'VERB'), ('him', 'PRON'), ('as', 'ADP'), ('*-1', 'X'), ('saying', 'VERB'), (',', '.'), ('``', '.'), ('The', 'DET'), ('CEO', 'CONJ'), ('succession', 'CONJ'), ('is', 'VERB'), ('well', 'ADV'), ('along', 'ADP'), ('and', 'CONJ'), ('I', 'PRON'), (\"'ve\", 'VERB'), ('decided', 'VERB'), ('for', 'ADP'), ('personal', 'ADJ'), ('reasons', 'NOUN'), ('*-2', 'X'), ('to', 'PRT'), ('take', 'VERB'), ('early', 'ADV'), ('retirement', 'NOUN'), ('.', '.'), (\"''\", '.'), ('Waertsilae', 'NOUN'), ('Marine', 'NOUN'), (\"'s\", 'PRT'), ('biggest', 'ADJ'), ('creditor', 'NOUN'), ('is', 'VERB'), ('Miami-based', 'ADJ'), ('Carnival', 'NOUN'), ('Cruise', 'NOUN'), ('Lines', 'NOUN'), ('Inc', 'NOUN'), ('.', '.'), ('The', 'DET'), ('results', 'NOUN'), ('reflected', 'VERB'), ('a', 'DET'), ('24', 'NUM'), ('%', 'NOUN'), ('gain', 'NOUN'), ('in', 'ADP'), ('income', 'NOUN'), ('from', 'ADP'), ('its', 'PRON'), ('finance', 'VERB'), ('businesses', 'NOUN'), (',', '.'), ('and', 'CONJ'), ('a', 'DET'), ('15', 'NUM'), ('%', 'NOUN'), ('slide', 'NOUN'), ('in', 'ADP'), ('income', 'NOUN'), ('from', 'ADP'), ('insurance', 'NOUN'), ('operations', 'NOUN'), ('.', '.'), ('Mr.', 'NOUN'), ('Bernstein', 'NOUN'), (',', '.'), ('who', 'PRON'), ('*T*-37', 'X'), ('succeeded', 'VERB'), ('Bennett', 'CONJ'), ('Cerf', 'CONJ'), (',', '.'), ('has', 'VERB'), ('been', 'VERB'), ('only', 'ADV'), ('the', 'DET'), ('second', 'ADJ'), ('president', 'NOUN'), ('of', 'ADP'), ('Random', 'NOUN'), ('House', 'NOUN'), ('since', 'ADP'), ('it', 'PRON'), ('was', 'VERB'), ('founded', 'VERB'), ('*-45', 'X'), ('in', 'ADP'), ('1925', 'CONJ'), ('.', '.'), ('In', 'ADP'), ('her', 'PRON'), ('wake', 'NOUN'), ('she', 'PRON'), ('left', 'VERB'), ('the', 'DET'), ('bitterness', 'CONJ'), ('and', 'CONJ'), ('anger', 'CONJ'), ('of', 'ADP'), ('a', 'DET'), ('principal', 'NOUN'), ('who', 'PRON'), ('*T*-81', 'X'), ('was', 'VERB'), ('her', 'PRON'), ('friend', 'NOUN'), ('and', 'CONJ'), ('now', 'ADV'), ('calls', 'VERB'), ('her', 'PRON'), ('a', 'DET'), ('betrayer', 'CONJ'), (';', '.'), ('of', 'ADP'), ('colleagues', 'NOUN'), ('who', 'PRON'), ('*T*-82', 'CONJ'), ('say', 'VERB'), ('0', 'X'), ('she', 'PRON'), ('brought', 'VERB'), ('them', 'PRON'), ('shame', 'NOUN'), (';', '.'), ('of', 'ADP'), ('students', 'NOUN'), ('and', 'CONJ'), ('parents', 'NOUN'), ('who', 'PRON'), ('*T*-83', 'CONJ'), ('defended', 'VERB'), ('her', 'PRON'), ('and', 'CONJ'), ('insist', 'VERB'), ('0', 'X'), ('she', 'PRON'), ('was', 'VERB'), ('treated', 'VERB'), ('*-1', 'X'), ('harshly', 'ADV'), (';', '.'), ('and', 'CONJ'), ('of', 'ADP'), ('school-district', 'CONJ'), ('officials', 'NOUN'), ('stunned', 'CONJ'), ('that', 'DET'), ('despite', 'ADP'), ('the', 'DET'), ('bald-faced', 'CONJ'), ('nature', 'NOUN'), ('of', 'ADP'), ('her', 'PRON'), ('actions', 'NOUN'), (',', '.'), ('she', 'PRON'), ('became', 'VERB'), ('something', 'NOUN'), ('of', 'ADP'), ('a', 'DET'), ('local', 'ADJ'), ('martyr', 'CONJ'), ('.', '.'), ('No', 'DET'), ('one', 'NUM'), ('is', 'VERB'), ('more', 'ADV'), ('unhappy', 'ADJ'), ('with', 'ADP'), ('program', 'NOUN'), ('trading', 'NOUN'), ('than', 'ADP'), ('the', 'DET'), ('nation', 'NOUN'), (\"'s\", 'PRT'), ('stockbrokers', 'NOUN'), ('.', '.'), ('I', 'PRON'), ('visited', 'CONJ'), ('a', 'DET'), ('lot', 'NOUN'), ('of', 'ADP'), ('major', 'ADJ'), ('Japanese', 'ADJ'), ('manufacturers', 'NOUN'), (',', '.'), ('but', 'CONJ'), ('I', 'PRON'), ('never', 'ADV'), ('felt', 'VERB'), ('0', 'X'), ('I', 'PRON'), ('would', 'VERB'), ('want', 'VERB'), ('*-1', 'X'), ('to', 'PRT'), ('be', 'VERB'), ('employed', 'VERB'), ('*-149', 'CONJ'), ('by', 'ADP'), ('any', 'DET'), ('of', 'ADP'), ('them', 'PRON'), ('.', '.'), ('In', 'ADP'), ('addition', 'NOUN'), (',', '.'), ('the', 'DET'), ('Cray-3', 'NOUN'), ('will', 'VERB'), ('contain', 'VERB'), ('16', 'NUM'), ('processors', 'NOUN'), ('--', '.'), ('twice', 'CONJ'), ('as', 'ADP'), ('many', 'ADJ'), ('as', 'ADP'), ('the', 'DET'), ('largest', 'ADJ'), ('current', 'ADJ'), ('supercomputer', 'NOUN'), ('.', '.'), ('USX', 'NOUN'), ('was', 'VERB'), ('cited', 'VERB'), ('*-1', 'X'), ('by', 'ADP'), ('OSHA', 'NOUN'), ('for', 'ADP'), ('several', 'ADJ'), ('health', 'NOUN'), ('and', 'CONJ'), ('safety', 'NOUN'), ('violations', 'NOUN'), ('at', 'ADP'), ('two', 'NUM'), ('Pennsylvania', 'NOUN'), ('plants', 'NOUN'), ('and', 'CONJ'), ('may', 'VERB'), ('face', 'VERB'), ('a', 'DET'), ('record', 'NOUN'), ('fine', 'NOUN'), ('of', 'ADP'), ('$', '.'), ('7.3', 'NUM'), ('million', 'NUM'), ('*U*', 'X'), ('.', '.'), ('The', 'DET'), ('word', 'NOUN'), ('dissemination', 'NOUN'), (',', '.'), ('it', 'PRON'), ('decided', 'VERB'), ('0', 'X'), ('*T*-1', 'X'), (',', '.'), ('referred', 'VERB'), ('only', 'ADV'), ('to', 'PRT'), ('itself', 'PRON'), ('.', '.'), ('Mr.', 'NOUN'), ('Leinonen', 'NOUN'), ('said', 'VERB'), ('0', 'X'), ('he', 'PRON'), ('expects', 'VERB'), ('Ford', 'NOUN'), ('to', 'PRT'), ('meet', 'VERB'), ('the', 'DET'), ('deadline', 'NOUN'), ('easily', 'ADV'), ('.', '.'), ('This', 'DET'), ('time', 'NOUN'), (',', '.'), ('it', 'PRON'), ('was', 'VERB'), ('for', 'ADP'), ('dinner', 'NOUN'), ('and', 'CONJ'), ('dancing', 'CONJ'), ('--', '.'), ('a', 'DET'), ('block', 'NOUN'), ('away', 'ADV'), ('.', '.'), ('It', 'PRON'), (\"'s\", 'VERB'), ('imaginative', 'CONJ'), ('and', 'CONJ'), ('often', 'ADV'), ('funny', 'ADJ'), ('.', '.'), ('John', 'NOUN'), ('Rowe', 'NOUN'), (',', '.'), ('president', 'NOUN'), ('*RNR*-1', 'X'), ('and', 'CONJ'), ('chief', 'NOUN'), ('executive', 'NOUN'), ('officer', 'NOUN'), ('*RNR*-1', 'X'), ('of', 'ADP'), ('New', 'NOUN'), ('England', 'NOUN'), ('Electric', 'NOUN'), (',', '.'), ('said', 'VERB'), ('0', 'X'), ('the', 'DET'), ('company', 'NOUN'), (\"'s\", 'PRT'), ('return', 'NOUN'), ('on', 'ADP'), ('equity', 'NOUN'), ('could', 'VERB'), ('suffer', 'VERB'), ('if', 'ADP'), ('it', 'PRON'), ('made', 'VERB'), ('a', 'DET'), ('higher', 'ADJ'), ('bid', 'NOUN'), ('and', 'CONJ'), ('its', 'PRON'), ('forecasts', 'NOUN'), ('related', 'VERB'), ('*', 'X'), ('to', 'PRT'), ('PS', 'NOUN'), ('of', 'ADP'), ('New', 'NOUN'), ('Hampshire', 'NOUN'), ('--', '.'), ('such', 'ADJ'), ('as', 'ADP'), ('growth', 'NOUN'), ('in', 'ADP'), ('electricity', 'NOUN'), ('demand', 'NOUN'), ('and', 'CONJ'), ('improved', 'VERB'), ('operating', 'VERB'), ('efficiencies', 'CONJ'), ('--', '.'), ('did', 'VERB'), (\"n't\", 'ADV'), ('come', 'VERB'), ('true', 'ADJ'), ('.', '.'), ('``', '.'), ('We', 'PRON'), ('play', 'VERB'), ('*-1', 'X'), ('to', 'PRT'), ('win', 'VERB'), ('.', '.'), ('For', 'ADP'), ('fiscal', 'ADJ'), ('1989', 'NUM'), (\"'s\", 'PRT'), ('fourth', 'ADJ'), ('quarter', 'NOUN'), (',', '.'), ('Rockwell', 'NOUN'), (\"'s\", 'PRT'), ('net', 'ADJ'), ('income', 'NOUN'), ('totaled', 'VERB'), ('$', '.'), ('126.1', 'CONJ'), ('million', 'NUM'), ('*U*', 'X'), (',', '.'), ('or', 'CONJ'), ('50', 'NUM'), ('cents', 'NOUN'), ('a', 'DET'), ('share', 'NOUN'), ('.', '.'), ('Mrs.', 'NOUN'), ('Gorman', 'NOUN'), ('took', 'VERB'), ('advantage', 'NOUN'), ('of', 'ADP'), ('low', 'ADJ'), ('prices', 'NOUN'), ('after', 'ADP'), ('the', 'DET'), ('1987', 'NUM'), ('crash', 'NOUN'), ('*-1', 'X'), ('to', 'PRT'), ('buy', 'VERB'), ('stocks', 'NOUN'), ('and', 'CONJ'), ('has', 'VERB'), ('hunted', 'CONJ'), ('for', 'ADP'), ('other', 'ADJ'), ('bargains', 'CONJ'), ('since', 'ADP'), ('the', 'DET'), ('Oct.', 'NOUN'), ('13', 'NUM'), ('plunge', 'NOUN'), ('.', '.'), ('It', 'PRON'), ('said', 'VERB'), ('0', 'X'), ('that', 'ADP'), ('volume', 'NOUN'), ('makes', 'VERB'), ('it', 'PRON'), ('the', 'DET'), ('largest', 'ADJ'), ('supplier', 'CONJ'), ('of', 'ADP'), ('original', 'ADJ'), ('TV', 'NOUN'), ('programming', 'NOUN'), ('in', 'ADP'), ('Europe', 'NOUN'), ('.', '.'), ('Strong', 'CONJ'), ('dividend', 'NOUN'), ('growth', 'NOUN'), (',', '.'), ('he', 'PRON'), ('says', 'VERB'), ('0', 'X'), ('*T*-1', 'X'), (',', '.'), ('is', 'VERB'), ('``', '.'), ('the', 'DET'), ('black', 'ADJ'), ('widow', 'CONJ'), ('of', 'ADP'), ('valuation', 'NOUN'), (\"''\", '.'), ('--', '.'), ('a', 'DET'), ('reference', 'NOUN'), ('to', 'PRT'), ('the', 'DET'), ('female', 'ADJ'), ('spiders', 'CONJ'), ('that', 'DET'), ('*T*-231', 'CONJ'), ('attract', 'VERB'), ('males', 'CONJ'), ('and', 'CONJ'), ('then', 'ADV'), ('kill', 'VERB'), ('them', 'PRON'), ('after', 'ADP'), ('mating', 'CONJ'), ('.', '.'), ('A', 'DET'), ('reinstatement', 'NOUN'), ('of', 'ADP'), ('the', 'DET'), ('uptick', 'NOUN'), ('rule', 'NOUN'), ('for', 'ADP'), ('program', 'NOUN'), ('traders', 'NOUN'), ('would', 'VERB'), ('slow', 'VERB'), ('their', 'PRON'), ('activity', 'NOUN'), ('considerably', 'ADV'), ('.', '.'), ('Plans', 'NOUN'), ('*', 'X'), ('to', 'PRT'), ('do', 'VERB'), ('this', 'DET'), ('are', 'VERB'), ('due', 'ADJ'), ('*', 'X'), ('to', 'PRT'), ('be', 'VERB'), ('filed', 'VERB'), ('*-1', 'X'), ('in', 'ADP'), ('a', 'DET'), ('week', 'NOUN'), ('or', 'CONJ'), ('so', 'ADV'), ('.', '.'), ('The', 'DET'), ('company', 'NOUN'), ('noted', 'VERB'), ('that', 'ADP'), ('it', 'PRON'), ('has', 'VERB'), ('reduced', 'VERB'), ('debt', 'NOUN'), ('by', 'ADP'), ('$', '.'), ('1.6', 'NUM'), ('billion', 'NUM'), ('*U*', 'X'), ('since', 'ADP'), ('the', 'DET'), ('end', 'NOUN'), ('of', 'ADP'), ('1988', 'NUM'), ('and', 'CONJ'), ('bought', 'VERB'), ('back', 'ADV'), ('about', 'ADP'), ('15.5', 'CONJ'), ('million', 'NUM'), ('shares', 'NOUN'), ('of', 'ADP'), ('common', 'ADJ'), ('stock', 'NOUN'), ('since', 'ADP'), ('the', 'DET'), ('fourth', 'ADJ'), ('quarter', 'NOUN'), ('of', 'ADP'), ('1987', 'NUM'), ('.', '.'), ('University', 'NOUN'), ('Patents', 'NOUN'), ('Inc.', 'NOUN'), (',', '.'), ('based', 'VERB'), ('*', 'X'), ('in', 'ADP'), ('Westport', 'CONJ'), (',', '.'), ('Conn.', 'NOUN'), (',', '.'), ('said', 'VERB'), ('0', 'X'), ('it', 'PRON'), ('seeks', 'VERB'), ('Johnson', 'NOUN'), ('&', 'CONJ'), ('Johnson', 'NOUN'), (\"'s\", 'PRT'), ('profits', 'NOUN'), ('from', 'ADP'), ('sales', 'NOUN'), ('of', 'ADP'), ('Retin-A', 'NOUN'), (',', '.'), ('estimated', 'VERB'), ('*', 'X'), ('at', 'ADP'), ('$', '.'), ('50', 'NUM'), ('million', 'NUM'), ('*U*', 'X'), (',', '.'), ('a', 'DET'), ('similar', 'ADJ'), ('amount', 'NOUN'), ('of', 'ADP'), ('punitive', 'CONJ'), ('damages', 'NOUN'), ('and', 'CONJ'), ('the', 'DET'), ('right', 'NOUN'), ('*', 'X'), ('to', 'PRT'), ('license', 'NOUN'), ('Retin-A', 'NOUN'), ('elsewhere', 'ADV'), ('.', '.'), ('Factory', 'NOUN'), ('payrolls', 'NOUN'), ('fell', 'VERB'), ('in', 'ADP'), ('September', 'NOUN'), ('.', '.'), ('The', 'DET'), ('12', 'NUM'), ('%', 'NOUN'), ('notes', 'NOUN'), ('due', 'ADJ'), ('1995', 'CONJ'), ('fell', 'VERB'), ('9\\\\/32', 'CONJ'), ('to', 'PRT'), ('103', 'CONJ'), ('3\\\\/8', 'NUM'), ('*-1', 'X'), ('to', 'PRT'), ('yield', 'VERB'), ('11.10', 'CONJ'), ('%', 'NOUN'), ('.', '.'), ('Note', 'CONJ'), (':', '.'), ('All', 'DET'), ('per-share', 'CONJ'), ('figures', 'NOUN'), ('are', 'VERB'), ('fully', 'ADV'), ('diluted', 'VERB'), ('.', '.'), ('Sumitomo', 'CONJ'), ('Metal', 'CONJ'), ('Mining', 'NOUN'), ('fell', 'VERB'), ('five', 'NUM'), ('yen', 'NOUN'), ('to', 'PRT'), ('692', 'CONJ'), ('and', 'CONJ'), ('Nippon', 'NOUN'), ('Mining', 'NOUN'), ('added', 'VERB'), ('15', 'NUM'), ('to', 'PRT'), ('960', 'CONJ'), ('.', '.'), ('Only', 'ADV'), ('26.8', 'CONJ'), ('%', 'NOUN'), ('in', 'ADP'), ('October', 'NOUN'), (',', '.'), ('compared', 'VERB'), ('with', 'ADP'), ('28.5', 'CONJ'), ('%', 'NOUN'), ('in', 'ADP'), ('September', 'NOUN'), ('and', 'CONJ'), ('26.8', 'CONJ'), ('%', 'NOUN'), ('in', 'ADP'), ('October', 'NOUN'), ('1988', 'NUM'), (',', '.'), ('said', 'VERB'), ('0', 'X'), ('income', 'NOUN'), ('would', 'VERB'), ('increase', 'VERB'), ('.', '.'), ('Leo', 'NOUN'), ('Melamed', 'CONJ'), (',', '.'), ('Merc', 'NOUN'), ('executive', 'NOUN'), ('committee', 'NOUN'), ('chairman', 'NOUN'), (',', '.'), ('said', 'VERB'), ('that', 'ADP'), ('the', 'DET'), ('12-point', 'ADJ'), ('limit', 'NOUN'), ('appeared', 'VERB'), ('*-1', 'X'), ('to', 'PRT'), ('lessen', 'CONJ'), ('the', 'DET'), ('selling', 'NOUN'), ('panic', 'VERB'), ('Oct.', 'NOUN'), ('13', 'NUM'), ('.', '.'), ('At', 'ADP'), ('the', 'DET'), ('end', 'NOUN'), ('of', 'ADP'), ('World', 'NOUN'), ('War', 'NOUN'), ('II', 'NOUN'), (',', '.'), ('Germany', 'NOUN'), ('surrendered', 'VERB'), ('before', 'ADP'), ('Japan', 'NOUN'), ('...', '.'), ('.', '.'), ('A.L.', 'NOUN'), ('Williams', 'NOUN'), ('Corp.', 'NOUN'), ('was', 'VERB'), ('merged', 'VERB'), ('*-1', 'X'), ('into', 'ADP'), ('Primerica', 'NOUN'), ('Corp.', 'NOUN'), (',', '.'), ('New', 'NOUN'), ('York', 'NOUN'), (',', '.'), ('after', 'ADP'), ('a', 'DET'), ('special', 'ADJ'), ('meeting', 'NOUN'), ('of', 'ADP'), ('Williams', 'NOUN'), ('shareholders', 'NOUN'), ('cleared', 'CONJ'), ('the', 'DET'), ('transaction', 'NOUN'), (',', '.'), ('the', 'DET'), ('companies', 'NOUN'), ('said', 'VERB'), ('0', 'X'), ('*T*-2', 'X'), ('.', '.'), ('``', '.'), ('If', 'ADP'), ('you', 'PRON'), ('look', 'VERB'), ('at', 'ADP'), ('the', 'DET'), ('third', 'ADJ'), ('quarter', 'NOUN'), ('as', 'ADP'), ('*', 'X'), ('posting', 'VERB'), ('roughly', 'ADV'), ('2.5', 'NUM'), ('%', 'NOUN'), ('growth', 'NOUN'), (',', '.'), ('I', 'PRON'), ('do', 'VERB'), ('see', 'VERB'), ('some', 'DET'), ('slowing', 'NOUN'), ('in', 'ADP'), ('the', 'DET'), ('fourth', 'ADJ'), ('quarter', 'NOUN'), (',', '.'), (\"''\", '.'), ('agrees', 'VERB'), ('*T*-1', 'X'), ('Kansas', 'NOUN'), ('City', 'NOUN'), ('Fed', 'NOUN'), ('President', 'NOUN'), ('Roger', 'NOUN'), ('Guffey', 'NOUN'), ('.', '.'), ('Each', 'DET'), ('new', 'ADJ'), ('trading', 'NOUN'), ('roadblock', 'CONJ'), ('is', 'VERB'), ('likely', 'ADJ'), ('*-1', 'X'), ('to', 'PRT'), ('be', 'VERB'), ('beaten', 'VERB'), ('*-82', 'CONJ'), ('by', 'ADP'), ('institutions', 'NOUN'), ('seeking', 'VERB'), ('better', 'ADV'), ('ways', 'NOUN'), ('0', 'X'), ('*', 'X'), ('to', 'PRT'), ('serve', 'VERB'), ('their', 'PRON'), ('high-volume', 'CONJ'), ('clients', 'NOUN'), ('*T*-2', 'X'), (',', '.'), ('here', 'ADV'), ('or', 'CONJ'), ('overseas', 'ADJ'), ('.', '.'), ('He', 'PRON'), ('said', 'VERB'), ('0', 'X'), ('Equitable', 'NOUN'), ('hopes', 'VERB'), ('*-1', 'X'), ('to', 'PRT'), ('eventually', 'ADV'), ('reduce', 'VERB'), ('its', 'PRON'), ('stake', 'NOUN'), ('in', 'ADP'), ('Younkers', 'NOUN'), ('to', 'PRT'), ('less', 'ADJ'), ('than', 'ADP'), ('50', 'NUM'), ('%', 'NOUN'), ('.', '.'), ('But', 'CONJ'), ('he', 'PRON'), ('is', 'VERB'), ('best', 'ADJ'), ('known', 'ADJ'), ('*-3', 'X'), ('in', 'ADP'), ('the', 'DET'), ('auto', 'NOUN'), ('industry', 'NOUN'), ('as', 'ADP'), ('the', 'DET'), ('creator', 'CONJ'), ('of', 'ADP'), ('a', 'DET'), ('team', 'NOUN'), ('car-development', 'CONJ'), ('approach', 'NOUN'), ('that', 'ADP'), ('*T*-1', 'X'), ('produced', 'VERB'), ('the', 'DET'), ('two', 'NUM'), ('midsized', 'ADJ'), ('cars', 'NOUN'), ('that', 'ADP'), ('*T*-2', 'X'), ('were', 'VERB'), ('instrumental', 'ADJ'), ('in', 'ADP'), ('*', 'X'), ('helping', 'VERB'), ('the', 'DET'), ('No.', 'NOUN'), ('2', 'NUM'), ('auto', 'NOUN'), ('maker', 'NOUN'), ('record', 'NOUN'), ('profits', 'NOUN'), ('in', 'ADP'), ('recent', 'ADJ'), ('years', 'NOUN'), ('and', 'CONJ'), ('in', 'ADP'), ('*', 'X'), ('enabling', 'VERB'), ('the', 'DET'), ('company', 'NOUN'), (\"'s\", 'PRT'), ('Ford', 'NOUN'), ('division', 'NOUN'), ('to', 'PRT'), ('eclipse', 'CONJ'), ('General', 'NOUN'), ('Motors', 'NOUN'), ('Corp.', 'NOUN'), (\"'s\", 'PRT'), ('Chevrolet', 'NOUN'), ('division', 'NOUN'), ('as', 'ADP'), ('the', 'DET'), ('top-selling', 'CONJ'), ('nameplate', 'NOUN'), ('in', 'ADP'), ('the', 'DET'), ('U.S.', 'NOUN'), ('.', '.'), ('He', 'PRON'), ('was', 'VERB'), ('previously', 'ADV'), ('president', 'NOUN'), ('of', 'ADP'), ('the', 'DET'), ('company', 'NOUN'), (\"'s\", 'PRT'), ('Eastern', 'NOUN'), ('Edison', 'NOUN'), ('Co.', 'NOUN'), ('unit', 'NOUN'), ('.', '.'), ('Consolidated', 'NOUN'), ('Rail', 'CONJ'), ('Corp.', 'NOUN'), ('said', 'VERB'), ('0', 'X'), ('it', 'PRON'), ('would', 'VERB'), ('spend', 'VERB'), ('more', 'ADV'), ('than', 'ADP'), ('$', '.'), ('30', 'NUM'), ('million', 'NUM'), ('*U*', 'X'), ('on', 'ADP'), ('1,000', 'NUM'), ('enclosed', 'CONJ'), ('railcars', 'NOUN'), ('for', 'ADP'), ('*', 'X'), ('transporting', 'CONJ'), ('autos', 'CONJ'), ('.', '.'), ('The', 'DET'), ('show', 'NOUN'), ('did', 'VERB'), (\"n't\", 'ADV'), ('give', 'VERB'), ('the', 'DET'), ('particulars', 'CONJ'), ('of', 'ADP'), ('Mrs.', 'NOUN'), ('Yeargin', 'NOUN'), (\"'s\", 'PRT'), ('offense', 'CONJ'), (',', '.'), ('*-1', 'X'), ('saying', 'VERB'), ('only', 'ADV'), ('that', 'ADP'), ('she', 'PRON'), ('helped', 'VERB'), ('students', 'NOUN'), ('do', 'VERB'), ('better', 'ADV'), ('on', 'ADP'), ('the', 'DET'), ('test', 'NOUN'), ('.', '.'), ('As', 'ADP'), ('an', 'DET'), ('indicator', 'NOUN'), ('of', 'ADP'), ('the', 'DET'), ('tight', 'ADJ'), ('grain', 'NOUN'), ('supply', 'NOUN'), ('situation', 'NOUN'), ('in', 'ADP'), ('the', 'DET'), ('U.S.', 'NOUN'), (',', '.'), ('market', 'NOUN'), ('analysts', 'NOUN'), ('said', 'VERB'), ('that', 'ADP'), ('late', 'ADJ'), ('Tuesday', 'NOUN'), ('the', 'DET'), ('Chinese', 'ADJ'), ('government', 'NOUN'), (',', '.'), ('which', 'DET'), ('*T*-1', 'X'), ('often', 'ADV'), ('buys', 'CONJ'), ('U.S.', 'NOUN'), ('grains', 'CONJ'), ('in', 'ADP'), ('quantity', 'NOUN'), (',', '.'), ('turned', 'VERB'), ('instead', 'ADV'), ('to', 'PRT'), ('Britain', 'NOUN'), ('*-2', 'X'), ('to', 'PRT'), ('buy', 'VERB'), ('500,000', 'NUM'), ('metric', 'ADJ'), ('tons', 'NOUN'), ('of', 'ADP'), ('wheat', 'NOUN'), ('.', '.'), ('Mr.', 'NOUN'), ('Ross', 'NOUN'), ('said', 'VERB'), ('0', 'X'), ('he', 'PRON'), ('met', 'VERB'), ('with', 'ADP'), ('officials', 'NOUN'), ('of', 'ADP'), ('the', 'DET'), ('IRS', 'NOUN'), ('and', 'CONJ'), ('the', 'DET'), ('Justice', 'NOUN'), ('Department', 'NOUN'), (',', '.'), ('which', 'DET'), ('*T*-133', 'CONJ'), ('would', 'VERB'), ('bring', 'VERB'), ('any', 'DET'), ('enforcement', 'NOUN'), ('actions', 'NOUN'), ('against', 'ADP'), ('taxpayers', 'NOUN'), (',', '.'), ('*-1', 'X'), ('to', 'PRT'), ('discuss', 'VERB'), ('the', 'DET'), ('issue', 'NOUN'), ('last', 'ADJ'), ('May', 'NOUN'), ('.', '.'), ('The', 'DET'), ('department', 'NOUN'), (\"'s\", 'PRT'), ('Occupational', 'NOUN'), ('Safety', 'NOUN'), ('and', 'CONJ'), ('Health', 'NOUN'), ('Administration', 'NOUN'), ('proposed', 'VERB'), ('fines', 'NOUN'), ('of', 'ADP'), ('$', '.'), ('6.1', 'NUM'), ('million', 'NUM'), ('*U*', 'X'), ('for', 'ADP'), ('alleged', 'ADJ'), ('violations', 'NOUN'), ('at', 'ADP'), ('the', 'DET'), ('company', 'NOUN'), (\"'s\", 'PRT'), ('Fairless', 'NOUN'), ('Hills', 'NOUN'), (',', '.'), ('Pa.', 'NOUN'), (',', '.'), ('steel', 'NOUN'), ('mill', 'CONJ'), (';', '.'), ('that', 'DET'), ('was', 'VERB'), ('a', 'DET'), ('record', 'NOUN'), ('for', 'ADP'), ('proposed', 'VERB'), ('penalties', 'NOUN'), ('at', 'ADP'), ('any', 'DET'), ('single', 'ADJ'), ('facility', 'NOUN'), ('.', '.'), ('Mrs.', 'NOUN'), ('Ward', 'NOUN'), ('resolved', 'CONJ'), ('*-1', 'X'), ('to', 'PRT'), ('clean', 'CONJ'), ('out', 'ADP'), ('``', '.'), ('deadwood', 'CONJ'), (\"''\", '.'), ('in', 'ADP'), ('the', 'DET'), ('school', 'NOUN'), (\"'s\", 'PRT'), ('faculty', 'NOUN'), ('and', 'CONJ'), ('restore', 'VERB'), ('safety', 'NOUN'), (',', '.'), ('and', 'CONJ'), ('she', 'PRON'), ('also', 'ADV'), ('had', 'VERB'), ('some', 'DET'), ('new', 'ADJ'), ('factors', 'NOUN'), ('working', 'VERB'), ('in', 'ADP'), ('her', 'PRON'), ('behalf', 'NOUN'), ('.', '.'), ('So', 'ADV'), ('far', 'ADV'), (',', '.'), ('Wall', 'NOUN'), ('Street', 'NOUN'), (\"'s\", 'PRT'), ('Old', 'NOUN'), ('Guard', 'NOUN'), ('seems', 'VERB'), ('*-1', 'X'), ('to', 'PRT'), ('be', 'VERB'), ('winning', 'VERB'), ('the', 'DET'), ('program-trading', 'ADJ'), ('battle', 'NOUN'), (',', '.'), ('*-2', 'X'), ('successfully', 'CONJ'), ('mobilizing', 'CONJ'), ('public', 'ADJ'), ('and', 'CONJ'), ('congressional', 'ADJ'), ('opinion', 'NOUN'), ('*-3', 'X'), ('to', 'PRT'), ('bludgeon', 'CONJ'), ('their', 'PRON'), ('tormentors', 'CONJ'), ('.', '.'), ('But', 'CONJ'), ('some', 'DET'), ('of', 'ADP'), ('the', 'DET'), ('TV', 'NOUN'), ('stations', 'NOUN'), ('that', 'ADP'), ('*T*-149', 'CONJ'), ('bought', 'VERB'), ('``', '.'), ('Cosby', 'NOUN'), (\"''\", '.'), ('reruns', 'NOUN'), ('for', 'ADP'), ('record', 'NOUN'), ('prices', 'NOUN'), ('two', 'NUM'), ('years', 'NOUN'), ('ago', 'ADP'), ('are', 'VERB'), (\"n't\", 'ADV'), ('laughing', 'VERB'), ('much', 'ADV'), ('these', 'DET'), ('days', 'NOUN'), ('.', '.'), ('``', '.'), ('It', 'PRON'), ('can', 'VERB'), ('be', 'VERB'), ('said', 'VERB'), ('that', 'ADP'), ('the', 'DET'), ('trend', 'NOUN'), ('of', 'ADP'), ('financial', 'ADJ'), ('improvement', 'NOUN'), ('has', 'VERB'), ('been', 'VERB'), ('firmly', 'CONJ'), ('set', 'VERB'), (',', '.'), (\"''\", '.'), ('he', 'PRON'), ('added', 'VERB'), ('*T*-1', 'X'), ('.', '.'), ('They', 'PRON'), ('cite', 'VERB'), ('a', 'DET'), ('lack', 'NOUN'), ('of', 'ADP'), ('``', '.'), ('imbalances', 'NOUN'), (\"''\", '.'), ('that', 'DET'), ('*T*-47', 'X'), ('provide', 'VERB'), ('early', 'ADV'), ('warning', 'VERB'), ('signals', 'VERB'), ('of', 'ADP'), ('a', 'DET'), ('downturn', 'NOUN'), ('.', '.'), ('Put', 'VERB'), ('option', 'NOUN'), ('March', 'NOUN'), ('31', 'NUM'), (',', '.'), ('1992', 'NUM'), (',', '.'), ('at', 'ADP'), ('a', 'DET'), ('fixed', 'VERB'), ('107', 'NUM'), ('7\\\\/8', 'NUM'), ('*', 'X'), ('to', 'PRT'), ('yield', 'VERB'), ('3.43', 'CONJ'), ('%', 'NOUN'), ('.', '.'), ('About', 'ADP'), ('11.6', 'CONJ'), ('%', 'NOUN'), ('of', 'ADP'), ('all', 'DET'), ('program', 'NOUN'), ('trading', 'NOUN'), ('by', 'ADP'), ('New', 'NOUN'), ('York', 'NOUN'), ('Stock', 'NOUN'), ('Exchange', 'NOUN'), ('firms', 'NOUN'), ('in', 'ADP'), ('September', 'NOUN'), ('took', 'VERB'), ('place', 'NOUN'), ('in', 'ADP'), ('foreign', 'ADJ'), ('markets', 'NOUN'), (',', '.'), ('according', 'VERB'), ('to', 'PRT'), ('Big', 'NOUN'), ('Board', 'NOUN'), ('data', 'NOUN'), ('.', '.'), ('Mr.', 'NOUN'), ('Ackerman', 'NOUN'), ('already', 'ADV'), ('is', 'VERB'), ('seeking', 'VERB'), ('*-1', 'X'), ('to', 'PRT'), ('oust', 'CONJ'), ('Mr.', 'NOUN'), ('Edelman', 'NOUN'), ('as', 'ADP'), ('chairman', 'NOUN'), ('of', 'ADP'), ('Datapoint', 'CONJ'), ('Corp.', 'NOUN'), (',', '.'), ('an', 'DET'), ('Intelogic', 'NOUN'), ('affiliate', 'NOUN'), ('.', '.'), ('In', 'ADP'), ('a', 'DET'), ('second', 'ADJ'), ('area', 'NOUN'), ('of', 'ADP'), ('common', 'ADJ'), ('concern', 'NOUN'), (',', '.'), ('the', 'DET'), ('world', 'NOUN'), ('environment', 'NOUN'), (',', '.'), ('an', 'DET'), ('additional', 'ADJ'), ('$', '.'), ('15', 'NUM'), ('million', 'NUM'), ('*U*', 'X'), ('*ICH*-1', 'X'), ('will', 'VERB'), ('be', 'VERB'), ('provided', 'VERB'), ('*-7', 'X'), ('in', 'ADP'), ('development', 'NOUN'), ('assistance', 'NOUN'), ('0', 'X'), ('*T*-2', 'X'), ('to', 'PRT'), ('fund', 'NOUN'), ('a', 'DET'), ('series', 'NOUN'), ('of', 'ADP'), ('initiatives', 'NOUN'), (',', '.'), ('related', 'VERB'), ('both', 'DET'), ('to', 'PRT'), ('global', 'ADJ'), ('warming', 'CONJ'), ('and', 'CONJ'), ('the', 'DET'), ('plight', 'NOUN'), ('of', 'ADP'), ('the', 'DET'), ('African', 'ADJ'), ('elephant', 'CONJ'), ('.', '.'), ('Silver', 'NOUN'), ('is', 'VERB'), ('also', 'ADV'), ('under', 'ADP'), ('pressure', 'NOUN'), ('of', 'ADP'), ('``', '.'), ('extremely', 'ADV'), ('high', 'ADJ'), (\"''\", '.'), ('inventories', 'NOUN'), ('in', 'ADP'), ('warehouses', 'CONJ'), ('of', 'ADP'), ('the', 'DET'), ('Commodity', 'NOUN'), ('Exchange', 'NOUN'), (',', '.'), ('he', 'PRON'), ('said', 'VERB'), ('0', 'X'), ('*T*-1', 'X'), ('.', '.'), ('``', '.'), ('It', 'PRON'), ('*EXP*-1', 'X'), (\"'s\", 'PRT'), ('hard', 'ADJ'), ('*', 'X'), ('to', 'PRT'), ('explain', 'VERB'), ('to', 'PRT'), ('a', 'DET'), ('17-year-old', 'CONJ'), ('why', 'ADV'), ('someone', 'NOUN'), ('0', 'X'), ('they', 'PRON'), ('like', 'VERB'), ('*T*-2', 'X'), ('had', 'VERB'), ('*-3', 'X'), ('to', 'PRT'), ('go', 'VERB'), (',', '.'), (\"''\", '.'), ('says', 'VERB'), ('*T*-4', 'X'), ('Mrs.', 'NOUN'), ('Ward', 'NOUN'), ('.', '.'), ('Midwesco', 'CONJ'), ('Filter', 'CONJ'), ('Resources', 'NOUN'), ('Inc.', 'NOUN'), (',', '.'), ('initial', 'ADJ'), ('offering', 'NOUN'), ('of', 'ADP'), ('830,000', 'CONJ'), ('common', 'ADJ'), ('shares', 'NOUN'), ('*PPA*-3', 'X'), (',', '.'), ('0', 'X'), ('*T*-2', 'X'), ('to', 'PRT'), ('be', 'VERB'), ('offered', 'VERB'), ('*-1', 'X'), ('by', 'ADP'), ('the', 'DET'), ('company', 'NOUN'), (',', '.'), ('via', 'ADP'), ('Chicago', 'NOUN'), ('Corp', 'NOUN'), ('.', '.'), ('The', 'DET'), ('judge', 'NOUN'), ('declined', 'VERB'), ('*-1', 'X'), ('to', 'PRT'), ('discuss', 'VERB'), ('his', 'PRON'), ('salary', 'NOUN'), ('in', 'ADP'), ('detail', 'CONJ'), (',', '.'), ('but', 'CONJ'), ('said', 'VERB'), (':', '.'), ('``', '.'), ('I', 'PRON'), (\"'m\", 'VERB'), ('going', 'VERB'), ('*-2', 'X'), ('to', 'PRT'), ('be', 'VERB'), ('a', 'DET'), ('high-priced', 'ADJ'), ('lawyer', 'NOUN'), ('.', '.'), (\"''\", '.'), ('According', 'VERB'), ('to', 'PRT'), ('Upjohn', 'NOUN'), (\"'s\", 'PRT'), ('estimates', 'NOUN'), (',', '.'), ('only', 'ADV'), ('50', 'NUM'), ('%', 'NOUN'), ('to', 'PRT'), ('60', 'NUM'), ('%', 'NOUN'), ('*U*', 'X'), ('of', 'ADP'), ('the', 'DET'), ('1,100', 'NUM'), ('eligible', 'ADJ'), ('employees', 'NOUN'), ('will', 'VERB'), ('take', 'VERB'), ('advantage', 'NOUN'), ('of', 'ADP'), ('the', 'DET'), ('plan', 'NOUN'), ('.', '.'), ('Giant', 'NOUN'), ('Group', 'NOUN'), ('is', 'VERB'), ('led', 'VERB'), ('*-96', 'CONJ'), ('by', 'ADP'), ('three', 'NUM'), ('Rally', 'NOUN'), (\"'s\", 'PRT'), ('directors', 'NOUN'), (',', '.'), ('Burt', 'CONJ'), ('Sugarman', 'CONJ'), (',', '.'), ('James', 'NOUN'), ('M.', 'NOUN'), ('Trotter', 'CONJ'), ('III', 'NOUN'), ('and', 'CONJ'), ('William', 'NOUN'), ('E.', 'NOUN'), ('Trotter', 'CONJ'), ('II', 'NOUN'), (',', '.'), ('who', 'PRON'), ('last', 'ADJ'), ('month', 'NOUN'), ('*T*-1', 'X'), ('indicated', 'VERB'), ('0', 'X'), ('they', 'PRON'), ('hold', 'VERB'), ('a', 'DET'), ('42.5', 'CONJ'), ('%', 'NOUN'), ('stake', 'NOUN'), ('in', 'ADP'), ('Rally', 'NOUN'), (\"'s\", 'PRT'), ('and', 'CONJ'), ('plan', 'NOUN'), ('*-2', 'X'), ('to', 'PRT'), ('seek', 'VERB'), ('a', 'DET'), ('majority', 'NOUN'), ('of', 'ADP'), ('seats', 'NOUN'), ('on', 'ADP'), ('Rally', 'NOUN'), (\"'s\", 'PRT'), ('nine-member', 'CONJ'), ('board', 'NOUN'), ('.', '.'), ('9.82', 'CONJ'), ('%', 'NOUN'), (',', '.'), ('standard', 'ADJ'), ('conventional', 'ADJ'), ('fixed-rate', 'ADJ'), ('mortgages', 'NOUN'), (';', '.'), ('8.25', 'NUM'), ('%', 'NOUN'), (',', '.'), ('2', 'NUM'), ('%', 'NOUN'), ('rate', 'NOUN'), ('capped', 'VERB'), ('one-year', 'ADJ'), ('adjustable', 'ADJ'), ('rate', 'NOUN'), ('mortgages', 'NOUN'), ('.', '.'), ('By', 'ADP'), ('comparison', 'NOUN'), (',', '.'), ('for', 'ADP'), ('the', 'DET'), ('first', 'ADJ'), ('nine', 'NUM'), ('months', 'NOUN'), (',', '.'), ('Xerox', 'NOUN'), ('earned', 'VERB'), ('$', '.'), ('492', 'CONJ'), ('million', 'NUM'), ('*U*', 'X'), (',', '.'), ('or', 'CONJ'), ('$', '.'), ('4.55', 'CONJ'), ('*U*', 'X'), ('a', 'DET'), ('share', 'NOUN'), (',', '.'), ('on', 'ADP'), ('revenue', 'NOUN'), ('of', 'ADP'), ('$', '.'), ('12.97', 'CONJ'), ('billion', 'NUM'), ('*U*', 'X'), ('.', '.'), ('Far', 'CONJ'), ('above', 'ADP'), ('in', 'ADP'), ('the', 'DET'), ('belfry', 'NOUN'), (',', '.'), ('the', 'DET'), ('huge', 'ADJ'), ('bronze', 'CONJ'), ('bells', 'NOUN'), (',', '.'), ('mounted', 'VERB'), ('*', 'X'), ('on', 'ADP'), ('wheels', 'CONJ'), (',', '.'), ('swing', 'NOUN'), ('madly', 'CONJ'), ('through', 'ADP'), ('a', 'DET'), ('full', 'ADJ'), ('360', 'CONJ'), ('degrees', 'NOUN'), (',', '.'), ('*-1', 'X'), ('starting', 'VERB'), ('and', 'CONJ'), ('ending', 'VERB'), (',', '.'), ('surprisingly', 'ADV'), (',', '.'), ('in', 'ADP'), ('the', 'DET'), ('inverted', 'CONJ'), (',', '.'), ('or', 'CONJ'), ('mouth-up', 'CONJ'), ('position', 'NOUN'), ('.', '.'), ('``', '.'), ('It', 'PRON'), ('has', 'VERB'), ('not', 'ADV'), ('been', 'VERB'), ('disruptive', 'CONJ'), ('in', 'ADP'), ('the', 'DET'), ('markets', 'NOUN'), ('here', 'ADV'), (',', '.'), (\"''\", '.'), ('Mr.', 'NOUN'), ('Maughan', 'NOUN'), ('said', 'VERB'), ('*T*-1', 'X'), ('.', '.'), ('F.H.', 'CONJ'), ('Faulding', 'NOUN'), ('&', 'CONJ'), ('Co.', 'NOUN'), (',', '.'), ('an', 'DET'), ('Australian', 'ADJ'), ('pharmaceuticals', 'NOUN'), ('company', 'NOUN'), (',', '.'), ('said', 'VERB'), ('0', 'X'), ('its', 'PRON'), ('Moleculon', 'NOUN'), ('Inc.', 'NOUN'), ('affiliate', 'NOUN'), ('acquired', 'VERB'), ('Kalipharma', 'NOUN'), ('Inc.', 'NOUN'), ('for', 'ADP'), ('$', '.'), ('23', 'NUM'), ('million', 'NUM'), ('*U*', 'X'), ('.', '.'), ('Yet', 'CONJ'), ('he', 'PRON'), ('is', 'VERB'), (\"n't\", 'ADV'), ('in', 'ADP'), ('favor', 'NOUN'), ('of', 'ADP'), ('new', 'ADJ'), ('legislation', 'NOUN'), ('.', '.'), ('Along', 'ADP'), ('with', 'ADP'), ('the', 'DET'), ('note', 'NOUN'), (',', '.'), ('Cray', 'NOUN'), ('Research', 'NOUN'), ('is', 'VERB'), ('transferring', 'VERB'), ('about', 'ADP'), ('$', '.'), ('53', 'NUM'), ('million', 'NUM'), ('*U*', 'X'), ('in', 'ADP'), ('assets', 'NOUN'), (',', '.'), ('primarily', 'ADV'), ('those', 'DET'), ('related', 'ADJ'), ('to', 'PRT'), ('the', 'DET'), ('Cray-3', 'NOUN'), ('development', 'NOUN'), (',', '.'), ('which', 'DET'), ('*T*-25', 'X'), ('has', 'VERB'), ('been', 'VERB'), ('a', 'DET'), ('drain', 'NOUN'), ('on', 'ADP'), ('Cray', 'NOUN'), ('Research', 'NOUN'), (\"'s\", 'PRT'), ('earnings', 'NOUN'), ('.', '.'), ('It', 'PRON'), ('has', 'VERB'), ('been', 'VERB'), ('targeted', 'VERB'), ('*-48', 'X'), ('by', 'ADP'), ('Japanese', 'ADJ'), ('investors', 'NOUN'), ('as', 'ADP'), ('a', 'DET'), ('good', 'ADJ'), ('long-term', 'ADJ'), ('play', 'VERB'), ('tied', 'VERB'), ('*', 'X'), ('to', 'PRT'), ('1992', 'NUM'), (\"'s\", 'PRT'), ('European', 'ADJ'), ('economic', 'ADJ'), ('integration', 'NOUN'), ('.', '.'), ('Use', 'CONJ'), ('of', 'ADP'), ('Scoring', 'NOUN'), ('High', 'NOUN'), ('is', 'VERB'), ('widespread', 'ADJ'), ('in', 'ADP'), ('South', 'NOUN'), ('Carolina', 'NOUN'), ('and', 'CONJ'), ('common', 'ADJ'), ('in', 'ADP'), ('Greenville', 'NOUN'), ('County', 'NOUN'), (',', '.'), ('Mrs.', 'NOUN'), ('Yeargin', 'NOUN'), (\"'s\", 'PRT'), ('school', 'NOUN'), ('district', 'NOUN'), ('.', '.'), ('President', 'NOUN'), ('Reagan', 'NOUN'), ('learned', 'VERB'), ('that', 'ADP'), ('lesson', 'NOUN'), ('.', '.'), ('The', 'DET'), ('thrift', 'NOUN'), ('said', 'VERB'), ('that', 'ADP'), ('``', '.'), ('after', 'ADP'), ('these', 'DET'), ('charges', 'NOUN'), ('and', 'CONJ'), ('*', 'X'), ('assuming', 'VERB'), ('no', 'DET'), ('dramatic', 'ADJ'), ('fluctuation', 'NOUN'), ('in', 'ADP'), ('interest', 'NOUN'), ('rates', 'NOUN'), (',', '.'), ('the', 'DET'), ('association', 'NOUN'), ('expects', 'VERB'), ('*-1', 'X'), ('to', 'PRT'), ('achieve', 'VERB'), ('near', 'ADP'), ('record', 'NOUN'), ('earnings', 'NOUN'), ('in', 'ADP'), ('1990', 'NUM'), ('.', '.'), (\"''\", '.'), ('An', 'DET'), ('index-arbitrage', 'ADJ'), ('trade', 'NOUN'), ('is', 'VERB'), ('never', 'ADV'), ('executed', 'VERB'), ('unless', 'ADP'), ('there', 'DET'), ('is', 'VERB'), ('sufficient', 'CONJ'), ('difference', 'NOUN'), ('between', 'ADP'), ('the', 'DET'), ('markets', 'NOUN'), ('in', 'ADP'), ('New', 'NOUN'), ('York', 'NOUN'), ('and', 'CONJ'), ('Chicago', 'NOUN'), ('0', 'X'), ('*T*-1', 'X'), ('to', 'PRT'), ('cover', 'VERB'), ('all', 'DET'), ('transaction', 'NOUN'), ('costs', 'NOUN'), ('.', '.'), ('So', 'ADV'), ('far', 'ADV'), (',', '.'), ('the', 'DET'), ('grain', 'NOUN'), ('industry', 'NOUN'), (\"'s\", 'PRT'), ('budding', 'CONJ'), ('logistical', 'CONJ'), ('problems', 'NOUN'), ('have', 'VERB'), (\"n't\", 'ADV'), ('been', 'VERB'), ('a', 'DET'), ('major', 'ADJ'), ('factor', 'NOUN'), ('in', 'ADP'), ('the', 'DET'), ('trading', 'NOUN'), ('of', 'ADP'), ('corn', 'NOUN'), ('contracts', 'NOUN'), ('at', 'ADP'), ('the', 'DET'), ('Chicago', 'NOUN'), ('Board', 'NOUN'), ('of', 'ADP'), ('Trade', 'NOUN'), ('.', '.'), ('They', 'PRON'), ('call', 'VERB'), ('it', 'PRON'), ('``', '.'), ('photographic', 'CONJ'), (\"''\", '.'), ('.', '.'), ('*-1', 'X'), ('Observing', 'CONJ'), ('that', 'DET'), ('the', 'DET'), ('judge', 'NOUN'), ('``', '.'), ('has', 'VERB'), ('never', 'ADV'), ('exhibited', 'CONJ'), ('any', 'DET'), ('bias', 'NOUN'), ('or', 'CONJ'), ('prejudice', 'CONJ'), (',', '.'), (\"''\", '.'), ('Mr.', 'NOUN'), ('Murray', 'NOUN'), ('concluded', 'VERB'), ('that', 'ADP'), ('he', 'PRON'), ('``', '.'), ('would', 'VERB'), ('be', 'VERB'), ('impartial', 'CONJ'), ('in', 'ADP'), ('any', 'DET'), ('case', 'NOUN'), ('involving', 'VERB'), ('a', 'DET'), ('homosexual', 'ADJ'), ('or', 'CONJ'), ('prostitute', 'CONJ'), (\"''\", '.'), ('as', 'ADP'), ('a', 'DET'), ('victim', 'NOUN'), ('.', '.'), ('The', 'DET'), ('court', 'NOUN'), ('noted', 'VERB'), ('the', 'DET'), ('new', 'ADJ'), ('USIA', 'NOUN'), ('position', 'NOUN'), ('but', 'CONJ'), (',', '.'), ('just', 'ADV'), ('in', 'ADP'), ('case', 'NOUN'), (',', '.'), ('officially', 'ADV'), ('found', 'VERB'), ('``', '.'), ('that', 'DET'), ('Congress', 'NOUN'), ('did', 'VERB'), ('not', 'ADV'), ('intend', 'VERB'), ('*-1', 'X'), ('to', 'PRT'), ('preclude', 'CONJ'), ('plaintiffs', 'NOUN'), ('from', 'ADP'), ('*', 'X'), ('disseminating', 'CONJ'), ('USIA', 'NOUN'), ('information', 'NOUN'), ('domestically', 'CONJ'), ('.', '.'), (\"''\", '.'), ('GMAC', 'NOUN'), ('screened', 'CONJ'), ('the', 'DET'), ('card-member', 'CONJ'), ('list', 'NOUN'), ('for', 'ADP'), ('holders', 'NOUN'), ('more', 'ADV'), ('than', 'ADP'), ('30', 'NUM'), ('years', 'NOUN'), ('old', 'ADJ'), ('with', 'ADP'), ('household', 'NOUN'), ('incomes', 'CONJ'), ('over', 'ADP'), ('$', '.'), ('45,000', 'NUM'), ('*U*', 'X'), ('who', 'PRON'), ('*T*-54', 'X'), ('had', 'VERB'), (\"n't\", 'ADV'), ('``', '.'), ('missed', 'CONJ'), ('any', 'DET'), ('payments', 'NOUN'), (',', '.'), (\"''\", '.'), ('the', 'DET'), ('Buick', 'NOUN'), ('spokeswoman', 'NOUN'), ('says', 'VERB'), ('0', 'X'), ('*T*-1', 'X'), ('.', '.'), ('He', 'PRON'), ('says', 'VERB'), ('0', 'X'), ('Campbell', 'NOUN'), ('was', 'VERB'), (\"n't\", 'ADV'), ('even', 'ADV'), ('contacted', 'VERB'), ('*-1', 'X'), ('by', 'ADP'), ('the', 'DET'), ('magazine', 'NOUN'), ('for', 'ADP'), ('the', 'DET'), ('opportunity', 'NOUN'), ('*', 'X'), ('to', 'PRT'), ('comment', 'VERB'), ('.', '.'), ('``', '.'), ('Unemployment', 'CONJ'), ('continues', 'VERB'), ('at', 'ADP'), ('a', 'DET'), ('relatively', 'ADV'), ('low', 'ADJ'), ('level', 'NOUN'), (',', '.'), ('*', 'X'), ('providing', 'VERB'), ('a', 'DET'), ('sense', 'NOUN'), ('of', 'ADP'), ('job', 'NOUN'), ('security', 'NOUN'), (',', '.'), ('and', 'CONJ'), ('a', 'DET'), ('low', 'ADJ'), ('inflation', 'NOUN'), ('rate', 'NOUN'), ('has', 'VERB'), ('kept', 'VERB'), ('the', 'DET'), ('purchasing', 'NOUN'), ('power', 'NOUN'), ('of', 'ADP'), ('the', 'DET'), ('weekly', 'ADJ'), ('paycheck', 'CONJ'), ('reasonably', 'CONJ'), ('strong', 'ADJ'), ('.', '.'), (\"''\", '.'), ('The', 'DET'), ('forthcoming', 'CONJ'), ('maturity', 'NOUN'), ('in', 'ADP'), ('November', 'NOUN'), ('of', 'ADP'), ('a', 'DET'), ('10-year', 'ADJ'), ('Japanese', 'ADJ'), ('government', 'NOUN'), ('yen-denominated', 'CONJ'), ('bond', 'NOUN'), ('issue', 'NOUN'), ('valued', 'VERB'), ('*', 'X'), ('at', 'ADP'), ('about', 'ADP'), ('$', '.'), ('16', 'NUM'), ('billion', 'NUM'), ('*U*', 'X'), ('has', 'VERB'), ('prompted', 'VERB'), ('speculation', 'NOUN'), ('*ICH*-2', 'X'), ('in', 'ADP'), ('the', 'DET'), ('market', 'NOUN'), ('that', 'ADP'), ('investors', 'NOUN'), ('redeeming', 'CONJ'), ('the', 'DET'), ('bonds', 'NOUN'), ('will', 'VERB'), ('diversify', 'VERB'), ('into', 'ADP'), ('dollar-denominated', 'ADJ'), ('instruments', 'NOUN'), (',', '.'), ('according', 'VERB'), ('to', 'PRT'), ('Mr.', 'NOUN'), ('Madison', 'NOUN'), ('.', '.')]\n"
     ]
    }
   ],
   "source": [
    "# Checking the time taking to run the plain vanilla viterbi on validation dataset\n",
    "print(\"Time taken in seconds: \", difference)\n",
    "print(tagged_seq_plain)"
   ]
  },
  {
   "cell_type": "code",
   "execution_count": 30,
   "metadata": {},
   "outputs": [],
   "source": [
    "# Creating a list with tuples with words and tags from the validation data set\n",
    "validation_run_base = [tup for sent in validation_set for tup in sent]"
   ]
  },
  {
   "cell_type": "code",
   "execution_count": 31,
   "metadata": {},
   "outputs": [
    {
     "data": {
      "text/plain": [
       "[('*-1', 'X'), ('Crude', 'ADJ'), ('as', 'ADP')]"
      ]
     },
     "execution_count": 31,
     "metadata": {},
     "output_type": "execute_result"
    }
   ],
   "source": [
    "# Checking fist three tuples of words and tags from the validation dataset\n",
    "validation_run_base[:3]"
   ]
  },
  {
   "cell_type": "code",
   "execution_count": 32,
   "metadata": {},
   "outputs": [],
   "source": [
    "# Checking the accuracy of predicted tags from the plain vanilla viterbi\n",
    "check = [i for i, j in zip(tagged_seq_plain, validation_run_base) if i == j] "
   ]
  },
  {
   "cell_type": "code",
   "execution_count": 33,
   "metadata": {},
   "outputs": [],
   "source": [
    "# Checking the accuracy of predicted tags from the plain vanilla viterbi\n",
    "# Calculating the accuracy\n",
    "accuracy = len(check)/len(tagged_seq_plain)"
   ]
  },
  {
   "cell_type": "code",
   "execution_count": 34,
   "metadata": {},
   "outputs": [
    {
     "data": {
      "text/plain": [
       "0.909247889485802"
      ]
     },
     "execution_count": 34,
     "metadata": {},
     "output_type": "execute_result"
    }
   ],
   "source": [
    "# Printing the accuracy\n",
    "accuracy"
   ]
  },
  {
   "cell_type": "markdown",
   "metadata": {},
   "source": [
    "Observation: We observe that with plain vanilla viterbi we are able to get the accuracy of XXXX"
   ]
  },
  {
   "cell_type": "code",
   "execution_count": 35,
   "metadata": {},
   "outputs": [],
   "source": [
    "# Identifying the incorrectly tagged cases\n",
    "incorrect_tagged_cases_plain = [[validation_run_base[i-1],j] for i, j in enumerate(zip(tagged_seq_plain, validation_run_base)) if j[0]!=j[1]]"
   ]
  },
  {
   "cell_type": "code",
   "execution_count": 36,
   "metadata": {},
   "outputs": [
    {
     "data": {
      "text/plain": [
       "[[('triggered', 'VERB'), (('explosive', 'CONJ'), ('explosive', 'ADJ'))],\n",
       " [('in', 'ADP'), (('desktop', 'CONJ'), ('desktop', 'NOUN'))],\n",
       " [('.', '.'), (('Researchers', 'CONJ'), ('Researchers', 'NOUN'))],\n",
       " [('at', 'ADP'), (('American', 'ADJ'), ('American', 'NOUN'))],\n",
       " [('materials', 'NOUN'), (('closer', 'ADV'), ('closer', 'ADJ'))],\n",
       " [('progress', 'NOUN'), (('moves', 'NOUN'), ('moves', 'VERB'))],\n",
       " [('make', 'VERB'), (('judgments', 'CONJ'), ('judgments', 'NOUN'))],\n",
       " [('*T*-2', 'X'), (('Myron', 'CONJ'), ('Myron', 'NOUN'))],\n",
       " [('associate', 'NOUN'), (('dean', 'CONJ'), ('dean', 'NOUN'))],\n",
       " [('...', '.'), (('less', 'ADV'), ('less', 'ADJ'))],\n",
       " [('which', 'DET'), (('there', 'ADV'), ('there', 'DET'))],\n",
       " [('economic', 'ADJ'), (('slowdowns', 'CONJ'), ('slowdowns', 'NOUN'))],\n",
       " [('--', '.'), (('the', 'DET'), ('the', 'ADJ'))],\n",
       " [('--', '.'), (('the', 'DET'), ('the', 'ADJ'))],\n",
       " [('Thomas', 'NOUN'), (('Doerflinger', 'CONJ'), ('Doerflinger', 'NOUN'))],\n",
       " [('its', 'PRON'), (('Eveready', 'CONJ'), ('Eveready', 'NOUN'))],\n",
       " [('a', 'DET'), (('cosmetic', 'NOUN'), ('cosmetic', 'ADJ'))],\n",
       " [('S.', 'NOUN'), (('Gelles', 'CONJ'), ('Gelles', 'NOUN'))],\n",
       " [('of', 'ADP'), (('Wertheim', 'CONJ'), ('Wertheim', 'NOUN'))],\n",
       " [('Wertheim', 'NOUN'), (('Schroder', 'CONJ'), ('Schroder', 'NOUN'))],\n",
       " [('have', 'VERB'), (('accounted', 'CONJ'), ('accounted', 'VERB'))],\n",
       " [('for', 'ADP'), (('as', 'ADP'), ('as', 'ADV'))],\n",
       " [('the', 'DET'), (('sterling', 'CONJ'), ('sterling', 'NOUN'))],\n",
       " [('who', 'PRON'), (('*T*-95', 'CONJ'), ('*T*-95', 'X'))],\n",
       " [('into', 'ADP'), (('chaos', 'CONJ'), ('chaos', 'NOUN'))],\n",
       " [(\"'s\", 'PRT'), (('work', 'VERB'), ('work', 'NOUN'))],\n",
       " [(',', '.'), (('Burt', 'CONJ'), ('Burt', 'NOUN'))],\n",
       " [('Burt', 'NOUN'), (('Sugarman', 'CONJ'), ('Sugarman', 'NOUN'))],\n",
       " [('M.', 'NOUN'), (('Trotter', 'CONJ'), ('Trotter', 'NOUN'))],\n",
       " [('E.', 'NOUN'), (('Trotter', 'CONJ'), ('Trotter', 'NOUN'))],\n",
       " [('who', 'PRON'), (('earlier', 'ADJ'), ('earlier', 'ADV'))],\n",
       " [('a', 'DET'), (('42.5', 'CONJ'), ('42.5', 'NUM'))],\n",
       " [(\"'s\", 'PRT'), (('nine-member', 'CONJ'), ('nine-member', 'ADJ'))],\n",
       " [('.', '.'), (('Long-term', 'CONJ'), ('Long-term', 'ADJ'))],\n",
       " [('What', 'PRON'), (('*T*-164', 'CONJ'), ('*T*-164', 'X'))],\n",
       " [('*T*-164', 'X'), ((\"'s\", 'PRT'), (\"'s\", 'VERB'))],\n",
       " [('is', 'VERB'), (('happening', 'CONJ'), ('happening', 'VERB'))],\n",
       " [('spend', 'VERB'), (('much', 'ADV'), ('much', 'ADJ'))],\n",
       " [('on', 'ADP'), (('print', 'VERB'), ('print', 'NOUN'))],\n",
       " [('print', 'NOUN'), (('advertising', 'VERB'), ('advertising', 'NOUN'))],\n",
       " [('peaks', 'NOUN'), (('earlier', 'ADV'), ('earlier', 'ADJ'))],\n",
       " [('government', 'NOUN'), (('curtailed', 'CONJ'), ('curtailed', 'VERB'))],\n",
       " [('with', 'ADP'), (('land-idling', 'CONJ'), ('land-idling', 'ADJ'))],\n",
       " [('reduce', 'VERB'),\n",
       "  (('price-depressing', 'CONJ'), ('price-depressing', 'ADJ'))],\n",
       " [('price-depressing', 'ADJ'), (('surpluses', 'CONJ'), ('surpluses', 'NOUN'))],\n",
       " [('were', 'VERB'), (('preapproved', 'CONJ'), ('preapproved', 'VERB'))],\n",
       " [('preapproved', 'VERB'), (('*-67', 'CONJ'), ('*-67', 'X'))],\n",
       " [('to', 'PRT'), (('veto', 'NOUN'), ('veto', 'VERB'))],\n",
       " [('veto', 'VERB'), (('such', 'ADJ'), ('such', 'DET'))],\n",
       " [('it', 'PRON'), (('views', 'NOUN'), ('views', 'VERB'))],\n",
       " [('an', 'DET'), (('undesirable', 'CONJ'), ('undesirable', 'ADJ'))],\n",
       " [('undesirable', 'ADJ'), (('intrusion', 'CONJ'), ('intrusion', 'NOUN'))],\n",
       " [('the', 'DET'), (('300-113', 'CONJ'), ('300-113', 'NUM'))],\n",
       " [('the', 'DET'), (('potential', 'ADJ'), ('potential', 'NOUN'))],\n",
       " [('to', 'PRT'), (('override', 'CONJ'), ('override', 'VERB'))],\n",
       " [('breaks', 'VERB'), (('down', 'ADV'), ('down', 'PRT'))],\n",
       " [('prolonged', 'VERB'), (('sunlight', 'CONJ'), ('sunlight', 'NOUN'))],\n",
       " [(\"n't\", 'ADV'), (('recyclable', 'CONJ'), ('recyclable', 'ADJ'))],\n",
       " [('of', 'ADP'), (('fronts', 'CONJ'), ('fronts', 'NOUN'))],\n",
       " [('State', 'NOUN'), (('Glass', 'CONJ'), ('Glass', 'NOUN'))],\n",
       " [('of', 'ADP'), (('Warrenton', 'CONJ'), ('Warrenton', 'NOUN'))],\n",
       " [('small', 'ADJ'), (('fabricator', 'CONJ'), ('fabricator', 'NOUN'))],\n",
       " [('of', 'ADP'), (('architectural', 'CONJ'), ('architectural', 'ADJ'))],\n",
       " [('was', 'VERB'), (('foundering', 'CONJ'), ('foundering', 'VERB'))],\n",
       " [('$', '.'), (('2,099', 'CONJ'), ('2,099', 'NUM'))],\n",
       " [('Toronto', 'NOUN'), (('cable', 'CONJ'), ('cable', 'NOUN'))],\n",
       " [('the', 'DET'), (('twin', 'CONJ'), ('twin', 'NOUN'))],\n",
       " [('twin', 'NOUN'), (('dams', 'CONJ'), ('dams', 'NOUN'))],\n",
       " [('built', 'VERB'), (('*-67', 'CONJ'), ('*-67', 'X'))],\n",
       " [('.', '.'), (('Indexing', 'CONJ'), ('Indexing', 'NOUN'))],\n",
       " [('stock-market', 'NOUN'), (('barometer', 'CONJ'), ('barometer', 'NOUN'))],\n",
       " [('go', 'VERB'), (('through', 'ADP'), ('through', 'PRT'))],\n",
       " [('already', 'ADV'), (('own', 'ADJ'), ('own', 'VERB'))],\n",
       " [('it', 'PRON'), (('bid', 'NOUN'), ('bid', 'VERB'))],\n",
       " [('separate', 'ADJ'), (('public', 'NOUN'), ('public', 'ADJ'))],\n",
       " [('the', 'DET'), (('apparent', 'CONJ'), ('apparent', 'ADJ'))],\n",
       " [('apparent', 'ADJ'), (('slowing', 'VERB'), ('slowing', 'NOUN'))],\n",
       " [('into', 'ADP'), (('oblivion', 'CONJ'), ('oblivion', 'NOUN'))],\n",
       " [('a', 'DET'), (('seven-yen', 'CONJ'), ('seven-yen', 'ADJ'))],\n",
       " [('The', 'DET'), (('multilevel', 'CONJ'), ('multilevel', 'ADJ'))],\n",
       " [('by', 'ADP'), (('Thrall', 'CONJ'), ('Thrall', 'NOUN'))],\n",
       " [('held', 'VERB'), (('Duchossois', 'CONJ'), ('Duchossois', 'NOUN'))],\n",
       " [(',', '.'), (('Elmhurst', 'CONJ'), ('Elmhurst', 'NOUN'))],\n",
       " [('proposal', 'NOUN'), (('that', 'ADP'), ('that', 'DET'))],\n",
       " [('emissions', 'NOUN'), (('that', 'ADP'), ('that', 'DET'))],\n",
       " [('its', 'PRON'), (('centennial', 'CONJ'), ('centennial', 'NOUN'))],\n",
       " [(',', '.'), (('The', 'DET'), ('The', 'NOUN'))],\n",
       " [('will', 'VERB'), (('report', 'NOUN'), ('report', 'VERB'))],\n",
       " [('century', 'NOUN'), (('that', 'ADP'), ('that', 'DET'))],\n",
       " [('as', 'ADP'), (('milestones', 'CONJ'), ('milestones', 'NOUN'))],\n",
       " [('active', 'ADJ'), (('55-year-old', 'CONJ'), ('55-year-old', 'NOUN'))],\n",
       " [('about', 'ADP'), (('Senior', 'CONJ'), ('Senior', 'NOUN'))],\n",
       " [('a', 'DET'), (('75-year-old', 'CONJ'), ('75-year-old', 'NUM'))],\n",
       " [('of', 'ADP'), (('Marina', 'CONJ'), ('Marina', 'NOUN'))],\n",
       " [('Marina', 'NOUN'), (('del', 'CONJ'), ('del', 'DET'))],\n",
       " [('del', 'DET'), (('Rey', 'CONJ'), ('Rey', 'NOUN'))],\n",
       " [('for', 'ADP'), (('alleged', 'ADJ'), ('alleged', 'VERB'))],\n",
       " [('of', 'ADP'), (('reporting', 'NOUN'), ('reporting', 'VERB'))],\n",
       " [('Malcolm', 'NOUN'), (('Davies', 'CONJ'), ('Davies', 'NOUN'))],\n",
       " [('Trading', 'NOUN'), (('Alliance', 'CONJ'), ('Alliance', 'NOUN'))],\n",
       " [('Iowa', 'NOUN'), (('Cos.', 'CONJ'), ('Cos.', 'NOUN'))],\n",
       " [('the', 'DET'), (('36-store', 'CONJ'), ('36-store', 'ADJ'))],\n",
       " [('to', 'PRT'), (('free', 'ADJ'), ('free', 'VERB'))],\n",
       " [('*U*', 'X'), (('face', 'VERB'), ('face', 'NOUN'))],\n",
       " [('are', 'VERB'), (('worth', 'ADJ'), ('worth', 'ADP'))],\n",
       " [('for', 'ADP'), (('aesthetic', 'CONJ'), ('aesthetic', 'ADJ'))],\n",
       " [('one', 'NUM'), (('famed', 'CONJ'), ('famed', 'ADJ'))],\n",
       " [('then', 'ADV'), (('overseas', 'ADJ'), ('overseas', 'ADV'))],\n",
       " [('.', '.'), (('Performing', 'CONJ'), ('Performing', 'VERB'))],\n",
       " [('Treasury', 'NOUN'), (('estimates', 'NOUN'), ('estimates', 'VERB'))],\n",
       " [('it', 'PRON'), (('decides', 'CONJ'), ('decides', 'VERB'))],\n",
       " [('to', 'PRT'), (('aim', 'NOUN'), ('aim', 'VERB'))],\n",
       " [('and', 'CONJ'), (('entertaining', 'CONJ'), ('entertaining', 'ADJ'))],\n",
       " [('that', 'DET'), (('means', 'NOUN'), ('means', 'VERB'))],\n",
       " [('means', 'VERB'),\n",
       "  (('confrontational', 'CONJ'), ('confrontational', 'ADJ'))],\n",
       " [('the', 'DET'), (('right', 'NOUN'), ('right', 'ADJ'))],\n",
       " [('newly', 'ADV'), (('fattened', 'CONJ'), ('fattened', 'VERB'))],\n",
       " [('areas', 'NOUN'), (('that', 'ADP'), ('that', 'DET'))],\n",
       " [('that', 'DET'), (('*T*-186', 'CONJ'), ('*T*-186', 'X'))],\n",
       " [('can', 'VERB'), (('bar', 'NOUN'), ('bar', 'VERB'))],\n",
       " [('programs', 'NOUN'), (('that', 'ADP'), ('that', 'DET'))],\n",
       " [('include', 'VERB'),\n",
       "  (('abortion-related', 'CONJ'), ('abortion-related', 'ADJ'))],\n",
       " [(',', '.'), (('down', 'ADV'), ('down', 'ADP'))],\n",
       " [('from', 'ADP'), (('176.1', 'CONJ'), ('176.1', 'NUM'))],\n",
       " [('Bell', 'NOUN'), (('established', 'CONJ'), ('established', 'VERB'))],\n",
       " [('established', 'VERB'), (('that', 'DET'), ('that', 'ADP'))],\n",
       " [('patent', 'NOUN'), (('caveat', 'CONJ'), ('caveat', 'NOUN'))],\n",
       " [('registered', 'VERB'), (('*-145', 'CONJ'), ('*-145', 'X'))],\n",
       " [('to', 'PRT'), (('enter', 'CONJ'), ('enter', 'VERB'))],\n",
       " [('their', 'PRON'), (('farms', 'CONJ'), ('farms', 'NOUN'))],\n",
       " [('antitrust', 'ADJ'), (('staffs', 'CONJ'), ('staffs', 'NOUN'))],\n",
       " [('*-87', 'X'), (('more', 'ADV'), ('more', 'ADJ'))],\n",
       " [('off', 'PRT'), (('drastically', 'CONJ'), ('drastically', 'ADV'))],\n",
       " [('or', 'CONJ'), (('about', 'ADP'), ('about', 'ADV'))],\n",
       " [('Assuming', 'VERB'), (('that', 'ADP'), ('that', 'DET'))],\n",
       " [('in', 'ADP'), (('universities', 'CONJ'), ('universities', 'NOUN'))],\n",
       " [('H.', 'NOUN'), (('Strother', 'CONJ'), ('Strother', 'NOUN'))],\n",
       " [('is', 'VERB'), (('researching', 'CONJ'), ('researching', 'VERB'))],\n",
       " [('``', '.'), (('headed', 'CONJ'), ('headed', 'VERB'))],\n",
       " [(\"n't\", 'ADV'), (('curbed', 'CONJ'), ('curbed', 'VERB'))],\n",
       " [('the', 'DET'), (('buck', 'CONJ'), ('buck', 'NOUN'))],\n",
       " [('and', 'CONJ'), (('Soviet', 'ADJ'), ('Soviet', 'NOUN'))],\n",
       " [('possible', 'ADJ'), (('repayment', 'CONJ'), ('repayment', 'NOUN'))],\n",
       " [('in', 'ADP'), (('pre-Communist', 'CONJ'), ('pre-Communist', 'ADJ'))],\n",
       " [('pre-Communist', 'ADJ'), (('Russian', 'CONJ'), ('Russian', 'ADJ'))],\n",
       " [('.', '.'), (('Ten', 'CONJ'), ('Ten', 'NUM'))],\n",
       " [('Ten', 'NUM'), (('shirt-sleeved', 'CONJ'), ('shirt-sleeved', 'ADJ'))],\n",
       " [('a', 'DET'), (('circle', 'CONJ'), ('circle', 'NOUN'))],\n",
       " [('one', 'NUM'), (('foot', 'CONJ'), ('foot', 'NOUN'))],\n",
       " [('a', 'DET'), (('prize-fighter', 'CONJ'), ('prize-fighter', 'NOUN'))],\n",
       " [('each', 'DET'), (('pulling', 'CONJ'), ('pulling', 'VERB'))],\n",
       " [('a', 'DET'), (('rope', 'CONJ'), ('rope', 'NOUN'))],\n",
       " [('that', 'DET'), (('*T*-225', 'CONJ'), ('*T*-225', 'X'))],\n",
       " [('*T*-225', 'X'), (('disappears', 'CONJ'), ('disappears', 'VERB'))],\n",
       " [('small', 'ADJ'), (('hole', 'CONJ'), ('hole', 'NOUN'))],\n",
       " [('ringing', 'NOUN'), (('chamber', 'CONJ'), ('chamber', 'NOUN'))],\n",
       " [('a', 'DET'), (('tenth', 'CONJ'), ('tenth', 'NOUN'))],\n",
       " [('#', '.'), (('722', 'CONJ'), ('722', 'NUM'))],\n",
       " [('fourth-quarter', 'NOUN'), (('pre-tax', 'CONJ'), ('pre-tax', 'ADJ'))],\n",
       " [('a', 'DET'), (('definitive', 'CONJ'), ('definitive', 'ADJ'))],\n",
       " [('the', 'DET'), (('tort', 'CONJ'), ('tort', 'NOUN'))],\n",
       " [('a', 'DET'), (('lousy', 'CONJ'), ('lousy', 'ADJ'))],\n",
       " [('*T*-1', 'X'), (('anyway', 'CONJ'), ('anyway', 'ADV'))],\n",
       " [('and', 'CONJ'), (('contingency-fee', 'CONJ'), ('contingency-fee', 'ADJ'))],\n",
       " [('cut', 'NOUN'), (('either', 'CONJ'), ('either', 'DET'))],\n",
       " [('be', 'VERB'), (('spun', 'CONJ'), ('spun', 'VERB'))],\n",
       " [('spun', 'VERB'), (('off', 'ADV'), ('off', 'PRT'))],\n",
       " [('$', '.'), (('3.28', 'CONJ'), ('3.28', 'NUM'))],\n",
       " [('$', '.'), (('3.16', 'CONJ'), ('3.16', 'NUM'))],\n",
       " [('$', '.'), (('184', 'CONJ'), ('184', 'NUM'))],\n",
       " [('for', 'ADP'), (('*-30', 'CONJ'), ('*-30', 'X'))],\n",
       " [('response', 'NOUN'), (('annoyed', 'CONJ'), ('annoyed', 'VERB'))],\n",
       " [('the', 'DET'), (('congressman', 'CONJ'), ('congressman', 'NOUN'))],\n",
       " [('snapped', 'VERB'), (('back', 'ADV'), ('back', 'PRT'))],\n",
       " [('been', 'VERB'), (('enough', 'ADV'), ('enough', 'ADJ'))],\n",
       " [('and', 'CONJ'), (('that', 'DET'), ('that', 'ADP'))],\n",
       " [('P.', 'NOUN'), (('Tassinari', 'CONJ'), ('Tassinari', 'NOUN'))],\n",
       " [(\"'\", 'PRT'), (('binders', 'CONJ'), ('binders', 'NOUN'))],\n",
       " [(',', '.'), (('four-color', 'CONJ'), ('four-color', 'ADJ'))],\n",
       " [('will', 'VERB'), (('cost', 'NOUN'), ('cost', 'VERB'))],\n",
       " [('$', '.'), (('100,980', 'CONJ'), ('100,980', 'NUM'))],\n",
       " [('at', 'ADP'), (('mid-afternoon', 'CONJ'), ('mid-afternoon', 'ADJ'))],\n",
       " [('at', 'ADP'), (('260', 'CONJ'), ('260', 'NUM'))],\n",
       " [('of', 'ADP'), (('flashy', 'CONJ'), ('flashy', 'ADJ'))],\n",
       " [('.', '.'), (('More', 'ADV'), ('More', 'ADJ'))],\n",
       " [('In', 'ADP'), (('American', 'ADJ'), ('American', 'NOUN'))],\n",
       " [('$', '.'), (('45.75', 'CONJ'), ('45.75', 'NUM'))],\n",
       " [('%', 'NOUN'), (('upturn', 'CONJ'), ('upturn', 'NOUN'))],\n",
       " [('more', 'ADJ'), (('couples', 'CONJ'), ('couples', 'NOUN'))],\n",
       " [('*ICH*-1', 'X'), (('exchanging', 'CONJ'), ('exchanging', 'VERB'))],\n",
       " [('exchanging', 'VERB'), (('rings', 'VERB'), ('rings', 'NOUN'))],\n",
       " [('the', 'DET'), (('upscale', 'ADJ'), ('upscale', 'NOUN'))],\n",
       " [('to', 'PRT'), (('project', 'NOUN'), ('project', 'VERB'))],\n",
       " [('with', 'ADP'), (('top-level', 'CONJ'), ('top-level', 'ADJ'))],\n",
       " [('as', 'ADP'), (('chief', 'NOUN'), ('chief', 'ADJ'))],\n",
       " [('assumed', 'VERB'), (('*-121', 'CONJ'), ('*-121', 'X'))],\n",
       " [('B.', 'NOUN'), (('Langner', 'CONJ'), ('Langner', 'NOUN'))],\n",
       " [('are', 'VERB'), (('fuming', 'CONJ'), ('fuming', 'VERB'))],\n",
       " [('fuming', 'VERB'), (('because', 'ADP'), ('because', 'ADV'))],\n",
       " [('an', 'DET'), (('ultimatum', 'CONJ'), ('ultimatum', 'NOUN'))],\n",
       " [('Either', 'CONJ'), (('sign', 'NOUN'), ('sign', 'VERB'))],\n",
       " [('or', 'CONJ'), (('risk', 'NOUN'), ('risk', 'VERB'))],\n",
       " [('second', 'ADJ'), (('citation', 'CONJ'), ('citation', 'NOUN'))],\n",
       " [(',', '.'), (('coke', 'CONJ'), ('coke', 'NOUN'))],\n",
       " [('involved', 'VERB'), (('more', 'ADV'), ('more', 'ADJ'))],\n",
       " [('200', 'NUM'), (('alleged', 'ADJ'), ('alleged', 'VERB'))],\n",
       " [('of', 'ADP'),\n",
       "  (('electrical-safety', 'CONJ'), ('electrical-safety', 'ADJ'))],\n",
       " [('come', 'VERB'), (('up', 'ADV'), ('up', 'PRT'))],\n",
       " [('another', 'DET'), (('winner', 'CONJ'), ('winner', 'NOUN'))],\n",
       " [('for', 'ADP'), (('bankruptcy-law', 'CONJ'), ('bankruptcy-law', 'ADJ'))],\n",
       " [('$', '.'), (('47.5', 'CONJ'), ('47.5', 'NUM'))],\n",
       " [('.', '.'), (('Grain', 'CONJ'), ('Grain', 'NOUN'))],\n",
       " [('the', 'DET'), (('1920s', 'NOUN'), ('1920s', 'NUM'))],\n",
       " [('and', 'CONJ'), ((\"'30s\", 'CONJ'), (\"'30s\", 'NUM'))],\n",
       " [('concrete', 'ADJ'), (('walls', 'CONJ'), ('walls', 'NOUN'))],\n",
       " [('shape', 'NOUN'), (('that', 'ADP'), ('that', 'DET'))],\n",
       " [('contain', 'VERB'), (('semicircular', 'CONJ'), ('semicircular', 'ADJ'))],\n",
       " [('semicircular', 'ADJ'), (('cells', 'CONJ'), ('cells', 'NOUN'))],\n",
       " [('the', 'DET'), (('middle', 'ADJ'), ('middle', 'NOUN'))],\n",
       " [('*ICH*-1', 'X'), (('Kathryn', 'CONJ'), ('Kathryn', 'NOUN'))],\n",
       " [('Kathryn', 'NOUN'), (('McAuley', 'CONJ'), ('McAuley', 'NOUN'))],\n",
       " [('year', 'NOUN'), (('earlier', 'ADV'), ('earlier', 'ADJ'))],\n",
       " [('to', 'PRT'), (('361,376', 'CONJ'), ('361,376', 'NUM'))],\n",
       " [('and', 'CONJ'), (('warehousing', 'CONJ'), ('warehousing', 'NOUN'))],\n",
       " [('on', 'ADP'), (('353', 'CONJ'), ('353', 'NUM'))],\n",
       " [('G.', 'NOUN'), (('Kuhns', 'CONJ'), ('Kuhns', 'NOUN'))],\n",
       " [('and', 'CONJ'), (('chief', 'NOUN'), ('chief', 'ADJ'))],\n",
       " [('chief', 'ADJ'), (('executive', 'NOUN'), ('executive', 'ADJ'))],\n",
       " [('0', 'X'), (('greedy', 'CONJ'), ('greedy', 'ADJ'))],\n",
       " [('market', 'NOUN'), (('manipulators', 'CONJ'), ('manipulators', 'NOUN'))],\n",
       " [('a', 'DET'), (('shambles', 'CONJ'), ('shambles', 'NOUN'))],\n",
       " [(\"'s\", 'PRT'), (('free-enterprise', 'CONJ'), ('free-enterprise', 'NOUN'))],\n",
       " [('big', 'ADJ'), (('gambling', 'CONJ'), ('gambling', 'NOUN'))],\n",
       " [('gambling', 'NOUN'), (('den', 'CONJ'), ('den', 'NOUN'))],\n",
       " [('the', 'DET'), (('odds', 'CONJ'), ('odds', 'NOUN'))],\n",
       " [('heavily', 'ADV'), (('stacked', 'CONJ'), ('stacked', 'VERB'))],\n",
       " [('a', 'DET'), (('sound', 'NOUN'), ('sound', 'ADJ'))],\n",
       " [('Peter', 'NOUN'), (('Huber', 'CONJ'), ('Huber', 'NOUN'))],\n",
       " [('maker', 'NOUN'), (('introduces', 'CONJ'), ('introduces', 'VERB'))],\n",
       " [('an', 'DET'), (('anti-miscarriage', 'CONJ'), ('anti-miscarriage', 'ADJ'))],\n",
       " [('sell', 'VERB'), (('that', 'ADP'), ('that', 'DET'))],\n",
       " [('stock', 'NOUN'), (('short', 'ADJ'), ('short', 'ADV'))],\n",
       " [('The', 'DET'), (('combined', 'ADJ'), ('combined', 'VERB'))],\n",
       " [('in', 'ADP'), (('Hackensack', 'CONJ'), ('Hackensack', 'NOUN'))],\n",
       " [('I', 'PRON'), (('am', 'CONJ'), ('am', 'VERB'))],\n",
       " [('Norman', 'NOUN'), (('Ricken', 'CONJ'), ('Ricken', 'NOUN'))],\n",
       " [('chief', 'NOUN'), (('operating', 'NOUN'), ('operating', 'VERB'))],\n",
       " [('of', 'ADP'), (('Toys', 'CONJ'), ('Toys', 'NOUN'))],\n",
       " [('``', '.'), (('R', 'CONJ'), ('R', 'NOUN'))],\n",
       " [(\"''\", '.'), (('Us', 'CONJ'), ('Us', 'NOUN'))],\n",
       " [('Frederick', 'NOUN'), (('Deane', 'CONJ'), ('Deane', 'NOUN'))],\n",
       " [('of', 'ADP'), (('Signet', 'CONJ'), ('Signet', 'NOUN'))],\n",
       " [('carrier', 'NOUN'), (('so', 'ADV'), ('so', 'ADP'))],\n",
       " [('be', 'VERB'), (('impaired', 'CONJ'), ('impaired', 'VERB'))],\n",
       " [('of', 'ADP'), (('airline-related', 'CONJ'), ('airline-related', 'ADJ'))],\n",
       " [('an', 'DET'), (('overriding', 'CONJ'), ('overriding', 'VERB'))],\n",
       " [('overriding', 'VERB'), (('public', 'ADJ'), ('public', 'NOUN'))],\n",
       " [('IRS', 'NOUN'), (('rarely', 'CONJ'), ('rarely', 'ADV'))],\n",
       " [('rarely', 'ADV'), (('acted', 'CONJ'), ('acted', 'VERB'))],\n",
       " [('.', '.'), (('Composer', 'CONJ'), ('Composer', 'NOUN'))],\n",
       " [('Composer', 'NOUN'), (('Marc', 'CONJ'), ('Marc', 'NOUN'))],\n",
       " [('Marc', 'NOUN'), (('Marder', 'CONJ'), ('Marder', 'NOUN'))],\n",
       " [('his', 'PRON'), (('living', 'VERB'), ('living', 'NOUN'))],\n",
       " [('the', 'DET'), (('double', 'VERB'), ('double', 'ADJ'))],\n",
       " [('double', 'ADJ'), (('bass', 'CONJ'), ('bass', 'NOUN'))],\n",
       " [('in', 'ADP'), (('classical', 'CONJ'), ('classical', 'ADJ'))],\n",
       " [('music', 'NOUN'), (('ensembles', 'CONJ'), ('ensembles', 'NOUN'))],\n",
       " [('an', 'DET'), (('exciting', 'CONJ'), ('exciting', 'ADJ'))],\n",
       " [(',', '.'), (('eclectic', 'CONJ'), ('eclectic', 'ADJ'))],\n",
       " [('score', 'NOUN'), (('that', 'ADP'), ('that', 'DET'))],\n",
       " [('the', 'DET'), (('characters', 'CONJ'), ('characters', 'NOUN'))],\n",
       " [('far', 'ADV'), (('more', 'ADJ'), ('more', 'ADV'))],\n",
       " [('than', 'ADP'), (('intertitles', 'CONJ'), ('intertitles', 'NOUN'))],\n",
       " [('Apple', 'NOUN'), (('I', 'PRON'), ('I', 'NOUN'))],\n",
       " [('a', 'DET'), (('garage', 'CONJ'), ('garage', 'NOUN'))],\n",
       " [('Stephen', 'NOUN'), (('Wozniak', 'CONJ'), ('Wozniak', 'NOUN'))],\n",
       " [('Steven', 'NOUN'), (('Jobs', 'CONJ'), ('Jobs', 'NOUN'))],\n",
       " [('for', 'ADP'), (('hobbyists', 'CONJ'), ('hobbyists', 'NOUN'))],\n",
       " [('the', 'DET'), (('Homebrew', 'CONJ'), ('Homebrew', 'NOUN'))],\n",
       " [('Computer', 'NOUN'), (('Club', 'CONJ'), ('Club', 'NOUN'))],\n",
       " [('*', 'X'), (('designing', 'CONJ'), ('designing', 'VERB'))],\n",
       " [('*ICH*-1', 'X'), (('Gayle', 'CONJ'), ('Gayle', 'NOUN'))],\n",
       " [('incentive', 'NOUN'), (('pay', 'VERB'), ('pay', 'NOUN'))],\n",
       " [('opened', 'VERB'), (('up', 'ADV'), ('up', 'PRT'))],\n",
       " [('a', 'DET'), (('can', 'VERB'), ('can', 'NOUN'))],\n",
       " [('of', 'ADP'), (('worms', 'CONJ'), ('worms', 'NOUN'))],\n",
       " [('.', '.'), (('Bribe', 'CONJ'), ('Bribe', 'NOUN'))],\n",
       " [('by', 'ADP'), (('bribe', 'CONJ'), ('bribe', 'NOUN'))],\n",
       " [(',', '.'), (('Matthew', 'CONJ'), ('Matthew', 'NOUN'))],\n",
       " [('C.', 'NOUN'), (('Harrison', 'CONJ'), ('Harrison', 'NOUN'))],\n",
       " [('the', 'DET'), (('path', 'CONJ'), ('path', 'NOUN'))],\n",
       " [('Wedtech', 'NOUN'), (('traveled', 'CONJ'), ('traveled', 'VERB'))],\n",
       " [('its', 'PRON'), (('inception', 'CONJ'), ('inception', 'NOUN'))],\n",
       " [('small', 'ADJ'), (('manufacturing', 'NOUN'), ('manufacturing', 'VERB'))],\n",
       " [('of', 'ADP'), (('full-fledged', 'CONJ'), ('full-fledged', 'ADJ'))],\n",
       " [('producing', 'VERB'), (('vital', 'CONJ'), ('vital', 'ADJ'))],\n",
       " [('reached', 'VERB'), (('*-120', 'CONJ'), ('*-120', 'X'))],\n",
       " [('The', 'DET'), (('CEO', 'CONJ'), ('CEO', 'NOUN'))],\n",
       " [('CEO', 'NOUN'), (('succession', 'CONJ'), ('succession', 'NOUN'))],\n",
       " [('take', 'VERB'), (('early', 'ADV'), ('early', 'ADJ'))],\n",
       " [('its', 'PRON'), (('finance', 'VERB'), ('finance', 'NOUN'))],\n",
       " [('succeeded', 'VERB'), (('Bennett', 'CONJ'), ('Bennett', 'NOUN'))],\n",
       " [('Bennett', 'NOUN'), (('Cerf', 'CONJ'), ('Cerf', 'NOUN'))],\n",
       " [('in', 'ADP'), (('1925', 'CONJ'), ('1925', 'NUM'))],\n",
       " [('the', 'DET'), (('bitterness', 'CONJ'), ('bitterness', 'NOUN'))],\n",
       " [('and', 'CONJ'), (('anger', 'CONJ'), ('anger', 'NOUN'))],\n",
       " [('a', 'DET'), (('betrayer', 'CONJ'), ('betrayer', 'NOUN'))],\n",
       " [('who', 'PRON'), (('*T*-82', 'CONJ'), ('*T*-82', 'X'))],\n",
       " [('who', 'PRON'), (('*T*-83', 'CONJ'), ('*T*-83', 'X'))],\n",
       " [('of', 'ADP'), (('school-district', 'CONJ'), ('school-district', 'NOUN'))],\n",
       " [('officials', 'NOUN'), (('stunned', 'CONJ'), ('stunned', 'ADJ'))],\n",
       " [('stunned', 'ADJ'), (('that', 'DET'), ('that', 'ADP'))],\n",
       " [('the', 'DET'), (('bald-faced', 'CONJ'), ('bald-faced', 'ADJ'))],\n",
       " [('local', 'ADJ'), (('martyr', 'CONJ'), ('martyr', 'NOUN'))],\n",
       " [('No', 'DET'), (('one', 'NUM'), ('one', 'NOUN'))],\n",
       " [('I', 'PRON'), (('visited', 'CONJ'), ('visited', 'VERB'))],\n",
       " [('employed', 'VERB'), (('*-149', 'CONJ'), ('*-149', 'X'))],\n",
       " [('--', '.'), (('twice', 'CONJ'), ('twice', 'ADV'))],\n",
       " [('twice', 'ADV'), (('as', 'ADP'), ('as', 'ADV'))],\n",
       " [('and', 'CONJ'), (('dancing', 'CONJ'), ('dancing', 'NOUN'))],\n",
       " [(\"'s\", 'VERB'), (('imaginative', 'CONJ'), ('imaginative', 'ADJ'))],\n",
       " [('and', 'CONJ'), (('chief', 'NOUN'), ('chief', 'ADJ'))],\n",
       " [('chief', 'ADJ'), (('executive', 'NOUN'), ('executive', 'ADJ'))],\n",
       " [('improved', 'VERB'), (('operating', 'VERB'), ('operating', 'NOUN'))],\n",
       " [('operating', 'NOUN'), (('efficiencies', 'CONJ'), ('efficiencies', 'NOUN'))],\n",
       " [('$', '.'), (('126.1', 'CONJ'), ('126.1', 'NUM'))],\n",
       " [('has', 'VERB'), (('hunted', 'CONJ'), ('hunted', 'VERB'))],\n",
       " [('other', 'ADJ'), (('bargains', 'CONJ'), ('bargains', 'NOUN'))],\n",
       " [('0', 'X'), (('that', 'ADP'), ('that', 'DET'))],\n",
       " [('largest', 'ADJ'), (('supplier', 'CONJ'), ('supplier', 'NOUN'))],\n",
       " [('.', '.'), (('Strong', 'CONJ'), ('Strong', 'ADJ'))],\n",
       " [('black', 'ADJ'), (('widow', 'CONJ'), ('widow', 'NOUN'))],\n",
       " [('female', 'ADJ'), (('spiders', 'CONJ'), ('spiders', 'NOUN'))],\n",
       " [('that', 'DET'), (('*T*-231', 'CONJ'), ('*T*-231', 'X'))],\n",
       " [('attract', 'VERB'), (('males', 'CONJ'), ('males', 'NOUN'))],\n",
       " [('after', 'ADP'), (('mating', 'CONJ'), ('mating', 'VERB'))],\n",
       " [('bought', 'VERB'), (('back', 'ADV'), ('back', 'PRT'))],\n",
       " [('about', 'ADP'), (('15.5', 'CONJ'), ('15.5', 'NUM'))],\n",
       " [('in', 'ADP'), (('Westport', 'CONJ'), ('Westport', 'NOUN'))],\n",
       " [('of', 'ADP'), (('punitive', 'CONJ'), ('punitive', 'ADJ'))],\n",
       " [('to', 'PRT'), (('license', 'NOUN'), ('license', 'VERB'))],\n",
       " [('due', 'ADJ'), (('1995', 'CONJ'), ('1995', 'NUM'))],\n",
       " [('fell', 'VERB'), (('9\\\\/32', 'CONJ'), ('9\\\\/32', 'NUM'))],\n",
       " [('to', 'PRT'), (('103', 'CONJ'), ('103', 'NUM'))],\n",
       " [('yield', 'VERB'), (('11.10', 'CONJ'), ('11.10', 'NUM'))],\n",
       " [('.', '.'), (('Note', 'CONJ'), ('Note', 'VERB'))],\n",
       " [('All', 'DET'), (('per-share', 'CONJ'), ('per-share', 'ADJ'))],\n",
       " [('.', '.'), (('Sumitomo', 'CONJ'), ('Sumitomo', 'NOUN'))],\n",
       " [('Sumitomo', 'NOUN'), (('Metal', 'CONJ'), ('Metal', 'NOUN'))],\n",
       " [('to', 'PRT'), (('692', 'CONJ'), ('692', 'NUM'))],\n",
       " [('to', 'PRT'), (('960', 'CONJ'), ('960', 'NUM'))],\n",
       " [('Only', 'ADV'), (('26.8', 'CONJ'), ('26.8', 'NUM'))],\n",
       " [('with', 'ADP'), (('28.5', 'CONJ'), ('28.5', 'NUM'))],\n",
       " [('and', 'CONJ'), (('26.8', 'CONJ'), ('26.8', 'NUM'))],\n",
       " [('Leo', 'NOUN'), (('Melamed', 'CONJ'), ('Melamed', 'NOUN'))],\n",
       " [('to', 'PRT'), (('lessen', 'CONJ'), ('lessen', 'VERB'))],\n",
       " [('selling', 'NOUN'), (('panic', 'VERB'), ('panic', 'NOUN'))],\n",
       " [('shareholders', 'NOUN'), (('cleared', 'CONJ'), ('cleared', 'VERB'))],\n",
       " [('trading', 'NOUN'), (('roadblock', 'CONJ'), ('roadblock', 'NOUN'))],\n",
       " [('beaten', 'VERB'), (('*-82', 'CONJ'), ('*-82', 'X'))],\n",
       " [('seeking', 'VERB'), (('better', 'ADV'), ('better', 'ADJ'))],\n",
       " [('their', 'PRON'), (('high-volume', 'CONJ'), ('high-volume', 'ADJ'))],\n",
       " [('or', 'CONJ'), (('overseas', 'ADJ'), ('overseas', 'ADV'))],\n",
       " [('best', 'ADJ'), (('known', 'ADJ'), ('known', 'VERB'))],\n",
       " [('the', 'DET'), (('creator', 'CONJ'), ('creator', 'NOUN'))],\n",
       " [('team', 'NOUN'),\n",
       "  (('car-development', 'CONJ'), ('car-development', 'NOUN'))],\n",
       " [('approach', 'NOUN'), (('that', 'ADP'), ('that', 'DET'))],\n",
       " [('two', 'NUM'), (('midsized', 'ADJ'), ('midsized', 'VERB'))],\n",
       " [('cars', 'NOUN'), (('that', 'ADP'), ('that', 'DET'))],\n",
       " [('maker', 'NOUN'), (('record', 'NOUN'), ('record', 'VERB'))],\n",
       " [('to', 'PRT'), (('eclipse', 'CONJ'), ('eclipse', 'VERB'))],\n",
       " [('the', 'DET'), (('top-selling', 'CONJ'), ('top-selling', 'ADJ'))],\n",
       " [('Consolidated', 'NOUN'), (('Rail', 'CONJ'), ('Rail', 'NOUN'))],\n",
       " [('1,000', 'NUM'), (('enclosed', 'CONJ'), ('enclosed', 'VERB'))],\n",
       " [('*', 'X'), (('transporting', 'CONJ'), ('transporting', 'VERB'))],\n",
       " [('transporting', 'VERB'), (('autos', 'CONJ'), ('autos', 'NOUN'))],\n",
       " [('the', 'DET'), (('particulars', 'CONJ'), ('particulars', 'NOUN'))],\n",
       " [(\"'s\", 'PRT'), (('offense', 'CONJ'), ('offense', 'NOUN'))],\n",
       " [('often', 'ADV'), (('buys', 'CONJ'), ('buys', 'VERB'))],\n",
       " [('U.S.', 'NOUN'), (('grains', 'CONJ'), ('grains', 'NOUN'))],\n",
       " [('which', 'DET'), (('*T*-133', 'CONJ'), ('*T*-133', 'X'))],\n",
       " [('for', 'ADP'), (('alleged', 'ADJ'), ('alleged', 'VERB'))],\n",
       " [('steel', 'NOUN'), (('mill', 'CONJ'), ('mill', 'NOUN'))],\n",
       " [('Ward', 'NOUN'), (('resolved', 'CONJ'), ('resolved', 'VERB'))],\n",
       " [('to', 'PRT'), (('clean', 'CONJ'), ('clean', 'VERB'))],\n",
       " [('clean', 'VERB'), (('out', 'ADP'), ('out', 'PRT'))],\n",
       " [('``', '.'), (('deadwood', 'CONJ'), ('deadwood', 'NOUN'))],\n",
       " [('.', '.'), (('So', 'ADV'), ('So', 'ADP'))],\n",
       " [('*-2', 'X'), (('successfully', 'CONJ'), ('successfully', 'ADV'))],\n",
       " [('successfully', 'ADV'), (('mobilizing', 'CONJ'), ('mobilizing', 'VERB'))],\n",
       " [('to', 'PRT'), (('bludgeon', 'CONJ'), ('bludgeon', 'VERB'))],\n",
       " [('their', 'PRON'), (('tormentors', 'CONJ'), ('tormentors', 'NOUN'))],\n",
       " [('stations', 'NOUN'), (('that', 'ADP'), ('that', 'DET'))],\n",
       " [('that', 'DET'), (('*T*-149', 'CONJ'), ('*T*-149', 'X'))],\n",
       " [('years', 'NOUN'), (('ago', 'ADP'), ('ago', 'ADV'))],\n",
       " [('been', 'VERB'), (('firmly', 'CONJ'), ('firmly', 'ADV'))],\n",
       " [('provide', 'VERB'), (('early', 'ADV'), ('early', 'ADJ'))],\n",
       " [('early', 'ADJ'), (('warning', 'VERB'), ('warning', 'NOUN'))],\n",
       " [('warning', 'NOUN'), (('signals', 'VERB'), ('signals', 'NOUN'))],\n",
       " [('yield', 'VERB'), (('3.43', 'CONJ'), ('3.43', 'NUM'))],\n",
       " [('About', 'ADP'), (('11.6', 'CONJ'), ('11.6', 'NUM'))],\n",
       " [('to', 'PRT'), (('oust', 'CONJ'), ('oust', 'VERB'))],\n",
       " [('of', 'ADP'), (('Datapoint', 'CONJ'), ('Datapoint', 'NOUN'))],\n",
       " [('to', 'PRT'), (('fund', 'NOUN'), ('fund', 'VERB'))],\n",
       " [('global', 'ADJ'), (('warming', 'CONJ'), ('warming', 'NOUN'))],\n",
       " [('African', 'ADJ'), (('elephant', 'CONJ'), ('elephant', 'NOUN'))],\n",
       " [('in', 'ADP'), (('warehouses', 'CONJ'), ('warehouses', 'NOUN'))],\n",
       " [('*EXP*-1', 'X'), ((\"'s\", 'PRT'), (\"'s\", 'VERB'))],\n",
       " [('a', 'DET'), (('17-year-old', 'CONJ'), ('17-year-old', 'ADJ'))],\n",
       " [('.', '.'), (('Midwesco', 'CONJ'), ('Midwesco', 'NOUN'))],\n",
       " [('Midwesco', 'NOUN'), (('Filter', 'CONJ'), ('Filter', 'NOUN'))],\n",
       " [('of', 'ADP'), (('830,000', 'CONJ'), ('830,000', 'NUM'))],\n",
       " [('in', 'ADP'), (('detail', 'CONJ'), ('detail', 'NOUN'))],\n",
       " [('led', 'VERB'), (('*-96', 'CONJ'), ('*-96', 'X'))],\n",
       " [(',', '.'), (('Burt', 'CONJ'), ('Burt', 'NOUN'))],\n",
       " [('Burt', 'NOUN'), (('Sugarman', 'CONJ'), ('Sugarman', 'NOUN'))],\n",
       " [('M.', 'NOUN'), (('Trotter', 'CONJ'), ('Trotter', 'NOUN'))],\n",
       " [('E.', 'NOUN'), (('Trotter', 'CONJ'), ('Trotter', 'NOUN'))],\n",
       " [('a', 'DET'), (('42.5', 'CONJ'), ('42.5', 'NUM'))],\n",
       " [('and', 'CONJ'), (('plan', 'NOUN'), ('plan', 'VERB'))],\n",
       " [(\"'s\", 'PRT'), (('nine-member', 'CONJ'), ('nine-member', 'ADJ'))],\n",
       " [('.', '.'), (('9.82', 'CONJ'), ('9.82', 'NUM'))],\n",
       " [('rate', 'NOUN'), (('capped', 'VERB'), ('capped', 'ADJ'))],\n",
       " [('$', '.'), (('492', 'CONJ'), ('492', 'NUM'))],\n",
       " [('$', '.'), (('4.55', 'CONJ'), ('4.55', 'NUM'))],\n",
       " [('$', '.'), (('12.97', 'CONJ'), ('12.97', 'NUM'))],\n",
       " [('.', '.'), (('Far', 'CONJ'), ('Far', 'ADV'))],\n",
       " [('Far', 'ADV'), (('above', 'ADP'), ('above', 'ADV'))],\n",
       " [('huge', 'ADJ'), (('bronze', 'CONJ'), ('bronze', 'NOUN'))],\n",
       " [('on', 'ADP'), (('wheels', 'CONJ'), ('wheels', 'NOUN'))],\n",
       " [(',', '.'), (('swing', 'NOUN'), ('swing', 'VERB'))],\n",
       " [('swing', 'VERB'), (('madly', 'CONJ'), ('madly', 'ADV'))],\n",
       " [('full', 'ADJ'), (('360', 'CONJ'), ('360', 'NUM'))],\n",
       " [('the', 'DET'), (('inverted', 'CONJ'), ('inverted', 'ADJ'))],\n",
       " [('or', 'CONJ'), (('mouth-up', 'CONJ'), ('mouth-up', 'ADJ'))],\n",
       " [('been', 'VERB'), (('disruptive', 'CONJ'), ('disruptive', 'ADJ'))],\n",
       " [('.', '.'), (('F.H.', 'CONJ'), ('F.H.', 'NOUN'))],\n",
       " [('.', '.'), (('Yet', 'CONJ'), ('Yet', 'ADV'))],\n",
       " [('those', 'DET'), (('related', 'ADJ'), ('related', 'VERB'))],\n",
       " [('the', 'DET'), (('Cray-3', 'NOUN'), ('Cray-3', 'NUM'))],\n",
       " [('long-term', 'ADJ'), (('play', 'VERB'), ('play', 'NOUN'))],\n",
       " [('.', '.'), (('Use', 'CONJ'), ('Use', 'NOUN'))],\n",
       " [('learned', 'VERB'), (('that', 'ADP'), ('that', 'DET'))],\n",
       " [('is', 'VERB'), (('sufficient', 'CONJ'), ('sufficient', 'ADJ'))],\n",
       " [('.', '.'), (('So', 'ADV'), ('So', 'ADP'))],\n",
       " [(\"'s\", 'PRT'), (('budding', 'CONJ'), ('budding', 'VERB'))],\n",
       " [('budding', 'VERB'), (('logistical', 'CONJ'), ('logistical', 'ADJ'))],\n",
       " [('``', '.'), (('photographic', 'CONJ'), ('photographic', 'ADJ'))],\n",
       " [('*-1', 'X'), (('Observing', 'CONJ'), ('Observing', 'VERB'))],\n",
       " [('Observing', 'VERB'), (('that', 'DET'), ('that', 'ADP'))],\n",
       " [('never', 'ADV'), (('exhibited', 'CONJ'), ('exhibited', 'VERB'))],\n",
       " [('or', 'CONJ'), (('prejudice', 'CONJ'), ('prejudice', 'NOUN'))],\n",
       " [('be', 'VERB'), (('impartial', 'CONJ'), ('impartial', 'ADJ'))],\n",
       " [('a', 'DET'), (('homosexual', 'ADJ'), ('homosexual', 'NOUN'))],\n",
       " [('or', 'CONJ'), (('prostitute', 'CONJ'), ('prostitute', 'NOUN'))],\n",
       " [('``', '.'), (('that', 'DET'), ('that', 'ADP'))],\n",
       " [('to', 'PRT'), (('preclude', 'CONJ'), ('preclude', 'VERB'))],\n",
       " [('*', 'X'), (('disseminating', 'CONJ'), ('disseminating', 'VERB'))],\n",
       " [('information', 'NOUN'),\n",
       "  (('domestically', 'CONJ'), ('domestically', 'ADV'))],\n",
       " [('GMAC', 'NOUN'), (('screened', 'CONJ'), ('screened', 'VERB'))],\n",
       " [('the', 'DET'), (('card-member', 'CONJ'), ('card-member', 'NOUN'))],\n",
       " [('holders', 'NOUN'), (('more', 'ADV'), ('more', 'ADJ'))],\n",
       " [('household', 'NOUN'), (('incomes', 'CONJ'), ('incomes', 'NOUN'))],\n",
       " [('``', '.'), (('missed', 'CONJ'), ('missed', 'VERB'))],\n",
       " [('``', '.'), (('Unemployment', 'CONJ'), ('Unemployment', 'NOUN'))],\n",
       " [('the', 'DET'), (('purchasing', 'NOUN'), ('purchasing', 'VERB'))],\n",
       " [('weekly', 'ADJ'), (('paycheck', 'CONJ'), ('paycheck', 'NOUN'))],\n",
       " [('paycheck', 'NOUN'), (('reasonably', 'CONJ'), ('reasonably', 'ADV'))],\n",
       " [('The', 'DET'), (('forthcoming', 'CONJ'), ('forthcoming', 'ADJ'))],\n",
       " [('a', 'DET'), (('10-year', 'ADJ'), ('10-year', 'NUM'))],\n",
       " [('government', 'NOUN'),\n",
       "  (('yen-denominated', 'CONJ'), ('yen-denominated', 'ADJ'))],\n",
       " [('at', 'ADP'), (('about', 'ADP'), ('about', 'ADV'))],\n",
       " [('investors', 'NOUN'), (('redeeming', 'CONJ'), ('redeeming', 'VERB'))]]"
      ]
     },
     "execution_count": 36,
     "metadata": {},
     "output_type": "execute_result"
    }
   ],
   "source": [
    "# Checking the cases which are incorrectly identified by the plain vanilla viterbi\n",
    "incorrect_tagged_cases_plain"
   ]
  },
  {
   "cell_type": "code",
   "execution_count": 37,
   "metadata": {},
   "outputs": [
    {
     "data": {
      "text/plain": [
       "473"
      ]
     },
     "execution_count": 37,
     "metadata": {},
     "output_type": "execute_result"
    }
   ],
   "source": [
    "# Checking the number of incorrect cases from implementation of plain vanilla viterbi cases\n",
    "len(incorrect_tagged_cases_plain)"
   ]
  },
  {
   "cell_type": "code",
   "execution_count": 38,
   "metadata": {},
   "outputs": [
    {
     "data": {
      "text/plain": [
       "{\"'30s\",\n",
       " '*-120',\n",
       " '*-121',\n",
       " '*-145',\n",
       " '*-149',\n",
       " '*-30',\n",
       " '*-67',\n",
       " '*-82',\n",
       " '*-96',\n",
       " '*T*-133',\n",
       " '*T*-149',\n",
       " '*T*-164',\n",
       " '*T*-186',\n",
       " '*T*-225',\n",
       " '*T*-231',\n",
       " '*T*-82',\n",
       " '*T*-83',\n",
       " '*T*-95',\n",
       " '100,980',\n",
       " '103',\n",
       " '11.10',\n",
       " '11.6',\n",
       " '12.97',\n",
       " '126.1',\n",
       " '15.5',\n",
       " '17-year-old',\n",
       " '176.1',\n",
       " '184',\n",
       " '1925',\n",
       " '1995',\n",
       " '2,099',\n",
       " '26.8',\n",
       " '260',\n",
       " '28.5',\n",
       " '3.16',\n",
       " '3.28',\n",
       " '3.43',\n",
       " '300-113',\n",
       " '353',\n",
       " '36-store',\n",
       " '360',\n",
       " '361,376',\n",
       " '4.55',\n",
       " '42.5',\n",
       " '45.75',\n",
       " '47.5',\n",
       " '492',\n",
       " '55-year-old',\n",
       " '692',\n",
       " '722',\n",
       " '75-year-old',\n",
       " '830,000',\n",
       " '9.82',\n",
       " '960',\n",
       " '9\\\\/32',\n",
       " 'Alliance',\n",
       " 'Bennett',\n",
       " 'Bribe',\n",
       " 'Burt',\n",
       " 'CEO',\n",
       " 'Cerf',\n",
       " 'Club',\n",
       " 'Composer',\n",
       " 'Cos.',\n",
       " 'Datapoint',\n",
       " 'Davies',\n",
       " 'Deane',\n",
       " 'Doerflinger',\n",
       " 'Duchossois',\n",
       " 'Either',\n",
       " 'Elmhurst',\n",
       " 'Eveready',\n",
       " 'F.H.',\n",
       " 'Far',\n",
       " 'Filter',\n",
       " 'Gayle',\n",
       " 'Gelles',\n",
       " 'Glass',\n",
       " 'Grain',\n",
       " 'Hackensack',\n",
       " 'Harrison',\n",
       " 'Homebrew',\n",
       " 'Huber',\n",
       " 'Indexing',\n",
       " 'Jobs',\n",
       " 'Kathryn',\n",
       " 'Kuhns',\n",
       " 'Langner',\n",
       " 'Long-term',\n",
       " 'Marc',\n",
       " 'Marder',\n",
       " 'Marina',\n",
       " 'Matthew',\n",
       " 'McAuley',\n",
       " 'Melamed',\n",
       " 'Metal',\n",
       " 'Midwesco',\n",
       " 'Myron',\n",
       " 'Note',\n",
       " 'Observing',\n",
       " 'Performing',\n",
       " 'R',\n",
       " 'Rail',\n",
       " 'Researchers',\n",
       " 'Rey',\n",
       " 'Ricken',\n",
       " 'Russian',\n",
       " 'Schroder',\n",
       " 'Senior',\n",
       " 'Signet',\n",
       " 'Strong',\n",
       " 'Strother',\n",
       " 'Sugarman',\n",
       " 'Sumitomo',\n",
       " 'Tassinari',\n",
       " 'Ten',\n",
       " 'Thrall',\n",
       " 'Toys',\n",
       " 'Trotter',\n",
       " 'Unemployment',\n",
       " 'Us',\n",
       " 'Use',\n",
       " 'Warrenton',\n",
       " 'Wertheim',\n",
       " 'Westport',\n",
       " 'Wozniak',\n",
       " 'abortion-related',\n",
       " 'accounted',\n",
       " 'acted',\n",
       " 'aesthetic',\n",
       " 'airline-related',\n",
       " 'am',\n",
       " 'anger',\n",
       " 'annoyed',\n",
       " 'anti-miscarriage',\n",
       " 'anyway',\n",
       " 'apparent',\n",
       " 'architectural',\n",
       " 'autos',\n",
       " 'bald-faced',\n",
       " 'bankruptcy-law',\n",
       " 'bargains',\n",
       " 'barometer',\n",
       " 'bass',\n",
       " 'betrayer',\n",
       " 'binders',\n",
       " 'bitterness',\n",
       " 'bludgeon',\n",
       " 'bribe',\n",
       " 'bronze',\n",
       " 'buck',\n",
       " 'budding',\n",
       " 'buys',\n",
       " 'cable',\n",
       " 'car-development',\n",
       " 'card-member',\n",
       " 'caveat',\n",
       " 'cells',\n",
       " 'centennial',\n",
       " 'chamber',\n",
       " 'chaos',\n",
       " 'characters',\n",
       " 'circle',\n",
       " 'citation',\n",
       " 'classical',\n",
       " 'clean',\n",
       " 'cleared',\n",
       " 'coke',\n",
       " 'confrontational',\n",
       " 'congressman',\n",
       " 'contingency-fee',\n",
       " 'couples',\n",
       " 'creator',\n",
       " 'curbed',\n",
       " 'curtailed',\n",
       " 'dams',\n",
       " 'dancing',\n",
       " 'deadwood',\n",
       " 'dean',\n",
       " 'decides',\n",
       " 'definitive',\n",
       " 'del',\n",
       " 'den',\n",
       " 'designing',\n",
       " 'desktop',\n",
       " 'detail',\n",
       " 'disappears',\n",
       " 'disruptive',\n",
       " 'disseminating',\n",
       " 'domestically',\n",
       " 'drastically',\n",
       " 'eclectic',\n",
       " 'eclipse',\n",
       " 'efficiencies',\n",
       " 'electrical-safety',\n",
       " 'elephant',\n",
       " 'enclosed',\n",
       " 'ensembles',\n",
       " 'enter',\n",
       " 'entertaining',\n",
       " 'established',\n",
       " 'exchanging',\n",
       " 'exciting',\n",
       " 'exhibited',\n",
       " 'explosive',\n",
       " 'fabricator',\n",
       " 'famed',\n",
       " 'farms',\n",
       " 'fattened',\n",
       " 'firmly',\n",
       " 'flashy',\n",
       " 'foot',\n",
       " 'forthcoming',\n",
       " 'foundering',\n",
       " 'four-color',\n",
       " 'free-enterprise',\n",
       " 'fronts',\n",
       " 'full-fledged',\n",
       " 'fuming',\n",
       " 'gambling',\n",
       " 'garage',\n",
       " 'grains',\n",
       " 'greedy',\n",
       " 'happening',\n",
       " 'headed',\n",
       " 'high-volume',\n",
       " 'hobbyists',\n",
       " 'hole',\n",
       " 'hunted',\n",
       " 'imaginative',\n",
       " 'impaired',\n",
       " 'impartial',\n",
       " 'inception',\n",
       " 'incomes',\n",
       " 'intertitles',\n",
       " 'introduces',\n",
       " 'intrusion',\n",
       " 'inverted',\n",
       " 'judgments',\n",
       " 'land-idling',\n",
       " 'lessen',\n",
       " 'logistical',\n",
       " 'lousy',\n",
       " 'madly',\n",
       " 'males',\n",
       " 'manipulators',\n",
       " 'martyr',\n",
       " 'mating',\n",
       " 'mid-afternoon',\n",
       " 'milestones',\n",
       " 'mill',\n",
       " 'missed',\n",
       " 'mobilizing',\n",
       " 'mouth-up',\n",
       " 'multilevel',\n",
       " 'nine-member',\n",
       " 'oblivion',\n",
       " 'odds',\n",
       " 'offense',\n",
       " 'oust',\n",
       " 'override',\n",
       " 'overriding',\n",
       " 'particulars',\n",
       " 'path',\n",
       " 'paycheck',\n",
       " 'per-share',\n",
       " 'photographic',\n",
       " 'pre-Communist',\n",
       " 'pre-tax',\n",
       " 'preapproved',\n",
       " 'preclude',\n",
       " 'prejudice',\n",
       " 'price-depressing',\n",
       " 'prize-fighter',\n",
       " 'prostitute',\n",
       " 'pulling',\n",
       " 'punitive',\n",
       " 'rarely',\n",
       " 'reasonably',\n",
       " 'recyclable',\n",
       " 'redeeming',\n",
       " 'repayment',\n",
       " 'researching',\n",
       " 'resolved',\n",
       " 'roadblock',\n",
       " 'rope',\n",
       " 'school-district',\n",
       " 'screened',\n",
       " 'semicircular',\n",
       " 'seven-yen',\n",
       " 'shambles',\n",
       " 'shirt-sleeved',\n",
       " 'slowdowns',\n",
       " 'spiders',\n",
       " 'spun',\n",
       " 'stacked',\n",
       " 'staffs',\n",
       " 'sterling',\n",
       " 'stunned',\n",
       " 'successfully',\n",
       " 'succession',\n",
       " 'sufficient',\n",
       " 'sunlight',\n",
       " 'supplier',\n",
       " 'surpluses',\n",
       " 'tenth',\n",
       " 'top-level',\n",
       " 'top-selling',\n",
       " 'tormentors',\n",
       " 'tort',\n",
       " 'transporting',\n",
       " 'traveled',\n",
       " 'twice',\n",
       " 'twin',\n",
       " 'ultimatum',\n",
       " 'undesirable',\n",
       " 'universities',\n",
       " 'upturn',\n",
       " 'visited',\n",
       " 'vital',\n",
       " 'walls',\n",
       " 'warehouses',\n",
       " 'warehousing',\n",
       " 'warming',\n",
       " 'wheels',\n",
       " 'widow',\n",
       " 'winner',\n",
       " 'worms',\n",
       " 'yen-denominated'}"
      ]
     },
     "execution_count": 38,
     "metadata": {},
     "output_type": "execute_result"
    }
   ],
   "source": [
    "# Checking the list of unknown words which are not present in training dataset\n",
    "unknown_validation=set(validation_tagged_words)-V\n",
    "unknown_validation"
   ]
  },
  {
   "cell_type": "code",
   "execution_count": 39,
   "metadata": {},
   "outputs": [
    {
     "data": {
      "text/plain": [
       "329"
      ]
     },
     "execution_count": 39,
     "metadata": {},
     "output_type": "execute_result"
    }
   ],
   "source": [
    "# Checking the number of unknown words\n",
    "len(unknown_validation)"
   ]
  },
  {
   "cell_type": "markdown",
   "metadata": {},
   "source": [
    "#### 3.2 Implementing the plain vanilla viterbi on test sample to check the performance"
   ]
  },
  {
   "cell_type": "code",
   "execution_count": 40,
   "metadata": {},
   "outputs": [],
   "source": [
    "# Implementing the plain vanilla viterbi on test sample\n",
    "sentence_test = \"Android is a mobile operating system developed by Google. Android has been the best-selling OS worldwide on smartphones since 2011 and on tablets since 2013. Google and Twitter made a deal in 2015 that gave Google access to Twitter's firehose. Twitter is an online news and social networking service on which users post and interact with messages known as tweets. Before entering politics, Donald Trump was a domineering businessman and a television personality. The 2018 FIFA World Cup is the 21st FIFA World Cup, an international football tournament contested once every four years. This is the first World Cup to be held in Eastern Europe and the 11th time that it has been held in Europe. Show me the cheapest round trips from Dallas to Atlanta I would like to see flights from Denver to Philadelphia. Show me the price of the flights leaving Atlanta at about 3 in the afternoon and arriving in San Francisco. NASA invited social media users to experience the launch of ICESAT-2 Satellite.\"\n",
    "\n",
    "words = word_tokenize(sentence_test)\n",
    "\n",
    "start = time.time()\n",
    "tagged_seq = Viterbi(words)\n",
    "end = time.time()\n",
    "difference = end-start"
   ]
  },
  {
   "cell_type": "code",
   "execution_count": 41,
   "metadata": {},
   "outputs": [
    {
     "name": "stdout",
     "output_type": "stream",
     "text": [
      "[('Android', 'CONJ'), ('is', 'VERB'), ('a', 'DET'), ('mobile', 'ADJ'), ('operating', 'NOUN'), ('system', 'NOUN'), ('developed', 'VERB'), ('by', 'ADP'), ('Google', 'CONJ'), ('.', '.'), ('Android', 'CONJ'), ('has', 'VERB'), ('been', 'VERB'), ('the', 'DET'), ('best-selling', 'ADJ'), ('OS', 'CONJ'), ('worldwide', 'CONJ'), ('on', 'ADP'), ('smartphones', 'CONJ'), ('since', 'ADP'), ('2011', 'CONJ'), ('and', 'CONJ'), ('on', 'ADP'), ('tablets', 'NOUN'), ('since', 'ADP'), ('2013', 'CONJ'), ('.', '.'), ('Google', 'CONJ'), ('and', 'CONJ'), ('Twitter', 'CONJ'), ('made', 'VERB'), ('a', 'DET'), ('deal', 'NOUN'), ('in', 'ADP'), ('2015', 'CONJ'), ('that', 'DET'), ('gave', 'VERB'), ('Google', 'CONJ'), ('access', 'NOUN'), ('to', 'PRT'), ('Twitter', 'CONJ'), (\"'s\", 'PRT'), ('firehose', 'CONJ'), ('.', '.'), ('Twitter', 'CONJ'), ('is', 'VERB'), ('an', 'DET'), ('online', 'CONJ'), ('news', 'NOUN'), ('and', 'CONJ'), ('social', 'ADJ'), ('networking', 'NOUN'), ('service', 'NOUN'), ('on', 'ADP'), ('which', 'DET'), ('users', 'NOUN'), ('post', 'NOUN'), ('and', 'CONJ'), ('interact', 'CONJ'), ('with', 'ADP'), ('messages', 'CONJ'), ('known', 'VERB'), ('as', 'ADP'), ('tweets', 'CONJ'), ('.', '.'), ('Before', 'ADP'), ('entering', 'VERB'), ('politics', 'NOUN'), (',', '.'), ('Donald', 'NOUN'), ('Trump', 'NOUN'), ('was', 'VERB'), ('a', 'DET'), ('domineering', 'CONJ'), ('businessman', 'NOUN'), ('and', 'CONJ'), ('a', 'DET'), ('television', 'NOUN'), ('personality', 'CONJ'), ('.', '.'), ('The', 'DET'), ('2018', 'CONJ'), ('FIFA', 'CONJ'), ('World', 'NOUN'), ('Cup', 'CONJ'), ('is', 'VERB'), ('the', 'DET'), ('21st', 'CONJ'), ('FIFA', 'CONJ'), ('World', 'NOUN'), ('Cup', 'CONJ'), (',', '.'), ('an', 'DET'), ('international', 'ADJ'), ('football', 'NOUN'), ('tournament', 'CONJ'), ('contested', 'CONJ'), ('once', 'ADV'), ('every', 'DET'), ('four', 'NUM'), ('years', 'NOUN'), ('.', '.'), ('This', 'DET'), ('is', 'VERB'), ('the', 'DET'), ('first', 'ADJ'), ('World', 'NOUN'), ('Cup', 'CONJ'), ('to', 'PRT'), ('be', 'VERB'), ('held', 'VERB'), ('in', 'ADP'), ('Eastern', 'NOUN'), ('Europe', 'NOUN'), ('and', 'CONJ'), ('the', 'DET'), ('11th', 'ADJ'), ('time', 'NOUN'), ('that', 'ADP'), ('it', 'PRON'), ('has', 'VERB'), ('been', 'VERB'), ('held', 'VERB'), ('in', 'ADP'), ('Europe', 'NOUN'), ('.', '.'), ('Show', 'NOUN'), ('me', 'PRON'), ('the', 'DET'), ('cheapest', 'ADJ'), ('round', 'NOUN'), ('trips', 'CONJ'), ('from', 'ADP'), ('Dallas', 'NOUN'), ('to', 'PRT'), ('Atlanta', 'NOUN'), ('I', 'PRON'), ('would', 'VERB'), ('like', 'ADP'), ('to', 'PRT'), ('see', 'VERB'), ('flights', 'NOUN'), ('from', 'ADP'), ('Denver', 'NOUN'), ('to', 'PRT'), ('Philadelphia', 'NOUN'), ('.', '.'), ('Show', 'NOUN'), ('me', 'PRON'), ('the', 'DET'), ('price', 'NOUN'), ('of', 'ADP'), ('the', 'DET'), ('flights', 'NOUN'), ('leaving', 'VERB'), ('Atlanta', 'NOUN'), ('at', 'ADP'), ('about', 'ADP'), ('3', 'NUM'), ('in', 'ADP'), ('the', 'DET'), ('afternoon', 'NOUN'), ('and', 'CONJ'), ('arriving', 'CONJ'), ('in', 'ADP'), ('San', 'NOUN'), ('Francisco', 'NOUN'), ('.', '.'), ('NASA', 'CONJ'), ('invited', 'CONJ'), ('social', 'ADJ'), ('media', 'NOUN'), ('users', 'NOUN'), ('to', 'PRT'), ('experience', 'NOUN'), ('the', 'DET'), ('launch', 'NOUN'), ('of', 'ADP'), ('ICESAT-2', 'CONJ'), ('Satellite', 'CONJ'), ('.', '.')]\n",
      "37.09168767929077\n"
     ]
    }
   ],
   "source": [
    "# Printing the tagged words as predicted vanilla viterbi on test sample\n",
    "print(tagged_seq)\n",
    "print(difference)"
   ]
  },
  {
   "cell_type": "code",
   "execution_count": 42,
   "metadata": {},
   "outputs": [
    {
     "data": {
      "text/plain": [
       "{'2011',\n",
       " '2013',\n",
       " '2015',\n",
       " '2018',\n",
       " '21st',\n",
       " 'Android',\n",
       " 'Cup',\n",
       " 'FIFA',\n",
       " 'Google',\n",
       " 'ICESAT-2',\n",
       " 'NASA',\n",
       " 'OS',\n",
       " 'Satellite',\n",
       " 'Twitter',\n",
       " 'arriving',\n",
       " 'contested',\n",
       " 'domineering',\n",
       " 'firehose',\n",
       " 'interact',\n",
       " 'invited',\n",
       " 'messages',\n",
       " 'online',\n",
       " 'personality',\n",
       " 'smartphones',\n",
       " 'tournament',\n",
       " 'trips',\n",
       " 'tweets',\n",
       " 'worldwide'}"
      ]
     },
     "execution_count": 42,
     "metadata": {},
     "output_type": "execute_result"
    }
   ],
   "source": [
    "# Checking the unknown words from test sample\n",
    "sample_words=set(words)\n",
    "unknown_words=sample_words-V\n",
    "unknown_words"
   ]
  },
  {
   "cell_type": "markdown",
   "metadata": {},
   "source": [
    "### 4. Solve the problem of unknown words"
   ]
  },
  {
   "cell_type": "markdown",
   "metadata": {},
   "source": [
    "#### 4.1 Analysis of incorrect cases"
   ]
  },
  {
   "cell_type": "markdown",
   "metadata": {},
   "source": [
    "Lets first analyse the incorrect cases before analysing the unknown words"
   ]
  },
  {
   "cell_type": "code",
   "execution_count": 43,
   "metadata": {},
   "outputs": [],
   "source": [
    "incorrect_tag=[]\n",
    "for i in incorrect_tagged_cases_plain:\n",
    "    j=i[1]\n",
    "    k=j[1]\n",
    "    l=k[1]\n",
    "    incorrect_tag.append(l)"
   ]
  },
  {
   "cell_type": "code",
   "execution_count": 44,
   "metadata": {},
   "outputs": [
    {
     "name": "stdout",
     "output_type": "stream",
     "text": [
      "Counter({'NOUN': 187, 'ADJ': 84, 'VERB': 84, 'NUM': 41, 'ADV': 23, 'DET': 18, 'X': 18, 'ADP': 10, 'PRT': 8})\n"
     ]
    }
   ],
   "source": [
    "incorrect_tag_count=Counter(incorrect_tag)\n",
    "print(incorrect_tag_count)"
   ]
  },
  {
   "cell_type": "markdown",
   "metadata": {},
   "source": [
    "#### Observation:"
   ]
  },
  {
   "cell_type": "markdown",
   "metadata": {},
   "source": [
    "1. The number of NOUNS are tagged incorrectly most as compared to other tags followed by VERB, ADJ and NUM"
   ]
  },
  {
   "cell_type": "markdown",
   "metadata": {},
   "source": [
    "#### 4.2 Analysis of uknown words from validation dataset and test sample"
   ]
  },
  {
   "cell_type": "markdown",
   "metadata": {},
   "source": [
    "#### Observations:"
   ]
  },
  {
   "cell_type": "markdown",
   "metadata": {},
   "source": [
    "1. Proper Nouns\n",
    "\n",
    "Proper Nouns which are unknown are not identified correctly. They are identified randomly as CONJ, DET, etc.\n",
    "\n",
    "Example: Test sample: Android, Google, Twitter\n",
    "\n",
    "Validation Set: Bethlehem, Camilli, Alstyne"
   ]
  },
  {
   "cell_type": "markdown",
   "metadata": {},
   "source": [
    "2. Numbers\n",
    "\n",
    "Few numbers which are unknown are not identified correctly. They are identified randomly as NOUN, CONJ, etc.\n",
    "\n",
    "Example: Test sample: 2013, 2015\n",
    "\n",
    "Validation Set: 15.5, 18.3"
   ]
  },
  {
   "cell_type": "markdown",
   "metadata": {},
   "source": [
    "3. Random words\n",
    "\n",
    "There are words in the validation dataset which are unknown.\n",
    "\n",
    "Example: Validation Dataset: '*T*-114', '*T*-126', '*T*-129',  '*T*-162',"
   ]
  },
  {
   "cell_type": "markdown",
   "metadata": {},
   "source": [
    "4. Common Nouns\n",
    "\n",
    "Common Nouns which are unknown are not identified correctly. They are identified randomly as CONJ, DET, etc.\n",
    "\n",
    "Example: Test sample: tweets, smartphones, messages, etc.\n",
    "\n",
    "Validation Set: bankers, buyers, filters, etc."
   ]
  },
  {
   "cell_type": "markdown",
   "metadata": {},
   "source": [
    "4. Verbs\n",
    "\n",
    "Verbs which are unknown are not identified correctly. They are identified randomly as NOUN, CONJ, DET, etc.\n",
    "\n",
    "Example: Test sample: invited, contested, etc.\n",
    "\n",
    "Validation Set: achieved, accumulated, etc."
   ]
  },
  {
   "cell_type": "markdown",
   "metadata": {},
   "source": [
    "#### 4.3. Techninque 1: Rule based tagging"
   ]
  },
  {
   "cell_type": "markdown",
   "metadata": {},
   "source": [
    "#### Approach"
   ]
  },
  {
   "cell_type": "markdown",
   "metadata": {},
   "source": [
    "1. Tackling Proper Nouns:\n",
    "\n",
    "There are proper nouns which are unknown and they are not correctly identified. Since proper nouns starts with uppercase letter, they can be identified with regex expression and tag them as NOUN"
   ]
  },
  {
   "cell_type": "markdown",
   "metadata": {},
   "source": [
    "2. Tackling numbers\n",
    "\n",
    "There are number which are unknown and they are not correctly identified. Since numbers can be interger, float, etc., they can be identified with regex which can identify them and tag them as NUM"
   ]
  },
  {
   "cell_type": "markdown",
   "metadata": {},
   "source": [
    "3. Tackling verbs\n",
    "\n",
    "There are verbs which are unknow and are not correctly identified by the vanilla algorithm. It may not be possible to write a rule for all the unknow verbs but most of them ends with \"ed\" can be identified with regex expression and tag them as VERB"
   ]
  },
  {
   "cell_type": "markdown",
   "metadata": {},
   "source": [
    "4. Tackling random words\n",
    "\n",
    "There are random words present in the validation and there is a common pattern for those random word i.e they start with \"*\". They can be correctly identified with regex and tag as \"X\""
   ]
  },
  {
   "cell_type": "markdown",
   "metadata": {},
   "source": [
    "5. Tackling common nouns\n",
    "\n",
    "It is observed that most of words which are incorrectly identified in validation set are noun which can be proper as well as common noun. We have already decided on tackling proper noun. We can safely tag remaining words as NOUN which will correctly identify common noun"
   ]
  },
  {
   "cell_type": "code",
   "execution_count": 45,
   "metadata": {},
   "outputs": [],
   "source": [
    "# Defining a function with modification on plain vanilla with regarding rule based tagging\n",
    "\n",
    "def Viterbi_modified(words, train_bag = train_tagged_words):\n",
    "    state = []\n",
    "    T = list(set([pair[1] for pair in train_bag]))\n",
    "    \n",
    "    for key, word in enumerate(words):\n",
    "        #initialise list of probability column for a given observation\n",
    "        p = [] \n",
    "        for tag in T:\n",
    "            if key == 0:\n",
    "                transition_p = tags_df.loc['.', tag]\n",
    "            else:\n",
    "                transition_p = tags_df.loc[state[-1], tag]\n",
    "                \n",
    "            # computing emission and state probabilities\n",
    "            emission_p = word_given_tag(words[key], tag)[0]/word_given_tag(words[key], tag)[1]\n",
    "            state_probability = emission_p * transition_p    \n",
    "            p.append(state_probability)\n",
    "        \n",
    "        pmax=max(p)\n",
    "        \n",
    "        if pmax!=0:\n",
    "        # checking whether the word in unknown or not. If the word is not unknow, assinging the tag associated with max prob. \n",
    "            \n",
    "            state_max = T[p.index(pmax)] \n",
    "        \n",
    "        # if the word is unknown, writing various rules with regex to identify them and tagging correctly     \n",
    "        else:\n",
    "            for i in word:\n",
    "                if bool(re.search('^([A-Z])',i)):                       # writing a regex rule to identify proper noun\n",
    "                    state_max='NOUN'\n",
    "                elif bool(re.search(r'^-?[0-9]+(.[0-9]+)?$',i)):        # writing a regex rule to identify number\n",
    "                    state_max='NUM'\n",
    "                elif bool(re.search('\\*',i)):                           # writing a regex rule to identify random words\n",
    "                    state_max='X'\n",
    "                elif bool(re.search('ed$',i)):                          # writing a regex rule to identify verbs\n",
    "                    state_max='VERB'\n",
    "                elif bool(re.search('\\'s$',i)):                         # writing a regex rule to identify possessive nouns\n",
    "                    state_max='NOUN'\n",
    "                else:\n",
    "                    state_max='NOUN'                                    # writing a regex rule to tag remaining as nouns\n",
    "        state.append(state_max)\n",
    "    return list(zip(words, state))"
   ]
  },
  {
   "cell_type": "markdown",
   "metadata": {},
   "source": [
    "#### 4.3.1 Implementing technique 1 on test sample"
   ]
  },
  {
   "cell_type": "code",
   "execution_count": 46,
   "metadata": {},
   "outputs": [],
   "source": [
    "# Implementing the rule based modification on vanilla viterbi on the test sample\n",
    "sentence_test = \"Android is a mobile operating system developed by Google. Android has been the best-selling OS worldwide on smartphones since 2011 and on tablets since 2013. Google and Twitter made a deal in 2015 that gave Google access to Twitter's firehose. Twitter is an online news and social networking service on which users post and interact with messages known as tweets. Before entering politics, Donald Trump was a domineering businessman and a television personality. The 2018 FIFA World Cup is the 21st FIFA World Cup, an international football tournament contested once every four years. This is the first World Cup to be held in Eastern Europe and the 11th time that it has been held in Europe. Show me the cheapest round trips from Dallas to Atlanta I would like to see flights from Denver to Philadelphia. Show me the price of the flights leaving Atlanta at about 3 in the afternoon and arriving in San Francisco. NASA invited social media users to experience the launch of ICESAT-2 Satellite.\"\n",
    "\n",
    "words_test = word_tokenize(sentence_test)\n",
    "\n",
    "start = time.time()\n",
    "tagged_seq = Viterbi_modified(words_test)\n",
    "end = time.time()\n",
    "difference = end-start"
   ]
  },
  {
   "cell_type": "code",
   "execution_count": 47,
   "metadata": {},
   "outputs": [
    {
     "name": "stdout",
     "output_type": "stream",
     "text": [
      "40.294553995132446\n",
      "[('Android', 'NOUN'), ('is', 'VERB'), ('a', 'DET'), ('mobile', 'ADJ'), ('operating', 'NOUN'), ('system', 'NOUN'), ('developed', 'VERB'), ('by', 'ADP'), ('Google', 'NOUN'), ('.', '.'), ('Android', 'NOUN'), ('has', 'VERB'), ('been', 'VERB'), ('the', 'DET'), ('best-selling', 'ADJ'), ('OS', 'NOUN'), ('worldwide', 'NOUN'), ('on', 'ADP'), ('smartphones', 'NOUN'), ('since', 'ADP'), ('2011', 'NUM'), ('and', 'CONJ'), ('on', 'ADP'), ('tablets', 'NOUN'), ('since', 'ADP'), ('2013', 'NUM'), ('.', '.'), ('Google', 'NOUN'), ('and', 'CONJ'), ('Twitter', 'NOUN'), ('made', 'VERB'), ('a', 'DET'), ('deal', 'NOUN'), ('in', 'ADP'), ('2015', 'NUM'), ('that', 'ADP'), ('gave', 'VERB'), ('Google', 'NOUN'), ('access', 'NOUN'), ('to', 'PRT'), ('Twitter', 'NOUN'), (\"'s\", 'PRT'), ('firehose', 'NOUN'), ('.', '.'), ('Twitter', 'NOUN'), ('is', 'VERB'), ('an', 'DET'), ('online', 'NOUN'), ('news', 'NOUN'), ('and', 'CONJ'), ('social', 'ADJ'), ('networking', 'NOUN'), ('service', 'NOUN'), ('on', 'ADP'), ('which', 'DET'), ('users', 'NOUN'), ('post', 'NOUN'), ('and', 'CONJ'), ('interact', 'NOUN'), ('with', 'ADP'), ('messages', 'NOUN'), ('known', 'VERB'), ('as', 'ADP'), ('tweets', 'NOUN'), ('.', '.'), ('Before', 'ADP'), ('entering', 'VERB'), ('politics', 'NOUN'), (',', '.'), ('Donald', 'NOUN'), ('Trump', 'NOUN'), ('was', 'VERB'), ('a', 'DET'), ('domineering', 'NOUN'), ('businessman', 'NOUN'), ('and', 'CONJ'), ('a', 'DET'), ('television', 'NOUN'), ('personality', 'NOUN'), ('.', '.'), ('The', 'DET'), ('2018', 'NUM'), ('FIFA', 'NOUN'), ('World', 'NOUN'), ('Cup', 'NOUN'), ('is', 'VERB'), ('the', 'DET'), ('21st', 'NOUN'), ('FIFA', 'NOUN'), ('World', 'NOUN'), ('Cup', 'NOUN'), (',', '.'), ('an', 'DET'), ('international', 'ADJ'), ('football', 'NOUN'), ('tournament', 'NOUN'), ('contested', 'NOUN'), ('once', 'ADV'), ('every', 'DET'), ('four', 'NUM'), ('years', 'NOUN'), ('.', '.'), ('This', 'DET'), ('is', 'VERB'), ('the', 'DET'), ('first', 'ADJ'), ('World', 'NOUN'), ('Cup', 'NOUN'), ('to', 'PRT'), ('be', 'VERB'), ('held', 'VERB'), ('in', 'ADP'), ('Eastern', 'NOUN'), ('Europe', 'NOUN'), ('and', 'CONJ'), ('the', 'DET'), ('11th', 'ADJ'), ('time', 'NOUN'), ('that', 'ADP'), ('it', 'PRON'), ('has', 'VERB'), ('been', 'VERB'), ('held', 'VERB'), ('in', 'ADP'), ('Europe', 'NOUN'), ('.', '.'), ('Show', 'NOUN'), ('me', 'PRON'), ('the', 'DET'), ('cheapest', 'ADJ'), ('round', 'NOUN'), ('trips', 'NOUN'), ('from', 'ADP'), ('Dallas', 'NOUN'), ('to', 'PRT'), ('Atlanta', 'NOUN'), ('I', 'PRON'), ('would', 'VERB'), ('like', 'ADP'), ('to', 'PRT'), ('see', 'VERB'), ('flights', 'NOUN'), ('from', 'ADP'), ('Denver', 'NOUN'), ('to', 'PRT'), ('Philadelphia', 'NOUN'), ('.', '.'), ('Show', 'NOUN'), ('me', 'PRON'), ('the', 'DET'), ('price', 'NOUN'), ('of', 'ADP'), ('the', 'DET'), ('flights', 'NOUN'), ('leaving', 'VERB'), ('Atlanta', 'NOUN'), ('at', 'ADP'), ('about', 'ADP'), ('3', 'NUM'), ('in', 'ADP'), ('the', 'DET'), ('afternoon', 'NOUN'), ('and', 'CONJ'), ('arriving', 'NOUN'), ('in', 'ADP'), ('San', 'NOUN'), ('Francisco', 'NOUN'), ('.', '.'), ('NASA', 'NOUN'), ('invited', 'NOUN'), ('social', 'ADJ'), ('media', 'NOUN'), ('users', 'NOUN'), ('to', 'PRT'), ('experience', 'NOUN'), ('the', 'DET'), ('launch', 'NOUN'), ('of', 'ADP'), ('ICESAT-2', 'NUM'), ('Satellite', 'NOUN'), ('.', '.')]\n"
     ]
    }
   ],
   "source": [
    "# Printing the result on the test sample implementation\n",
    "print(difference)\n",
    "print(tagged_seq)"
   ]
  },
  {
   "cell_type": "markdown",
   "metadata": {},
   "source": [
    "#### 4.3.2 Implementing technique 1 on validation data set"
   ]
  },
  {
   "cell_type": "code",
   "execution_count": 48,
   "metadata": {},
   "outputs": [],
   "source": [
    "# Implementing technique 1 on validation data set\n",
    "start = time.time()\n",
    "tagged_seq_modified = Viterbi_modified(validation_tagged_words)\n",
    "end = time.time()\n",
    "difference = end-start"
   ]
  },
  {
   "cell_type": "code",
   "execution_count": 49,
   "metadata": {},
   "outputs": [
    {
     "name": "stdout",
     "output_type": "stream",
     "text": [
      "Time taken in seconds:  1078.3092498779297\n",
      "[('*-1', 'X'), ('Crude', 'ADJ'), ('as', 'ADP'), ('they', 'PRON'), ('were', 'VERB'), ('*?*', 'X'), (',', '.'), ('these', 'DET'), ('early', 'ADJ'), ('PCs', 'NOUN'), ('triggered', 'VERB'), ('explosive', 'NOUN'), ('product', 'NOUN'), ('development', 'NOUN'), ('in', 'ADP'), ('desktop', 'NOUN'), ('models', 'NOUN'), ('for', 'ADP'), ('the', 'DET'), ('home', 'NOUN'), ('and', 'CONJ'), ('office', 'NOUN'), ('.', '.'), ('Researchers', 'NOUN'), ('at', 'ADP'), ('American', 'ADJ'), ('Telephone', 'NOUN'), ('&', 'CONJ'), ('Telegraph', 'NOUN'), ('Co.', 'NOUN'), (\"'s\", 'PRT'), ('Bell', 'NOUN'), ('Laboratories', 'NOUN'), ('reported', 'VERB'), ('0', 'X'), ('they', 'PRON'), ('raised', 'VERB'), ('the', 'DET'), ('electrical', 'ADJ'), ('current-carrying', 'ADJ'), ('capacity', 'NOUN'), ('of', 'ADP'), ('new', 'ADJ'), ('superconductor', 'NOUN'), ('crystals', 'NOUN'), ('by', 'ADP'), ('a', 'DET'), ('factor', 'NOUN'), ('of', 'ADP'), ('100', 'NUM'), (',', '.'), ('*-1', 'X'), ('moving', 'VERB'), ('the', 'DET'), ('materials', 'NOUN'), ('closer', 'ADV'), ('to', 'PRT'), ('commercial', 'ADJ'), ('use', 'NOUN'), ('.', '.'), ('But', 'CONJ'), ('people', 'NOUN'), ('familiar', 'ADJ'), ('with', 'ADP'), ('the', 'DET'), ('agenda', 'NOUN'), ('of', 'ADP'), ('the', 'DET'), ('board', 'NOUN'), (\"'s\", 'PRT'), ('meeting', 'NOUN'), ('last', 'ADJ'), ('week', 'NOUN'), ('in', 'ADP'), ('London', 'NOUN'), ('said', 'VERB'), ('0', 'X'), ('Mr.', 'NOUN'), ('McGovern', 'NOUN'), ('was', 'VERB'), ('fired', 'VERB'), ('*-42', 'X'), ('.', '.'), ('``', '.'), ('When', 'ADV'), ('scientific', 'ADJ'), ('progress', 'NOUN'), ('moves', 'NOUN'), ('into', 'ADP'), ('uncharted', 'ADJ'), ('ground', 'NOUN'), ('*T*-1', 'X'), (',', '.'), ('there', 'DET'), ('has', 'VERB'), ('*-3', 'X'), ('to', 'PRT'), ('be', 'VERB'), ('a', 'DET'), ('role', 'NOUN'), ('*ICH*-4', 'X'), ('for', 'ADP'), ('society', 'NOUN'), ('*', 'X'), ('to', 'PRT'), ('make', 'VERB'), ('judgments', 'NOUN'), ('about', 'ADP'), ('its', 'PRON'), ('applications', 'NOUN'), (',', '.'), (\"''\", '.'), ('says', 'VERB'), ('*T*-2', 'X'), ('Myron', 'NOUN'), ('Genel', 'NOUN'), (',', '.'), ('associate', 'NOUN'), ('dean', 'NOUN'), ('of', 'ADP'), ('the', 'DET'), ('Yale', 'NOUN'), ('Medical', 'NOUN'), ('School', 'NOUN'), ('.', '.'), ('Mitsubishi', 'NOUN'), (\"'s\", 'PRT'), ('investment', 'NOUN'), ('in', 'ADP'), ('Free', 'NOUN'), ('State', 'NOUN'), ('is', 'VERB'), ('``', '.'), ('very', 'ADV'), ('small', 'ADJ'), ('...', '.'), ('less', 'ADV'), ('than', 'ADP'), ('$', '.'), ('4', 'NUM'), ('million', 'NUM'), ('*U*', 'X'), (',', '.'), (\"''\", '.'), ('Mr.', 'NOUN'), ('Wakui', 'NOUN'), ('says', 'VERB'), ('0', 'X'), ('*T*-1', 'X'), ('.', '.'), ('In', 'ADP'), ('other', 'ADJ'), ('years', 'NOUN'), ('in', 'ADP'), ('which', 'DET'), ('there', 'ADV'), ('have', 'VERB'), ('been', 'VERB'), ('moderate', 'ADJ'), ('economic', 'ADJ'), ('slowdowns', 'NOUN'), ('--', '.'), ('the', 'DET'), ('environment', 'NOUN'), ('0', 'X'), ('the', 'DET'), ('firm', 'NOUN'), ('expects', 'VERB'), ('*T*-1', 'X'), ('in', 'ADP'), ('1990', 'NUM'), ('*T*-2', 'X'), ('--', '.'), ('the', 'DET'), ('change', 'NOUN'), ('in', 'ADP'), ('dividends', 'NOUN'), ('ranged', 'VERB'), ('from', 'ADP'), ('a', 'DET'), ('gain', 'NOUN'), ('of', 'ADP'), ('4', 'NUM'), ('%', 'NOUN'), ('to', 'PRT'), ('a', 'DET'), ('decline', 'NOUN'), ('of', 'ADP'), ('1', 'NUM'), ('%', 'NOUN'), (',', '.'), ('according', 'VERB'), ('to', 'PRT'), ('PaineWebber', 'NOUN'), ('analyst', 'NOUN'), ('Thomas', 'NOUN'), ('Doerflinger', 'NOUN'), ('.', '.'), ('Ralston', 'NOUN'), ('said', 'VERB'), ('0', 'X'), ('its', 'PRON'), ('Eveready', 'NOUN'), ('battery', 'NOUN'), ('unit', 'NOUN'), ('was', 'VERB'), ('hurt', 'VERB'), ('*-1', 'X'), ('by', 'ADP'), ('continuing', 'VERB'), ('economic', 'ADJ'), ('problems', 'NOUN'), ('in', 'ADP'), ('South', 'NOUN'), ('America', 'NOUN'), ('.', '.'), ('``', '.'), ('It', 'PRON'), (\"'s\", 'VERB'), ('a', 'DET'), ('cosmetic', 'NOUN'), ('move', 'NOUN'), (',', '.'), (\"''\", '.'), ('said', 'VERB'), ('*T*-1', 'X'), ('Jonathan', 'NOUN'), ('S.', 'NOUN'), ('Gelles', 'NOUN'), ('of', 'ADP'), ('Wertheim', 'NOUN'), ('Schroder', 'NOUN'), ('&', 'CONJ'), ('Co', 'NOUN'), ('.', '.'), ('At', 'ADP'), ('one', 'NUM'), ('point', 'NOUN'), (',', '.'), ('Hammersmith', 'NOUN'), ('is', 'VERB'), ('reported', 'VERB'), ('*-1', 'X'), ('to', 'PRT'), ('have', 'VERB'), ('accounted', 'NOUN'), ('for', 'ADP'), ('as', 'ADP'), ('much', 'ADJ'), ('as', 'ADP'), ('10', 'NUM'), ('%', 'NOUN'), ('of', 'ADP'), ('the', 'DET'), ('sterling', 'NOUN'), ('market', 'NOUN'), ('in', 'ADP'), ('interest-rate', 'NOUN'), ('swap', 'NOUN'), ('dealings', 'NOUN'), ('.', '.'), ('They', 'PRON'), ('found', 'VERB'), ('students', 'NOUN'), ('in', 'ADP'), ('an', 'DET'), ('advanced', 'ADJ'), ('class', 'NOUN'), ('a', 'DET'), ('year', 'NOUN'), ('earlier', 'ADV'), ('who', 'PRON'), ('*T*-95', 'NUM'), ('said', 'VERB'), ('0', 'X'), ('she', 'PRON'), ('gave', 'VERB'), ('them', 'PRON'), ('similar', 'ADJ'), ('help', 'NOUN'), (',', '.'), ('although', 'ADP'), ('because', 'ADP'), ('the', 'DET'), ('case', 'NOUN'), ('was', 'VERB'), (\"n't\", 'ADV'), ('tried', 'VERB'), ('in', 'ADP'), ('court', 'NOUN'), (',', '.'), ('this', 'DET'), ('evidence', 'NOUN'), ('was', 'VERB'), ('never', 'ADV'), ('presented', 'VERB'), ('*-1', 'X'), ('publicly', 'ADV'), ('.', '.'), ('The', 'DET'), ('proposal', 'NOUN'), ('comes', 'VERB'), ('as', 'ADP'), ('a', 'DET'), ('surprise', 'NOUN'), ('even', 'ADV'), ('to', 'PRT'), ('administration', 'NOUN'), ('officials', 'NOUN'), ('and', 'CONJ'), ('temporarily', 'ADV'), ('throws', 'VERB'), ('into', 'ADP'), ('chaos', 'NOUN'), ('the', 'DET'), ('House', 'NOUN'), (\"'s\", 'PRT'), ('work', 'VERB'), ('on', 'ADP'), ('clean-air', 'ADJ'), ('legislation', 'NOUN'), ('.', '.'), ('Giant', 'NOUN'), ('Group', 'NOUN'), ('is', 'VERB'), ('led', 'VERB'), ('*-1', 'X'), ('by', 'ADP'), ('three', 'NUM'), ('Rally', 'NOUN'), (\"'s\", 'PRT'), ('directors', 'NOUN'), (',', '.'), ('Burt', 'NOUN'), ('Sugarman', 'NOUN'), (',', '.'), ('James', 'NOUN'), ('M.', 'NOUN'), ('Trotter', 'NOUN'), ('III', 'NOUN'), ('and', 'CONJ'), ('William', 'NOUN'), ('E.', 'NOUN'), ('Trotter', 'NOUN'), ('II', 'NOUN'), (',', '.'), ('who', 'PRON'), ('earlier', 'ADJ'), ('this', 'DET'), ('month', 'NOUN'), ('*T*-2', 'X'), ('indicated', 'VERB'), ('0', 'X'), ('they', 'PRON'), ('had', 'VERB'), ('a', 'DET'), ('42.5', 'NUM'), ('%', 'NOUN'), ('stake', 'NOUN'), ('in', 'ADP'), ('Rally', 'NOUN'), (\"'s\", 'PRT'), ('and', 'CONJ'), ('planned', 'VERB'), ('*-3', 'X'), ('to', 'PRT'), ('seek', 'VERB'), ('a', 'DET'), ('majority', 'NOUN'), ('of', 'ADP'), ('seats', 'NOUN'), ('on', 'ADP'), ('Rally', 'NOUN'), (\"'s\", 'PRT'), ('nine-member', 'NOUN'), ('board', 'NOUN'), ('.', '.'), ('Long-term', 'NOUN'), ('bond', 'NOUN'), ('prices', 'NOUN'), ('rose', 'VERB'), ('despite', 'ADP'), ('prospects', 'NOUN'), ('of', 'ADP'), ('a', 'DET'), ('huge', 'ADJ'), ('new', 'ADJ'), ('supply', 'NOUN'), ('of', 'ADP'), ('Treasury', 'NOUN'), ('debt', 'NOUN'), ('this', 'DET'), ('month', 'NOUN'), ('.', '.'), ('``', '.'), ('What', 'PRON'), ('*T*-164', 'NUM'), (\"'s\", 'PRT'), ('different', 'ADJ'), ('is', 'VERB'), ('that', 'ADP'), ('it', 'PRON'), ('is', 'VERB'), ('happening', 'NOUN'), ('with', 'ADP'), ('young', 'ADJ'), ('wines', 'NOUN'), ('just', 'ADV'), ('coming', 'VERB'), ('out', 'PRT'), ('.', '.'), ('``', '.'), ('We', 'PRON'), ('do', 'VERB'), (\"n't\", 'ADV'), ('spend', 'VERB'), ('much', 'ADV'), ('on', 'ADP'), ('print', 'VERB'), ('advertising', 'VERB'), (',', '.'), (\"''\", '.'), ('she', 'PRON'), ('says', 'VERB'), ('*T*-1', 'X'), ('.', '.'), ('Commodity', 'NOUN'), ('prices', 'NOUN'), ('have', 'VERB'), ('been', 'VERB'), ('rising', 'VERB'), ('in', 'ADP'), ('recent', 'ADJ'), ('years', 'NOUN'), (',', '.'), ('with', 'ADP'), ('the', 'DET'), ('farm', 'NOUN'), ('price', 'NOUN'), ('index', 'NOUN'), ('hitting', 'VERB'), ('record', 'NOUN'), ('peaks', 'NOUN'), ('earlier', 'ADV'), ('this', 'DET'), ('year', 'NOUN'), (',', '.'), ('as', 'ADP'), ('the', 'DET'), ('government', 'NOUN'), ('curtailed', 'NOUN'), ('production', 'NOUN'), ('with', 'ADP'), ('land-idling', 'NOUN'), ('programs', 'NOUN'), ('*-1', 'X'), ('to', 'PRT'), ('reduce', 'VERB'), ('price-depressing', 'NOUN'), ('surpluses', 'NOUN'), ('.', '.'), ('Some', 'DET'), ('3.8', 'NUM'), ('million', 'NUM'), ('of', 'ADP'), ('the', 'DET'), ('five', 'NUM'), ('million', 'NUM'), ('who', 'PRON'), ('*T*-55', 'X'), ('will', 'VERB'), ('get', 'VERB'), ('letters', 'NOUN'), ('were', 'VERB'), ('preapproved', 'NOUN'), ('*-67', 'NUM'), ('for', 'ADP'), ('credit', 'NOUN'), ('with', 'ADP'), ('GMAC', 'NOUN'), ('.', '.'), ('The', 'DET'), ('Bush', 'NOUN'), ('administration', 'NOUN'), ('has', 'VERB'), ('threatened', 'VERB'), ('*-1', 'X'), ('to', 'PRT'), ('veto', 'NOUN'), ('such', 'ADJ'), ('a', 'DET'), ('bill', 'NOUN'), ('because', 'ADP'), ('of', 'ADP'), ('what', 'PRON'), ('it', 'PRON'), ('views', 'NOUN'), ('*T*-2', 'X'), ('as', 'ADP'), ('an', 'DET'), ('undesirable', 'NOUN'), ('intrusion', 'NOUN'), ('into', 'ADP'), ('the', 'DET'), ('affairs', 'NOUN'), ('of', 'ADP'), ('industry', 'NOUN'), (',', '.'), ('but', 'CONJ'), ('the', 'DET'), ('300-113', 'NUM'), ('vote', 'NOUN'), ('suggests', 'VERB'), ('that', 'ADP'), ('supporters', 'NOUN'), ('have', 'VERB'), ('the', 'DET'), ('potential', 'ADJ'), ('0', 'X'), ('*', 'X'), ('to', 'PRT'), ('override', 'NOUN'), ('a', 'DET'), ('veto', 'NOUN'), ('*T*-3', 'X'), ('.', '.'), ('The', 'DET'), ('student', 'NOUN'), ('surrendered', 'VERB'), ('the', 'DET'), ('notes', 'NOUN'), (',', '.'), ('but', 'CONJ'), ('not', 'ADV'), ('without', 'ADP'), ('a', 'DET'), ('protest', 'NOUN'), ('.', '.'), ('While', 'ADP'), ('it', 'PRON'), ('breaks', 'VERB'), ('down', 'ADV'), ('in', 'ADP'), ('prolonged', 'VERB'), ('sunlight', 'NOUN'), (',', '.'), ('it', 'PRON'), ('is', 'VERB'), (\"n't\", 'ADV'), ('recyclable', 'NOUN'), ('.', '.'), ('For', 'ADP'), ('the', 'DET'), ('year', 'NOUN'), (',', '.'), ('pet', 'NOUN'), ('food', 'NOUN'), ('volume', 'NOUN'), ('was', 'VERB'), ('flat', 'ADJ'), (',', '.'), ('the', 'DET'), ('company', 'NOUN'), ('said', 'VERB'), ('0', 'X'), ('*T*-1', 'X'), ('.', '.'), ('Despite', 'ADP'), ('the', 'DET'), ('flap', 'NOUN'), ('over', 'ADP'), ('transplants', 'NOUN'), (',', '.'), ('federal', 'ADJ'), ('funding', 'NOUN'), ('of', 'ADP'), ('research', 'NOUN'), ('involving', 'VERB'), ('fetal', 'ADJ'), ('tissues', 'NOUN'), ('will', 'VERB'), ('continue', 'VERB'), ('on', 'ADP'), ('a', 'DET'), ('number', 'NOUN'), ('of', 'ADP'), ('fronts', 'NOUN'), ('.', '.'), ('Free', 'NOUN'), ('State', 'NOUN'), ('Glass', 'NOUN'), ('Industries', 'NOUN'), ('of', 'ADP'), ('Warrenton', 'NOUN'), (',', '.'), ('Va.', 'NOUN'), (',', '.'), ('a', 'DET'), ('small', 'ADJ'), ('fabricator', 'NOUN'), ('of', 'ADP'), ('architectural', 'NOUN'), ('glass', 'NOUN'), (',', '.'), ('was', 'VERB'), ('foundering', 'NOUN'), ('under', 'ADP'), ('its', 'PRON'), ('original', 'ADJ'), ('management', 'NOUN'), ('.', '.'), ('That', 'DET'), ('package', 'NOUN'), ('now', 'ADV'), ('sells', 'VERB'), ('for', 'ADP'), ('about', 'ADP'), ('$', '.'), ('2,099', 'NUM'), ('*U*', 'X'), ('.', '.'), ('The', 'DET'), ('size', 'NOUN'), ('of', 'ADP'), ('IBM', 'NOUN'), (\"'s\", 'PRT'), ('issue', 'NOUN'), ('was', 'VERB'), ('increased', 'VERB'), ('*-1', 'X'), ('from', 'ADP'), ('an', 'DET'), ('originally', 'ADV'), ('planned', 'VERB'), ('$', '.'), ('500', 'NUM'), ('million', 'NUM'), ('*U*', 'X'), ('as', 'ADP'), ('money', 'NOUN'), ('managers', 'NOUN'), ('and', 'CONJ'), ('investors', 'NOUN'), ('scrambled', 'VERB'), ('*-2', 'X'), ('to', 'PRT'), ('buy', 'VERB'), ('the', 'DET'), ('bonds', 'NOUN'), ('.', '.'), ('A', 'DET'), ('spokesman', 'NOUN'), ('for', 'ADP'), ('the', 'DET'), ('Toronto', 'NOUN'), ('cable', 'NOUN'), ('television', 'NOUN'), ('and', 'CONJ'), ('telecommunications', 'NOUN'), ('concern', 'NOUN'), ('said', 'VERB'), ('0', 'X'), ('the', 'DET'), ('coupon', 'NOUN'), ('rate', 'NOUN'), ('has', 'VERB'), (\"n't\", 'ADV'), ('yet', 'ADV'), ('been', 'VERB'), ('fixed', 'VERB'), ('*-1', 'X'), (',', '.'), ('but', 'CONJ'), ('will', 'VERB'), ('probably', 'ADV'), ('be', 'VERB'), ('set', 'VERB'), ('*-1', 'X'), ('at', 'ADP'), ('around', 'ADP'), ('8', 'NUM'), ('%', 'NOUN'), ('.', '.'), ('Mr.', 'NOUN'), ('Nemeth', 'NOUN'), ('said', 'VERB'), ('in', 'ADP'), ('parliament', 'NOUN'), ('that', 'ADP'), ('Czechoslovakia', 'NOUN'), ('and', 'CONJ'), ('Hungary', 'NOUN'), ('would', 'VERB'), ('suffer', 'VERB'), ('environmental', 'ADJ'), ('damage', 'NOUN'), ('if', 'ADP'), ('the', 'DET'), ('twin', 'NOUN'), ('dams', 'NOUN'), ('were', 'VERB'), ('built', 'VERB'), ('*-67', 'NUM'), ('as', 'ADP'), ('*', 'X'), ('planned', 'VERB'), ('*-2', 'X'), ('.', '.'), ('Indexing', 'NOUN'), ('--', '.'), ('Many', 'ADJ'), ('investors', 'NOUN'), (',', '.'), ('mainly', 'ADV'), ('institutions', 'NOUN'), (',', '.'), ('follow', 'VERB'), ('an', 'DET'), ('investment', 'NOUN'), ('strategy', 'NOUN'), ('of', 'ADP'), ('*', 'X'), ('buying', 'VERB'), ('and', 'CONJ'), ('holding', 'VERB'), ('a', 'DET'), ('mix', 'NOUN'), ('of', 'ADP'), ('stocks', 'NOUN'), ('0', 'X'), ('*T*-1', 'X'), ('to', 'PRT'), ('match', 'VERB'), ('the', 'DET'), ('performance', 'NOUN'), ('of', 'ADP'), ('a', 'DET'), ('broad', 'ADJ'), ('stock-market', 'NOUN'), ('barometer', 'NOUN'), ('such', 'ADJ'), ('as', 'ADP'), ('the', 'DET'), ('S&P', 'NOUN'), ('500', 'NUM'), ('.', '.'), ('The', 'DET'), ('municipalities', 'NOUN'), ('said', 'VERB'), ('0', 'X'), ('they', 'PRON'), ('have', 'VERB'), (\"n't\", 'ADV'), ('decided', 'VERB'), ('whether', 'ADP'), ('*-1', 'X'), ('to', 'PRT'), ('try', 'VERB'), ('*-2', 'X'), ('to', 'PRT'), ('force', 'VERB'), ('the', 'DET'), ('company', 'NOUN'), ('to', 'PRT'), ('go', 'VERB'), ('through', 'ADP'), ('with', 'ADP'), ('the', 'DET'), ('contracts', 'NOUN'), ('.', '.'), ('Those', 'DET'), ('who', 'PRON'), ('*T*-1', 'X'), ('still', 'ADV'), ('want', 'VERB'), ('*-2', 'X'), ('to', 'PRT'), ('do', 'VERB'), ('it', 'PRON'), ('``', '.'), ('will', 'VERB'), ('just', 'ADV'), ('find', 'VERB'), ('some', 'DET'), ('way', 'NOUN'), ('0', 'X'), ('*', 'X'), ('to', 'PRT'), ('get', 'VERB'), ('around', 'ADP'), (\"''\", '.'), ('any', 'DET'), ('attempt', 'NOUN'), ('*', 'X'), ('to', 'PRT'), ('curb', 'VERB'), ('it', 'PRON'), ('*T*-3', 'X'), ('.', '.'), ('Heritage', 'NOUN'), ('Media', 'NOUN'), ('Corp.', 'NOUN'), (',', '.'), ('New', 'NOUN'), ('York', 'NOUN'), (',', '.'), ('said', 'VERB'), ('0', 'X'), ('it', 'PRON'), ('offered', 'VERB'), ('*-2', 'X'), ('to', 'PRT'), ('buy', 'VERB'), ('the', 'DET'), ('shares', 'NOUN'), ('of', 'ADP'), ('POP', 'NOUN'), ('Radio', 'NOUN'), ('Corp.', 'NOUN'), ('0', 'X'), ('it', 'PRON'), ('does', 'VERB'), (\"n't\", 'ADV'), ('already', 'ADV'), ('own', 'ADJ'), ('*T*-1', 'X'), ('in', 'ADP'), ('a', 'DET'), ('stock', 'NOUN'), ('swap', 'NOUN'), ('.', '.'), ('NEC', 'NOUN'), (',', '.'), ('one', 'NUM'), ('of', 'ADP'), ('its', 'PRON'), ('largest', 'ADJ'), ('domestic', 'ADJ'), ('competitors', 'NOUN'), (',', '.'), ('said', 'VERB'), ('0', 'X'), ('it', 'PRON'), ('bid', 'NOUN'), ('one', 'NUM'), ('yen', 'NOUN'), ('in', 'ADP'), ('two', 'NUM'), ('separate', 'ADJ'), ('public', 'NOUN'), ('auctions', 'NOUN'), ('since', 'ADP'), ('1987', 'NUM'), ('.', '.'), ('The', 'DET'), ('Fed', 'NOUN'), ('is', 'VERB'), ('coming', 'VERB'), ('under', 'ADP'), ('pressure', 'NOUN'), ('*', 'X'), ('to', 'PRT'), ('cut', 'VERB'), ('short-term', 'ADJ'), ('interest', 'NOUN'), ('rates', 'NOUN'), ('due', 'ADJ'), ('to', 'PRT'), ('the', 'DET'), ('apparent', 'NOUN'), ('slowing', 'VERB'), ('of', 'ADP'), ('the', 'DET'), ('economy', 'NOUN'), ('.', '.'), ('They', 'PRON'), ('fell', 'VERB'), ('into', 'ADP'), ('oblivion', 'NOUN'), ('after', 'ADP'), ('the', 'DET'), ('1929', 'NUM'), ('crash', 'NOUN'), ('.', '.'), ('Nissan', 'NOUN'), ('scheduled', 'VERB'), ('a', 'DET'), ('seven-yen', 'NOUN'), ('interim', 'ADJ'), ('dividend', 'NOUN'), ('payment', 'NOUN'), (',', '.'), ('unchanged', 'ADJ'), ('.', '.'), ('The', 'DET'), ('multilevel', 'NOUN'), ('railcars', 'NOUN'), (',', '.'), ('scheduled', 'VERB'), ('*', 'X'), ('for', 'ADP'), ('delivery', 'NOUN'), ('in', 'ADP'), ('1990', 'NUM'), (',', '.'), ('will', 'VERB'), ('be', 'VERB'), ('made', 'VERB'), ('*-1', 'X'), ('by', 'ADP'), ('Thrall', 'NOUN'), ('Manufacturing', 'NOUN'), ('Co.', 'NOUN'), (',', '.'), ('a', 'DET'), ('Chicago', 'NOUN'), ('Heights', 'NOUN'), (',', '.'), ('Ill.', 'NOUN'), (',', '.'), ('division', 'NOUN'), ('of', 'ADP'), ('closely', 'ADV'), ('held', 'VERB'), ('Duchossois', 'NOUN'), ('Industries', 'NOUN'), ('Inc.', 'NOUN'), (',', '.'), ('Elmhurst', 'NOUN'), (',', '.'), ('Ill', 'NOUN'), ('.', '.'), ('Rep.', 'NOUN'), ('Dingell', 'NOUN'), ('of', 'ADP'), ('Michigan', 'NOUN'), ('plans', 'VERB'), ('*-3', 'X'), ('to', 'PRT'), ('unveil', 'VERB'), ('today', 'NOUN'), ('a', 'DET'), ('proposal', 'NOUN'), ('that', 'ADP'), ('*T*-1', 'X'), ('would', 'VERB'), ('break', 'VERB'), ('with', 'ADP'), ('Bush', 'NOUN'), (\"'s\", 'PRT'), ('clean-air', 'ADJ'), ('bill', 'NOUN'), ('on', 'ADP'), ('the', 'DET'), ('issue', 'NOUN'), ('of', 'ADP'), ('emissions', 'NOUN'), ('that', 'ADP'), ('*T*-2', 'X'), ('lead', 'VERB'), ('to', 'PRT'), ('acid', 'ADJ'), ('rain', 'NOUN'), ('.', '.'), ('U.S.', 'NOUN'), ('stock-index', 'NOUN'), ('futures', 'NOUN'), ('are', 'VERB'), (\"n't\", 'ADV'), ('even', 'ADV'), ('traded', 'VERB'), ('*-1', 'X'), ('in', 'ADP'), ('Japan', 'NOUN'), ('now', 'ADV'), ('.', '.'), ('-LRB-', '.'), ('During', 'ADP'), ('its', 'PRON'), ('centennial', 'NOUN'), ('year', 'NOUN'), (',', '.'), ('The', 'DET'), ('Wall', 'NOUN'), ('Street', 'NOUN'), ('Journal', 'NOUN'), ('will', 'VERB'), ('report', 'NOUN'), ('events', 'NOUN'), ('of', 'ADP'), ('the', 'DET'), ('past', 'ADJ'), ('century', 'NOUN'), ('that', 'ADP'), ('*T*-30', 'X'), ('stand', 'VERB'), ('as', 'ADP'), ('milestones', 'NOUN'), ('of', 'ADP'), ('American', 'ADJ'), ('business', 'NOUN'), ('history', 'NOUN'), ('.', '.'), ('-RRB-', '.'), ('Magna', 'NOUN'), ('said', 'VERB'), ('0', 'X'), ('Mr.', 'NOUN'), ('McAlpine', 'NOUN'), ('resigned', 'VERB'), ('*-1', 'X'), ('to', 'PRT'), ('pursue', 'VERB'), ('a', 'DET'), ('consulting', 'NOUN'), ('career', 'NOUN'), (',', '.'), ('with', 'ADP'), ('Magna', 'NOUN'), ('as', 'ADP'), ('one', 'NUM'), ('of', 'ADP'), ('his', 'PRON'), ('clients', 'NOUN'), ('.', '.'), ('``', '.'), ('An', 'DET'), ('active', 'ADJ'), ('55-year-old', 'NOUN'), ('in', 'ADP'), ('Boca', 'NOUN'), ('Raton', 'NOUN'), ('may', 'VERB'), ('care', 'VERB'), ('more', 'ADV'), ('about', 'ADP'), ('Senior', 'NOUN'), ('Olympic', 'NOUN'), ('games', 'NOUN'), (',', '.'), ('while', 'ADP'), ('a', 'DET'), ('75-year-old', 'NOUN'), ('in', 'ADP'), ('Panama', 'NOUN'), ('City', 'NOUN'), ('may', 'VERB'), ('care', 'VERB'), ('more', 'ADV'), ('about', 'ADP'), ('a', 'DET'), ('seminar', 'NOUN'), ('on', 'ADP'), ('health', 'NOUN'), (',', '.'), (\"''\", '.'), ('she', 'PRON'), ('says', 'VERB'), ('*T*-1', 'X'), ('.', '.'), ('First', 'NOUN'), ('Securities', 'NOUN'), ('Group', 'NOUN'), ('of', 'ADP'), ('California', 'NOUN'), ('and', 'CONJ'), ('a', 'DET'), ('principal', 'NOUN'), ('of', 'ADP'), ('the', 'DET'), ('firm', 'NOUN'), (',', '.'), ('Louis', 'NOUN'), ('Fernando', 'NOUN'), ('Vargas', 'NOUN'), ('of', 'ADP'), ('Marina', 'NOUN'), ('del', 'NOUN'), ('Rey', 'NOUN'), (',', '.'), ('Calif.', 'NOUN'), (',', '.'), ('were', 'VERB'), ('jointly', 'ADV'), ('fined', 'VERB'), ('*-1', 'X'), ('$', '.'), ('15,000', 'NUM'), ('*U*', 'X'), ('and', 'CONJ'), ('expelled', 'VERB'), ('*-1', 'X'), ('for', 'ADP'), ('alleged', 'ADJ'), ('violations', 'NOUN'), ('of', 'ADP'), ('reporting', 'NOUN'), ('requirements', 'NOUN'), ('on', 'ADP'), ('securities', 'NOUN'), ('sales', 'NOUN'), ('.', '.'), ('``', '.'), ('It', 'PRON'), (\"'s\", 'VERB'), ('the', 'DET'), ('classic', 'ADJ'), ('problem', 'NOUN'), ('of', 'ADP'), ('the', 'DET'), ('small', 'ADJ'), ('businessman', 'NOUN'), (',', '.'), (\"''\", '.'), ('says', 'VERB'), ('*T*-1', 'X'), ('Malcolm', 'NOUN'), ('Davies', 'NOUN'), (',', '.'), ('managing', 'VERB'), ('director', 'NOUN'), ('of', 'ADP'), ('Trading', 'NOUN'), ('Alliance', 'NOUN'), ('Corp.', 'NOUN'), ('of', 'ADP'), ('New', 'NOUN'), ('York', 'NOUN'), ('.', '.'), ('Equitable', 'NOUN'), ('of', 'ADP'), ('Iowa', 'NOUN'), ('Cos.', 'NOUN'), (',', '.'), ('Des', 'NOUN'), ('Moines', 'NOUN'), (',', '.'), ('had', 'VERB'), ('been', 'VERB'), ('seeking', 'VERB'), ('a', 'DET'), ('buyer', 'NOUN'), ('for', 'ADP'), ('the', 'DET'), ('36-store', 'NOUN'), ('Younkers', 'NOUN'), ('chain', 'NOUN'), ('since', 'ADP'), ('June', 'NOUN'), (',', '.'), ('when', 'ADV'), ('it', 'PRON'), ('announced', 'VERB'), ('its', 'PRON'), ('intention', 'NOUN'), ('*', 'X'), ('to', 'PRT'), ('free', 'ADJ'), ('up', 'PRT'), ('capital', 'NOUN'), ('*', 'X'), ('to', 'PRT'), ('expand', 'VERB'), ('its', 'PRON'), ('insurance', 'NOUN'), ('business', 'NOUN'), ('*T*-1', 'X'), ('.', '.'), ('The', 'DET'), ('benchmark', 'NOUN'), ('30-year', 'ADJ'), ('bond', 'NOUN'), ('about', 'ADP'), ('1\\\\/4', 'NUM'), ('point', 'NOUN'), (',', '.'), ('or', 'CONJ'), ('$', '.'), ('2.50', 'NUM'), ('*U*', 'X'), ('for', 'ADP'), ('each', 'DET'), ('$', '.'), ('1,000', 'NUM'), ('*U*', 'X'), ('face', 'VERB'), ('amount', 'NOUN'), ('.', '.'), ('Besides', 'ADP'), (',', '.'), ('Eggers', 'NOUN'), ('says', 'VERB'), ('0', 'X'), ('*T*-1', 'X'), (',', '.'), ('grain', 'NOUN'), ('elevators', 'NOUN'), ('are', 'VERB'), ('worth', 'ADJ'), ('*', 'X'), ('preserving', 'VERB'), ('for', 'ADP'), ('aesthetic', 'NOUN'), ('reasons', 'NOUN'), ('--', '.'), ('one', 'NUM'), ('famed', 'NOUN'), ('architect', 'NOUN'), ('compared', 'VERB'), ('them', 'PRON'), ('to', 'PRT'), ('the', 'DET'), ('pyramids', 'NOUN'), ('of', 'ADP'), ('Egypt', 'NOUN'), ('.', '.'), ('In', 'ADP'), ('heavy', 'ADJ'), ('trading', 'NOUN'), ('on', 'ADP'), ('the', 'DET'), ('New', 'NOUN'), ('York', 'NOUN'), ('Stock', 'NOUN'), ('Exchange', 'NOUN'), (',', '.'), ('Campbell', 'NOUN'), (\"'s\", 'PRT'), ('shares', 'NOUN'), ('rose', 'VERB'), ('$', '.'), ('3.375', 'NUM'), ('*U*', 'X'), ('*', 'X'), ('to', 'PRT'), ('close', 'VERB'), ('at', 'ADP'), ('$', '.'), ('47.125', 'NUM'), ('*U*', 'X'), ('.', '.'), ('IBM', 'NOUN'), (\"'s\", 'PRT'), ('$', '.'), ('750', 'NUM'), ('million', 'NUM'), ('*U*', 'X'), ('debenture', 'NOUN'), ('offering', 'NOUN'), ('dominated', 'VERB'), ('activity', 'NOUN'), ('in', 'ADP'), ('the', 'DET'), ('corporate', 'ADJ'), ('debt', 'NOUN'), ('market', 'NOUN'), ('.', '.'), ('If', 'ADP'), ('not', 'ADV'), ('Chicago', 'NOUN'), (',', '.'), ('then', 'ADV'), ('in', 'ADP'), ('New', 'NOUN'), ('York', 'NOUN'), (';', '.'), ('if', 'ADP'), ('not', 'ADV'), ('the', 'DET'), ('U.S.', 'NOUN'), (',', '.'), ('then', 'ADV'), ('overseas', 'ADJ'), ('.', '.'), ('Performing', 'NOUN'), ('loans', 'NOUN'), ('.', '.'), ('In', 'ADP'), ('the', 'DET'), ('first', 'ADJ'), ('three', 'NUM'), ('months', 'NOUN'), ('of', 'ADP'), ('1990', 'NUM'), (',', '.'), ('the', 'DET'), ('Treasury', 'NOUN'), ('estimates', 'NOUN'), ('that', 'ADP'), ('it', 'PRON'), ('will', 'VERB'), ('have', 'VERB'), ('*-1', 'X'), ('to', 'PRT'), ('raise', 'VERB'), ('between', 'ADP'), ('$', '.'), ('45', 'NUM'), ('billion', 'NUM'), ('and', 'CONJ'), ('$', '.'), ('50', 'NUM'), ('billion', 'NUM'), ('*U*', 'X'), (',', '.'), ('*', 'X'), ('assuming', 'VERB'), ('that', 'ADP'), ('it', 'PRON'), ('decides', 'NOUN'), ('*-2', 'X'), ('to', 'PRT'), ('aim', 'NOUN'), ('for', 'ADP'), ('a', 'DET'), ('$', '.'), ('10', 'NUM'), ('billion', 'NUM'), ('*U*', 'X'), ('cash', 'NOUN'), ('balance', 'NOUN'), ('at', 'ADP'), ('the', 'DET'), ('end', 'NOUN'), ('of', 'ADP'), ('March', 'NOUN'), ('.', '.'), ('United', 'NOUN'), ('Illuminating', 'NOUN'), ('is', 'VERB'), ('based', 'VERB'), ('*-13', 'X'), ('in', 'ADP'), ('New', 'NOUN'), ('Haven', 'NOUN'), (',', '.'), ('Conn.', 'NOUN'), (',', '.'), ('and', 'CONJ'), ('Northeast', 'NOUN'), ('is', 'VERB'), ('based', 'VERB'), ('*-14', 'X'), ('in', 'ADP'), ('Hartford', 'NOUN'), (',', '.'), ('Conn', 'NOUN'), ('.', '.'), ('But', 'CONJ'), ('some', 'DET'), ('European', 'ADJ'), ('funds', 'NOUN'), ('recently', 'ADV'), ('have', 'VERB'), ('skyrocketed', 'VERB'), (';', '.'), ('Spain', 'NOUN'), ('Fund', 'NOUN'), ('has', 'VERB'), ('surged', 'VERB'), ('to', 'PRT'), ('a', 'DET'), ('startling', 'ADJ'), ('120', 'NUM'), ('%', 'NOUN'), ('premium', 'NOUN'), ('.', '.'), ('``', '.'), ('*-1', 'X'), ('To', 'PRT'), ('get', 'VERB'), ('people', 'NOUN'), (\"'s\", 'PRT'), ('attention', 'NOUN'), ('these', 'DET'), ('days', 'NOUN'), (',', '.'), (\"''\", '.'), ('says', 'VERB'), ('*T*-2', 'X'), ('Douglas', 'NOUN'), ('Bailey', 'NOUN'), (',', '.'), ('a', 'DET'), ('political', 'ADJ'), ('consultant', 'NOUN'), (',', '.'), ('``', '.'), ('your', 'PRON'), ('TV', 'NOUN'), ('ad', 'NOUN'), ('needs', 'VERB'), ('*-1', 'X'), ('to', 'PRT'), ('be', 'VERB'), ('bold', 'ADJ'), ('and', 'CONJ'), ('entertaining', 'NOUN'), (',', '.'), ('and', 'CONJ'), (',', '.'), ('more', 'ADV'), ('often', 'ADV'), ('than', 'ADP'), ('not', 'ADV'), (',', '.'), ('that', 'DET'), ('means', 'NOUN'), ('confrontational', 'NOUN'), ('.', '.'), ('``', '.'), ('We', 'PRON'), (\"'re\", 'VERB'), ('offering', 'VERB'), ('this', 'DET'), ('plan', 'NOUN'), ('now', 'ADV'), ('because', 'ADP'), ('we', 'PRON'), ('feel', 'VERB'), ('0', 'X'), ('it', 'PRON'), (\"'s\", 'VERB'), ('the', 'DET'), ('right', 'NOUN'), ('time', 'NOUN'), ('.', '.'), (\"''\", '.'), ('The', 'DET'), ('newly', 'ADV'), ('fattened', 'NOUN'), ('premiums', 'NOUN'), ('reflect', 'VERB'), ('the', 'DET'), ('increasingly', 'ADV'), ('global', 'ADJ'), ('marketing', 'NOUN'), ('of', 'ADP'), ('some', 'DET'), ('country', 'NOUN'), ('funds', 'NOUN'), (',', '.'), ('Mr.', 'NOUN'), ('Porter', 'NOUN'), ('suggests', 'VERB'), ('0', 'X'), ('*T*-1', 'X'), ('.', '.'), ('Both', 'DET'), ('sides', 'NOUN'), ('have', 'VERB'), ('agreed', 'VERB'), ('that', 'ADP'), ('the', 'DET'), ('talks', 'NOUN'), ('will', 'VERB'), ('be', 'VERB'), ('most', 'ADV'), ('successful', 'ADJ'), ('if', 'ADP'), ('negotiators', 'NOUN'), ('start', 'VERB'), ('by', 'ADP'), ('*', 'X'), ('focusing', 'VERB'), ('on', 'ADP'), ('the', 'DET'), ('areas', 'NOUN'), ('that', 'ADP'), ('*T*-186', 'NUM'), ('can', 'VERB'), ('be', 'VERB'), ('most', 'ADV'), ('easily', 'ADV'), ('changed', 'VERB'), ('*-1', 'X'), ('.', '.'), ('A', 'DET'), ('federal', 'ADJ'), ('appeals', 'NOUN'), ('court', 'NOUN'), ('upheld', 'VERB'), ('a', 'DET'), ('lower', 'ADJ'), ('court', 'NOUN'), ('ruling', 'NOUN'), ('that', 'ADP'), ('the', 'DET'), ('U.S.', 'NOUN'), ('can', 'VERB'), ('bar', 'NOUN'), ('the', 'DET'), ('use', 'NOUN'), ('of', 'ADP'), ('federal', 'ADJ'), ('funds', 'NOUN'), ('for', 'ADP'), ('family-planning', 'ADJ'), ('programs', 'NOUN'), ('that', 'ADP'), ('*T*-1', 'X'), ('include', 'VERB'), ('abortion-related', 'NOUN'), ('services', 'NOUN'), ('.', '.'), ('Big', 'NOUN'), ('Board', 'NOUN'), ('volume', 'NOUN'), ('amounted', 'VERB'), ('to', 'PRT'), ('154,240,000', 'NUM'), ('shares', 'NOUN'), (',', '.'), ('down', 'ADV'), ('from', 'ADP'), ('176.1', 'NUM'), ('million', 'NUM'), ('Tuesday', 'NOUN'), ('.', '.'), ('When', 'ADV'), ('Bell', 'NOUN'), ('established', 'NOUN'), ('that', 'ADP'), ('the', 'DET'), ('Berliner', 'NOUN'), ('patent', 'NOUN'), ('caveat', 'NOUN'), ('was', 'VERB'), ('registered', 'VERB'), ('*-145', 'NUM'), ('10', 'NUM'), ('days', 'NOUN'), ('before', 'ADP'), ('Edison', 'NOUN'), (\"'s\", 'PRT'), ('application', 'NOUN'), ('*T*-1', 'X'), (',', '.'), ('Western', 'NOUN'), ('Union', 'NOUN'), ('dropped', 'VERB'), ('the', 'DET'), ('lawsuit', 'NOUN'), ('and', 'CONJ'), ('agreed', 'VERB'), ('*-2', 'X'), ('never', 'ADV'), ('to', 'PRT'), ('enter', 'NOUN'), ('the', 'DET'), ('telephone', 'NOUN'), ('business', 'NOUN'), ('--', '.'), ('the', 'DET'), ('basis', 'NOUN'), ('for', 'ADP'), ('the', 'DET'), ('company', 'NOUN'), (\"'s\", 'PRT'), ('current', 'ADJ'), ('plight', 'NOUN'), ('.', '.'), ('This', 'DET'), ('is', 'VERB'), ('Japan', 'NOUN'), ('?', '.'), ('In', 'ADP'), ('addition', 'NOUN'), (',', '.'), ('the', 'DET'), ('company', 'NOUN'), ('has', 'VERB'), ('replaced', 'VERB'), ('its', 'PRON'), ('president', 'NOUN'), ('and', 'CONJ'), ('chief', 'NOUN'), ('executive', 'NOUN'), (',', '.'), ('*-1', 'X'), ('naming', 'VERB'), ('W.', 'NOUN'), ('James', 'NOUN'), ('Nichol', 'NOUN'), (',', '.'), ('head', 'NOUN'), ('of', 'ADP'), ('the', 'DET'), ('company', 'NOUN'), (\"'s\", 'PRT'), ('contract', 'NOUN'), ('health', 'NOUN'), ('services', 'NOUN'), (',', '.'), ('to', 'PRT'), ('succeed', 'VERB'), ('B.', 'NOUN'), ('Lee', 'NOUN'), ('Karns', 'NOUN'), ('.', '.'), ('Many', 'ADJ'), ('lost', 'VERB'), ('their', 'PRON'), ('farms', 'NOUN'), ('.', '.'), ('The', 'DET'), ('antitrust', 'ADJ'), ('staffs', 'NOUN'), ('of', 'ADP'), ('both', 'DET'), ('the', 'DET'), ('FTC', 'NOUN'), ('and', 'CONJ'), ('Justice', 'NOUN'), ('Department', 'NOUN'), ('were', 'VERB'), ('cut', 'VERB'), ('*-87', 'X'), ('more', 'ADV'), ('than', 'ADP'), ('40', 'NUM'), ('%', 'NOUN'), ('in', 'ADP'), ('the', 'DET'), ('Reagan', 'NOUN'), ('administration', 'NOUN'), (',', '.'), ('and', 'CONJ'), ('enforcement', 'NOUN'), ('of', 'ADP'), ('major', 'ADJ'), ('merger', 'NOUN'), ('cases', 'NOUN'), ('fell', 'VERB'), ('off', 'PRT'), ('drastically', 'NOUN'), ('during', 'ADP'), ('that', 'DET'), ('period', 'NOUN'), ('.', '.'), ('The', 'DET'), ('company', 'NOUN'), ('also', 'ADV'), ('disclosed', 'VERB'), ('that', 'ADP'), ('during', 'ADP'), ('that', 'DET'), ('period', 'NOUN'), ('it', 'PRON'), ('offered', 'VERB'), ('10,000', 'NUM'), ('yen', 'NOUN'), (',', '.'), ('or', 'CONJ'), ('about', 'ADP'), ('$', '.'), ('70', 'NUM'), ('*U*', 'X'), (',', '.'), ('for', 'ADP'), ('another', 'DET'), ('contract', 'NOUN'), ('.', '.'), ('*-1', 'X'), ('Assuming', 'VERB'), ('that', 'ADP'), ('post', 'NOUN'), ('at', 'ADP'), ('the', 'DET'), ('age', 'NOUN'), ('of', 'ADP'), ('35', 'NUM'), (',', '.'), ('he', 'PRON'), ('managed', 'VERB'), ('by', 'ADP'), ('consensus', 'NOUN'), (',', '.'), ('as', 'ADP'), ('*', 'X'), ('is', 'VERB'), ('the', 'DET'), ('rule', 'NOUN'), ('in', 'ADP'), ('universities', 'NOUN'), (',', '.'), ('says', 'VERB'), ('0', 'X'), ('*T*-3', 'X'), ('Warren', 'NOUN'), ('H.', 'NOUN'), ('Strother', 'NOUN'), (',', '.'), ('a', 'DET'), ('university', 'NOUN'), ('official', 'NOUN'), ('who', 'PRON'), ('*T*-2', 'X'), ('is', 'VERB'), ('researching', 'NOUN'), ('a', 'DET'), ('book', 'NOUN'), ('on', 'ADP'), ('Mr.', 'NOUN'), ('Hahn', 'NOUN'), ('.', '.'), ('He', 'PRON'), ('said', 'VERB'), ('0', 'X'), ('the', 'DET'), ('exchange', 'NOUN'), ('is', 'VERB'), ('``', '.'), ('headed', 'NOUN'), ('for', 'ADP'), ('a', 'DET'), ('real', 'ADJ'), ('crisis', 'NOUN'), (\"''\", '.'), ('if', 'ADP'), ('program', 'NOUN'), ('trading', 'NOUN'), ('is', 'VERB'), (\"n't\", 'ADV'), ('curbed', 'NOUN'), ('*-1', 'X'), ('.', '.'), ('He', 'PRON'), ('is', 'VERB'), ('just', 'ADV'), ('passing', 'VERB'), ('the', 'DET'), ('buck', 'NOUN'), ('to', 'PRT'), ('young', 'ADJ'), ('people', 'NOUN'), ('.', '.'), ('The', 'DET'), ('U.S.', 'NOUN'), ('and', 'CONJ'), ('Soviet', 'ADJ'), ('Union', 'NOUN'), ('are', 'VERB'), ('holding', 'VERB'), ('technical', 'ADJ'), ('talks', 'NOUN'), ('about', 'ADP'), ('possible', 'ADJ'), ('repayment', 'NOUN'), ('by', 'ADP'), ('Moscow', 'NOUN'), ('of', 'ADP'), ('$', '.'), ('188', 'NUM'), ('million', 'NUM'), ('*U*', 'X'), ('in', 'ADP'), ('pre-Communist', 'NOUN'), ('Russian', 'NOUN'), ('debts', 'NOUN'), ('owed', 'VERB'), ('*', 'X'), ('to', 'PRT'), ('the', 'DET'), ('U.S.', 'NOUN'), ('government', 'NOUN'), (',', '.'), ('the', 'DET'), ('State', 'NOUN'), ('Department', 'NOUN'), ('said', 'VERB'), ('0', 'X'), ('*T*-2', 'X'), ('.', '.'), ('For', 'ADP'), ('the', 'DET'), ('first', 'ADJ'), ('time', 'NOUN'), (',', '.'), ('the', 'DET'), ('October', 'NOUN'), ('survey', 'NOUN'), ('polled', 'VERB'), ('members', 'NOUN'), ('on', 'ADP'), ('imports', 'NOUN'), ('.', '.'), ('Ten', 'NOUN'), ('shirt-sleeved', 'NOUN'), ('ringers', 'NOUN'), ('stand', 'VERB'), ('in', 'ADP'), ('a', 'DET'), ('circle', 'NOUN'), (',', '.'), ('one', 'NUM'), ('foot', 'NOUN'), ('ahead', 'ADV'), ('of', 'ADP'), ('the', 'DET'), ('other', 'ADJ'), ('in', 'ADP'), ('a', 'DET'), ('prize-fighter', 'NOUN'), (\"'s\", 'PRT'), ('stance', 'NOUN'), (',', '.'), ('each', 'DET'), ('pulling', 'NOUN'), ('a', 'DET'), ('rope', 'NOUN'), ('that', 'ADP'), ('*T*-225', 'NUM'), ('disappears', 'NOUN'), ('through', 'ADP'), ('a', 'DET'), ('small', 'ADJ'), ('hole', 'NOUN'), ('in', 'ADP'), ('the', 'DET'), ('high', 'ADJ'), ('ceiling', 'NOUN'), ('of', 'ADP'), ('the', 'DET'), ('ringing', 'NOUN'), ('chamber', 'NOUN'), ('.', '.'), ('Carnival', 'NOUN'), ('said', 'VERB'), ('0', 'X'), ('it', 'PRON'), ('will', 'VERB'), ('be', 'VERB'), ('an', 'DET'), ('11', 'NUM'), ('%', 'NOUN'), ('shareholder', 'NOUN'), ('in', 'ADP'), ('the', 'DET'), ('new', 'ADJ'), ('company', 'NOUN'), ('.', '.'), ('Excluding', 'VERB'), ('these', 'DET'), ('orders', 'NOUN'), (',', '.'), ('backlogs', 'NOUN'), ('declined', 'VERB'), ('0.3', 'NUM'), ('%', 'NOUN'), ('.', '.'), ('They', 'PRON'), ('also', 'ADV'), ('have', 'VERB'), ('become', 'VERB'), ('large', 'ADJ'), ('purchasers', 'NOUN'), ('of', 'ADP'), ('Fannie', 'NOUN'), ('Mae', 'NOUN'), (\"'s\", 'PRT'), ('corporate', 'ADJ'), ('debt', 'NOUN'), (',', '.'), ('*-2', 'X'), ('buying', 'VERB'), ('$', '.'), ('2.4', 'NUM'), ('billion', 'NUM'), ('*U*', 'X'), ('in', 'ADP'), ('Fannie', 'NOUN'), ('Mae', 'NOUN'), ('bonds', 'NOUN'), ('during', 'ADP'), ('the', 'DET'), ('first', 'ADJ'), ('nine', 'NUM'), ('months', 'NOUN'), ('of', 'ADP'), ('the', 'DET'), ('year', 'NOUN'), (',', '.'), ('or', 'CONJ'), ('almost', 'ADV'), ('a', 'DET'), ('tenth', 'NOUN'), ('of', 'ADP'), ('the', 'DET'), ('total', 'ADJ'), ('amount', 'NOUN'), ('issued', 'VERB'), ('*', 'X'), ('.', '.'), ('Sales', 'NOUN'), ('fell', 'VERB'), ('20', 'NUM'), ('%', 'NOUN'), ('to', 'PRT'), ('#', '.'), ('722', 'NUM'), ('million', 'NUM'), ('*U*', 'X'), ('.', '.'), ('Travelers', 'NOUN'), ('estimated', 'VERB'), ('that', 'ADP'), ('the', 'DET'), ('California', 'NOUN'), ('earthquake', 'NOUN'), ('last', 'ADJ'), ('month', 'NOUN'), ('will', 'VERB'), ('result', 'VERB'), ('in', 'ADP'), ('a', 'DET'), ('fourth-quarter', 'NOUN'), ('pre-tax', 'NOUN'), ('charge', 'NOUN'), ('of', 'ADP'), ('less', 'ADJ'), ('than', 'ADP'), ('$', '.'), ('10', 'NUM'), ('million', 'NUM'), ('*U*', 'X'), ('.', '.'), ('The', 'DET'), ('two', 'NUM'), ('concerns', 'NOUN'), ('said', 'VERB'), ('0', 'X'), ('they', 'PRON'), ('entered', 'VERB'), ('into', 'ADP'), ('a', 'DET'), ('definitive', 'NOUN'), ('merger', 'NOUN'), ('agreement', 'NOUN'), ('under', 'ADP'), ('which', 'DET'), ('Ratners', 'NOUN'), ('will', 'VERB'), ('begin', 'VERB'), ('a', 'DET'), ('tender', 'NOUN'), ('offer', 'NOUN'), ('for', 'ADP'), ('all', 'DET'), ('of', 'ADP'), ('Weisfield', 'NOUN'), (\"'s\", 'PRT'), ('common', 'ADJ'), ('shares', 'NOUN'), ('for', 'ADP'), ('$', '.'), ('57.50', 'NUM'), ('*U*', 'X'), ('each', 'DET'), ('*T*-1', 'X'), ('.', '.'), ('We', 'PRON'), ('also', 'ADV'), ('know', 'VERB'), ('that', 'ADP'), ('the', 'DET'), ('tort', 'NOUN'), ('system', 'NOUN'), ('is', 'VERB'), ('a', 'DET'), ('lousy', 'NOUN'), ('way', 'NOUN'), ('0', 'X'), ('*', 'X'), ('to', 'PRT'), ('compensate', 'VERB'), ('victims', 'NOUN'), ('*T*-1', 'X'), ('anyway', 'NOUN'), (';', '.'), ('some', 'DET'), ('win', 'VERB'), ('the', 'DET'), ('legal', 'ADJ'), ('lottery', 'NOUN'), (',', '.'), ('others', 'NOUN'), ('get', 'VERB'), ('much', 'ADV'), ('less', 'ADJ'), ('and', 'CONJ'), ('contingency-fee', 'NOUN'), ('lawyers', 'NOUN'), ('take', 'VERB'), ('a', 'DET'), ('big', 'ADJ'), ('cut', 'NOUN'), ('either', 'CONJ'), ('way', 'NOUN'), ('.', '.'), ('Meanwhile', 'ADV'), (',', '.'), ('the', 'DET'), ('bad', 'ADJ'), ('bank', 'NOUN'), ('with', 'ADP'), ('the', 'DET'), ('junk', 'NOUN'), ('bonds', 'NOUN'), ('--', '.'), ('and', 'CONJ'), ('some', 'DET'), ('capital', 'NOUN'), ('--', '.'), ('might', 'VERB'), ('be', 'VERB'), ('spun', 'NOUN'), ('off', 'PRT'), ('*-1', 'X'), ('to', 'PRT'), ('Columbia', 'NOUN'), ('shareholders', 'NOUN'), (',', '.'), ('including', 'VERB'), ('Mr.', 'NOUN'), ('Spiegel', 'NOUN'), (',', '.'), ('who', 'PRON'), ('*T*-2', 'X'), ('might', 'VERB'), ('then', 'ADV'), ('have', 'VERB'), ('a', 'DET'), ('new', 'ADJ'), ('career', 'NOUN'), (',', '.'), ('investors', 'NOUN'), ('say', 'VERB'), ('0', 'X'), ('*T*-3', 'X'), ('.', '.'), ('Sales', 'NOUN'), ('rose', 'VERB'), ('4', 'NUM'), ('%', 'NOUN'), ('to', 'PRT'), ('$', '.'), ('3.28', 'NUM'), ('billion', 'NUM'), ('*U*', 'X'), ('from', 'ADP'), ('$', '.'), ('3.16', 'NUM'), ('billion', 'NUM'), ('*U*', 'X'), ('.', '.'), ('Its', 'PRON'), ('budget', 'NOUN'), ('$', '.'), ('184', 'NUM'), ('million', 'NUM'), ('*U*', 'X'), ('--', '.'), ('is', 'VERB'), ('paid', 'VERB'), ('for', 'ADP'), ('*-30', 'NUM'), ('by', 'ADP'), ('you', 'PRON'), ('.', '.'), ('That', 'DET'), ('response', 'NOUN'), ('annoyed', 'NOUN'), ('Rep.', 'NOUN'), ('Markey', 'NOUN'), (',', '.'), ('House', 'NOUN'), ('aides', 'NOUN'), ('said', 'VERB'), ('0', 'X'), ('*T*-1', 'X'), (',', '.'), ('and', 'CONJ'), ('the', 'DET'), ('congressman', 'NOUN'), ('snapped', 'VERB'), ('back', 'ADV'), ('that', 'ADP'), ('there', 'DET'), ('had', 'VERB'), ('been', 'VERB'), ('enough', 'ADV'), ('studies', 'NOUN'), ('of', 'ADP'), ('the', 'DET'), ('issue', 'NOUN'), ('and', 'CONJ'), ('that', 'DET'), ('it', 'PRON'), ('was', 'VERB'), ('time', 'NOUN'), ('for', 'ADP'), ('action', 'NOUN'), ('on', 'ADP'), ('the', 'DET'), ('matter', 'NOUN'), ('.', '.'), ('Robert', 'NOUN'), ('P.', 'NOUN'), ('Tassinari', 'NOUN'), (',', '.'), ('63', 'NUM'), (',', '.'), ('was', 'VERB'), ('named', 'VERB'), ('*-29', 'X'), ('senior', 'ADJ'), ('vice', 'NOUN'), ('president', 'NOUN'), ('of', 'ADP'), ('Eastern', 'NOUN'), ('Utilities', 'NOUN'), ('.', '.'), ('About', 'ADP'), ('20,000', 'NUM'), ('sets', 'NOUN'), ('of', 'ADP'), ('Learning', 'NOUN'), ('Materials', 'NOUN'), ('teachers', 'NOUN'), (\"'\", 'PRT'), ('binders', 'NOUN'), ('have', 'VERB'), ('also', 'ADV'), ('been', 'VERB'), ('sold', 'VERB'), ('*-1', 'X'), ('in', 'ADP'), ('the', 'DET'), ('past', 'ADJ'), ('four', 'NUM'), ('years', 'NOUN'), ('.', '.'), ('A', 'DET'), ('full', 'ADJ'), (',', '.'), ('four-color', 'NOUN'), ('page', 'NOUN'), ('in', 'ADP'), ('Newsweek', 'NOUN'), ('will', 'VERB'), ('cost', 'NOUN'), ('$', '.'), ('100,980', 'NUM'), ('*U*', 'X'), ('.', '.'), ('In', 'ADP'), ('London', 'NOUN'), ('at', 'ADP'), ('mid-afternoon', 'NOUN'), ('yesterday', 'NOUN'), (',', '.'), ('Ratners', 'NOUN'), (\"'s\", 'PRT'), ('shares', 'NOUN'), ('were', 'VERB'), ('up', 'ADV'), ('2', 'NUM'), ('pence', 'NOUN'), ('-LRB-', '.'), ('1.26', 'NUM'), ('cents', 'NOUN'), ('-RRB-', '.'), (',', '.'), ('at', 'ADP'), ('260', 'NUM'), ('pence', 'NOUN'), ('-LRB-', '.'), ('$', '.'), ('1.64', 'NUM'), ('*U*', 'X'), ('-RRB-', '.'), ('.', '.'), ('In', 'ADP'), ('the', 'DET'), ('last', 'ADJ'), ('year', 'NOUN'), ('or', 'CONJ'), ('so', 'ADV'), (',', '.'), ('however', 'ADV'), (',', '.'), ('this', 'DET'), ('exclusive', 'ADJ'), ('club', 'NOUN'), ('has', 'VERB'), ('taken', 'VERB'), ('in', 'ADP'), ('a', 'DET'), ('host', 'NOUN'), ('of', 'ADP'), ('flashy', 'NOUN'), ('new', 'ADJ'), ('members', 'NOUN'), ('.', '.'), ('But', 'CONJ'), ('I', 'PRON'), ('--', '.'), ('I', 'PRON'), ('like', 'VERB'), ('*-1', 'X'), ('to', 'PRT'), ('think', 'VERB'), ('of', 'ADP'), ('it', 'PRON'), ('in', 'ADP'), ('terms', 'NOUN'), ('of', 'ADP'), ('we', 'PRON'), (',', '.'), ('all', 'DET'), ('of', 'ADP'), ('us', 'PRON'), ('--', '.'), ('won', 'VERB'), ('the', 'DET'), ('point', 'NOUN'), ('.', '.'), ('More', 'ADV'), ('than', 'ADP'), ('a', 'DET'), ('half', 'NOUN'), ('of', 'ADP'), ('all', 'DET'), ('sugar', 'NOUN'), ('produced', 'VERB'), ('*', 'X'), ('in', 'ADP'), ('Brazil', 'NOUN'), ('goes', 'VERB'), ('for', 'ADP'), ('alcohol', 'NOUN'), ('production', 'NOUN'), (',', '.'), ('according', 'VERB'), ('to', 'PRT'), ('Ms.', 'NOUN'), ('Ganes', 'NOUN'), ('.', '.'), ('In', 'ADP'), ('American', 'ADJ'), ('Stock', 'NOUN'), ('Exchange', 'NOUN'), ('composite', 'ADJ'), ('trading', 'NOUN'), (',', '.'), ('Citadel', 'NOUN'), ('shares', 'NOUN'), ('closed', 'VERB'), ('yesterday', 'NOUN'), ('at', 'ADP'), ('$', '.'), ('45.75', 'NUM'), ('*U*', 'X'), (',', '.'), ('down', 'ADV'), ('25', 'NUM'), ('cents', 'NOUN'), ('.', '.'), ('After', 'ADP'), ('years', 'NOUN'), ('of', 'ADP'), ('decline', 'NOUN'), (',', '.'), ('weddings', 'NOUN'), ('in', 'ADP'), ('France', 'NOUN'), ('showed', 'VERB'), ('a', 'DET'), ('2.2', 'NUM'), ('%', 'NOUN'), ('upturn', 'NOUN'), ('last', 'ADJ'), ('year', 'NOUN'), (',', '.'), ('with', 'ADP'), ('6,000', 'NUM'), ('more', 'ADJ'), ('couples', 'NOUN'), ('*ICH*-1', 'X'), ('exchanging', 'NOUN'), ('rings', 'VERB'), ('in', 'ADP'), ('1988', 'NUM'), ('than', 'ADP'), ('in', 'ADP'), ('the', 'DET'), ('previous', 'ADJ'), ('year', 'NOUN'), (',', '.'), ('the', 'DET'), ('national', 'ADJ'), ('statistics', 'NOUN'), ('office', 'NOUN'), ('said', 'VERB'), ('0', 'X'), ('*T*-2', 'X'), ('.', '.'), ('American', 'NOUN'), ('Express', 'NOUN'), ('also', 'ADV'), ('represents', 'VERB'), ('the', 'DET'), ('upscale', 'ADJ'), ('image', 'NOUN'), ('0', 'X'), ('``', '.'), ('we', 'PRON'), (\"'re\", 'VERB'), ('trying', 'VERB'), ('*-2', 'X'), ('to', 'PRT'), ('project', 'NOUN'), ('*T*-1', 'X'), (',', '.'), (\"''\", '.'), ('she', 'PRON'), ('adds', 'VERB'), ('*T*-3', 'X'), ('.', '.'), ('The', 'DET'), ('report', 'NOUN'), ('from', 'ADP'), ('the', 'DET'), ('Fed', 'NOUN'), ('found', 'VERB'), ('that', 'ADP'), ('manufacturing', 'NOUN'), (',', '.'), ('in', 'ADP'), ('particular', 'ADJ'), (',', '.'), ('has', 'VERB'), ('been', 'VERB'), ('weak', 'ADJ'), ('in', 'ADP'), ('recent', 'ADJ'), ('weeks', 'NOUN'), ('.', '.'), ('According', 'VERB'), ('to', 'PRT'), ('an', 'DET'), ('American', 'ADJ'), ('member', 'NOUN'), ('of', 'ADP'), ('the', 'DET'), ('Nixon', 'NOUN'), ('party', 'NOUN'), (',', '.'), ('the', 'DET'), ('former', 'ADJ'), ('president', 'NOUN'), ('raised', 'VERB'), ('a', 'DET'), ('number', 'NOUN'), ('of', 'ADP'), ('controversial', 'ADJ'), ('issues', 'NOUN'), ('in', 'ADP'), ('his', 'PRON'), ('20', 'NUM'), ('hours', 'NOUN'), ('of', 'ADP'), ('talks', 'NOUN'), ('with', 'ADP'), ('top-level', 'NOUN'), ('Chinese', 'NOUN'), ('officials', 'NOUN'), ('.', '.'), ('His', 'PRON'), ('duties', 'NOUN'), ('as', 'ADP'), ('chief', 'NOUN'), ('executive', 'NOUN'), ('will', 'VERB'), ('be', 'VERB'), ('assumed', 'VERB'), ('*-121', 'NUM'), ('by', 'ADP'), ('Chairman', 'NOUN'), ('Jay', 'NOUN'), ('B.', 'NOUN'), ('Langner', 'NOUN'), ('.', '.'), ('Meanwhile', 'ADV'), (',', '.'), ('stations', 'NOUN'), ('are', 'VERB'), ('fuming', 'NOUN'), ('because', 'ADP'), (',', '.'), ('many', 'ADJ'), ('of', 'ADP'), ('them', 'PRON'), ('say', 'VERB'), ('0', 'X'), ('*T*-1', 'X'), (',', '.'), ('the', 'DET'), ('show', 'NOUN'), (\"'s\", 'PRT'), ('distributor', 'NOUN'), (',', '.'), ('Viacom', 'NOUN'), ('Inc.', 'NOUN'), (',', '.'), ('is', 'VERB'), ('giving', 'VERB'), ('an', 'DET'), ('ultimatum', 'NOUN'), (':', '.'), ('*', 'X'), ('Either', 'NOUN'), ('sign', 'NOUN'), ('new', 'ADJ'), ('long-term', 'ADJ'), ('commitments', 'NOUN'), ('*', 'X'), ('to', 'PRT'), ('buy', 'VERB'), ('future', 'ADJ'), ('episodes', 'NOUN'), ('or', 'CONJ'), ('risk', 'NOUN'), ('*-2', 'X'), ('losing', 'VERB'), ('``', '.'), ('Cosby', 'NOUN'), (\"''\", '.'), ('to', 'PRT'), ('a', 'DET'), ('competitor', 'NOUN'), ('.', '.'), ('A', 'DET'), ('second', 'ADJ'), ('citation', 'NOUN'), ('covering', 'VERB'), ('the', 'DET'), ('company', 'NOUN'), (\"'s\", 'PRT'), ('Clairton', 'NOUN'), (',', '.'), ('Pa.', 'NOUN'), (',', '.'), ('coke', 'NOUN'), ('works', 'NOUN'), ('involved', 'VERB'), ('more', 'ADV'), ('than', 'ADP'), ('200', 'NUM'), ('alleged', 'ADJ'), ('violations', 'NOUN'), ('of', 'ADP'), ('electrical-safety', 'NOUN'), ('and', 'CONJ'), ('other', 'ADJ'), ('requirements', 'NOUN'), (',', '.'), ('for', 'ADP'), ('which', 'DET'), ('OSHA', 'NOUN'), ('proposed', 'VERB'), ('$', '.'), ('1.2', 'NUM'), ('million', 'NUM'), ('*U*', 'X'), ('in', 'ADP'), ('fines', 'NOUN'), ('*T*-1', 'X'), ('.', '.'), ('But', 'CONJ'), ('as', 'ADP'), ('the', 'DET'), ('craze', 'NOUN'), ('died', 'VERB'), (',', '.'), ('Coleco', 'NOUN'), ('failed', 'VERB'), ('*-1', 'X'), ('to', 'PRT'), ('come', 'VERB'), ('up', 'ADV'), ('with', 'ADP'), ('another', 'DET'), ('winner', 'NOUN'), ('and', 'CONJ'), ('filed', 'VERB'), ('for', 'ADP'), ('bankruptcy-law', 'NOUN'), ('protection', 'NOUN'), ('in', 'ADP'), ('July', 'NOUN'), ('1988', 'NUM'), ('.', '.'), ('The', 'DET'), ('Treasury', 'NOUN'), ('said', 'VERB'), ('0', 'X'), ('it', 'PRON'), ('needs', 'VERB'), ('*-1', 'X'), ('to', 'PRT'), ('raise', 'VERB'), ('$', '.'), ('47.5', 'NUM'), ('billion', 'NUM'), ('*U*', 'X'), ('in', 'ADP'), ('the', 'DET'), ('current', 'ADJ'), ('quarter', 'NOUN'), ('in', 'ADP'), ('order', 'NOUN'), ('*-1', 'X'), ('to', 'PRT'), ('end', 'VERB'), ('December', 'NOUN'), ('with', 'ADP'), ('a', 'DET'), ('$', '.'), ('20', 'NUM'), ('billion', 'NUM'), ('*U*', 'X'), ('cash', 'NOUN'), ('balance', 'NOUN'), ('.', '.'), ('It', 'PRON'), ('*EXP*-1', 'X'), ('is', 'VERB'), ('easy', 'ADJ'), ('*', 'X'), ('to', 'PRT'), ('see', 'VERB'), ('why', 'ADV'), ('the', 'DET'), ('ancient', 'ADJ'), ('art', 'NOUN'), ('is', 'VERB'), ('on', 'ADP'), ('the', 'DET'), ('ropes', 'NOUN'), ('*T*-2', 'X'), ('.', '.'), ('Grain', 'NOUN'), ('elevators', 'NOUN'), ('built', 'VERB'), ('*', 'X'), ('in', 'ADP'), ('the', 'DET'), ('1920s', 'NOUN'), ('and', 'CONJ'), (\"'30s\", 'NOUN'), ('have', 'VERB'), ('six-inch', 'ADJ'), ('concrete', 'ADJ'), ('walls', 'NOUN'), ('and', 'CONJ'), ('a', 'DET'), ('tubular', 'ADJ'), ('shape', 'NOUN'), ('that', 'ADP'), ('*T*-1', 'X'), ('would', 'VERB'), ('easily', 'ADV'), ('contain', 'VERB'), ('semicircular', 'NOUN'), ('cells', 'NOUN'), ('with', 'ADP'), ('a', 'DET'), ('control', 'NOUN'), ('point', 'NOUN'), ('in', 'ADP'), ('the', 'DET'), ('middle', 'ADJ'), (',', '.'), ('the', 'DET'), ('New', 'NOUN'), ('York', 'NOUN'), ('firm', 'NOUN'), ('says', 'VERB'), ('0', 'X'), ('*T*-2', 'X'), ('.', '.'), ('Says', 'VERB'), ('*ICH*-1', 'X'), ('Kathryn', 'NOUN'), ('McAuley', 'NOUN'), (',', '.'), ('an', 'DET'), ('analyst', 'NOUN'), ('at', 'ADP'), ('First', 'NOUN'), ('Manhattan', 'NOUN'), ('Co.', 'NOUN'), (':', '.'), ('``', '.'), ('This', 'DET'), ('is', 'VERB'), ('the', 'DET'), ('greatest', 'ADJ'), ('acquisition', 'NOUN'), ('challenge', 'NOUN'), ('0', 'X'), ('he', 'PRON'), ('has', 'VERB'), ('faced', 'VERB'), ('*T*-2', 'X'), ('.', '.'), ('Sales', 'NOUN'), ('of', 'ADP'), ('passenger', 'NOUN'), ('cars', 'NOUN'), ('grew', 'VERB'), ('22', 'NUM'), ('%', 'NOUN'), ('from', 'ADP'), ('a', 'DET'), ('year', 'NOUN'), ('earlier', 'ADV'), ('to', 'PRT'), ('361,376', 'NUM'), ('units', 'NOUN'), ('.', '.'), ('The', 'DET'), ('tire', 'NOUN'), ('maker', 'NOUN'), ('said', 'VERB'), ('0', 'X'), ('the', 'DET'), ('buildings', 'NOUN'), ('consist', 'VERB'), ('of', 'ADP'), ('1.8', 'NUM'), ('million', 'NUM'), ('square', 'ADJ'), ('feet', 'NOUN'), ('of', 'ADP'), ('office', 'NOUN'), (',', '.'), ('manufacturing', 'NOUN'), ('and', 'CONJ'), ('warehousing', 'NOUN'), ('space', 'NOUN'), ('on', 'ADP'), ('353', 'NUM'), ('acres', 'NOUN'), ('of', 'ADP'), ('land', 'NOUN'), ('.', '.'), ('``', '.'), ('We', 'PRON'), ('are', 'VERB'), ('prepared', 'VERB'), ('*-1', 'X'), ('to', 'PRT'), ('pursue', 'VERB'), ('aggressively', 'ADV'), ('completion', 'NOUN'), ('of', 'ADP'), ('this', 'DET'), ('transaction', 'NOUN'), (',', '.'), (\"''\", '.'), ('he', 'PRON'), ('says', 'VERB'), ('*T*-2', 'X'), ('.', '.'), ('William', 'NOUN'), ('G.', 'NOUN'), ('Kuhns', 'NOUN'), (',', '.'), ('former', 'ADJ'), ('chairman', 'NOUN'), ('*RNR*-1', 'X'), ('and', 'CONJ'), ('chief', 'NOUN'), ('executive', 'NOUN'), ('officer', 'NOUN'), ('*RNR*-1', 'X'), ('of', 'ADP'), ('General', 'NOUN'), ('Public', 'NOUN'), ('Utilities', 'NOUN'), ('Corp.', 'NOUN'), (',', '.'), ('was', 'VERB'), ('elected', 'VERB'), ('*-2', 'X'), ('a', 'DET'), ('director', 'NOUN'), ('of', 'ADP'), ('this', 'DET'), ('maker', 'NOUN'), ('of', 'ADP'), ('industrial', 'ADJ'), ('and', 'CONJ'), ('construction', 'NOUN'), ('equipment', 'NOUN'), (',', '.'), ('*', 'X'), ('increasing', 'VERB'), ('board', 'NOUN'), ('membership', 'NOUN'), ('to', 'PRT'), ('10', 'NUM'), ('.', '.'), ('They', 'PRON'), ('say', 'VERB'), ('0', 'X'), ('greedy', 'NOUN'), ('market', 'NOUN'), ('manipulators', 'NOUN'), ('have', 'VERB'), ('made', 'VERB'), ('a', 'DET'), ('shambles', 'NOUN'), ('of', 'ADP'), ('the', 'DET'), ('nation', 'NOUN'), (\"'s\", 'PRT'), ('free-enterprise', 'NOUN'), ('system', 'NOUN'), (',', '.'), ('*-1', 'X'), ('turning', 'VERB'), ('the', 'DET'), ('stock', 'NOUN'), ('market', 'NOUN'), ('into', 'ADP'), ('a', 'DET'), ('big', 'ADJ'), ('gambling', 'NOUN'), ('den', 'NOUN'), (',', '.'), ('with', 'ADP'), ('the', 'DET'), ('odds', 'NOUN'), ('heavily', 'ADV'), ('stacked', 'NOUN'), ('*-2', 'X'), ('against', 'ADP'), ('the', 'DET'), ('small', 'ADJ'), ('investor', 'NOUN'), ('.', '.'), ('It', 'PRON'), (\"'s\", 'VERB'), ('not', 'ADV'), ('a', 'DET'), ('sound', 'NOUN'), ('thing', 'NOUN'), (';', '.'), ('there', 'DET'), (\"'s\", 'VERB'), ('no', 'DET'), ('inherent', 'ADJ'), ('virtue', 'NOUN'), ('in', 'ADP'), ('it', 'PRON'), ('.', '.'), (\"''\", '.'), ('As', 'ADP'), ('liability', 'NOUN'), ('expert', 'NOUN'), ('Peter', 'NOUN'), ('Huber', 'NOUN'), ('tells', 'VERB'), ('us', 'PRON'), (',', '.'), ('after', 'ADP'), ('the', 'DET'), ('Hymowitz', 'NOUN'), ('case', 'NOUN'), (',', '.'), ('if', 'ADP'), ('any', 'DET'), ('drug', 'NOUN'), ('maker', 'NOUN'), ('introduces', 'NOUN'), ('an', 'DET'), ('anti-miscarriage', 'NOUN'), ('drug', 'NOUN'), ('``', '.'), ('it', 'PRON'), (\"'s\", 'VERB'), ('time', 'NOUN'), ('0', 'X'), ('*', 'X'), ('to', 'PRT'), ('sell', 'VERB'), ('that', 'ADP'), ('company', 'NOUN'), (\"'s\", 'PRT'), ('stock', 'NOUN'), ('short', 'ADJ'), ('*T*-1', 'X'), ('.', '.'), (\"''\", '.'), ('The', 'DET'), ('combined', 'ADJ'), ('processes', 'NOUN'), ('may', 'VERB'), ('significantly', 'ADV'), ('raise', 'VERB'), ('the', 'DET'), ('current-carrying', 'ADJ'), ('capacity', 'NOUN'), ('of', 'ADP'), ('multi-crystal', 'ADJ'), ('samples', 'NOUN'), ('.', '.'), ('Thomas', 'NOUN'), ('Oxnard', 'NOUN'), (',', '.'), ('sugar', 'NOUN'), ('analyst', 'NOUN'), ('for', 'ADP'), ('PaineWebber', 'NOUN'), ('in', 'ADP'), ('Hackensack', 'NOUN'), (',', '.'), ('N.J.', 'NOUN'), (',', '.'), ('said', 'VERB'), (':', '.'), ('``', '.'), ('I', 'PRON'), ('am', 'NOUN'), ('highly', 'ADV'), ('skeptical', 'ADJ'), ('that', 'ADP'), ('Brazil', 'NOUN'), ('will', 'VERB'), ('curtail', 'VERB'), ('sugar', 'NOUN'), ('exports', 'NOUN'), (',', '.'), ('particularly', 'ADV'), ('with', 'ADP'), ('the', 'DET'), ('price', 'NOUN'), ('of', 'ADP'), ('sugar', 'NOUN'), ('at', 'ADP'), ('over', 'ADP'), ('14', 'NUM'), ('cents', 'NOUN'), ('a', 'DET'), ('pound', 'NOUN'), ('.', '.'), (\"''\", '.'), ('Norman', 'NOUN'), ('Ricken', 'NOUN'), (',', '.'), ('52', 'NUM'), ('years', 'NOUN'), ('old', 'ADJ'), ('and', 'CONJ'), ('former', 'ADJ'), ('president', 'NOUN'), ('and', 'CONJ'), ('chief', 'NOUN'), ('operating', 'NOUN'), ('officer', 'NOUN'), ('of', 'ADP'), ('Toys', 'NOUN'), ('``', '.'), ('R', 'NOUN'), (\"''\", '.'), ('Us', 'NOUN'), ('Inc.', 'NOUN'), (',', '.'), ('and', 'CONJ'), ('Frederick', 'NOUN'), ('Deane', 'NOUN'), ('Jr.', 'NOUN'), (',', '.'), ('63', 'NUM'), (',', '.'), ('chairman', 'NOUN'), ('of', 'ADP'), ('Signet', 'NOUN'), ('Banking', 'NOUN'), ('Corp.', 'NOUN'), (',', '.'), ('were', 'VERB'), ('elected', 'VERB'), ('*-15', 'X'), ('directors', 'NOUN'), ('of', 'ADP'), ('this', 'DET'), ('consumer', 'NOUN'), ('electronics', 'NOUN'), ('and', 'CONJ'), ('appliances', 'NOUN'), ('retailing', 'NOUN'), ('chain', 'NOUN'), ('.', '.'), ('The', 'DET'), ('department', 'NOUN'), ('would', 'VERB'), ('be', 'VERB'), ('required', 'VERB'), ('*-1', 'X'), ('to', 'PRT'), ('block', 'VERB'), ('the', 'DET'), ('buy-out', 'NOUN'), ('if', 'ADP'), ('the', 'DET'), ('acquisition', 'NOUN'), ('is', 'VERB'), ('likely', 'ADJ'), ('*-2', 'X'), ('to', 'PRT'), ('financially', 'ADV'), ('weaken', 'VERB'), ('a', 'DET'), ('carrier', 'NOUN'), ('so', 'ADV'), ('that', 'ADP'), ('safety', 'NOUN'), ('would', 'VERB'), ('be', 'VERB'), ('impaired', 'NOUN'), ('*-27', 'X'), (';', '.'), ('its', 'PRON'), ('ability', 'NOUN'), ('*', 'X'), ('to', 'PRT'), ('compete', 'VERB'), ('would', 'VERB'), ('be', 'VERB'), ('sharply', 'ADV'), ('diminished', 'VERB'), ('*-3', 'X'), (';', '.'), ('it', 'PRON'), ('would', 'VERB'), ('be', 'VERB'), ('put', 'VERB'), ('*-28', 'X'), ('into', 'ADP'), ('foreign', 'ADJ'), ('control', 'NOUN'), (';', '.'), ('or', 'CONJ'), ('if', 'ADP'), ('the', 'DET'), ('transaction', 'NOUN'), ('would', 'VERB'), ('result', 'VERB'), ('in', 'ADP'), ('the', 'DET'), ('sale', 'NOUN'), ('of', 'ADP'), ('airline-related', 'NOUN'), ('assets', 'NOUN'), ('--', '.'), ('unless', 'ADP'), ('*', 'X'), ('selling', 'VERB'), ('such', 'ADJ'), ('assets', 'NOUN'), ('had', 'VERB'), ('an', 'DET'), ('overriding', 'NOUN'), ('public', 'NOUN'), ('benefit', 'VERB'), ('.', '.'), ('Until', 'ADP'), ('last', 'ADJ'), ('week', 'NOUN'), (',', '.'), ('the', 'DET'), ('IRS', 'NOUN'), ('rarely', 'NOUN'), ('acted', 'NOUN'), ('on', 'ADP'), ('the', 'DET'), ('incomplete', 'ADJ'), ('forms', 'NOUN'), ('.', '.'), ('Composer', 'NOUN'), ('Marc', 'NOUN'), ('Marder', 'NOUN'), (',', '.'), ('a', 'DET'), ('college', 'NOUN'), ('friend', 'NOUN'), ('of', 'ADP'), ('Mr.', 'NOUN'), ('Lane', 'NOUN'), (\"'s\", 'PRT'), ('who', 'PRON'), ('*T*-66', 'X'), ('earns', 'VERB'), ('his', 'PRON'), ('living', 'VERB'), ('*-1', 'X'), ('playing', 'VERB'), ('the', 'DET'), ('double', 'VERB'), ('bass', 'NOUN'), ('in', 'ADP'), ('classical', 'NOUN'), ('music', 'NOUN'), ('ensembles', 'NOUN'), (',', '.'), ('has', 'VERB'), ('prepared', 'VERB'), ('an', 'DET'), ('exciting', 'NOUN'), (',', '.'), ('eclectic', 'NOUN'), ('score', 'NOUN'), ('that', 'ADP'), ('*T*-67', 'X'), ('tells', 'VERB'), ('you', 'PRON'), ('what', 'PRON'), ('the', 'DET'), ('characters', 'NOUN'), ('are', 'VERB'), ('thinking', 'VERB'), ('*T*-2', 'X'), ('and', 'CONJ'), ('feeling', 'VERB'), ('*T*-2', 'X'), ('far', 'ADV'), ('more', 'ADJ'), ('precisely', 'ADV'), ('than', 'ADP'), ('intertitles', 'NOUN'), (',', '.'), ('or', 'CONJ'), ('even', 'ADV'), ('words', 'NOUN'), (',', '.'), ('would', 'VERB'), ('*?*', 'X'), ('.', '.'), ('But', 'CONJ'), ('Apple', 'NOUN'), ('II', 'NOUN'), ('was', 'VERB'), ('a', 'DET'), ('major', 'ADJ'), ('advance', 'NOUN'), ('from', 'ADP'), ('Apple', 'NOUN'), ('I', 'PRON'), (',', '.'), ('which', 'DET'), ('*T*-1', 'X'), ('was', 'VERB'), ('built', 'VERB'), ('*-33', 'X'), ('in', 'ADP'), ('a', 'DET'), ('garage', 'NOUN'), ('by', 'ADP'), ('Stephen', 'NOUN'), ('Wozniak', 'NOUN'), ('and', 'CONJ'), ('Steven', 'NOUN'), ('Jobs', 'NOUN'), ('for', 'ADP'), ('hobbyists', 'NOUN'), ('such', 'ADJ'), ('as', 'ADP'), ('the', 'DET'), ('Homebrew', 'NOUN'), ('Computer', 'NOUN'), ('Club', 'NOUN'), ('.', '.'), ('``', '.'), ('The', 'DET'), ('U.S.', 'NOUN'), (',', '.'), ('with', 'ADP'), ('its', 'PRON'), ('regional', 'ADJ'), ('friends', 'NOUN'), (',', '.'), ('must', 'VERB'), ('play', 'VERB'), ('a', 'DET'), ('crucial', 'ADJ'), ('role', 'NOUN'), ('in', 'ADP'), ('*', 'X'), ('designing', 'NOUN'), ('its', 'PRON'), ('architecture', 'NOUN'), ('.', '.'), (\"''\", '.'), ('Says', 'VERB'), ('*ICH*-1', 'X'), ('Gayle', 'NOUN'), ('Key', 'NOUN'), (',', '.'), ('a', 'DET'), ('mathematics', 'NOUN'), ('teacher', 'NOUN'), (',', '.'), ('``', '.'), ('The', 'DET'), ('incentive', 'NOUN'), ('pay', 'VERB'), ('thing', 'NOUN'), ('has', 'VERB'), ('opened', 'VERB'), ('up', 'ADV'), ('a', 'DET'), ('can', 'VERB'), ('of', 'ADP'), ('worms', 'NOUN'), ('.', '.'), ('Bribe', 'NOUN'), ('by', 'ADP'), ('bribe', 'NOUN'), (',', '.'), ('Mr.', 'NOUN'), ('Sternberg', 'NOUN'), ('and', 'CONJ'), ('his', 'PRON'), ('co-author', 'NOUN'), (',', '.'), ('Matthew', 'NOUN'), ('C.', 'NOUN'), ('Harrison', 'NOUN'), ('Jr.', 'NOUN'), (',', '.'), ('lead', 'VERB'), ('us', 'PRON'), ('along', 'ADP'), ('the', 'DET'), ('path', 'NOUN'), ('0', 'X'), ('Wedtech', 'NOUN'), ('traveled', 'NOUN'), ('*T*-1', 'X'), (',', '.'), ('from', 'ADP'), ('its', 'PRON'), ('inception', 'NOUN'), ('as', 'ADP'), ('a', 'DET'), ('small', 'ADJ'), ('manufacturing', 'NOUN'), ('company', 'NOUN'), ('to', 'PRT'), ('the', 'DET'), ('status', 'NOUN'), ('of', 'ADP'), ('full-fledged', 'NOUN'), ('defense', 'NOUN'), ('contractor', 'NOUN'), (',', '.'), ('entrusted', 'VERB'), ('*', 'X'), ('with', 'ADP'), ('the', 'DET'), ('task', 'NOUN'), ('of', 'ADP'), ('*', 'X'), ('producing', 'VERB'), ('vital', 'NOUN'), ('equipment', 'NOUN'), ('for', 'ADP'), ('the', 'DET'), ('Army', 'NOUN'), ('and', 'CONJ'), ('Navy', 'NOUN'), ('.', '.'), ('Mr.', 'NOUN'), ('Stearn', 'NOUN'), (',', '.'), ('46', 'NUM'), ('years', 'NOUN'), ('old', 'ADJ'), (',', '.'), ('could', 'VERB'), (\"n't\", 'ADV'), ('be', 'VERB'), ('reached', 'VERB'), ('*-120', 'NUM'), ('for', 'ADP'), ('comment', 'NOUN'), ('.', '.'), ('The', 'DET'), ('company', 'NOUN'), (\"'s\", 'PRT'), ('prepared', 'VERB'), ('statement', 'NOUN'), ('quoted', 'VERB'), ('him', 'PRON'), ('as', 'ADP'), ('*-1', 'X'), ('saying', 'VERB'), (',', '.'), ('``', '.'), ('The', 'DET'), ('CEO', 'NOUN'), ('succession', 'NOUN'), ('is', 'VERB'), ('well', 'ADV'), ('along', 'ADP'), ('and', 'CONJ'), ('I', 'PRON'), (\"'ve\", 'VERB'), ('decided', 'VERB'), ('for', 'ADP'), ('personal', 'ADJ'), ('reasons', 'NOUN'), ('*-2', 'X'), ('to', 'PRT'), ('take', 'VERB'), ('early', 'ADV'), ('retirement', 'NOUN'), ('.', '.'), (\"''\", '.'), ('Waertsilae', 'NOUN'), ('Marine', 'NOUN'), (\"'s\", 'PRT'), ('biggest', 'ADJ'), ('creditor', 'NOUN'), ('is', 'VERB'), ('Miami-based', 'ADJ'), ('Carnival', 'NOUN'), ('Cruise', 'NOUN'), ('Lines', 'NOUN'), ('Inc', 'NOUN'), ('.', '.'), ('The', 'DET'), ('results', 'NOUN'), ('reflected', 'VERB'), ('a', 'DET'), ('24', 'NUM'), ('%', 'NOUN'), ('gain', 'NOUN'), ('in', 'ADP'), ('income', 'NOUN'), ('from', 'ADP'), ('its', 'PRON'), ('finance', 'VERB'), ('businesses', 'NOUN'), (',', '.'), ('and', 'CONJ'), ('a', 'DET'), ('15', 'NUM'), ('%', 'NOUN'), ('slide', 'NOUN'), ('in', 'ADP'), ('income', 'NOUN'), ('from', 'ADP'), ('insurance', 'NOUN'), ('operations', 'NOUN'), ('.', '.'), ('Mr.', 'NOUN'), ('Bernstein', 'NOUN'), (',', '.'), ('who', 'PRON'), ('*T*-37', 'X'), ('succeeded', 'VERB'), ('Bennett', 'NOUN'), ('Cerf', 'NOUN'), (',', '.'), ('has', 'VERB'), ('been', 'VERB'), ('only', 'ADV'), ('the', 'DET'), ('second', 'ADJ'), ('president', 'NOUN'), ('of', 'ADP'), ('Random', 'NOUN'), ('House', 'NOUN'), ('since', 'ADP'), ('it', 'PRON'), ('was', 'VERB'), ('founded', 'VERB'), ('*-45', 'X'), ('in', 'ADP'), ('1925', 'NUM'), ('.', '.'), ('In', 'ADP'), ('her', 'PRON'), ('wake', 'NOUN'), ('she', 'PRON'), ('left', 'VERB'), ('the', 'DET'), ('bitterness', 'NOUN'), ('and', 'CONJ'), ('anger', 'NOUN'), ('of', 'ADP'), ('a', 'DET'), ('principal', 'NOUN'), ('who', 'PRON'), ('*T*-81', 'X'), ('was', 'VERB'), ('her', 'PRON'), ('friend', 'NOUN'), ('and', 'CONJ'), ('now', 'ADV'), ('calls', 'VERB'), ('her', 'PRON'), ('a', 'DET'), ('betrayer', 'NOUN'), (';', '.'), ('of', 'ADP'), ('colleagues', 'NOUN'), ('who', 'PRON'), ('*T*-82', 'NUM'), ('say', 'VERB'), ('0', 'X'), ('she', 'PRON'), ('brought', 'VERB'), ('them', 'PRON'), ('shame', 'NOUN'), (';', '.'), ('of', 'ADP'), ('students', 'NOUN'), ('and', 'CONJ'), ('parents', 'NOUN'), ('who', 'PRON'), ('*T*-83', 'NUM'), ('defended', 'VERB'), ('her', 'PRON'), ('and', 'CONJ'), ('insist', 'VERB'), ('0', 'X'), ('she', 'PRON'), ('was', 'VERB'), ('treated', 'VERB'), ('*-1', 'X'), ('harshly', 'ADV'), (';', '.'), ('and', 'CONJ'), ('of', 'ADP'), ('school-district', 'NOUN'), ('officials', 'NOUN'), ('stunned', 'NOUN'), ('that', 'ADP'), ('despite', 'ADP'), ('the', 'DET'), ('bald-faced', 'NOUN'), ('nature', 'NOUN'), ('of', 'ADP'), ('her', 'PRON'), ('actions', 'NOUN'), (',', '.'), ('she', 'PRON'), ('became', 'VERB'), ('something', 'NOUN'), ('of', 'ADP'), ('a', 'DET'), ('local', 'ADJ'), ('martyr', 'NOUN'), ('.', '.'), ('No', 'DET'), ('one', 'NUM'), ('is', 'VERB'), ('more', 'ADV'), ('unhappy', 'ADJ'), ('with', 'ADP'), ('program', 'NOUN'), ('trading', 'NOUN'), ('than', 'ADP'), ('the', 'DET'), ('nation', 'NOUN'), (\"'s\", 'PRT'), ('stockbrokers', 'NOUN'), ('.', '.'), ('I', 'PRON'), ('visited', 'NOUN'), ('a', 'DET'), ('lot', 'NOUN'), ('of', 'ADP'), ('major', 'ADJ'), ('Japanese', 'ADJ'), ('manufacturers', 'NOUN'), (',', '.'), ('but', 'CONJ'), ('I', 'PRON'), ('never', 'ADV'), ('felt', 'VERB'), ('0', 'X'), ('I', 'PRON'), ('would', 'VERB'), ('want', 'VERB'), ('*-1', 'X'), ('to', 'PRT'), ('be', 'VERB'), ('employed', 'VERB'), ('*-149', 'NUM'), ('by', 'ADP'), ('any', 'DET'), ('of', 'ADP'), ('them', 'PRON'), ('.', '.'), ('In', 'ADP'), ('addition', 'NOUN'), (',', '.'), ('the', 'DET'), ('Cray-3', 'NOUN'), ('will', 'VERB'), ('contain', 'VERB'), ('16', 'NUM'), ('processors', 'NOUN'), ('--', '.'), ('twice', 'NOUN'), ('as', 'ADP'), ('many', 'ADJ'), ('as', 'ADP'), ('the', 'DET'), ('largest', 'ADJ'), ('current', 'ADJ'), ('supercomputer', 'NOUN'), ('.', '.'), ('USX', 'NOUN'), ('was', 'VERB'), ('cited', 'VERB'), ('*-1', 'X'), ('by', 'ADP'), ('OSHA', 'NOUN'), ('for', 'ADP'), ('several', 'ADJ'), ('health', 'NOUN'), ('and', 'CONJ'), ('safety', 'NOUN'), ('violations', 'NOUN'), ('at', 'ADP'), ('two', 'NUM'), ('Pennsylvania', 'NOUN'), ('plants', 'NOUN'), ('and', 'CONJ'), ('may', 'VERB'), ('face', 'VERB'), ('a', 'DET'), ('record', 'NOUN'), ('fine', 'NOUN'), ('of', 'ADP'), ('$', '.'), ('7.3', 'NUM'), ('million', 'NUM'), ('*U*', 'X'), ('.', '.'), ('The', 'DET'), ('word', 'NOUN'), ('dissemination', 'NOUN'), (',', '.'), ('it', 'PRON'), ('decided', 'VERB'), ('0', 'X'), ('*T*-1', 'X'), (',', '.'), ('referred', 'VERB'), ('only', 'ADV'), ('to', 'PRT'), ('itself', 'PRON'), ('.', '.'), ('Mr.', 'NOUN'), ('Leinonen', 'NOUN'), ('said', 'VERB'), ('0', 'X'), ('he', 'PRON'), ('expects', 'VERB'), ('Ford', 'NOUN'), ('to', 'PRT'), ('meet', 'VERB'), ('the', 'DET'), ('deadline', 'NOUN'), ('easily', 'ADV'), ('.', '.'), ('This', 'DET'), ('time', 'NOUN'), (',', '.'), ('it', 'PRON'), ('was', 'VERB'), ('for', 'ADP'), ('dinner', 'NOUN'), ('and', 'CONJ'), ('dancing', 'NOUN'), ('--', '.'), ('a', 'DET'), ('block', 'NOUN'), ('away', 'ADV'), ('.', '.'), ('It', 'PRON'), (\"'s\", 'VERB'), ('imaginative', 'NOUN'), ('and', 'CONJ'), ('often', 'ADV'), ('funny', 'ADJ'), ('.', '.'), ('John', 'NOUN'), ('Rowe', 'NOUN'), (',', '.'), ('president', 'NOUN'), ('*RNR*-1', 'X'), ('and', 'CONJ'), ('chief', 'NOUN'), ('executive', 'NOUN'), ('officer', 'NOUN'), ('*RNR*-1', 'X'), ('of', 'ADP'), ('New', 'NOUN'), ('England', 'NOUN'), ('Electric', 'NOUN'), (',', '.'), ('said', 'VERB'), ('0', 'X'), ('the', 'DET'), ('company', 'NOUN'), (\"'s\", 'PRT'), ('return', 'NOUN'), ('on', 'ADP'), ('equity', 'NOUN'), ('could', 'VERB'), ('suffer', 'VERB'), ('if', 'ADP'), ('it', 'PRON'), ('made', 'VERB'), ('a', 'DET'), ('higher', 'ADJ'), ('bid', 'NOUN'), ('and', 'CONJ'), ('its', 'PRON'), ('forecasts', 'NOUN'), ('related', 'VERB'), ('*', 'X'), ('to', 'PRT'), ('PS', 'NOUN'), ('of', 'ADP'), ('New', 'NOUN'), ('Hampshire', 'NOUN'), ('--', '.'), ('such', 'ADJ'), ('as', 'ADP'), ('growth', 'NOUN'), ('in', 'ADP'), ('electricity', 'NOUN'), ('demand', 'NOUN'), ('and', 'CONJ'), ('improved', 'VERB'), ('operating', 'VERB'), ('efficiencies', 'NOUN'), ('--', '.'), ('did', 'VERB'), (\"n't\", 'ADV'), ('come', 'VERB'), ('true', 'ADJ'), ('.', '.'), ('``', '.'), ('We', 'PRON'), ('play', 'VERB'), ('*-1', 'X'), ('to', 'PRT'), ('win', 'VERB'), ('.', '.'), ('For', 'ADP'), ('fiscal', 'ADJ'), ('1989', 'NUM'), (\"'s\", 'PRT'), ('fourth', 'ADJ'), ('quarter', 'NOUN'), (',', '.'), ('Rockwell', 'NOUN'), (\"'s\", 'PRT'), ('net', 'ADJ'), ('income', 'NOUN'), ('totaled', 'VERB'), ('$', '.'), ('126.1', 'NUM'), ('million', 'NUM'), ('*U*', 'X'), (',', '.'), ('or', 'CONJ'), ('50', 'NUM'), ('cents', 'NOUN'), ('a', 'DET'), ('share', 'NOUN'), ('.', '.'), ('Mrs.', 'NOUN'), ('Gorman', 'NOUN'), ('took', 'VERB'), ('advantage', 'NOUN'), ('of', 'ADP'), ('low', 'ADJ'), ('prices', 'NOUN'), ('after', 'ADP'), ('the', 'DET'), ('1987', 'NUM'), ('crash', 'NOUN'), ('*-1', 'X'), ('to', 'PRT'), ('buy', 'VERB'), ('stocks', 'NOUN'), ('and', 'CONJ'), ('has', 'VERB'), ('hunted', 'NOUN'), ('for', 'ADP'), ('other', 'ADJ'), ('bargains', 'NOUN'), ('since', 'ADP'), ('the', 'DET'), ('Oct.', 'NOUN'), ('13', 'NUM'), ('plunge', 'NOUN'), ('.', '.'), ('It', 'PRON'), ('said', 'VERB'), ('0', 'X'), ('that', 'ADP'), ('volume', 'NOUN'), ('makes', 'VERB'), ('it', 'PRON'), ('the', 'DET'), ('largest', 'ADJ'), ('supplier', 'NOUN'), ('of', 'ADP'), ('original', 'ADJ'), ('TV', 'NOUN'), ('programming', 'NOUN'), ('in', 'ADP'), ('Europe', 'NOUN'), ('.', '.'), ('Strong', 'NOUN'), ('dividend', 'NOUN'), ('growth', 'NOUN'), (',', '.'), ('he', 'PRON'), ('says', 'VERB'), ('0', 'X'), ('*T*-1', 'X'), (',', '.'), ('is', 'VERB'), ('``', '.'), ('the', 'DET'), ('black', 'ADJ'), ('widow', 'NOUN'), ('of', 'ADP'), ('valuation', 'NOUN'), (\"''\", '.'), ('--', '.'), ('a', 'DET'), ('reference', 'NOUN'), ('to', 'PRT'), ('the', 'DET'), ('female', 'ADJ'), ('spiders', 'NOUN'), ('that', 'ADP'), ('*T*-231', 'NUM'), ('attract', 'VERB'), ('males', 'NOUN'), ('and', 'CONJ'), ('then', 'ADV'), ('kill', 'VERB'), ('them', 'PRON'), ('after', 'ADP'), ('mating', 'NOUN'), ('.', '.'), ('A', 'DET'), ('reinstatement', 'NOUN'), ('of', 'ADP'), ('the', 'DET'), ('uptick', 'NOUN'), ('rule', 'NOUN'), ('for', 'ADP'), ('program', 'NOUN'), ('traders', 'NOUN'), ('would', 'VERB'), ('slow', 'VERB'), ('their', 'PRON'), ('activity', 'NOUN'), ('considerably', 'ADV'), ('.', '.'), ('Plans', 'NOUN'), ('*', 'X'), ('to', 'PRT'), ('do', 'VERB'), ('this', 'DET'), ('are', 'VERB'), ('due', 'ADJ'), ('*', 'X'), ('to', 'PRT'), ('be', 'VERB'), ('filed', 'VERB'), ('*-1', 'X'), ('in', 'ADP'), ('a', 'DET'), ('week', 'NOUN'), ('or', 'CONJ'), ('so', 'ADV'), ('.', '.'), ('The', 'DET'), ('company', 'NOUN'), ('noted', 'VERB'), ('that', 'ADP'), ('it', 'PRON'), ('has', 'VERB'), ('reduced', 'VERB'), ('debt', 'NOUN'), ('by', 'ADP'), ('$', '.'), ('1.6', 'NUM'), ('billion', 'NUM'), ('*U*', 'X'), ('since', 'ADP'), ('the', 'DET'), ('end', 'NOUN'), ('of', 'ADP'), ('1988', 'NUM'), ('and', 'CONJ'), ('bought', 'VERB'), ('back', 'ADV'), ('about', 'ADP'), ('15.5', 'NUM'), ('million', 'NUM'), ('shares', 'NOUN'), ('of', 'ADP'), ('common', 'ADJ'), ('stock', 'NOUN'), ('since', 'ADP'), ('the', 'DET'), ('fourth', 'ADJ'), ('quarter', 'NOUN'), ('of', 'ADP'), ('1987', 'NUM'), ('.', '.'), ('University', 'NOUN'), ('Patents', 'NOUN'), ('Inc.', 'NOUN'), (',', '.'), ('based', 'VERB'), ('*', 'X'), ('in', 'ADP'), ('Westport', 'NOUN'), (',', '.'), ('Conn.', 'NOUN'), (',', '.'), ('said', 'VERB'), ('0', 'X'), ('it', 'PRON'), ('seeks', 'VERB'), ('Johnson', 'NOUN'), ('&', 'CONJ'), ('Johnson', 'NOUN'), (\"'s\", 'PRT'), ('profits', 'NOUN'), ('from', 'ADP'), ('sales', 'NOUN'), ('of', 'ADP'), ('Retin-A', 'NOUN'), (',', '.'), ('estimated', 'VERB'), ('*', 'X'), ('at', 'ADP'), ('$', '.'), ('50', 'NUM'), ('million', 'NUM'), ('*U*', 'X'), (',', '.'), ('a', 'DET'), ('similar', 'ADJ'), ('amount', 'NOUN'), ('of', 'ADP'), ('punitive', 'NOUN'), ('damages', 'NOUN'), ('and', 'CONJ'), ('the', 'DET'), ('right', 'NOUN'), ('*', 'X'), ('to', 'PRT'), ('license', 'NOUN'), ('Retin-A', 'NOUN'), ('elsewhere', 'ADV'), ('.', '.'), ('Factory', 'NOUN'), ('payrolls', 'NOUN'), ('fell', 'VERB'), ('in', 'ADP'), ('September', 'NOUN'), ('.', '.'), ('The', 'DET'), ('12', 'NUM'), ('%', 'NOUN'), ('notes', 'NOUN'), ('due', 'ADJ'), ('1995', 'NUM'), ('fell', 'VERB'), ('9\\\\/32', 'NUM'), ('to', 'PRT'), ('103', 'NUM'), ('3\\\\/8', 'NUM'), ('*-1', 'X'), ('to', 'PRT'), ('yield', 'VERB'), ('11.10', 'NUM'), ('%', 'NOUN'), ('.', '.'), ('Note', 'NOUN'), (':', '.'), ('All', 'DET'), ('per-share', 'NOUN'), ('figures', 'NOUN'), ('are', 'VERB'), ('fully', 'ADV'), ('diluted', 'VERB'), ('.', '.'), ('Sumitomo', 'NOUN'), ('Metal', 'NOUN'), ('Mining', 'NOUN'), ('fell', 'VERB'), ('five', 'NUM'), ('yen', 'NOUN'), ('to', 'PRT'), ('692', 'NUM'), ('and', 'CONJ'), ('Nippon', 'NOUN'), ('Mining', 'NOUN'), ('added', 'VERB'), ('15', 'NUM'), ('to', 'PRT'), ('960', 'NUM'), ('.', '.'), ('Only', 'ADV'), ('26.8', 'NUM'), ('%', 'NOUN'), ('in', 'ADP'), ('October', 'NOUN'), (',', '.'), ('compared', 'VERB'), ('with', 'ADP'), ('28.5', 'NUM'), ('%', 'NOUN'), ('in', 'ADP'), ('September', 'NOUN'), ('and', 'CONJ'), ('26.8', 'NUM'), ('%', 'NOUN'), ('in', 'ADP'), ('October', 'NOUN'), ('1988', 'NUM'), (',', '.'), ('said', 'VERB'), ('0', 'X'), ('income', 'NOUN'), ('would', 'VERB'), ('increase', 'VERB'), ('.', '.'), ('Leo', 'NOUN'), ('Melamed', 'NOUN'), (',', '.'), ('Merc', 'NOUN'), ('executive', 'NOUN'), ('committee', 'NOUN'), ('chairman', 'NOUN'), (',', '.'), ('said', 'VERB'), ('that', 'ADP'), ('the', 'DET'), ('12-point', 'ADJ'), ('limit', 'NOUN'), ('appeared', 'VERB'), ('*-1', 'X'), ('to', 'PRT'), ('lessen', 'NOUN'), ('the', 'DET'), ('selling', 'NOUN'), ('panic', 'VERB'), ('Oct.', 'NOUN'), ('13', 'NUM'), ('.', '.'), ('At', 'ADP'), ('the', 'DET'), ('end', 'NOUN'), ('of', 'ADP'), ('World', 'NOUN'), ('War', 'NOUN'), ('II', 'NOUN'), (',', '.'), ('Germany', 'NOUN'), ('surrendered', 'VERB'), ('before', 'ADP'), ('Japan', 'NOUN'), ('...', '.'), ('.', '.'), ('A.L.', 'NOUN'), ('Williams', 'NOUN'), ('Corp.', 'NOUN'), ('was', 'VERB'), ('merged', 'VERB'), ('*-1', 'X'), ('into', 'ADP'), ('Primerica', 'NOUN'), ('Corp.', 'NOUN'), (',', '.'), ('New', 'NOUN'), ('York', 'NOUN'), (',', '.'), ('after', 'ADP'), ('a', 'DET'), ('special', 'ADJ'), ('meeting', 'NOUN'), ('of', 'ADP'), ('Williams', 'NOUN'), ('shareholders', 'NOUN'), ('cleared', 'NOUN'), ('the', 'DET'), ('transaction', 'NOUN'), (',', '.'), ('the', 'DET'), ('companies', 'NOUN'), ('said', 'VERB'), ('0', 'X'), ('*T*-2', 'X'), ('.', '.'), ('``', '.'), ('If', 'ADP'), ('you', 'PRON'), ('look', 'VERB'), ('at', 'ADP'), ('the', 'DET'), ('third', 'ADJ'), ('quarter', 'NOUN'), ('as', 'ADP'), ('*', 'X'), ('posting', 'VERB'), ('roughly', 'ADV'), ('2.5', 'NUM'), ('%', 'NOUN'), ('growth', 'NOUN'), (',', '.'), ('I', 'PRON'), ('do', 'VERB'), ('see', 'VERB'), ('some', 'DET'), ('slowing', 'NOUN'), ('in', 'ADP'), ('the', 'DET'), ('fourth', 'ADJ'), ('quarter', 'NOUN'), (',', '.'), (\"''\", '.'), ('agrees', 'VERB'), ('*T*-1', 'X'), ('Kansas', 'NOUN'), ('City', 'NOUN'), ('Fed', 'NOUN'), ('President', 'NOUN'), ('Roger', 'NOUN'), ('Guffey', 'NOUN'), ('.', '.'), ('Each', 'DET'), ('new', 'ADJ'), ('trading', 'NOUN'), ('roadblock', 'NOUN'), ('is', 'VERB'), ('likely', 'ADJ'), ('*-1', 'X'), ('to', 'PRT'), ('be', 'VERB'), ('beaten', 'VERB'), ('*-82', 'NUM'), ('by', 'ADP'), ('institutions', 'NOUN'), ('seeking', 'VERB'), ('better', 'ADV'), ('ways', 'NOUN'), ('0', 'X'), ('*', 'X'), ('to', 'PRT'), ('serve', 'VERB'), ('their', 'PRON'), ('high-volume', 'NOUN'), ('clients', 'NOUN'), ('*T*-2', 'X'), (',', '.'), ('here', 'ADV'), ('or', 'CONJ'), ('overseas', 'ADJ'), ('.', '.'), ('He', 'PRON'), ('said', 'VERB'), ('0', 'X'), ('Equitable', 'NOUN'), ('hopes', 'VERB'), ('*-1', 'X'), ('to', 'PRT'), ('eventually', 'ADV'), ('reduce', 'VERB'), ('its', 'PRON'), ('stake', 'NOUN'), ('in', 'ADP'), ('Younkers', 'NOUN'), ('to', 'PRT'), ('less', 'ADJ'), ('than', 'ADP'), ('50', 'NUM'), ('%', 'NOUN'), ('.', '.'), ('But', 'CONJ'), ('he', 'PRON'), ('is', 'VERB'), ('best', 'ADJ'), ('known', 'ADJ'), ('*-3', 'X'), ('in', 'ADP'), ('the', 'DET'), ('auto', 'NOUN'), ('industry', 'NOUN'), ('as', 'ADP'), ('the', 'DET'), ('creator', 'NOUN'), ('of', 'ADP'), ('a', 'DET'), ('team', 'NOUN'), ('car-development', 'NOUN'), ('approach', 'NOUN'), ('that', 'ADP'), ('*T*-1', 'X'), ('produced', 'VERB'), ('the', 'DET'), ('two', 'NUM'), ('midsized', 'ADJ'), ('cars', 'NOUN'), ('that', 'ADP'), ('*T*-2', 'X'), ('were', 'VERB'), ('instrumental', 'ADJ'), ('in', 'ADP'), ('*', 'X'), ('helping', 'VERB'), ('the', 'DET'), ('No.', 'NOUN'), ('2', 'NUM'), ('auto', 'NOUN'), ('maker', 'NOUN'), ('record', 'NOUN'), ('profits', 'NOUN'), ('in', 'ADP'), ('recent', 'ADJ'), ('years', 'NOUN'), ('and', 'CONJ'), ('in', 'ADP'), ('*', 'X'), ('enabling', 'VERB'), ('the', 'DET'), ('company', 'NOUN'), (\"'s\", 'PRT'), ('Ford', 'NOUN'), ('division', 'NOUN'), ('to', 'PRT'), ('eclipse', 'NOUN'), ('General', 'NOUN'), ('Motors', 'NOUN'), ('Corp.', 'NOUN'), (\"'s\", 'PRT'), ('Chevrolet', 'NOUN'), ('division', 'NOUN'), ('as', 'ADP'), ('the', 'DET'), ('top-selling', 'NOUN'), ('nameplate', 'NOUN'), ('in', 'ADP'), ('the', 'DET'), ('U.S.', 'NOUN'), ('.', '.'), ('He', 'PRON'), ('was', 'VERB'), ('previously', 'ADV'), ('president', 'NOUN'), ('of', 'ADP'), ('the', 'DET'), ('company', 'NOUN'), (\"'s\", 'PRT'), ('Eastern', 'NOUN'), ('Edison', 'NOUN'), ('Co.', 'NOUN'), ('unit', 'NOUN'), ('.', '.'), ('Consolidated', 'NOUN'), ('Rail', 'NOUN'), ('Corp.', 'NOUN'), ('said', 'VERB'), ('0', 'X'), ('it', 'PRON'), ('would', 'VERB'), ('spend', 'VERB'), ('more', 'ADV'), ('than', 'ADP'), ('$', '.'), ('30', 'NUM'), ('million', 'NUM'), ('*U*', 'X'), ('on', 'ADP'), ('1,000', 'NUM'), ('enclosed', 'NOUN'), ('railcars', 'NOUN'), ('for', 'ADP'), ('*', 'X'), ('transporting', 'NOUN'), ('autos', 'NOUN'), ('.', '.'), ('The', 'DET'), ('show', 'NOUN'), ('did', 'VERB'), (\"n't\", 'ADV'), ('give', 'VERB'), ('the', 'DET'), ('particulars', 'NOUN'), ('of', 'ADP'), ('Mrs.', 'NOUN'), ('Yeargin', 'NOUN'), (\"'s\", 'PRT'), ('offense', 'NOUN'), (',', '.'), ('*-1', 'X'), ('saying', 'VERB'), ('only', 'ADV'), ('that', 'ADP'), ('she', 'PRON'), ('helped', 'VERB'), ('students', 'NOUN'), ('do', 'VERB'), ('better', 'ADV'), ('on', 'ADP'), ('the', 'DET'), ('test', 'NOUN'), ('.', '.'), ('As', 'ADP'), ('an', 'DET'), ('indicator', 'NOUN'), ('of', 'ADP'), ('the', 'DET'), ('tight', 'ADJ'), ('grain', 'NOUN'), ('supply', 'NOUN'), ('situation', 'NOUN'), ('in', 'ADP'), ('the', 'DET'), ('U.S.', 'NOUN'), (',', '.'), ('market', 'NOUN'), ('analysts', 'NOUN'), ('said', 'VERB'), ('that', 'ADP'), ('late', 'ADJ'), ('Tuesday', 'NOUN'), ('the', 'DET'), ('Chinese', 'ADJ'), ('government', 'NOUN'), (',', '.'), ('which', 'DET'), ('*T*-1', 'X'), ('often', 'ADV'), ('buys', 'NOUN'), ('U.S.', 'NOUN'), ('grains', 'NOUN'), ('in', 'ADP'), ('quantity', 'NOUN'), (',', '.'), ('turned', 'VERB'), ('instead', 'ADV'), ('to', 'PRT'), ('Britain', 'NOUN'), ('*-2', 'X'), ('to', 'PRT'), ('buy', 'VERB'), ('500,000', 'NUM'), ('metric', 'ADJ'), ('tons', 'NOUN'), ('of', 'ADP'), ('wheat', 'NOUN'), ('.', '.'), ('Mr.', 'NOUN'), ('Ross', 'NOUN'), ('said', 'VERB'), ('0', 'X'), ('he', 'PRON'), ('met', 'VERB'), ('with', 'ADP'), ('officials', 'NOUN'), ('of', 'ADP'), ('the', 'DET'), ('IRS', 'NOUN'), ('and', 'CONJ'), ('the', 'DET'), ('Justice', 'NOUN'), ('Department', 'NOUN'), (',', '.'), ('which', 'DET'), ('*T*-133', 'NUM'), ('would', 'VERB'), ('bring', 'VERB'), ('any', 'DET'), ('enforcement', 'NOUN'), ('actions', 'NOUN'), ('against', 'ADP'), ('taxpayers', 'NOUN'), (',', '.'), ('*-1', 'X'), ('to', 'PRT'), ('discuss', 'VERB'), ('the', 'DET'), ('issue', 'NOUN'), ('last', 'ADJ'), ('May', 'NOUN'), ('.', '.'), ('The', 'DET'), ('department', 'NOUN'), (\"'s\", 'PRT'), ('Occupational', 'NOUN'), ('Safety', 'NOUN'), ('and', 'CONJ'), ('Health', 'NOUN'), ('Administration', 'NOUN'), ('proposed', 'VERB'), ('fines', 'NOUN'), ('of', 'ADP'), ('$', '.'), ('6.1', 'NUM'), ('million', 'NUM'), ('*U*', 'X'), ('for', 'ADP'), ('alleged', 'ADJ'), ('violations', 'NOUN'), ('at', 'ADP'), ('the', 'DET'), ('company', 'NOUN'), (\"'s\", 'PRT'), ('Fairless', 'NOUN'), ('Hills', 'NOUN'), (',', '.'), ('Pa.', 'NOUN'), (',', '.'), ('steel', 'NOUN'), ('mill', 'NOUN'), (';', '.'), ('that', 'DET'), ('was', 'VERB'), ('a', 'DET'), ('record', 'NOUN'), ('for', 'ADP'), ('proposed', 'VERB'), ('penalties', 'NOUN'), ('at', 'ADP'), ('any', 'DET'), ('single', 'ADJ'), ('facility', 'NOUN'), ('.', '.'), ('Mrs.', 'NOUN'), ('Ward', 'NOUN'), ('resolved', 'NOUN'), ('*-1', 'X'), ('to', 'PRT'), ('clean', 'NOUN'), ('out', 'PRT'), ('``', '.'), ('deadwood', 'NOUN'), (\"''\", '.'), ('in', 'ADP'), ('the', 'DET'), ('school', 'NOUN'), (\"'s\", 'PRT'), ('faculty', 'NOUN'), ('and', 'CONJ'), ('restore', 'VERB'), ('safety', 'NOUN'), (',', '.'), ('and', 'CONJ'), ('she', 'PRON'), ('also', 'ADV'), ('had', 'VERB'), ('some', 'DET'), ('new', 'ADJ'), ('factors', 'NOUN'), ('working', 'VERB'), ('in', 'ADP'), ('her', 'PRON'), ('behalf', 'NOUN'), ('.', '.'), ('So', 'ADV'), ('far', 'ADV'), (',', '.'), ('Wall', 'NOUN'), ('Street', 'NOUN'), (\"'s\", 'PRT'), ('Old', 'NOUN'), ('Guard', 'NOUN'), ('seems', 'VERB'), ('*-1', 'X'), ('to', 'PRT'), ('be', 'VERB'), ('winning', 'VERB'), ('the', 'DET'), ('program-trading', 'ADJ'), ('battle', 'NOUN'), (',', '.'), ('*-2', 'X'), ('successfully', 'NOUN'), ('mobilizing', 'NOUN'), ('public', 'NOUN'), ('and', 'CONJ'), ('congressional', 'ADJ'), ('opinion', 'NOUN'), ('*-3', 'X'), ('to', 'PRT'), ('bludgeon', 'NOUN'), ('their', 'PRON'), ('tormentors', 'NOUN'), ('.', '.'), ('But', 'CONJ'), ('some', 'DET'), ('of', 'ADP'), ('the', 'DET'), ('TV', 'NOUN'), ('stations', 'NOUN'), ('that', 'ADP'), ('*T*-149', 'NUM'), ('bought', 'VERB'), ('``', '.'), ('Cosby', 'NOUN'), (\"''\", '.'), ('reruns', 'NOUN'), ('for', 'ADP'), ('record', 'NOUN'), ('prices', 'NOUN'), ('two', 'NUM'), ('years', 'NOUN'), ('ago', 'ADP'), ('are', 'VERB'), (\"n't\", 'ADV'), ('laughing', 'VERB'), ('much', 'ADV'), ('these', 'DET'), ('days', 'NOUN'), ('.', '.'), ('``', '.'), ('It', 'PRON'), ('can', 'VERB'), ('be', 'VERB'), ('said', 'VERB'), ('that', 'ADP'), ('the', 'DET'), ('trend', 'NOUN'), ('of', 'ADP'), ('financial', 'ADJ'), ('improvement', 'NOUN'), ('has', 'VERB'), ('been', 'VERB'), ('firmly', 'NOUN'), ('set', 'VERB'), (',', '.'), (\"''\", '.'), ('he', 'PRON'), ('added', 'VERB'), ('*T*-1', 'X'), ('.', '.'), ('They', 'PRON'), ('cite', 'VERB'), ('a', 'DET'), ('lack', 'NOUN'), ('of', 'ADP'), ('``', '.'), ('imbalances', 'NOUN'), (\"''\", '.'), ('that', 'DET'), ('*T*-47', 'X'), ('provide', 'VERB'), ('early', 'ADV'), ('warning', 'VERB'), ('signals', 'VERB'), ('of', 'ADP'), ('a', 'DET'), ('downturn', 'NOUN'), ('.', '.'), ('Put', 'VERB'), ('option', 'NOUN'), ('March', 'NOUN'), ('31', 'NUM'), (',', '.'), ('1992', 'NUM'), (',', '.'), ('at', 'ADP'), ('a', 'DET'), ('fixed', 'VERB'), ('107', 'NUM'), ('7\\\\/8', 'NUM'), ('*', 'X'), ('to', 'PRT'), ('yield', 'VERB'), ('3.43', 'NUM'), ('%', 'NOUN'), ('.', '.'), ('About', 'ADP'), ('11.6', 'NUM'), ('%', 'NOUN'), ('of', 'ADP'), ('all', 'DET'), ('program', 'NOUN'), ('trading', 'NOUN'), ('by', 'ADP'), ('New', 'NOUN'), ('York', 'NOUN'), ('Stock', 'NOUN'), ('Exchange', 'NOUN'), ('firms', 'NOUN'), ('in', 'ADP'), ('September', 'NOUN'), ('took', 'VERB'), ('place', 'NOUN'), ('in', 'ADP'), ('foreign', 'ADJ'), ('markets', 'NOUN'), (',', '.'), ('according', 'VERB'), ('to', 'PRT'), ('Big', 'NOUN'), ('Board', 'NOUN'), ('data', 'NOUN'), ('.', '.'), ('Mr.', 'NOUN'), ('Ackerman', 'NOUN'), ('already', 'ADV'), ('is', 'VERB'), ('seeking', 'VERB'), ('*-1', 'X'), ('to', 'PRT'), ('oust', 'NOUN'), ('Mr.', 'NOUN'), ('Edelman', 'NOUN'), ('as', 'ADP'), ('chairman', 'NOUN'), ('of', 'ADP'), ('Datapoint', 'NOUN'), ('Corp.', 'NOUN'), (',', '.'), ('an', 'DET'), ('Intelogic', 'NOUN'), ('affiliate', 'NOUN'), ('.', '.'), ('In', 'ADP'), ('a', 'DET'), ('second', 'ADJ'), ('area', 'NOUN'), ('of', 'ADP'), ('common', 'ADJ'), ('concern', 'NOUN'), (',', '.'), ('the', 'DET'), ('world', 'NOUN'), ('environment', 'NOUN'), (',', '.'), ('an', 'DET'), ('additional', 'ADJ'), ('$', '.'), ('15', 'NUM'), ('million', 'NUM'), ('*U*', 'X'), ('*ICH*-1', 'X'), ('will', 'VERB'), ('be', 'VERB'), ('provided', 'VERB'), ('*-7', 'X'), ('in', 'ADP'), ('development', 'NOUN'), ('assistance', 'NOUN'), ('0', 'X'), ('*T*-2', 'X'), ('to', 'PRT'), ('fund', 'NOUN'), ('a', 'DET'), ('series', 'NOUN'), ('of', 'ADP'), ('initiatives', 'NOUN'), (',', '.'), ('related', 'VERB'), ('both', 'DET'), ('to', 'PRT'), ('global', 'ADJ'), ('warming', 'NOUN'), ('and', 'CONJ'), ('the', 'DET'), ('plight', 'NOUN'), ('of', 'ADP'), ('the', 'DET'), ('African', 'ADJ'), ('elephant', 'NOUN'), ('.', '.'), ('Silver', 'NOUN'), ('is', 'VERB'), ('also', 'ADV'), ('under', 'ADP'), ('pressure', 'NOUN'), ('of', 'ADP'), ('``', '.'), ('extremely', 'ADV'), ('high', 'ADJ'), (\"''\", '.'), ('inventories', 'NOUN'), ('in', 'ADP'), ('warehouses', 'NOUN'), ('of', 'ADP'), ('the', 'DET'), ('Commodity', 'NOUN'), ('Exchange', 'NOUN'), (',', '.'), ('he', 'PRON'), ('said', 'VERB'), ('0', 'X'), ('*T*-1', 'X'), ('.', '.'), ('``', '.'), ('It', 'PRON'), ('*EXP*-1', 'X'), (\"'s\", 'PRT'), ('hard', 'ADJ'), ('*', 'X'), ('to', 'PRT'), ('explain', 'VERB'), ('to', 'PRT'), ('a', 'DET'), ('17-year-old', 'NOUN'), ('why', 'ADV'), ('someone', 'NOUN'), ('0', 'X'), ('they', 'PRON'), ('like', 'VERB'), ('*T*-2', 'X'), ('had', 'VERB'), ('*-3', 'X'), ('to', 'PRT'), ('go', 'VERB'), (',', '.'), (\"''\", '.'), ('says', 'VERB'), ('*T*-4', 'X'), ('Mrs.', 'NOUN'), ('Ward', 'NOUN'), ('.', '.'), ('Midwesco', 'NOUN'), ('Filter', 'NOUN'), ('Resources', 'NOUN'), ('Inc.', 'NOUN'), (',', '.'), ('initial', 'ADJ'), ('offering', 'NOUN'), ('of', 'ADP'), ('830,000', 'NUM'), ('common', 'ADJ'), ('shares', 'NOUN'), ('*PPA*-3', 'X'), (',', '.'), ('0', 'X'), ('*T*-2', 'X'), ('to', 'PRT'), ('be', 'VERB'), ('offered', 'VERB'), ('*-1', 'X'), ('by', 'ADP'), ('the', 'DET'), ('company', 'NOUN'), (',', '.'), ('via', 'ADP'), ('Chicago', 'NOUN'), ('Corp', 'NOUN'), ('.', '.'), ('The', 'DET'), ('judge', 'NOUN'), ('declined', 'VERB'), ('*-1', 'X'), ('to', 'PRT'), ('discuss', 'VERB'), ('his', 'PRON'), ('salary', 'NOUN'), ('in', 'ADP'), ('detail', 'NOUN'), (',', '.'), ('but', 'CONJ'), ('said', 'VERB'), (':', '.'), ('``', '.'), ('I', 'PRON'), (\"'m\", 'VERB'), ('going', 'VERB'), ('*-2', 'X'), ('to', 'PRT'), ('be', 'VERB'), ('a', 'DET'), ('high-priced', 'ADJ'), ('lawyer', 'NOUN'), ('.', '.'), (\"''\", '.'), ('According', 'VERB'), ('to', 'PRT'), ('Upjohn', 'NOUN'), (\"'s\", 'PRT'), ('estimates', 'NOUN'), (',', '.'), ('only', 'ADV'), ('50', 'NUM'), ('%', 'NOUN'), ('to', 'PRT'), ('60', 'NUM'), ('%', 'NOUN'), ('*U*', 'X'), ('of', 'ADP'), ('the', 'DET'), ('1,100', 'NUM'), ('eligible', 'ADJ'), ('employees', 'NOUN'), ('will', 'VERB'), ('take', 'VERB'), ('advantage', 'NOUN'), ('of', 'ADP'), ('the', 'DET'), ('plan', 'NOUN'), ('.', '.'), ('Giant', 'NOUN'), ('Group', 'NOUN'), ('is', 'VERB'), ('led', 'VERB'), ('*-96', 'NUM'), ('by', 'ADP'), ('three', 'NUM'), ('Rally', 'NOUN'), (\"'s\", 'PRT'), ('directors', 'NOUN'), (',', '.'), ('Burt', 'NOUN'), ('Sugarman', 'NOUN'), (',', '.'), ('James', 'NOUN'), ('M.', 'NOUN'), ('Trotter', 'NOUN'), ('III', 'NOUN'), ('and', 'CONJ'), ('William', 'NOUN'), ('E.', 'NOUN'), ('Trotter', 'NOUN'), ('II', 'NOUN'), (',', '.'), ('who', 'PRON'), ('last', 'ADJ'), ('month', 'NOUN'), ('*T*-1', 'X'), ('indicated', 'VERB'), ('0', 'X'), ('they', 'PRON'), ('hold', 'VERB'), ('a', 'DET'), ('42.5', 'NUM'), ('%', 'NOUN'), ('stake', 'NOUN'), ('in', 'ADP'), ('Rally', 'NOUN'), (\"'s\", 'PRT'), ('and', 'CONJ'), ('plan', 'NOUN'), ('*-2', 'X'), ('to', 'PRT'), ('seek', 'VERB'), ('a', 'DET'), ('majority', 'NOUN'), ('of', 'ADP'), ('seats', 'NOUN'), ('on', 'ADP'), ('Rally', 'NOUN'), (\"'s\", 'PRT'), ('nine-member', 'NOUN'), ('board', 'NOUN'), ('.', '.'), ('9.82', 'NUM'), ('%', 'NOUN'), (',', '.'), ('standard', 'ADJ'), ('conventional', 'ADJ'), ('fixed-rate', 'ADJ'), ('mortgages', 'NOUN'), (';', '.'), ('8.25', 'NUM'), ('%', 'NOUN'), (',', '.'), ('2', 'NUM'), ('%', 'NOUN'), ('rate', 'NOUN'), ('capped', 'VERB'), ('one-year', 'ADJ'), ('adjustable', 'ADJ'), ('rate', 'NOUN'), ('mortgages', 'NOUN'), ('.', '.'), ('By', 'ADP'), ('comparison', 'NOUN'), (',', '.'), ('for', 'ADP'), ('the', 'DET'), ('first', 'ADJ'), ('nine', 'NUM'), ('months', 'NOUN'), (',', '.'), ('Xerox', 'NOUN'), ('earned', 'VERB'), ('$', '.'), ('492', 'NUM'), ('million', 'NUM'), ('*U*', 'X'), (',', '.'), ('or', 'CONJ'), ('$', '.'), ('4.55', 'NUM'), ('*U*', 'X'), ('a', 'DET'), ('share', 'NOUN'), (',', '.'), ('on', 'ADP'), ('revenue', 'NOUN'), ('of', 'ADP'), ('$', '.'), ('12.97', 'NUM'), ('billion', 'NUM'), ('*U*', 'X'), ('.', '.'), ('Far', 'NOUN'), ('above', 'ADP'), ('in', 'ADP'), ('the', 'DET'), ('belfry', 'NOUN'), (',', '.'), ('the', 'DET'), ('huge', 'ADJ'), ('bronze', 'NOUN'), ('bells', 'NOUN'), (',', '.'), ('mounted', 'VERB'), ('*', 'X'), ('on', 'ADP'), ('wheels', 'NOUN'), (',', '.'), ('swing', 'NOUN'), ('madly', 'NOUN'), ('through', 'ADP'), ('a', 'DET'), ('full', 'ADJ'), ('360', 'NUM'), ('degrees', 'NOUN'), (',', '.'), ('*-1', 'X'), ('starting', 'VERB'), ('and', 'CONJ'), ('ending', 'VERB'), (',', '.'), ('surprisingly', 'ADV'), (',', '.'), ('in', 'ADP'), ('the', 'DET'), ('inverted', 'NOUN'), (',', '.'), ('or', 'CONJ'), ('mouth-up', 'NOUN'), ('position', 'NOUN'), ('.', '.'), ('``', '.'), ('It', 'PRON'), ('has', 'VERB'), ('not', 'ADV'), ('been', 'VERB'), ('disruptive', 'NOUN'), ('in', 'ADP'), ('the', 'DET'), ('markets', 'NOUN'), ('here', 'ADV'), (',', '.'), (\"''\", '.'), ('Mr.', 'NOUN'), ('Maughan', 'NOUN'), ('said', 'VERB'), ('*T*-1', 'X'), ('.', '.'), ('F.H.', 'NOUN'), ('Faulding', 'NOUN'), ('&', 'CONJ'), ('Co.', 'NOUN'), (',', '.'), ('an', 'DET'), ('Australian', 'ADJ'), ('pharmaceuticals', 'NOUN'), ('company', 'NOUN'), (',', '.'), ('said', 'VERB'), ('0', 'X'), ('its', 'PRON'), ('Moleculon', 'NOUN'), ('Inc.', 'NOUN'), ('affiliate', 'NOUN'), ('acquired', 'VERB'), ('Kalipharma', 'NOUN'), ('Inc.', 'NOUN'), ('for', 'ADP'), ('$', '.'), ('23', 'NUM'), ('million', 'NUM'), ('*U*', 'X'), ('.', '.'), ('Yet', 'CONJ'), ('he', 'PRON'), ('is', 'VERB'), (\"n't\", 'ADV'), ('in', 'ADP'), ('favor', 'NOUN'), ('of', 'ADP'), ('new', 'ADJ'), ('legislation', 'NOUN'), ('.', '.'), ('Along', 'ADP'), ('with', 'ADP'), ('the', 'DET'), ('note', 'NOUN'), (',', '.'), ('Cray', 'NOUN'), ('Research', 'NOUN'), ('is', 'VERB'), ('transferring', 'VERB'), ('about', 'ADP'), ('$', '.'), ('53', 'NUM'), ('million', 'NUM'), ('*U*', 'X'), ('in', 'ADP'), ('assets', 'NOUN'), (',', '.'), ('primarily', 'ADV'), ('those', 'DET'), ('related', 'ADJ'), ('to', 'PRT'), ('the', 'DET'), ('Cray-3', 'NOUN'), ('development', 'NOUN'), (',', '.'), ('which', 'DET'), ('*T*-25', 'X'), ('has', 'VERB'), ('been', 'VERB'), ('a', 'DET'), ('drain', 'NOUN'), ('on', 'ADP'), ('Cray', 'NOUN'), ('Research', 'NOUN'), (\"'s\", 'PRT'), ('earnings', 'NOUN'), ('.', '.'), ('It', 'PRON'), ('has', 'VERB'), ('been', 'VERB'), ('targeted', 'VERB'), ('*-48', 'X'), ('by', 'ADP'), ('Japanese', 'ADJ'), ('investors', 'NOUN'), ('as', 'ADP'), ('a', 'DET'), ('good', 'ADJ'), ('long-term', 'ADJ'), ('play', 'VERB'), ('tied', 'VERB'), ('*', 'X'), ('to', 'PRT'), ('1992', 'NUM'), (\"'s\", 'PRT'), ('European', 'ADJ'), ('economic', 'ADJ'), ('integration', 'NOUN'), ('.', '.'), ('Use', 'NOUN'), ('of', 'ADP'), ('Scoring', 'NOUN'), ('High', 'NOUN'), ('is', 'VERB'), ('widespread', 'ADJ'), ('in', 'ADP'), ('South', 'NOUN'), ('Carolina', 'NOUN'), ('and', 'CONJ'), ('common', 'ADJ'), ('in', 'ADP'), ('Greenville', 'NOUN'), ('County', 'NOUN'), (',', '.'), ('Mrs.', 'NOUN'), ('Yeargin', 'NOUN'), (\"'s\", 'PRT'), ('school', 'NOUN'), ('district', 'NOUN'), ('.', '.'), ('President', 'NOUN'), ('Reagan', 'NOUN'), ('learned', 'VERB'), ('that', 'ADP'), ('lesson', 'NOUN'), ('.', '.'), ('The', 'DET'), ('thrift', 'NOUN'), ('said', 'VERB'), ('that', 'ADP'), ('``', '.'), ('after', 'ADP'), ('these', 'DET'), ('charges', 'NOUN'), ('and', 'CONJ'), ('*', 'X'), ('assuming', 'VERB'), ('no', 'DET'), ('dramatic', 'ADJ'), ('fluctuation', 'NOUN'), ('in', 'ADP'), ('interest', 'NOUN'), ('rates', 'NOUN'), (',', '.'), ('the', 'DET'), ('association', 'NOUN'), ('expects', 'VERB'), ('*-1', 'X'), ('to', 'PRT'), ('achieve', 'VERB'), ('near', 'ADP'), ('record', 'NOUN'), ('earnings', 'NOUN'), ('in', 'ADP'), ('1990', 'NUM'), ('.', '.'), (\"''\", '.'), ('An', 'DET'), ('index-arbitrage', 'ADJ'), ('trade', 'NOUN'), ('is', 'VERB'), ('never', 'ADV'), ('executed', 'VERB'), ('unless', 'ADP'), ('there', 'DET'), ('is', 'VERB'), ('sufficient', 'NOUN'), ('difference', 'NOUN'), ('between', 'ADP'), ('the', 'DET'), ('markets', 'NOUN'), ('in', 'ADP'), ('New', 'NOUN'), ('York', 'NOUN'), ('and', 'CONJ'), ('Chicago', 'NOUN'), ('0', 'X'), ('*T*-1', 'X'), ('to', 'PRT'), ('cover', 'VERB'), ('all', 'DET'), ('transaction', 'NOUN'), ('costs', 'NOUN'), ('.', '.'), ('So', 'ADV'), ('far', 'ADV'), (',', '.'), ('the', 'DET'), ('grain', 'NOUN'), ('industry', 'NOUN'), (\"'s\", 'PRT'), ('budding', 'NOUN'), ('logistical', 'NOUN'), ('problems', 'NOUN'), ('have', 'VERB'), (\"n't\", 'ADV'), ('been', 'VERB'), ('a', 'DET'), ('major', 'ADJ'), ('factor', 'NOUN'), ('in', 'ADP'), ('the', 'DET'), ('trading', 'NOUN'), ('of', 'ADP'), ('corn', 'NOUN'), ('contracts', 'NOUN'), ('at', 'ADP'), ('the', 'DET'), ('Chicago', 'NOUN'), ('Board', 'NOUN'), ('of', 'ADP'), ('Trade', 'NOUN'), ('.', '.'), ('They', 'PRON'), ('call', 'VERB'), ('it', 'PRON'), ('``', '.'), ('photographic', 'NOUN'), (\"''\", '.'), ('.', '.'), ('*-1', 'X'), ('Observing', 'NOUN'), ('that', 'ADP'), ('the', 'DET'), ('judge', 'NOUN'), ('``', '.'), ('has', 'VERB'), ('never', 'ADV'), ('exhibited', 'NOUN'), ('any', 'DET'), ('bias', 'NOUN'), ('or', 'CONJ'), ('prejudice', 'NOUN'), (',', '.'), (\"''\", '.'), ('Mr.', 'NOUN'), ('Murray', 'NOUN'), ('concluded', 'VERB'), ('that', 'ADP'), ('he', 'PRON'), ('``', '.'), ('would', 'VERB'), ('be', 'VERB'), ('impartial', 'NOUN'), ('in', 'ADP'), ('any', 'DET'), ('case', 'NOUN'), ('involving', 'VERB'), ('a', 'DET'), ('homosexual', 'ADJ'), ('or', 'CONJ'), ('prostitute', 'NOUN'), (\"''\", '.'), ('as', 'ADP'), ('a', 'DET'), ('victim', 'NOUN'), ('.', '.'), ('The', 'DET'), ('court', 'NOUN'), ('noted', 'VERB'), ('the', 'DET'), ('new', 'ADJ'), ('USIA', 'NOUN'), ('position', 'NOUN'), ('but', 'CONJ'), (',', '.'), ('just', 'ADV'), ('in', 'ADP'), ('case', 'NOUN'), (',', '.'), ('officially', 'ADV'), ('found', 'VERB'), ('``', '.'), ('that', 'DET'), ('Congress', 'NOUN'), ('did', 'VERB'), ('not', 'ADV'), ('intend', 'VERB'), ('*-1', 'X'), ('to', 'PRT'), ('preclude', 'NOUN'), ('plaintiffs', 'NOUN'), ('from', 'ADP'), ('*', 'X'), ('disseminating', 'NOUN'), ('USIA', 'NOUN'), ('information', 'NOUN'), ('domestically', 'NOUN'), ('.', '.'), (\"''\", '.'), ('GMAC', 'NOUN'), ('screened', 'NOUN'), ('the', 'DET'), ('card-member', 'NOUN'), ('list', 'NOUN'), ('for', 'ADP'), ('holders', 'NOUN'), ('more', 'ADV'), ('than', 'ADP'), ('30', 'NUM'), ('years', 'NOUN'), ('old', 'ADJ'), ('with', 'ADP'), ('household', 'NOUN'), ('incomes', 'NOUN'), ('over', 'ADP'), ('$', '.'), ('45,000', 'NUM'), ('*U*', 'X'), ('who', 'PRON'), ('*T*-54', 'X'), ('had', 'VERB'), (\"n't\", 'ADV'), ('``', '.'), ('missed', 'NOUN'), ('any', 'DET'), ('payments', 'NOUN'), (',', '.'), (\"''\", '.'), ('the', 'DET'), ('Buick', 'NOUN'), ('spokeswoman', 'NOUN'), ('says', 'VERB'), ('0', 'X'), ('*T*-1', 'X'), ('.', '.'), ('He', 'PRON'), ('says', 'VERB'), ('0', 'X'), ('Campbell', 'NOUN'), ('was', 'VERB'), (\"n't\", 'ADV'), ('even', 'ADV'), ('contacted', 'VERB'), ('*-1', 'X'), ('by', 'ADP'), ('the', 'DET'), ('magazine', 'NOUN'), ('for', 'ADP'), ('the', 'DET'), ('opportunity', 'NOUN'), ('*', 'X'), ('to', 'PRT'), ('comment', 'VERB'), ('.', '.'), ('``', '.'), ('Unemployment', 'NOUN'), ('continues', 'VERB'), ('at', 'ADP'), ('a', 'DET'), ('relatively', 'ADV'), ('low', 'ADJ'), ('level', 'NOUN'), (',', '.'), ('*', 'X'), ('providing', 'VERB'), ('a', 'DET'), ('sense', 'NOUN'), ('of', 'ADP'), ('job', 'NOUN'), ('security', 'NOUN'), (',', '.'), ('and', 'CONJ'), ('a', 'DET'), ('low', 'ADJ'), ('inflation', 'NOUN'), ('rate', 'NOUN'), ('has', 'VERB'), ('kept', 'VERB'), ('the', 'DET'), ('purchasing', 'NOUN'), ('power', 'NOUN'), ('of', 'ADP'), ('the', 'DET'), ('weekly', 'ADJ'), ('paycheck', 'NOUN'), ('reasonably', 'NOUN'), ('strong', 'ADJ'), ('.', '.'), (\"''\", '.'), ('The', 'DET'), ('forthcoming', 'NOUN'), ('maturity', 'NOUN'), ('in', 'ADP'), ('November', 'NOUN'), ('of', 'ADP'), ('a', 'DET'), ('10-year', 'ADJ'), ('Japanese', 'ADJ'), ('government', 'NOUN'), ('yen-denominated', 'NOUN'), ('bond', 'NOUN'), ('issue', 'NOUN'), ('valued', 'VERB'), ('*', 'X'), ('at', 'ADP'), ('about', 'ADP'), ('$', '.'), ('16', 'NUM'), ('billion', 'NUM'), ('*U*', 'X'), ('has', 'VERB'), ('prompted', 'VERB'), ('speculation', 'NOUN'), ('*ICH*-2', 'X'), ('in', 'ADP'), ('the', 'DET'), ('market', 'NOUN'), ('that', 'ADP'), ('investors', 'NOUN'), ('redeeming', 'NOUN'), ('the', 'DET'), ('bonds', 'NOUN'), ('will', 'VERB'), ('diversify', 'VERB'), ('into', 'ADP'), ('dollar-denominated', 'ADJ'), ('instruments', 'NOUN'), (',', '.'), ('according', 'VERB'), ('to', 'PRT'), ('Mr.', 'NOUN'), ('Madison', 'NOUN'), ('.', '.')]\n"
     ]
    }
   ],
   "source": [
    "# Printing the result of technique 1 on validation data set\n",
    "print(\"Time taken in seconds: \", difference)\n",
    "print(tagged_seq_modified)"
   ]
  },
  {
   "cell_type": "code",
   "execution_count": 50,
   "metadata": {},
   "outputs": [],
   "source": [
    "# Creating a list of tuples with word and tags in the validation dataset \n",
    "validation_run_base = [tup for sent in validation_set for tup in sent]"
   ]
  },
  {
   "cell_type": "code",
   "execution_count": 51,
   "metadata": {},
   "outputs": [
    {
     "data": {
      "text/plain": [
       "[('*-1', 'X'), ('Crude', 'ADJ'), ('as', 'ADP')]"
      ]
     },
     "execution_count": 51,
     "metadata": {},
     "output_type": "execute_result"
    }
   ],
   "source": [
    "# Checking first few entries of the above list\n",
    "validation_run_base[:3]"
   ]
  },
  {
   "cell_type": "code",
   "execution_count": 52,
   "metadata": {},
   "outputs": [
    {
     "data": {
      "text/plain": [
       "0.9468534151957022"
      ]
     },
     "execution_count": 52,
     "metadata": {},
     "output_type": "execute_result"
    }
   ],
   "source": [
    "# Checking the accuracy of the technique 1 on validation dataset\n",
    "check = [i for i, j in zip(tagged_seq_modified, validation_run_base) if i == j]\n",
    "accuracy = len(check)/len(tagged_seq_modified)\n",
    "accuracy"
   ]
  },
  {
   "cell_type": "code",
   "execution_count": 53,
   "metadata": {},
   "outputs": [],
   "source": [
    "# Idenfying the incorrect tagged cases from technique 1\n",
    "incorrect_tagged_cases_modified = [[validation_run_base[i-1],j] for i, j in enumerate(zip(tagged_seq_modified, validation_run_base)) if j[0]!=j[1]]"
   ]
  },
  {
   "cell_type": "code",
   "execution_count": 54,
   "metadata": {},
   "outputs": [
    {
     "data": {
      "text/plain": [
       "[[('triggered', 'VERB'), (('explosive', 'NOUN'), ('explosive', 'ADJ'))],\n",
       " [('at', 'ADP'), (('American', 'ADJ'), ('American', 'NOUN'))],\n",
       " [('materials', 'NOUN'), (('closer', 'ADV'), ('closer', 'ADJ'))],\n",
       " [('progress', 'NOUN'), (('moves', 'NOUN'), ('moves', 'VERB'))],\n",
       " [('...', '.'), (('less', 'ADV'), ('less', 'ADJ'))],\n",
       " [('which', 'DET'), (('there', 'ADV'), ('there', 'DET'))],\n",
       " [('--', '.'), (('the', 'DET'), ('the', 'ADJ'))],\n",
       " [('--', '.'), (('the', 'DET'), ('the', 'ADJ'))],\n",
       " [('a', 'DET'), (('cosmetic', 'NOUN'), ('cosmetic', 'ADJ'))],\n",
       " [('have', 'VERB'), (('accounted', 'NOUN'), ('accounted', 'VERB'))],\n",
       " [('for', 'ADP'), (('as', 'ADP'), ('as', 'ADV'))],\n",
       " [('who', 'PRON'), (('*T*-95', 'NUM'), ('*T*-95', 'X'))],\n",
       " [(\"'s\", 'PRT'), (('work', 'VERB'), ('work', 'NOUN'))],\n",
       " [('who', 'PRON'), (('earlier', 'ADJ'), ('earlier', 'ADV'))],\n",
       " [(\"'s\", 'PRT'), (('nine-member', 'NOUN'), ('nine-member', 'ADJ'))],\n",
       " [('.', '.'), (('Long-term', 'NOUN'), ('Long-term', 'ADJ'))],\n",
       " [('What', 'PRON'), (('*T*-164', 'NUM'), ('*T*-164', 'X'))],\n",
       " [('*T*-164', 'X'), ((\"'s\", 'PRT'), (\"'s\", 'VERB'))],\n",
       " [('is', 'VERB'), (('happening', 'NOUN'), ('happening', 'VERB'))],\n",
       " [('spend', 'VERB'), (('much', 'ADV'), ('much', 'ADJ'))],\n",
       " [('on', 'ADP'), (('print', 'VERB'), ('print', 'NOUN'))],\n",
       " [('print', 'NOUN'), (('advertising', 'VERB'), ('advertising', 'NOUN'))],\n",
       " [('peaks', 'NOUN'), (('earlier', 'ADV'), ('earlier', 'ADJ'))],\n",
       " [('government', 'NOUN'), (('curtailed', 'NOUN'), ('curtailed', 'VERB'))],\n",
       " [('with', 'ADP'), (('land-idling', 'NOUN'), ('land-idling', 'ADJ'))],\n",
       " [('reduce', 'VERB'),\n",
       "  (('price-depressing', 'NOUN'), ('price-depressing', 'ADJ'))],\n",
       " [('were', 'VERB'), (('preapproved', 'NOUN'), ('preapproved', 'VERB'))],\n",
       " [('preapproved', 'VERB'), (('*-67', 'NUM'), ('*-67', 'X'))],\n",
       " [('to', 'PRT'), (('veto', 'NOUN'), ('veto', 'VERB'))],\n",
       " [('veto', 'VERB'), (('such', 'ADJ'), ('such', 'DET'))],\n",
       " [('it', 'PRON'), (('views', 'NOUN'), ('views', 'VERB'))],\n",
       " [('an', 'DET'), (('undesirable', 'NOUN'), ('undesirable', 'ADJ'))],\n",
       " [('the', 'DET'), (('potential', 'ADJ'), ('potential', 'NOUN'))],\n",
       " [('to', 'PRT'), (('override', 'NOUN'), ('override', 'VERB'))],\n",
       " [('breaks', 'VERB'), (('down', 'ADV'), ('down', 'PRT'))],\n",
       " [(\"n't\", 'ADV'), (('recyclable', 'NOUN'), ('recyclable', 'ADJ'))],\n",
       " [('of', 'ADP'), (('architectural', 'NOUN'), ('architectural', 'ADJ'))],\n",
       " [('was', 'VERB'), (('foundering', 'NOUN'), ('foundering', 'VERB'))],\n",
       " [('built', 'VERB'), (('*-67', 'NUM'), ('*-67', 'X'))],\n",
       " [('go', 'VERB'), (('through', 'ADP'), ('through', 'PRT'))],\n",
       " [('already', 'ADV'), (('own', 'ADJ'), ('own', 'VERB'))],\n",
       " [('it', 'PRON'), (('bid', 'NOUN'), ('bid', 'VERB'))],\n",
       " [('separate', 'ADJ'), (('public', 'NOUN'), ('public', 'ADJ'))],\n",
       " [('the', 'DET'), (('apparent', 'NOUN'), ('apparent', 'ADJ'))],\n",
       " [('apparent', 'ADJ'), (('slowing', 'VERB'), ('slowing', 'NOUN'))],\n",
       " [('a', 'DET'), (('seven-yen', 'NOUN'), ('seven-yen', 'ADJ'))],\n",
       " [('The', 'DET'), (('multilevel', 'NOUN'), ('multilevel', 'ADJ'))],\n",
       " [('proposal', 'NOUN'), (('that', 'ADP'), ('that', 'DET'))],\n",
       " [('emissions', 'NOUN'), (('that', 'ADP'), ('that', 'DET'))],\n",
       " [(',', '.'), (('The', 'DET'), ('The', 'NOUN'))],\n",
       " [('will', 'VERB'), (('report', 'NOUN'), ('report', 'VERB'))],\n",
       " [('century', 'NOUN'), (('that', 'ADP'), ('that', 'DET'))],\n",
       " [('a', 'DET'), (('75-year-old', 'NOUN'), ('75-year-old', 'NUM'))],\n",
       " [('Marina', 'NOUN'), (('del', 'NOUN'), ('del', 'DET'))],\n",
       " [('for', 'ADP'), (('alleged', 'ADJ'), ('alleged', 'VERB'))],\n",
       " [('of', 'ADP'), (('reporting', 'NOUN'), ('reporting', 'VERB'))],\n",
       " [('the', 'DET'), (('36-store', 'NOUN'), ('36-store', 'ADJ'))],\n",
       " [('to', 'PRT'), (('free', 'ADJ'), ('free', 'VERB'))],\n",
       " [('*U*', 'X'), (('face', 'VERB'), ('face', 'NOUN'))],\n",
       " [('are', 'VERB'), (('worth', 'ADJ'), ('worth', 'ADP'))],\n",
       " [('for', 'ADP'), (('aesthetic', 'NOUN'), ('aesthetic', 'ADJ'))],\n",
       " [('one', 'NUM'), (('famed', 'NOUN'), ('famed', 'ADJ'))],\n",
       " [('then', 'ADV'), (('overseas', 'ADJ'), ('overseas', 'ADV'))],\n",
       " [('.', '.'), (('Performing', 'NOUN'), ('Performing', 'VERB'))],\n",
       " [('Treasury', 'NOUN'), (('estimates', 'NOUN'), ('estimates', 'VERB'))],\n",
       " [('it', 'PRON'), (('decides', 'NOUN'), ('decides', 'VERB'))],\n",
       " [('to', 'PRT'), (('aim', 'NOUN'), ('aim', 'VERB'))],\n",
       " [('and', 'CONJ'), (('entertaining', 'NOUN'), ('entertaining', 'ADJ'))],\n",
       " [('that', 'DET'), (('means', 'NOUN'), ('means', 'VERB'))],\n",
       " [('means', 'VERB'),\n",
       "  (('confrontational', 'NOUN'), ('confrontational', 'ADJ'))],\n",
       " [('the', 'DET'), (('right', 'NOUN'), ('right', 'ADJ'))],\n",
       " [('newly', 'ADV'), (('fattened', 'NOUN'), ('fattened', 'VERB'))],\n",
       " [('areas', 'NOUN'), (('that', 'ADP'), ('that', 'DET'))],\n",
       " [('that', 'DET'), (('*T*-186', 'NUM'), ('*T*-186', 'X'))],\n",
       " [('can', 'VERB'), (('bar', 'NOUN'), ('bar', 'VERB'))],\n",
       " [('programs', 'NOUN'), (('that', 'ADP'), ('that', 'DET'))],\n",
       " [('include', 'VERB'),\n",
       "  (('abortion-related', 'NOUN'), ('abortion-related', 'ADJ'))],\n",
       " [(',', '.'), (('down', 'ADV'), ('down', 'ADP'))],\n",
       " [('Bell', 'NOUN'), (('established', 'NOUN'), ('established', 'VERB'))],\n",
       " [('registered', 'VERB'), (('*-145', 'NUM'), ('*-145', 'X'))],\n",
       " [('to', 'PRT'), (('enter', 'NOUN'), ('enter', 'VERB'))],\n",
       " [('*-87', 'X'), (('more', 'ADV'), ('more', 'ADJ'))],\n",
       " [('off', 'PRT'), (('drastically', 'NOUN'), ('drastically', 'ADV'))],\n",
       " [('or', 'CONJ'), (('about', 'ADP'), ('about', 'ADV'))],\n",
       " [('Assuming', 'VERB'), (('that', 'ADP'), ('that', 'DET'))],\n",
       " [('is', 'VERB'), (('researching', 'NOUN'), ('researching', 'VERB'))],\n",
       " [('``', '.'), (('headed', 'NOUN'), ('headed', 'VERB'))],\n",
       " [(\"n't\", 'ADV'), (('curbed', 'NOUN'), ('curbed', 'VERB'))],\n",
       " [('and', 'CONJ'), (('Soviet', 'ADJ'), ('Soviet', 'NOUN'))],\n",
       " [('in', 'ADP'), (('pre-Communist', 'NOUN'), ('pre-Communist', 'ADJ'))],\n",
       " [('pre-Communist', 'ADJ'), (('Russian', 'NOUN'), ('Russian', 'ADJ'))],\n",
       " [('.', '.'), (('Ten', 'NOUN'), ('Ten', 'NUM'))],\n",
       " [('Ten', 'NUM'), (('shirt-sleeved', 'NOUN'), ('shirt-sleeved', 'ADJ'))],\n",
       " [('each', 'DET'), (('pulling', 'NOUN'), ('pulling', 'VERB'))],\n",
       " [('rope', 'NOUN'), (('that', 'ADP'), ('that', 'DET'))],\n",
       " [('that', 'DET'), (('*T*-225', 'NUM'), ('*T*-225', 'X'))],\n",
       " [('*T*-225', 'X'), (('disappears', 'NOUN'), ('disappears', 'VERB'))],\n",
       " [('fourth-quarter', 'NOUN'), (('pre-tax', 'NOUN'), ('pre-tax', 'ADJ'))],\n",
       " [('a', 'DET'), (('definitive', 'NOUN'), ('definitive', 'ADJ'))],\n",
       " [('a', 'DET'), (('lousy', 'NOUN'), ('lousy', 'ADJ'))],\n",
       " [('*T*-1', 'X'), (('anyway', 'NOUN'), ('anyway', 'ADV'))],\n",
       " [('and', 'CONJ'), (('contingency-fee', 'NOUN'), ('contingency-fee', 'ADJ'))],\n",
       " [('cut', 'NOUN'), (('either', 'CONJ'), ('either', 'DET'))],\n",
       " [('be', 'VERB'), (('spun', 'NOUN'), ('spun', 'VERB'))],\n",
       " [('for', 'ADP'), (('*-30', 'NUM'), ('*-30', 'X'))],\n",
       " [('response', 'NOUN'), (('annoyed', 'NOUN'), ('annoyed', 'VERB'))],\n",
       " [('snapped', 'VERB'), (('back', 'ADV'), ('back', 'PRT'))],\n",
       " [('been', 'VERB'), (('enough', 'ADV'), ('enough', 'ADJ'))],\n",
       " [('and', 'CONJ'), (('that', 'DET'), ('that', 'ADP'))],\n",
       " [(',', '.'), (('four-color', 'NOUN'), ('four-color', 'ADJ'))],\n",
       " [('will', 'VERB'), (('cost', 'NOUN'), ('cost', 'VERB'))],\n",
       " [('at', 'ADP'), (('mid-afternoon', 'NOUN'), ('mid-afternoon', 'ADJ'))],\n",
       " [('of', 'ADP'), (('flashy', 'NOUN'), ('flashy', 'ADJ'))],\n",
       " [('.', '.'), (('More', 'ADV'), ('More', 'ADJ'))],\n",
       " [('In', 'ADP'), (('American', 'ADJ'), ('American', 'NOUN'))],\n",
       " [('*ICH*-1', 'X'), (('exchanging', 'NOUN'), ('exchanging', 'VERB'))],\n",
       " [('exchanging', 'VERB'), (('rings', 'VERB'), ('rings', 'NOUN'))],\n",
       " [('the', 'DET'), (('upscale', 'ADJ'), ('upscale', 'NOUN'))],\n",
       " [('to', 'PRT'), (('project', 'NOUN'), ('project', 'VERB'))],\n",
       " [('with', 'ADP'), (('top-level', 'NOUN'), ('top-level', 'ADJ'))],\n",
       " [('top-level', 'ADJ'), (('Chinese', 'NOUN'), ('Chinese', 'ADJ'))],\n",
       " [('as', 'ADP'), (('chief', 'NOUN'), ('chief', 'ADJ'))],\n",
       " [('assumed', 'VERB'), (('*-121', 'NUM'), ('*-121', 'X'))],\n",
       " [('are', 'VERB'), (('fuming', 'NOUN'), ('fuming', 'VERB'))],\n",
       " [('fuming', 'VERB'), (('because', 'ADP'), ('because', 'ADV'))],\n",
       " [('*', 'X'), (('Either', 'NOUN'), ('Either', 'CONJ'))],\n",
       " [('Either', 'CONJ'), (('sign', 'NOUN'), ('sign', 'VERB'))],\n",
       " [('or', 'CONJ'), (('risk', 'NOUN'), ('risk', 'VERB'))],\n",
       " [('involved', 'VERB'), (('more', 'ADV'), ('more', 'ADJ'))],\n",
       " [('200', 'NUM'), (('alleged', 'ADJ'), ('alleged', 'VERB'))],\n",
       " [('of', 'ADP'),\n",
       "  (('electrical-safety', 'NOUN'), ('electrical-safety', 'ADJ'))],\n",
       " [('come', 'VERB'), (('up', 'ADV'), ('up', 'PRT'))],\n",
       " [('for', 'ADP'), (('bankruptcy-law', 'NOUN'), ('bankruptcy-law', 'ADJ'))],\n",
       " [('the', 'DET'), (('1920s', 'NOUN'), ('1920s', 'NUM'))],\n",
       " [('and', 'CONJ'), ((\"'30s\", 'NOUN'), (\"'30s\", 'NUM'))],\n",
       " [('shape', 'NOUN'), (('that', 'ADP'), ('that', 'DET'))],\n",
       " [('contain', 'VERB'), (('semicircular', 'NOUN'), ('semicircular', 'ADJ'))],\n",
       " [('the', 'DET'), (('middle', 'ADJ'), ('middle', 'NOUN'))],\n",
       " [('year', 'NOUN'), (('earlier', 'ADV'), ('earlier', 'ADJ'))],\n",
       " [('and', 'CONJ'), (('chief', 'NOUN'), ('chief', 'ADJ'))],\n",
       " [('chief', 'ADJ'), (('executive', 'NOUN'), ('executive', 'ADJ'))],\n",
       " [('0', 'X'), (('greedy', 'NOUN'), ('greedy', 'ADJ'))],\n",
       " [('heavily', 'ADV'), (('stacked', 'NOUN'), ('stacked', 'VERB'))],\n",
       " [('a', 'DET'), (('sound', 'NOUN'), ('sound', 'ADJ'))],\n",
       " [('maker', 'NOUN'), (('introduces', 'NOUN'), ('introduces', 'VERB'))],\n",
       " [('an', 'DET'), (('anti-miscarriage', 'NOUN'), ('anti-miscarriage', 'ADJ'))],\n",
       " [('sell', 'VERB'), (('that', 'ADP'), ('that', 'DET'))],\n",
       " [('stock', 'NOUN'), (('short', 'ADJ'), ('short', 'ADV'))],\n",
       " [('The', 'DET'), (('combined', 'ADJ'), ('combined', 'VERB'))],\n",
       " [('I', 'PRON'), (('am', 'NOUN'), ('am', 'VERB'))],\n",
       " [('chief', 'NOUN'), (('operating', 'NOUN'), ('operating', 'VERB'))],\n",
       " [('carrier', 'NOUN'), (('so', 'ADV'), ('so', 'ADP'))],\n",
       " [('be', 'VERB'), (('impaired', 'NOUN'), ('impaired', 'VERB'))],\n",
       " [('of', 'ADP'), (('airline-related', 'NOUN'), ('airline-related', 'ADJ'))],\n",
       " [('an', 'DET'), (('overriding', 'NOUN'), ('overriding', 'VERB'))],\n",
       " [('public', 'NOUN'), (('benefit', 'VERB'), ('benefit', 'NOUN'))],\n",
       " [('IRS', 'NOUN'), (('rarely', 'NOUN'), ('rarely', 'ADV'))],\n",
       " [('rarely', 'ADV'), (('acted', 'NOUN'), ('acted', 'VERB'))],\n",
       " [('his', 'PRON'), (('living', 'VERB'), ('living', 'NOUN'))],\n",
       " [('the', 'DET'), (('double', 'VERB'), ('double', 'ADJ'))],\n",
       " [('in', 'ADP'), (('classical', 'NOUN'), ('classical', 'ADJ'))],\n",
       " [('an', 'DET'), (('exciting', 'NOUN'), ('exciting', 'ADJ'))],\n",
       " [(',', '.'), (('eclectic', 'NOUN'), ('eclectic', 'ADJ'))],\n",
       " [('score', 'NOUN'), (('that', 'ADP'), ('that', 'DET'))],\n",
       " [('far', 'ADV'), (('more', 'ADJ'), ('more', 'ADV'))],\n",
       " [('Apple', 'NOUN'), (('I', 'PRON'), ('I', 'NOUN'))],\n",
       " [('*', 'X'), (('designing', 'NOUN'), ('designing', 'VERB'))],\n",
       " [('incentive', 'NOUN'), (('pay', 'VERB'), ('pay', 'NOUN'))],\n",
       " [('opened', 'VERB'), (('up', 'ADV'), ('up', 'PRT'))],\n",
       " [('a', 'DET'), (('can', 'VERB'), ('can', 'NOUN'))],\n",
       " [('Wedtech', 'NOUN'), (('traveled', 'NOUN'), ('traveled', 'VERB'))],\n",
       " [('small', 'ADJ'), (('manufacturing', 'NOUN'), ('manufacturing', 'VERB'))],\n",
       " [('of', 'ADP'), (('full-fledged', 'NOUN'), ('full-fledged', 'ADJ'))],\n",
       " [('producing', 'VERB'), (('vital', 'NOUN'), ('vital', 'ADJ'))],\n",
       " [('reached', 'VERB'), (('*-120', 'NUM'), ('*-120', 'X'))],\n",
       " [('take', 'VERB'), (('early', 'ADV'), ('early', 'ADJ'))],\n",
       " [('its', 'PRON'), (('finance', 'VERB'), ('finance', 'NOUN'))],\n",
       " [('who', 'PRON'), (('*T*-82', 'NUM'), ('*T*-82', 'X'))],\n",
       " [('who', 'PRON'), (('*T*-83', 'NUM'), ('*T*-83', 'X'))],\n",
       " [('officials', 'NOUN'), (('stunned', 'NOUN'), ('stunned', 'ADJ'))],\n",
       " [('the', 'DET'), (('bald-faced', 'NOUN'), ('bald-faced', 'ADJ'))],\n",
       " [('No', 'DET'), (('one', 'NUM'), ('one', 'NOUN'))],\n",
       " [('I', 'PRON'), (('visited', 'NOUN'), ('visited', 'VERB'))],\n",
       " [('employed', 'VERB'), (('*-149', 'NUM'), ('*-149', 'X'))],\n",
       " [('--', '.'), (('twice', 'NOUN'), ('twice', 'ADV'))],\n",
       " [('twice', 'ADV'), (('as', 'ADP'), ('as', 'ADV'))],\n",
       " [(\"'s\", 'VERB'), (('imaginative', 'NOUN'), ('imaginative', 'ADJ'))],\n",
       " [('and', 'CONJ'), (('chief', 'NOUN'), ('chief', 'ADJ'))],\n",
       " [('chief', 'ADJ'), (('executive', 'NOUN'), ('executive', 'ADJ'))],\n",
       " [('improved', 'VERB'), (('operating', 'VERB'), ('operating', 'NOUN'))],\n",
       " [('has', 'VERB'), (('hunted', 'NOUN'), ('hunted', 'VERB'))],\n",
       " [('0', 'X'), (('that', 'ADP'), ('that', 'DET'))],\n",
       " [('.', '.'), (('Strong', 'NOUN'), ('Strong', 'ADJ'))],\n",
       " [('spiders', 'NOUN'), (('that', 'ADP'), ('that', 'DET'))],\n",
       " [('that', 'DET'), (('*T*-231', 'NUM'), ('*T*-231', 'X'))],\n",
       " [('after', 'ADP'), (('mating', 'NOUN'), ('mating', 'VERB'))],\n",
       " [('bought', 'VERB'), (('back', 'ADV'), ('back', 'PRT'))],\n",
       " [('of', 'ADP'), (('punitive', 'NOUN'), ('punitive', 'ADJ'))],\n",
       " [('to', 'PRT'), (('license', 'NOUN'), ('license', 'VERB'))],\n",
       " [('.', '.'), (('Note', 'NOUN'), ('Note', 'VERB'))],\n",
       " [('All', 'DET'), (('per-share', 'NOUN'), ('per-share', 'ADJ'))],\n",
       " [('to', 'PRT'), (('lessen', 'NOUN'), ('lessen', 'VERB'))],\n",
       " [('selling', 'NOUN'), (('panic', 'VERB'), ('panic', 'NOUN'))],\n",
       " [('shareholders', 'NOUN'), (('cleared', 'NOUN'), ('cleared', 'VERB'))],\n",
       " [('beaten', 'VERB'), (('*-82', 'NUM'), ('*-82', 'X'))],\n",
       " [('seeking', 'VERB'), (('better', 'ADV'), ('better', 'ADJ'))],\n",
       " [('their', 'PRON'), (('high-volume', 'NOUN'), ('high-volume', 'ADJ'))],\n",
       " [('or', 'CONJ'), (('overseas', 'ADJ'), ('overseas', 'ADV'))],\n",
       " [('best', 'ADJ'), (('known', 'ADJ'), ('known', 'VERB'))],\n",
       " [('approach', 'NOUN'), (('that', 'ADP'), ('that', 'DET'))],\n",
       " [('two', 'NUM'), (('midsized', 'ADJ'), ('midsized', 'VERB'))],\n",
       " [('cars', 'NOUN'), (('that', 'ADP'), ('that', 'DET'))],\n",
       " [('maker', 'NOUN'), (('record', 'NOUN'), ('record', 'VERB'))],\n",
       " [('to', 'PRT'), (('eclipse', 'NOUN'), ('eclipse', 'VERB'))],\n",
       " [('the', 'DET'), (('top-selling', 'NOUN'), ('top-selling', 'ADJ'))],\n",
       " [('1,000', 'NUM'), (('enclosed', 'NOUN'), ('enclosed', 'VERB'))],\n",
       " [('*', 'X'), (('transporting', 'NOUN'), ('transporting', 'VERB'))],\n",
       " [('often', 'ADV'), (('buys', 'NOUN'), ('buys', 'VERB'))],\n",
       " [('which', 'DET'), (('*T*-133', 'NUM'), ('*T*-133', 'X'))],\n",
       " [('for', 'ADP'), (('alleged', 'ADJ'), ('alleged', 'VERB'))],\n",
       " [('Ward', 'NOUN'), (('resolved', 'NOUN'), ('resolved', 'VERB'))],\n",
       " [('to', 'PRT'), (('clean', 'NOUN'), ('clean', 'VERB'))],\n",
       " [('.', '.'), (('So', 'ADV'), ('So', 'ADP'))],\n",
       " [('*-2', 'X'), (('successfully', 'NOUN'), ('successfully', 'ADV'))],\n",
       " [('successfully', 'ADV'), (('mobilizing', 'NOUN'), ('mobilizing', 'VERB'))],\n",
       " [('mobilizing', 'VERB'), (('public', 'NOUN'), ('public', 'ADJ'))],\n",
       " [('to', 'PRT'), (('bludgeon', 'NOUN'), ('bludgeon', 'VERB'))],\n",
       " [('stations', 'NOUN'), (('that', 'ADP'), ('that', 'DET'))],\n",
       " [('that', 'DET'), (('*T*-149', 'NUM'), ('*T*-149', 'X'))],\n",
       " [('years', 'NOUN'), (('ago', 'ADP'), ('ago', 'ADV'))],\n",
       " [('been', 'VERB'), (('firmly', 'NOUN'), ('firmly', 'ADV'))],\n",
       " [('provide', 'VERB'), (('early', 'ADV'), ('early', 'ADJ'))],\n",
       " [('early', 'ADJ'), (('warning', 'VERB'), ('warning', 'NOUN'))],\n",
       " [('warning', 'NOUN'), (('signals', 'VERB'), ('signals', 'NOUN'))],\n",
       " [('to', 'PRT'), (('oust', 'NOUN'), ('oust', 'VERB'))],\n",
       " [('to', 'PRT'), (('fund', 'NOUN'), ('fund', 'VERB'))],\n",
       " [('*EXP*-1', 'X'), ((\"'s\", 'PRT'), (\"'s\", 'VERB'))],\n",
       " [('a', 'DET'), (('17-year-old', 'NOUN'), ('17-year-old', 'ADJ'))],\n",
       " [('led', 'VERB'), (('*-96', 'NUM'), ('*-96', 'X'))],\n",
       " [('and', 'CONJ'), (('plan', 'NOUN'), ('plan', 'VERB'))],\n",
       " [(\"'s\", 'PRT'), (('nine-member', 'NOUN'), ('nine-member', 'ADJ'))],\n",
       " [('rate', 'NOUN'), (('capped', 'VERB'), ('capped', 'ADJ'))],\n",
       " [('.', '.'), (('Far', 'NOUN'), ('Far', 'ADV'))],\n",
       " [('Far', 'ADV'), (('above', 'ADP'), ('above', 'ADV'))],\n",
       " [(',', '.'), (('swing', 'NOUN'), ('swing', 'VERB'))],\n",
       " [('swing', 'VERB'), (('madly', 'NOUN'), ('madly', 'ADV'))],\n",
       " [('the', 'DET'), (('inverted', 'NOUN'), ('inverted', 'ADJ'))],\n",
       " [('or', 'CONJ'), (('mouth-up', 'NOUN'), ('mouth-up', 'ADJ'))],\n",
       " [('been', 'VERB'), (('disruptive', 'NOUN'), ('disruptive', 'ADJ'))],\n",
       " [('.', '.'), (('Yet', 'CONJ'), ('Yet', 'ADV'))],\n",
       " [('those', 'DET'), (('related', 'ADJ'), ('related', 'VERB'))],\n",
       " [('the', 'DET'), (('Cray-3', 'NOUN'), ('Cray-3', 'NUM'))],\n",
       " [('long-term', 'ADJ'), (('play', 'VERB'), ('play', 'NOUN'))],\n",
       " [('learned', 'VERB'), (('that', 'ADP'), ('that', 'DET'))],\n",
       " [('is', 'VERB'), (('sufficient', 'NOUN'), ('sufficient', 'ADJ'))],\n",
       " [('.', '.'), (('So', 'ADV'), ('So', 'ADP'))],\n",
       " [(\"'s\", 'PRT'), (('budding', 'NOUN'), ('budding', 'VERB'))],\n",
       " [('budding', 'VERB'), (('logistical', 'NOUN'), ('logistical', 'ADJ'))],\n",
       " [('``', '.'), (('photographic', 'NOUN'), ('photographic', 'ADJ'))],\n",
       " [('*-1', 'X'), (('Observing', 'NOUN'), ('Observing', 'VERB'))],\n",
       " [('never', 'ADV'), (('exhibited', 'NOUN'), ('exhibited', 'VERB'))],\n",
       " [('be', 'VERB'), (('impartial', 'NOUN'), ('impartial', 'ADJ'))],\n",
       " [('a', 'DET'), (('homosexual', 'ADJ'), ('homosexual', 'NOUN'))],\n",
       " [('``', '.'), (('that', 'DET'), ('that', 'ADP'))],\n",
       " [('to', 'PRT'), (('preclude', 'NOUN'), ('preclude', 'VERB'))],\n",
       " [('*', 'X'), (('disseminating', 'NOUN'), ('disseminating', 'VERB'))],\n",
       " [('information', 'NOUN'),\n",
       "  (('domestically', 'NOUN'), ('domestically', 'ADV'))],\n",
       " [('GMAC', 'NOUN'), (('screened', 'NOUN'), ('screened', 'VERB'))],\n",
       " [('holders', 'NOUN'), (('more', 'ADV'), ('more', 'ADJ'))],\n",
       " [('``', '.'), (('missed', 'NOUN'), ('missed', 'VERB'))],\n",
       " [('the', 'DET'), (('purchasing', 'NOUN'), ('purchasing', 'VERB'))],\n",
       " [('paycheck', 'NOUN'), (('reasonably', 'NOUN'), ('reasonably', 'ADV'))],\n",
       " [('The', 'DET'), (('forthcoming', 'NOUN'), ('forthcoming', 'ADJ'))],\n",
       " [('a', 'DET'), (('10-year', 'ADJ'), ('10-year', 'NUM'))],\n",
       " [('government', 'NOUN'),\n",
       "  (('yen-denominated', 'NOUN'), ('yen-denominated', 'ADJ'))],\n",
       " [('at', 'ADP'), (('about', 'ADP'), ('about', 'ADV'))],\n",
       " [('investors', 'NOUN'), (('redeeming', 'NOUN'), ('redeeming', 'VERB'))]]"
      ]
     },
     "execution_count": 54,
     "metadata": {},
     "output_type": "execute_result"
    }
   ],
   "source": [
    "# Printing the list of incorrect tagged words\n",
    "incorrect_tagged_cases_modified"
   ]
  },
  {
   "cell_type": "code",
   "execution_count": 55,
   "metadata": {},
   "outputs": [
    {
     "data": {
      "text/plain": [
       "277"
      ]
     },
     "execution_count": 55,
     "metadata": {},
     "output_type": "execute_result"
    }
   ],
   "source": [
    "# Checking the number of incorrect tagged cases\n",
    "len(incorrect_tagged_cases_modified)"
   ]
  },
  {
   "cell_type": "code",
   "execution_count": 56,
   "metadata": {},
   "outputs": [],
   "source": [
    "# Identifying tags which are incorrectly predicted by technique 1\n",
    "incorrect_tag=[]\n",
    "for i in incorrect_tagged_cases_modified:\n",
    "    j=i[1]\n",
    "    k=j[1]\n",
    "    l=k[1]\n",
    "    incorrect_tag.append(l)"
   ]
  },
  {
   "cell_type": "code",
   "execution_count": 57,
   "metadata": {},
   "outputs": [
    {
     "name": "stdout",
     "output_type": "stream",
     "text": [
      "Counter({'ADJ': 86, 'VERB': 84, 'NOUN': 26, 'ADV': 23, 'DET': 20, 'X': 18, 'ADP': 7, 'PRT': 6, 'NUM': 6, 'CONJ': 1})\n"
     ]
    }
   ],
   "source": [
    "# Listing number of incorrect tags\n",
    "incorrect_tag_count=Counter(incorrect_tag)\n",
    "print(incorrect_tag_count)"
   ]
  },
  {
   "cell_type": "markdown",
   "metadata": {},
   "source": [
    "#### 4.3.3 Evaluating the accurary of modification 1"
   ]
  },
  {
   "cell_type": "markdown",
   "metadata": {},
   "source": [
    "Observation:\n",
    "    \n",
    "    1. We are able to observe improvement in the accuracy in the validation set after modification from 90.7% to 94.6%\n",
    "    2. The number of incorrect cases is reduced from 473 to 277\n",
    "    3. Most of the incorrect cases with regards to NOUN have been rectified"
   ]
  },
  {
   "cell_type": "markdown",
   "metadata": {},
   "source": [
    "#### 4.4 Technique 2: Modification on vanilla viterbi with evaluation of emmission probability and transition probability of unknownn words"
   ]
  },
  {
   "cell_type": "markdown",
   "metadata": {},
   "source": [
    "#### Approach"
   ]
  },
  {
   "cell_type": "markdown",
   "metadata": {},
   "source": [
    "For unknown words the emission probability is zero. Hence, tags for unknown words is always the first tag in the list which is the correct approach. \n",
    "\n",
    "Thus, one way to tackle this situation is only considering transition probability for the unknow words which will give the tags based on the previous tags. Since this approach takes the probabilistic approach of tagging, hence there is opportunity of indentify the tags for incorrect words correctly"
   ]
  },
  {
   "cell_type": "code",
   "execution_count": 58,
   "metadata": {},
   "outputs": [],
   "source": [
    "# Defining a function with modification where only transition probability is taken\n",
    "\n",
    "def Viterbi_modified_transition(words, train_bag = train_tagged_words):\n",
    "    state = []\n",
    "    T = list(set([pair[1] for pair in train_bag]))\n",
    "    \n",
    "    for key, word in enumerate(words):\n",
    "        # Initialising list of probability column for a given observation for known words\n",
    "        # Initialising the list of transistion probability for a given observation of unknow words\n",
    "        p = []\n",
    "        tran_p=[]\n",
    "        for tag in T:\n",
    "            if key == 0:\n",
    "                transition_p = tags_df.loc['.', tag]\n",
    "            else:\n",
    "                transition_p = tags_df.loc[state[-1], tag]\n",
    "                \n",
    "            # Computing emission and state probabilities\n",
    "            emission_p = word_given_tag(words[key], tag)[0]/word_given_tag(words[key], tag)[1]\n",
    "            state_probability = emission_p * transition_p    \n",
    "            p.append(state_probability)\n",
    "            tran_p.append(transition_p)\n",
    "                \n",
    "        if all(v == 0 for v in p)==False:\n",
    "            pmax = max(p)\n",
    "            # getting state for which probability is maximum\n",
    "            state_max = T[p.index(pmax)]\n",
    "        else:\n",
    "            state_max=T[tran_p.index(max(tran_p))]                # Only considering maximum trans_prob for unknow words\n",
    "        \n",
    " \n",
    "        state.append(state_max)\n",
    "    return list(zip(words, state))"
   ]
  },
  {
   "cell_type": "markdown",
   "metadata": {},
   "source": [
    "#### 4.4.1 Implementing technique 2 on validation dataset "
   ]
  },
  {
   "cell_type": "code",
   "execution_count": 59,
   "metadata": {},
   "outputs": [
    {
     "name": "stdout",
     "output_type": "stream",
     "text": [
      "Time taken in seconds:  1078.4320113658905\n",
      "[('*-1', 'X'), ('Crude', 'ADJ'), ('as', 'ADP'), ('they', 'PRON'), ('were', 'VERB'), ('*?*', 'X'), (',', '.'), ('these', 'DET'), ('early', 'ADJ'), ('PCs', 'NOUN'), ('triggered', 'VERB'), ('explosive', 'X'), ('product', 'NOUN'), ('development', 'NOUN'), ('in', 'ADP'), ('desktop', 'DET'), ('models', 'NOUN'), ('for', 'ADP'), ('the', 'DET'), ('home', 'NOUN'), ('and', 'CONJ'), ('office', 'NOUN'), ('.', '.'), ('Researchers', 'NOUN'), ('at', 'ADP'), ('American', 'ADJ'), ('Telephone', 'NOUN'), ('&', 'CONJ'), ('Telegraph', 'NOUN'), ('Co.', 'NOUN'), (\"'s\", 'PRT'), ('Bell', 'NOUN'), ('Laboratories', 'NOUN'), ('reported', 'VERB'), ('0', 'X'), ('they', 'PRON'), ('raised', 'VERB'), ('the', 'DET'), ('electrical', 'ADJ'), ('current-carrying', 'ADJ'), ('capacity', 'NOUN'), ('of', 'ADP'), ('new', 'ADJ'), ('superconductor', 'NOUN'), ('crystals', 'NOUN'), ('by', 'ADP'), ('a', 'DET'), ('factor', 'NOUN'), ('of', 'ADP'), ('100', 'NUM'), (',', '.'), ('*-1', 'X'), ('moving', 'VERB'), ('the', 'DET'), ('materials', 'NOUN'), ('closer', 'ADV'), ('to', 'PRT'), ('commercial', 'ADJ'), ('use', 'NOUN'), ('.', '.'), ('But', 'CONJ'), ('people', 'NOUN'), ('familiar', 'ADJ'), ('with', 'ADP'), ('the', 'DET'), ('agenda', 'NOUN'), ('of', 'ADP'), ('the', 'DET'), ('board', 'NOUN'), (\"'s\", 'PRT'), ('meeting', 'NOUN'), ('last', 'ADJ'), ('week', 'NOUN'), ('in', 'ADP'), ('London', 'NOUN'), ('said', 'VERB'), ('0', 'X'), ('Mr.', 'NOUN'), ('McGovern', 'NOUN'), ('was', 'VERB'), ('fired', 'VERB'), ('*-42', 'X'), ('.', '.'), ('``', '.'), ('When', 'ADV'), ('scientific', 'ADJ'), ('progress', 'NOUN'), ('moves', 'NOUN'), ('into', 'ADP'), ('uncharted', 'ADJ'), ('ground', 'NOUN'), ('*T*-1', 'X'), (',', '.'), ('there', 'DET'), ('has', 'VERB'), ('*-3', 'X'), ('to', 'PRT'), ('be', 'VERB'), ('a', 'DET'), ('role', 'NOUN'), ('*ICH*-4', 'X'), ('for', 'ADP'), ('society', 'NOUN'), ('*', 'X'), ('to', 'PRT'), ('make', 'VERB'), ('judgments', 'X'), ('about', 'ADP'), ('its', 'PRON'), ('applications', 'NOUN'), (',', '.'), (\"''\", '.'), ('says', 'VERB'), ('*T*-2', 'X'), ('Myron', 'VERB'), ('Genel', 'NOUN'), (',', '.'), ('associate', 'NOUN'), ('dean', 'NOUN'), ('of', 'ADP'), ('the', 'DET'), ('Yale', 'NOUN'), ('Medical', 'NOUN'), ('School', 'NOUN'), ('.', '.'), ('Mitsubishi', 'NOUN'), (\"'s\", 'PRT'), ('investment', 'NOUN'), ('in', 'ADP'), ('Free', 'NOUN'), ('State', 'NOUN'), ('is', 'VERB'), ('``', '.'), ('very', 'ADV'), ('small', 'ADJ'), ('...', '.'), ('less', 'ADV'), ('than', 'ADP'), ('$', '.'), ('4', 'NUM'), ('million', 'NUM'), ('*U*', 'X'), (',', '.'), (\"''\", '.'), ('Mr.', 'NOUN'), ('Wakui', 'NOUN'), ('says', 'VERB'), ('0', 'X'), ('*T*-1', 'X'), ('.', '.'), ('In', 'ADP'), ('other', 'ADJ'), ('years', 'NOUN'), ('in', 'ADP'), ('which', 'DET'), ('there', 'ADV'), ('have', 'VERB'), ('been', 'VERB'), ('moderate', 'ADJ'), ('economic', 'ADJ'), ('slowdowns', 'NOUN'), ('--', '.'), ('the', 'DET'), ('environment', 'NOUN'), ('0', 'X'), ('the', 'DET'), ('firm', 'NOUN'), ('expects', 'VERB'), ('*T*-1', 'X'), ('in', 'ADP'), ('1990', 'NUM'), ('*T*-2', 'X'), ('--', '.'), ('the', 'DET'), ('change', 'NOUN'), ('in', 'ADP'), ('dividends', 'NOUN'), ('ranged', 'VERB'), ('from', 'ADP'), ('a', 'DET'), ('gain', 'NOUN'), ('of', 'ADP'), ('4', 'NUM'), ('%', 'NOUN'), ('to', 'PRT'), ('a', 'DET'), ('decline', 'NOUN'), ('of', 'ADP'), ('1', 'NUM'), ('%', 'NOUN'), (',', '.'), ('according', 'VERB'), ('to', 'PRT'), ('PaineWebber', 'NOUN'), ('analyst', 'NOUN'), ('Thomas', 'NOUN'), ('Doerflinger', 'NOUN'), ('.', '.'), ('Ralston', 'NOUN'), ('said', 'VERB'), ('0', 'X'), ('its', 'PRON'), ('Eveready', 'VERB'), ('battery', 'NOUN'), ('unit', 'NOUN'), ('was', 'VERB'), ('hurt', 'VERB'), ('*-1', 'X'), ('by', 'ADP'), ('continuing', 'VERB'), ('economic', 'ADJ'), ('problems', 'NOUN'), ('in', 'ADP'), ('South', 'NOUN'), ('America', 'NOUN'), ('.', '.'), ('``', '.'), ('It', 'PRON'), (\"'s\", 'VERB'), ('a', 'DET'), ('cosmetic', 'NOUN'), ('move', 'NOUN'), (',', '.'), (\"''\", '.'), ('said', 'VERB'), ('*T*-1', 'X'), ('Jonathan', 'NOUN'), ('S.', 'NOUN'), ('Gelles', 'NOUN'), ('of', 'ADP'), ('Wertheim', 'DET'), ('Schroder', 'NOUN'), ('&', 'CONJ'), ('Co', 'NOUN'), ('.', '.'), ('At', 'ADP'), ('one', 'NUM'), ('point', 'NOUN'), (',', '.'), ('Hammersmith', 'NOUN'), ('is', 'VERB'), ('reported', 'VERB'), ('*-1', 'X'), ('to', 'PRT'), ('have', 'VERB'), ('accounted', 'X'), ('for', 'ADP'), ('as', 'ADP'), ('much', 'ADJ'), ('as', 'ADP'), ('10', 'NUM'), ('%', 'NOUN'), ('of', 'ADP'), ('the', 'DET'), ('sterling', 'NOUN'), ('market', 'NOUN'), ('in', 'ADP'), ('interest-rate', 'NOUN'), ('swap', 'NOUN'), ('dealings', 'NOUN'), ('.', '.'), ('They', 'PRON'), ('found', 'VERB'), ('students', 'NOUN'), ('in', 'ADP'), ('an', 'DET'), ('advanced', 'ADJ'), ('class', 'NOUN'), ('a', 'DET'), ('year', 'NOUN'), ('earlier', 'ADV'), ('who', 'PRON'), ('*T*-95', 'VERB'), ('said', 'VERB'), ('0', 'X'), ('she', 'PRON'), ('gave', 'VERB'), ('them', 'PRON'), ('similar', 'ADJ'), ('help', 'NOUN'), (',', '.'), ('although', 'ADP'), ('because', 'ADP'), ('the', 'DET'), ('case', 'NOUN'), ('was', 'VERB'), (\"n't\", 'ADV'), ('tried', 'VERB'), ('in', 'ADP'), ('court', 'NOUN'), (',', '.'), ('this', 'DET'), ('evidence', 'NOUN'), ('was', 'VERB'), ('never', 'ADV'), ('presented', 'VERB'), ('*-1', 'X'), ('publicly', 'ADV'), ('.', '.'), ('The', 'DET'), ('proposal', 'NOUN'), ('comes', 'VERB'), ('as', 'ADP'), ('a', 'DET'), ('surprise', 'NOUN'), ('even', 'ADV'), ('to', 'PRT'), ('administration', 'NOUN'), ('officials', 'NOUN'), ('and', 'CONJ'), ('temporarily', 'ADV'), ('throws', 'VERB'), ('into', 'ADP'), ('chaos', 'DET'), ('the', 'DET'), ('House', 'NOUN'), (\"'s\", 'PRT'), ('work', 'VERB'), ('on', 'ADP'), ('clean-air', 'ADJ'), ('legislation', 'NOUN'), ('.', '.'), ('Giant', 'NOUN'), ('Group', 'NOUN'), ('is', 'VERB'), ('led', 'VERB'), ('*-1', 'X'), ('by', 'ADP'), ('three', 'NUM'), ('Rally', 'NOUN'), (\"'s\", 'PRT'), ('directors', 'NOUN'), (',', '.'), ('Burt', 'NOUN'), ('Sugarman', 'NOUN'), (',', '.'), ('James', 'NOUN'), ('M.', 'NOUN'), ('Trotter', 'NOUN'), ('III', 'NOUN'), ('and', 'CONJ'), ('William', 'NOUN'), ('E.', 'NOUN'), ('Trotter', 'NOUN'), ('II', 'NOUN'), (',', '.'), ('who', 'PRON'), ('earlier', 'ADJ'), ('this', 'DET'), ('month', 'NOUN'), ('*T*-2', 'X'), ('indicated', 'VERB'), ('0', 'X'), ('they', 'PRON'), ('had', 'VERB'), ('a', 'DET'), ('42.5', 'NOUN'), ('%', 'NOUN'), ('stake', 'NOUN'), ('in', 'ADP'), ('Rally', 'NOUN'), (\"'s\", 'PRT'), ('and', 'CONJ'), ('planned', 'VERB'), ('*-3', 'X'), ('to', 'PRT'), ('seek', 'VERB'), ('a', 'DET'), ('majority', 'NOUN'), ('of', 'ADP'), ('seats', 'NOUN'), ('on', 'ADP'), ('Rally', 'NOUN'), (\"'s\", 'PRT'), ('nine-member', 'VERB'), ('board', 'NOUN'), ('.', '.'), ('Long-term', 'NOUN'), ('bond', 'NOUN'), ('prices', 'NOUN'), ('rose', 'VERB'), ('despite', 'ADP'), ('prospects', 'NOUN'), ('of', 'ADP'), ('a', 'DET'), ('huge', 'ADJ'), ('new', 'ADJ'), ('supply', 'NOUN'), ('of', 'ADP'), ('Treasury', 'NOUN'), ('debt', 'NOUN'), ('this', 'DET'), ('month', 'NOUN'), ('.', '.'), ('``', '.'), ('What', 'PRON'), ('*T*-164', 'VERB'), (\"'s\", 'PRT'), ('different', 'ADJ'), ('is', 'VERB'), ('that', 'ADP'), ('it', 'PRON'), ('is', 'VERB'), ('happening', 'X'), ('with', 'ADP'), ('young', 'ADJ'), ('wines', 'NOUN'), ('just', 'ADV'), ('coming', 'VERB'), ('out', 'PRT'), ('.', '.'), ('``', '.'), ('We', 'PRON'), ('do', 'VERB'), (\"n't\", 'ADV'), ('spend', 'VERB'), ('much', 'ADV'), ('on', 'ADP'), ('print', 'VERB'), ('advertising', 'VERB'), (',', '.'), (\"''\", '.'), ('she', 'PRON'), ('says', 'VERB'), ('*T*-1', 'X'), ('.', '.'), ('Commodity', 'NOUN'), ('prices', 'NOUN'), ('have', 'VERB'), ('been', 'VERB'), ('rising', 'VERB'), ('in', 'ADP'), ('recent', 'ADJ'), ('years', 'NOUN'), (',', '.'), ('with', 'ADP'), ('the', 'DET'), ('farm', 'NOUN'), ('price', 'NOUN'), ('index', 'NOUN'), ('hitting', 'VERB'), ('record', 'NOUN'), ('peaks', 'NOUN'), ('earlier', 'ADV'), ('this', 'DET'), ('year', 'NOUN'), (',', '.'), ('as', 'ADP'), ('the', 'DET'), ('government', 'NOUN'), ('curtailed', 'NOUN'), ('production', 'NOUN'), ('with', 'ADP'), ('land-idling', 'DET'), ('programs', 'NOUN'), ('*-1', 'X'), ('to', 'PRT'), ('reduce', 'VERB'), ('price-depressing', 'X'), ('surpluses', 'VERB'), ('.', '.'), ('Some', 'DET'), ('3.8', 'NUM'), ('million', 'NUM'), ('of', 'ADP'), ('the', 'DET'), ('five', 'NUM'), ('million', 'NUM'), ('who', 'PRON'), ('*T*-55', 'X'), ('will', 'VERB'), ('get', 'VERB'), ('letters', 'NOUN'), ('were', 'VERB'), ('preapproved', 'X'), ('*-67', 'VERB'), ('for', 'ADP'), ('credit', 'NOUN'), ('with', 'ADP'), ('GMAC', 'NOUN'), ('.', '.'), ('The', 'DET'), ('Bush', 'NOUN'), ('administration', 'NOUN'), ('has', 'VERB'), ('threatened', 'VERB'), ('*-1', 'X'), ('to', 'PRT'), ('veto', 'NOUN'), ('such', 'ADJ'), ('a', 'DET'), ('bill', 'NOUN'), ('because', 'ADP'), ('of', 'ADP'), ('what', 'PRON'), ('it', 'PRON'), ('views', 'NOUN'), ('*T*-2', 'X'), ('as', 'ADP'), ('an', 'DET'), ('undesirable', 'NOUN'), ('intrusion', 'NOUN'), ('into', 'ADP'), ('the', 'DET'), ('affairs', 'NOUN'), ('of', 'ADP'), ('industry', 'NOUN'), (',', '.'), ('but', 'CONJ'), ('the', 'DET'), ('300-113', 'NOUN'), ('vote', 'NOUN'), ('suggests', 'VERB'), ('that', 'ADP'), ('supporters', 'NOUN'), ('have', 'VERB'), ('the', 'DET'), ('potential', 'ADJ'), ('0', 'X'), ('*', 'X'), ('to', 'PRT'), ('override', 'VERB'), ('a', 'DET'), ('veto', 'NOUN'), ('*T*-3', 'X'), ('.', '.'), ('The', 'DET'), ('student', 'NOUN'), ('surrendered', 'VERB'), ('the', 'DET'), ('notes', 'NOUN'), (',', '.'), ('but', 'CONJ'), ('not', 'ADV'), ('without', 'ADP'), ('a', 'DET'), ('protest', 'NOUN'), ('.', '.'), ('While', 'ADP'), ('it', 'PRON'), ('breaks', 'VERB'), ('down', 'ADV'), ('in', 'ADP'), ('prolonged', 'VERB'), ('sunlight', 'X'), (',', '.'), ('it', 'PRON'), ('is', 'VERB'), (\"n't\", 'ADV'), ('recyclable', 'VERB'), ('.', '.'), ('For', 'ADP'), ('the', 'DET'), ('year', 'NOUN'), (',', '.'), ('pet', 'NOUN'), ('food', 'NOUN'), ('volume', 'NOUN'), ('was', 'VERB'), ('flat', 'ADJ'), (',', '.'), ('the', 'DET'), ('company', 'NOUN'), ('said', 'VERB'), ('0', 'X'), ('*T*-1', 'X'), ('.', '.'), ('Despite', 'ADP'), ('the', 'DET'), ('flap', 'NOUN'), ('over', 'ADP'), ('transplants', 'NOUN'), (',', '.'), ('federal', 'ADJ'), ('funding', 'NOUN'), ('of', 'ADP'), ('research', 'NOUN'), ('involving', 'VERB'), ('fetal', 'ADJ'), ('tissues', 'NOUN'), ('will', 'VERB'), ('continue', 'VERB'), ('on', 'ADP'), ('a', 'DET'), ('number', 'NOUN'), ('of', 'ADP'), ('fronts', 'DET'), ('.', '.'), ('Free', 'NOUN'), ('State', 'NOUN'), ('Glass', 'NOUN'), ('Industries', 'NOUN'), ('of', 'ADP'), ('Warrenton', 'DET'), (',', '.'), ('Va.', 'NOUN'), (',', '.'), ('a', 'DET'), ('small', 'ADJ'), ('fabricator', 'NOUN'), ('of', 'ADP'), ('architectural', 'DET'), ('glass', 'NOUN'), (',', '.'), ('was', 'VERB'), ('foundering', 'X'), ('under', 'ADP'), ('its', 'PRON'), ('original', 'ADJ'), ('management', 'NOUN'), ('.', '.'), ('That', 'DET'), ('package', 'NOUN'), ('now', 'ADV'), ('sells', 'VERB'), ('for', 'ADP'), ('about', 'ADP'), ('$', '.'), ('2,099', 'NOUN'), ('*U*', 'X'), ('.', '.'), ('The', 'DET'), ('size', 'NOUN'), ('of', 'ADP'), ('IBM', 'NOUN'), (\"'s\", 'PRT'), ('issue', 'NOUN'), ('was', 'VERB'), ('increased', 'VERB'), ('*-1', 'X'), ('from', 'ADP'), ('an', 'DET'), ('originally', 'ADV'), ('planned', 'VERB'), ('$', '.'), ('500', 'NUM'), ('million', 'NUM'), ('*U*', 'X'), ('as', 'ADP'), ('money', 'NOUN'), ('managers', 'NOUN'), ('and', 'CONJ'), ('investors', 'NOUN'), ('scrambled', 'VERB'), ('*-2', 'X'), ('to', 'PRT'), ('buy', 'VERB'), ('the', 'DET'), ('bonds', 'NOUN'), ('.', '.'), ('A', 'DET'), ('spokesman', 'NOUN'), ('for', 'ADP'), ('the', 'DET'), ('Toronto', 'NOUN'), ('cable', 'NOUN'), ('television', 'NOUN'), ('and', 'CONJ'), ('telecommunications', 'NOUN'), ('concern', 'NOUN'), ('said', 'VERB'), ('0', 'X'), ('the', 'DET'), ('coupon', 'NOUN'), ('rate', 'NOUN'), ('has', 'VERB'), (\"n't\", 'ADV'), ('yet', 'ADV'), ('been', 'VERB'), ('fixed', 'VERB'), ('*-1', 'X'), (',', '.'), ('but', 'CONJ'), ('will', 'VERB'), ('probably', 'ADV'), ('be', 'VERB'), ('set', 'VERB'), ('*-1', 'X'), ('at', 'ADP'), ('around', 'ADP'), ('8', 'NUM'), ('%', 'NOUN'), ('.', '.'), ('Mr.', 'NOUN'), ('Nemeth', 'NOUN'), ('said', 'VERB'), ('in', 'ADP'), ('parliament', 'NOUN'), ('that', 'ADP'), ('Czechoslovakia', 'NOUN'), ('and', 'CONJ'), ('Hungary', 'NOUN'), ('would', 'VERB'), ('suffer', 'VERB'), ('environmental', 'ADJ'), ('damage', 'NOUN'), ('if', 'ADP'), ('the', 'DET'), ('twin', 'NOUN'), ('dams', 'NOUN'), ('were', 'VERB'), ('built', 'VERB'), ('*-67', 'X'), ('as', 'ADP'), ('*', 'X'), ('planned', 'VERB'), ('*-2', 'X'), ('.', '.'), ('Indexing', 'NOUN'), ('--', '.'), ('Many', 'ADJ'), ('investors', 'NOUN'), (',', '.'), ('mainly', 'ADV'), ('institutions', 'NOUN'), (',', '.'), ('follow', 'VERB'), ('an', 'DET'), ('investment', 'NOUN'), ('strategy', 'NOUN'), ('of', 'ADP'), ('*', 'X'), ('buying', 'VERB'), ('and', 'CONJ'), ('holding', 'VERB'), ('a', 'DET'), ('mix', 'NOUN'), ('of', 'ADP'), ('stocks', 'NOUN'), ('0', 'X'), ('*T*-1', 'X'), ('to', 'PRT'), ('match', 'VERB'), ('the', 'DET'), ('performance', 'NOUN'), ('of', 'ADP'), ('a', 'DET'), ('broad', 'ADJ'), ('stock-market', 'NOUN'), ('barometer', 'NOUN'), ('such', 'ADJ'), ('as', 'ADP'), ('the', 'DET'), ('S&P', 'NOUN'), ('500', 'NUM'), ('.', '.'), ('The', 'DET'), ('municipalities', 'NOUN'), ('said', 'VERB'), ('0', 'X'), ('they', 'PRON'), ('have', 'VERB'), (\"n't\", 'ADV'), ('decided', 'VERB'), ('whether', 'ADP'), ('*-1', 'X'), ('to', 'PRT'), ('try', 'VERB'), ('*-2', 'X'), ('to', 'PRT'), ('force', 'VERB'), ('the', 'DET'), ('company', 'NOUN'), ('to', 'PRT'), ('go', 'VERB'), ('through', 'ADP'), ('with', 'ADP'), ('the', 'DET'), ('contracts', 'NOUN'), ('.', '.'), ('Those', 'DET'), ('who', 'PRON'), ('*T*-1', 'X'), ('still', 'ADV'), ('want', 'VERB'), ('*-2', 'X'), ('to', 'PRT'), ('do', 'VERB'), ('it', 'PRON'), ('``', '.'), ('will', 'VERB'), ('just', 'ADV'), ('find', 'VERB'), ('some', 'DET'), ('way', 'NOUN'), ('0', 'X'), ('*', 'X'), ('to', 'PRT'), ('get', 'VERB'), ('around', 'ADP'), (\"''\", '.'), ('any', 'DET'), ('attempt', 'NOUN'), ('*', 'X'), ('to', 'PRT'), ('curb', 'VERB'), ('it', 'PRON'), ('*T*-3', 'X'), ('.', '.'), ('Heritage', 'NOUN'), ('Media', 'NOUN'), ('Corp.', 'NOUN'), (',', '.'), ('New', 'NOUN'), ('York', 'NOUN'), (',', '.'), ('said', 'VERB'), ('0', 'X'), ('it', 'PRON'), ('offered', 'VERB'), ('*-2', 'X'), ('to', 'PRT'), ('buy', 'VERB'), ('the', 'DET'), ('shares', 'NOUN'), ('of', 'ADP'), ('POP', 'NOUN'), ('Radio', 'NOUN'), ('Corp.', 'NOUN'), ('0', 'X'), ('it', 'PRON'), ('does', 'VERB'), (\"n't\", 'ADV'), ('already', 'ADV'), ('own', 'ADJ'), ('*T*-1', 'X'), ('in', 'ADP'), ('a', 'DET'), ('stock', 'NOUN'), ('swap', 'NOUN'), ('.', '.'), ('NEC', 'NOUN'), (',', '.'), ('one', 'NUM'), ('of', 'ADP'), ('its', 'PRON'), ('largest', 'ADJ'), ('domestic', 'ADJ'), ('competitors', 'NOUN'), (',', '.'), ('said', 'VERB'), ('0', 'X'), ('it', 'PRON'), ('bid', 'NOUN'), ('one', 'NUM'), ('yen', 'NOUN'), ('in', 'ADP'), ('two', 'NUM'), ('separate', 'ADJ'), ('public', 'NOUN'), ('auctions', 'NOUN'), ('since', 'ADP'), ('1987', 'NUM'), ('.', '.'), ('The', 'DET'), ('Fed', 'NOUN'), ('is', 'VERB'), ('coming', 'VERB'), ('under', 'ADP'), ('pressure', 'NOUN'), ('*', 'X'), ('to', 'PRT'), ('cut', 'VERB'), ('short-term', 'ADJ'), ('interest', 'NOUN'), ('rates', 'NOUN'), ('due', 'ADJ'), ('to', 'PRT'), ('the', 'DET'), ('apparent', 'NOUN'), ('slowing', 'VERB'), ('of', 'ADP'), ('the', 'DET'), ('economy', 'NOUN'), ('.', '.'), ('They', 'PRON'), ('fell', 'VERB'), ('into', 'ADP'), ('oblivion', 'DET'), ('after', 'ADP'), ('the', 'DET'), ('1929', 'NUM'), ('crash', 'NOUN'), ('.', '.'), ('Nissan', 'NOUN'), ('scheduled', 'VERB'), ('a', 'DET'), ('seven-yen', 'NOUN'), ('interim', 'ADJ'), ('dividend', 'NOUN'), ('payment', 'NOUN'), (',', '.'), ('unchanged', 'ADJ'), ('.', '.'), ('The', 'DET'), ('multilevel', 'NOUN'), ('railcars', 'NOUN'), (',', '.'), ('scheduled', 'VERB'), ('*', 'X'), ('for', 'ADP'), ('delivery', 'NOUN'), ('in', 'ADP'), ('1990', 'NUM'), (',', '.'), ('will', 'VERB'), ('be', 'VERB'), ('made', 'VERB'), ('*-1', 'X'), ('by', 'ADP'), ('Thrall', 'DET'), ('Manufacturing', 'NOUN'), ('Co.', 'NOUN'), (',', '.'), ('a', 'DET'), ('Chicago', 'NOUN'), ('Heights', 'NOUN'), (',', '.'), ('Ill.', 'NOUN'), (',', '.'), ('division', 'NOUN'), ('of', 'ADP'), ('closely', 'ADV'), ('held', 'VERB'), ('Duchossois', 'X'), ('Industries', 'NOUN'), ('Inc.', 'NOUN'), (',', '.'), ('Elmhurst', 'NOUN'), (',', '.'), ('Ill', 'NOUN'), ('.', '.'), ('Rep.', 'NOUN'), ('Dingell', 'NOUN'), ('of', 'ADP'), ('Michigan', 'NOUN'), ('plans', 'VERB'), ('*-3', 'X'), ('to', 'PRT'), ('unveil', 'VERB'), ('today', 'NOUN'), ('a', 'DET'), ('proposal', 'NOUN'), ('that', 'ADP'), ('*T*-1', 'X'), ('would', 'VERB'), ('break', 'VERB'), ('with', 'ADP'), ('Bush', 'NOUN'), (\"'s\", 'PRT'), ('clean-air', 'ADJ'), ('bill', 'NOUN'), ('on', 'ADP'), ('the', 'DET'), ('issue', 'NOUN'), ('of', 'ADP'), ('emissions', 'NOUN'), ('that', 'ADP'), ('*T*-2', 'X'), ('lead', 'VERB'), ('to', 'PRT'), ('acid', 'ADJ'), ('rain', 'NOUN'), ('.', '.'), ('U.S.', 'NOUN'), ('stock-index', 'NOUN'), ('futures', 'NOUN'), ('are', 'VERB'), (\"n't\", 'ADV'), ('even', 'ADV'), ('traded', 'VERB'), ('*-1', 'X'), ('in', 'ADP'), ('Japan', 'NOUN'), ('now', 'ADV'), ('.', '.'), ('-LRB-', '.'), ('During', 'ADP'), ('its', 'PRON'), ('centennial', 'VERB'), ('year', 'NOUN'), (',', '.'), ('The', 'DET'), ('Wall', 'NOUN'), ('Street', 'NOUN'), ('Journal', 'NOUN'), ('will', 'VERB'), ('report', 'NOUN'), ('events', 'NOUN'), ('of', 'ADP'), ('the', 'DET'), ('past', 'ADJ'), ('century', 'NOUN'), ('that', 'ADP'), ('*T*-30', 'X'), ('stand', 'VERB'), ('as', 'ADP'), ('milestones', 'DET'), ('of', 'ADP'), ('American', 'ADJ'), ('business', 'NOUN'), ('history', 'NOUN'), ('.', '.'), ('-RRB-', '.'), ('Magna', 'NOUN'), ('said', 'VERB'), ('0', 'X'), ('Mr.', 'NOUN'), ('McAlpine', 'NOUN'), ('resigned', 'VERB'), ('*-1', 'X'), ('to', 'PRT'), ('pursue', 'VERB'), ('a', 'DET'), ('consulting', 'NOUN'), ('career', 'NOUN'), (',', '.'), ('with', 'ADP'), ('Magna', 'NOUN'), ('as', 'ADP'), ('one', 'NUM'), ('of', 'ADP'), ('his', 'PRON'), ('clients', 'NOUN'), ('.', '.'), ('``', '.'), ('An', 'DET'), ('active', 'ADJ'), ('55-year-old', 'NOUN'), ('in', 'ADP'), ('Boca', 'NOUN'), ('Raton', 'NOUN'), ('may', 'VERB'), ('care', 'VERB'), ('more', 'ADV'), ('about', 'ADP'), ('Senior', 'DET'), ('Olympic', 'NOUN'), ('games', 'NOUN'), (',', '.'), ('while', 'ADP'), ('a', 'DET'), ('75-year-old', 'NOUN'), ('in', 'ADP'), ('Panama', 'NOUN'), ('City', 'NOUN'), ('may', 'VERB'), ('care', 'VERB'), ('more', 'ADV'), ('about', 'ADP'), ('a', 'DET'), ('seminar', 'NOUN'), ('on', 'ADP'), ('health', 'NOUN'), (',', '.'), (\"''\", '.'), ('she', 'PRON'), ('says', 'VERB'), ('*T*-1', 'X'), ('.', '.'), ('First', 'NOUN'), ('Securities', 'NOUN'), ('Group', 'NOUN'), ('of', 'ADP'), ('California', 'NOUN'), ('and', 'CONJ'), ('a', 'DET'), ('principal', 'NOUN'), ('of', 'ADP'), ('the', 'DET'), ('firm', 'NOUN'), (',', '.'), ('Louis', 'NOUN'), ('Fernando', 'NOUN'), ('Vargas', 'NOUN'), ('of', 'ADP'), ('Marina', 'DET'), ('del', 'NOUN'), ('Rey', 'NOUN'), (',', '.'), ('Calif.', 'NOUN'), (',', '.'), ('were', 'VERB'), ('jointly', 'ADV'), ('fined', 'VERB'), ('*-1', 'X'), ('$', '.'), ('15,000', 'NUM'), ('*U*', 'X'), ('and', 'CONJ'), ('expelled', 'VERB'), ('*-1', 'X'), ('for', 'ADP'), ('alleged', 'ADJ'), ('violations', 'NOUN'), ('of', 'ADP'), ('reporting', 'NOUN'), ('requirements', 'NOUN'), ('on', 'ADP'), ('securities', 'NOUN'), ('sales', 'NOUN'), ('.', '.'), ('``', '.'), ('It', 'PRON'), (\"'s\", 'VERB'), ('the', 'DET'), ('classic', 'ADJ'), ('problem', 'NOUN'), ('of', 'ADP'), ('the', 'DET'), ('small', 'ADJ'), ('businessman', 'NOUN'), (',', '.'), (\"''\", '.'), ('says', 'VERB'), ('*T*-1', 'X'), ('Malcolm', 'NOUN'), ('Davies', 'NOUN'), (',', '.'), ('managing', 'VERB'), ('director', 'NOUN'), ('of', 'ADP'), ('Trading', 'NOUN'), ('Alliance', 'NOUN'), ('Corp.', 'NOUN'), ('of', 'ADP'), ('New', 'NOUN'), ('York', 'NOUN'), ('.', '.'), ('Equitable', 'NOUN'), ('of', 'ADP'), ('Iowa', 'NOUN'), ('Cos.', 'NOUN'), (',', '.'), ('Des', 'NOUN'), ('Moines', 'NOUN'), (',', '.'), ('had', 'VERB'), ('been', 'VERB'), ('seeking', 'VERB'), ('a', 'DET'), ('buyer', 'NOUN'), ('for', 'ADP'), ('the', 'DET'), ('36-store', 'NOUN'), ('Younkers', 'NOUN'), ('chain', 'NOUN'), ('since', 'ADP'), ('June', 'NOUN'), (',', '.'), ('when', 'ADV'), ('it', 'PRON'), ('announced', 'VERB'), ('its', 'PRON'), ('intention', 'NOUN'), ('*', 'X'), ('to', 'PRT'), ('free', 'ADJ'), ('up', 'PRT'), ('capital', 'NOUN'), ('*', 'X'), ('to', 'PRT'), ('expand', 'VERB'), ('its', 'PRON'), ('insurance', 'NOUN'), ('business', 'NOUN'), ('*T*-1', 'X'), ('.', '.'), ('The', 'DET'), ('benchmark', 'NOUN'), ('30-year', 'ADJ'), ('bond', 'NOUN'), ('about', 'ADP'), ('1\\\\/4', 'NUM'), ('point', 'NOUN'), (',', '.'), ('or', 'CONJ'), ('$', '.'), ('2.50', 'NUM'), ('*U*', 'X'), ('for', 'ADP'), ('each', 'DET'), ('$', '.'), ('1,000', 'NUM'), ('*U*', 'X'), ('face', 'VERB'), ('amount', 'NOUN'), ('.', '.'), ('Besides', 'ADP'), (',', '.'), ('Eggers', 'NOUN'), ('says', 'VERB'), ('0', 'X'), ('*T*-1', 'X'), (',', '.'), ('grain', 'NOUN'), ('elevators', 'NOUN'), ('are', 'VERB'), ('worth', 'ADJ'), ('*', 'X'), ('preserving', 'VERB'), ('for', 'ADP'), ('aesthetic', 'DET'), ('reasons', 'NOUN'), ('--', '.'), ('one', 'NUM'), ('famed', 'NOUN'), ('architect', 'NOUN'), ('compared', 'VERB'), ('them', 'PRON'), ('to', 'PRT'), ('the', 'DET'), ('pyramids', 'NOUN'), ('of', 'ADP'), ('Egypt', 'NOUN'), ('.', '.'), ('In', 'ADP'), ('heavy', 'ADJ'), ('trading', 'NOUN'), ('on', 'ADP'), ('the', 'DET'), ('New', 'NOUN'), ('York', 'NOUN'), ('Stock', 'NOUN'), ('Exchange', 'NOUN'), (',', '.'), ('Campbell', 'NOUN'), (\"'s\", 'PRT'), ('shares', 'NOUN'), ('rose', 'VERB'), ('$', '.'), ('3.375', 'NUM'), ('*U*', 'X'), ('*', 'X'), ('to', 'PRT'), ('close', 'VERB'), ('at', 'ADP'), ('$', '.'), ('47.125', 'NUM'), ('*U*', 'X'), ('.', '.'), ('IBM', 'NOUN'), (\"'s\", 'PRT'), ('$', '.'), ('750', 'NUM'), ('million', 'NUM'), ('*U*', 'X'), ('debenture', 'NOUN'), ('offering', 'NOUN'), ('dominated', 'VERB'), ('activity', 'NOUN'), ('in', 'ADP'), ('the', 'DET'), ('corporate', 'ADJ'), ('debt', 'NOUN'), ('market', 'NOUN'), ('.', '.'), ('If', 'ADP'), ('not', 'ADV'), ('Chicago', 'NOUN'), (',', '.'), ('then', 'ADV'), ('in', 'ADP'), ('New', 'NOUN'), ('York', 'NOUN'), (';', '.'), ('if', 'ADP'), ('not', 'ADV'), ('the', 'DET'), ('U.S.', 'NOUN'), (',', '.'), ('then', 'ADV'), ('overseas', 'ADJ'), ('.', '.'), ('Performing', 'NOUN'), ('loans', 'NOUN'), ('.', '.'), ('In', 'ADP'), ('the', 'DET'), ('first', 'ADJ'), ('three', 'NUM'), ('months', 'NOUN'), ('of', 'ADP'), ('1990', 'NUM'), (',', '.'), ('the', 'DET'), ('Treasury', 'NOUN'), ('estimates', 'NOUN'), ('that', 'ADP'), ('it', 'PRON'), ('will', 'VERB'), ('have', 'VERB'), ('*-1', 'X'), ('to', 'PRT'), ('raise', 'VERB'), ('between', 'ADP'), ('$', '.'), ('45', 'NUM'), ('billion', 'NUM'), ('and', 'CONJ'), ('$', '.'), ('50', 'NUM'), ('billion', 'NUM'), ('*U*', 'X'), (',', '.'), ('*', 'X'), ('assuming', 'VERB'), ('that', 'ADP'), ('it', 'PRON'), ('decides', 'VERB'), ('*-2', 'X'), ('to', 'PRT'), ('aim', 'NOUN'), ('for', 'ADP'), ('a', 'DET'), ('$', '.'), ('10', 'NUM'), ('billion', 'NUM'), ('*U*', 'X'), ('cash', 'NOUN'), ('balance', 'NOUN'), ('at', 'ADP'), ('the', 'DET'), ('end', 'NOUN'), ('of', 'ADP'), ('March', 'NOUN'), ('.', '.'), ('United', 'NOUN'), ('Illuminating', 'NOUN'), ('is', 'VERB'), ('based', 'VERB'), ('*-13', 'X'), ('in', 'ADP'), ('New', 'NOUN'), ('Haven', 'NOUN'), (',', '.'), ('Conn.', 'NOUN'), (',', '.'), ('and', 'CONJ'), ('Northeast', 'NOUN'), ('is', 'VERB'), ('based', 'VERB'), ('*-14', 'X'), ('in', 'ADP'), ('Hartford', 'NOUN'), (',', '.'), ('Conn', 'NOUN'), ('.', '.'), ('But', 'CONJ'), ('some', 'DET'), ('European', 'ADJ'), ('funds', 'NOUN'), ('recently', 'ADV'), ('have', 'VERB'), ('skyrocketed', 'VERB'), (';', '.'), ('Spain', 'NOUN'), ('Fund', 'NOUN'), ('has', 'VERB'), ('surged', 'VERB'), ('to', 'PRT'), ('a', 'DET'), ('startling', 'ADJ'), ('120', 'NUM'), ('%', 'NOUN'), ('premium', 'NOUN'), ('.', '.'), ('``', '.'), ('*-1', 'X'), ('To', 'PRT'), ('get', 'VERB'), ('people', 'NOUN'), (\"'s\", 'PRT'), ('attention', 'NOUN'), ('these', 'DET'), ('days', 'NOUN'), (',', '.'), (\"''\", '.'), ('says', 'VERB'), ('*T*-2', 'X'), ('Douglas', 'NOUN'), ('Bailey', 'NOUN'), (',', '.'), ('a', 'DET'), ('political', 'ADJ'), ('consultant', 'NOUN'), (',', '.'), ('``', '.'), ('your', 'PRON'), ('TV', 'NOUN'), ('ad', 'NOUN'), ('needs', 'VERB'), ('*-1', 'X'), ('to', 'PRT'), ('be', 'VERB'), ('bold', 'ADJ'), ('and', 'CONJ'), ('entertaining', 'NOUN'), (',', '.'), ('and', 'CONJ'), (',', '.'), ('more', 'ADV'), ('often', 'ADV'), ('than', 'ADP'), ('not', 'ADV'), (',', '.'), ('that', 'DET'), ('means', 'NOUN'), ('confrontational', 'NOUN'), ('.', '.'), ('``', '.'), ('We', 'PRON'), (\"'re\", 'VERB'), ('offering', 'VERB'), ('this', 'DET'), ('plan', 'NOUN'), ('now', 'ADV'), ('because', 'ADP'), ('we', 'PRON'), ('feel', 'VERB'), ('0', 'X'), ('it', 'PRON'), (\"'s\", 'VERB'), ('the', 'DET'), ('right', 'NOUN'), ('time', 'NOUN'), ('.', '.'), (\"''\", '.'), ('The', 'DET'), ('newly', 'ADV'), ('fattened', 'VERB'), ('premiums', 'NOUN'), ('reflect', 'VERB'), ('the', 'DET'), ('increasingly', 'ADV'), ('global', 'ADJ'), ('marketing', 'NOUN'), ('of', 'ADP'), ('some', 'DET'), ('country', 'NOUN'), ('funds', 'NOUN'), (',', '.'), ('Mr.', 'NOUN'), ('Porter', 'NOUN'), ('suggests', 'VERB'), ('0', 'X'), ('*T*-1', 'X'), ('.', '.'), ('Both', 'DET'), ('sides', 'NOUN'), ('have', 'VERB'), ('agreed', 'VERB'), ('that', 'ADP'), ('the', 'DET'), ('talks', 'NOUN'), ('will', 'VERB'), ('be', 'VERB'), ('most', 'ADV'), ('successful', 'ADJ'), ('if', 'ADP'), ('negotiators', 'NOUN'), ('start', 'VERB'), ('by', 'ADP'), ('*', 'X'), ('focusing', 'VERB'), ('on', 'ADP'), ('the', 'DET'), ('areas', 'NOUN'), ('that', 'ADP'), ('*T*-186', 'DET'), ('can', 'VERB'), ('be', 'VERB'), ('most', 'ADV'), ('easily', 'ADV'), ('changed', 'VERB'), ('*-1', 'X'), ('.', '.'), ('A', 'DET'), ('federal', 'ADJ'), ('appeals', 'NOUN'), ('court', 'NOUN'), ('upheld', 'VERB'), ('a', 'DET'), ('lower', 'ADJ'), ('court', 'NOUN'), ('ruling', 'NOUN'), ('that', 'ADP'), ('the', 'DET'), ('U.S.', 'NOUN'), ('can', 'VERB'), ('bar', 'NOUN'), ('the', 'DET'), ('use', 'NOUN'), ('of', 'ADP'), ('federal', 'ADJ'), ('funds', 'NOUN'), ('for', 'ADP'), ('family-planning', 'ADJ'), ('programs', 'NOUN'), ('that', 'ADP'), ('*T*-1', 'X'), ('include', 'VERB'), ('abortion-related', 'X'), ('services', 'NOUN'), ('.', '.'), ('Big', 'NOUN'), ('Board', 'NOUN'), ('volume', 'NOUN'), ('amounted', 'VERB'), ('to', 'PRT'), ('154,240,000', 'NUM'), ('shares', 'NOUN'), (',', '.'), ('down', 'ADV'), ('from', 'ADP'), ('176.1', 'DET'), ('million', 'NUM'), ('Tuesday', 'NOUN'), ('.', '.'), ('When', 'ADV'), ('Bell', 'NOUN'), ('established', 'NOUN'), ('that', 'ADP'), ('the', 'DET'), ('Berliner', 'NOUN'), ('patent', 'NOUN'), ('caveat', 'NOUN'), ('was', 'VERB'), ('registered', 'VERB'), ('*-145', 'X'), ('10', 'NUM'), ('days', 'NOUN'), ('before', 'ADP'), ('Edison', 'NOUN'), (\"'s\", 'PRT'), ('application', 'NOUN'), ('*T*-1', 'X'), (',', '.'), ('Western', 'NOUN'), ('Union', 'NOUN'), ('dropped', 'VERB'), ('the', 'DET'), ('lawsuit', 'NOUN'), ('and', 'CONJ'), ('agreed', 'VERB'), ('*-2', 'X'), ('never', 'ADV'), ('to', 'PRT'), ('enter', 'VERB'), ('the', 'DET'), ('telephone', 'NOUN'), ('business', 'NOUN'), ('--', '.'), ('the', 'DET'), ('basis', 'NOUN'), ('for', 'ADP'), ('the', 'DET'), ('company', 'NOUN'), (\"'s\", 'PRT'), ('current', 'ADJ'), ('plight', 'NOUN'), ('.', '.'), ('This', 'DET'), ('is', 'VERB'), ('Japan', 'NOUN'), ('?', '.'), ('In', 'ADP'), ('addition', 'NOUN'), (',', '.'), ('the', 'DET'), ('company', 'NOUN'), ('has', 'VERB'), ('replaced', 'VERB'), ('its', 'PRON'), ('president', 'NOUN'), ('and', 'CONJ'), ('chief', 'NOUN'), ('executive', 'NOUN'), (',', '.'), ('*-1', 'X'), ('naming', 'VERB'), ('W.', 'NOUN'), ('James', 'NOUN'), ('Nichol', 'NOUN'), (',', '.'), ('head', 'NOUN'), ('of', 'ADP'), ('the', 'DET'), ('company', 'NOUN'), (\"'s\", 'PRT'), ('contract', 'NOUN'), ('health', 'NOUN'), ('services', 'NOUN'), (',', '.'), ('to', 'PRT'), ('succeed', 'VERB'), ('B.', 'NOUN'), ('Lee', 'NOUN'), ('Karns', 'NOUN'), ('.', '.'), ('Many', 'ADJ'), ('lost', 'VERB'), ('their', 'PRON'), ('farms', 'VERB'), ('.', '.'), ('The', 'DET'), ('antitrust', 'ADJ'), ('staffs', 'NOUN'), ('of', 'ADP'), ('both', 'DET'), ('the', 'DET'), ('FTC', 'NOUN'), ('and', 'CONJ'), ('Justice', 'NOUN'), ('Department', 'NOUN'), ('were', 'VERB'), ('cut', 'VERB'), ('*-87', 'X'), ('more', 'ADV'), ('than', 'ADP'), ('40', 'NUM'), ('%', 'NOUN'), ('in', 'ADP'), ('the', 'DET'), ('Reagan', 'NOUN'), ('administration', 'NOUN'), (',', '.'), ('and', 'CONJ'), ('enforcement', 'NOUN'), ('of', 'ADP'), ('major', 'ADJ'), ('merger', 'NOUN'), ('cases', 'NOUN'), ('fell', 'VERB'), ('off', 'PRT'), ('drastically', 'VERB'), ('during', 'ADP'), ('that', 'DET'), ('period', 'NOUN'), ('.', '.'), ('The', 'DET'), ('company', 'NOUN'), ('also', 'ADV'), ('disclosed', 'VERB'), ('that', 'ADP'), ('during', 'ADP'), ('that', 'DET'), ('period', 'NOUN'), ('it', 'PRON'), ('offered', 'VERB'), ('10,000', 'NUM'), ('yen', 'NOUN'), (',', '.'), ('or', 'CONJ'), ('about', 'ADP'), ('$', '.'), ('70', 'NUM'), ('*U*', 'X'), (',', '.'), ('for', 'ADP'), ('another', 'DET'), ('contract', 'NOUN'), ('.', '.'), ('*-1', 'X'), ('Assuming', 'VERB'), ('that', 'ADP'), ('post', 'NOUN'), ('at', 'ADP'), ('the', 'DET'), ('age', 'NOUN'), ('of', 'ADP'), ('35', 'NUM'), (',', '.'), ('he', 'PRON'), ('managed', 'VERB'), ('by', 'ADP'), ('consensus', 'NOUN'), (',', '.'), ('as', 'ADP'), ('*', 'X'), ('is', 'VERB'), ('the', 'DET'), ('rule', 'NOUN'), ('in', 'ADP'), ('universities', 'DET'), (',', '.'), ('says', 'VERB'), ('0', 'X'), ('*T*-3', 'X'), ('Warren', 'NOUN'), ('H.', 'NOUN'), ('Strother', 'NOUN'), (',', '.'), ('a', 'DET'), ('university', 'NOUN'), ('official', 'NOUN'), ('who', 'PRON'), ('*T*-2', 'X'), ('is', 'VERB'), ('researching', 'X'), ('a', 'DET'), ('book', 'NOUN'), ('on', 'ADP'), ('Mr.', 'NOUN'), ('Hahn', 'NOUN'), ('.', '.'), ('He', 'PRON'), ('said', 'VERB'), ('0', 'X'), ('the', 'DET'), ('exchange', 'NOUN'), ('is', 'VERB'), ('``', '.'), ('headed', 'NOUN'), ('for', 'ADP'), ('a', 'DET'), ('real', 'ADJ'), ('crisis', 'NOUN'), (\"''\", '.'), ('if', 'ADP'), ('program', 'NOUN'), ('trading', 'NOUN'), ('is', 'VERB'), (\"n't\", 'ADV'), ('curbed', 'VERB'), ('*-1', 'X'), ('.', '.'), ('He', 'PRON'), ('is', 'VERB'), ('just', 'ADV'), ('passing', 'VERB'), ('the', 'DET'), ('buck', 'NOUN'), ('to', 'PRT'), ('young', 'ADJ'), ('people', 'NOUN'), ('.', '.'), ('The', 'DET'), ('U.S.', 'NOUN'), ('and', 'CONJ'), ('Soviet', 'ADJ'), ('Union', 'NOUN'), ('are', 'VERB'), ('holding', 'VERB'), ('technical', 'ADJ'), ('talks', 'NOUN'), ('about', 'ADP'), ('possible', 'ADJ'), ('repayment', 'NOUN'), ('by', 'ADP'), ('Moscow', 'NOUN'), ('of', 'ADP'), ('$', '.'), ('188', 'NUM'), ('million', 'NUM'), ('*U*', 'X'), ('in', 'ADP'), ('pre-Communist', 'DET'), ('Russian', 'NOUN'), ('debts', 'NOUN'), ('owed', 'VERB'), ('*', 'X'), ('to', 'PRT'), ('the', 'DET'), ('U.S.', 'NOUN'), ('government', 'NOUN'), (',', '.'), ('the', 'DET'), ('State', 'NOUN'), ('Department', 'NOUN'), ('said', 'VERB'), ('0', 'X'), ('*T*-2', 'X'), ('.', '.'), ('For', 'ADP'), ('the', 'DET'), ('first', 'ADJ'), ('time', 'NOUN'), (',', '.'), ('the', 'DET'), ('October', 'NOUN'), ('survey', 'NOUN'), ('polled', 'VERB'), ('members', 'NOUN'), ('on', 'ADP'), ('imports', 'NOUN'), ('.', '.'), ('Ten', 'NOUN'), ('shirt-sleeved', 'NOUN'), ('ringers', 'NOUN'), ('stand', 'VERB'), ('in', 'ADP'), ('a', 'DET'), ('circle', 'NOUN'), (',', '.'), ('one', 'NUM'), ('foot', 'NOUN'), ('ahead', 'ADV'), ('of', 'ADP'), ('the', 'DET'), ('other', 'ADJ'), ('in', 'ADP'), ('a', 'DET'), ('prize-fighter', 'NOUN'), (\"'s\", 'PRT'), ('stance', 'NOUN'), (',', '.'), ('each', 'DET'), ('pulling', 'NOUN'), ('a', 'DET'), ('rope', 'NOUN'), ('that', 'ADP'), ('*T*-225', 'DET'), ('disappears', 'NOUN'), ('through', 'ADP'), ('a', 'DET'), ('small', 'ADJ'), ('hole', 'NOUN'), ('in', 'ADP'), ('the', 'DET'), ('high', 'ADJ'), ('ceiling', 'NOUN'), ('of', 'ADP'), ('the', 'DET'), ('ringing', 'NOUN'), ('chamber', 'NOUN'), ('.', '.'), ('Carnival', 'NOUN'), ('said', 'VERB'), ('0', 'X'), ('it', 'PRON'), ('will', 'VERB'), ('be', 'VERB'), ('an', 'DET'), ('11', 'NUM'), ('%', 'NOUN'), ('shareholder', 'NOUN'), ('in', 'ADP'), ('the', 'DET'), ('new', 'ADJ'), ('company', 'NOUN'), ('.', '.'), ('Excluding', 'VERB'), ('these', 'DET'), ('orders', 'NOUN'), (',', '.'), ('backlogs', 'NOUN'), ('declined', 'VERB'), ('0.3', 'NUM'), ('%', 'NOUN'), ('.', '.'), ('They', 'PRON'), ('also', 'ADV'), ('have', 'VERB'), ('become', 'VERB'), ('large', 'ADJ'), ('purchasers', 'NOUN'), ('of', 'ADP'), ('Fannie', 'NOUN'), ('Mae', 'NOUN'), (\"'s\", 'PRT'), ('corporate', 'ADJ'), ('debt', 'NOUN'), (',', '.'), ('*-2', 'X'), ('buying', 'VERB'), ('$', '.'), ('2.4', 'NUM'), ('billion', 'NUM'), ('*U*', 'X'), ('in', 'ADP'), ('Fannie', 'NOUN'), ('Mae', 'NOUN'), ('bonds', 'NOUN'), ('during', 'ADP'), ('the', 'DET'), ('first', 'ADJ'), ('nine', 'NUM'), ('months', 'NOUN'), ('of', 'ADP'), ('the', 'DET'), ('year', 'NOUN'), (',', '.'), ('or', 'CONJ'), ('almost', 'ADV'), ('a', 'DET'), ('tenth', 'NOUN'), ('of', 'ADP'), ('the', 'DET'), ('total', 'ADJ'), ('amount', 'NOUN'), ('issued', 'VERB'), ('*', 'X'), ('.', '.'), ('Sales', 'NOUN'), ('fell', 'VERB'), ('20', 'NUM'), ('%', 'NOUN'), ('to', 'PRT'), ('#', '.'), ('722', 'NOUN'), ('million', 'NUM'), ('*U*', 'X'), ('.', '.'), ('Travelers', 'NOUN'), ('estimated', 'VERB'), ('that', 'ADP'), ('the', 'DET'), ('California', 'NOUN'), ('earthquake', 'NOUN'), ('last', 'ADJ'), ('month', 'NOUN'), ('will', 'VERB'), ('result', 'VERB'), ('in', 'ADP'), ('a', 'DET'), ('fourth-quarter', 'NOUN'), ('pre-tax', 'NOUN'), ('charge', 'NOUN'), ('of', 'ADP'), ('less', 'ADJ'), ('than', 'ADP'), ('$', '.'), ('10', 'NUM'), ('million', 'NUM'), ('*U*', 'X'), ('.', '.'), ('The', 'DET'), ('two', 'NUM'), ('concerns', 'NOUN'), ('said', 'VERB'), ('0', 'X'), ('they', 'PRON'), ('entered', 'VERB'), ('into', 'ADP'), ('a', 'DET'), ('definitive', 'NOUN'), ('merger', 'NOUN'), ('agreement', 'NOUN'), ('under', 'ADP'), ('which', 'DET'), ('Ratners', 'NOUN'), ('will', 'VERB'), ('begin', 'VERB'), ('a', 'DET'), ('tender', 'NOUN'), ('offer', 'NOUN'), ('for', 'ADP'), ('all', 'DET'), ('of', 'ADP'), ('Weisfield', 'NOUN'), (\"'s\", 'PRT'), ('common', 'ADJ'), ('shares', 'NOUN'), ('for', 'ADP'), ('$', '.'), ('57.50', 'NUM'), ('*U*', 'X'), ('each', 'DET'), ('*T*-1', 'X'), ('.', '.'), ('We', 'PRON'), ('also', 'ADV'), ('know', 'VERB'), ('that', 'ADP'), ('the', 'DET'), ('tort', 'NOUN'), ('system', 'NOUN'), ('is', 'VERB'), ('a', 'DET'), ('lousy', 'NOUN'), ('way', 'NOUN'), ('0', 'X'), ('*', 'X'), ('to', 'PRT'), ('compensate', 'VERB'), ('victims', 'NOUN'), ('*T*-1', 'X'), ('anyway', 'VERB'), (';', '.'), ('some', 'DET'), ('win', 'VERB'), ('the', 'DET'), ('legal', 'ADJ'), ('lottery', 'NOUN'), (',', '.'), ('others', 'NOUN'), ('get', 'VERB'), ('much', 'ADV'), ('less', 'ADJ'), ('and', 'CONJ'), ('contingency-fee', 'NOUN'), ('lawyers', 'NOUN'), ('take', 'VERB'), ('a', 'DET'), ('big', 'ADJ'), ('cut', 'NOUN'), ('either', 'CONJ'), ('way', 'NOUN'), ('.', '.'), ('Meanwhile', 'ADV'), (',', '.'), ('the', 'DET'), ('bad', 'ADJ'), ('bank', 'NOUN'), ('with', 'ADP'), ('the', 'DET'), ('junk', 'NOUN'), ('bonds', 'NOUN'), ('--', '.'), ('and', 'CONJ'), ('some', 'DET'), ('capital', 'NOUN'), ('--', '.'), ('might', 'VERB'), ('be', 'VERB'), ('spun', 'X'), ('off', 'PRT'), ('*-1', 'X'), ('to', 'PRT'), ('Columbia', 'NOUN'), ('shareholders', 'NOUN'), (',', '.'), ('including', 'VERB'), ('Mr.', 'NOUN'), ('Spiegel', 'NOUN'), (',', '.'), ('who', 'PRON'), ('*T*-2', 'X'), ('might', 'VERB'), ('then', 'ADV'), ('have', 'VERB'), ('a', 'DET'), ('new', 'ADJ'), ('career', 'NOUN'), (',', '.'), ('investors', 'NOUN'), ('say', 'VERB'), ('0', 'X'), ('*T*-3', 'X'), ('.', '.'), ('Sales', 'NOUN'), ('rose', 'VERB'), ('4', 'NUM'), ('%', 'NOUN'), ('to', 'PRT'), ('$', '.'), ('3.28', 'NOUN'), ('billion', 'NUM'), ('*U*', 'X'), ('from', 'ADP'), ('$', '.'), ('3.16', 'NOUN'), ('billion', 'NUM'), ('*U*', 'X'), ('.', '.'), ('Its', 'PRON'), ('budget', 'NOUN'), ('$', '.'), ('184', 'NOUN'), ('million', 'NUM'), ('*U*', 'X'), ('--', '.'), ('is', 'VERB'), ('paid', 'VERB'), ('for', 'ADP'), ('*-30', 'DET'), ('by', 'ADP'), ('you', 'PRON'), ('.', '.'), ('That', 'DET'), ('response', 'NOUN'), ('annoyed', 'NOUN'), ('Rep.', 'NOUN'), ('Markey', 'NOUN'), (',', '.'), ('House', 'NOUN'), ('aides', 'NOUN'), ('said', 'VERB'), ('0', 'X'), ('*T*-1', 'X'), (',', '.'), ('and', 'CONJ'), ('the', 'DET'), ('congressman', 'NOUN'), ('snapped', 'VERB'), ('back', 'ADV'), ('that', 'ADP'), ('there', 'DET'), ('had', 'VERB'), ('been', 'VERB'), ('enough', 'ADV'), ('studies', 'NOUN'), ('of', 'ADP'), ('the', 'DET'), ('issue', 'NOUN'), ('and', 'CONJ'), ('that', 'DET'), ('it', 'PRON'), ('was', 'VERB'), ('time', 'NOUN'), ('for', 'ADP'), ('action', 'NOUN'), ('on', 'ADP'), ('the', 'DET'), ('matter', 'NOUN'), ('.', '.'), ('Robert', 'NOUN'), ('P.', 'NOUN'), ('Tassinari', 'NOUN'), (',', '.'), ('63', 'NUM'), (',', '.'), ('was', 'VERB'), ('named', 'VERB'), ('*-29', 'X'), ('senior', 'ADJ'), ('vice', 'NOUN'), ('president', 'NOUN'), ('of', 'ADP'), ('Eastern', 'NOUN'), ('Utilities', 'NOUN'), ('.', '.'), ('About', 'ADP'), ('20,000', 'NUM'), ('sets', 'NOUN'), ('of', 'ADP'), ('Learning', 'NOUN'), ('Materials', 'NOUN'), ('teachers', 'NOUN'), (\"'\", 'PRT'), ('binders', 'VERB'), ('have', 'VERB'), ('also', 'ADV'), ('been', 'VERB'), ('sold', 'VERB'), ('*-1', 'X'), ('in', 'ADP'), ('the', 'DET'), ('past', 'ADJ'), ('four', 'NUM'), ('years', 'NOUN'), ('.', '.'), ('A', 'DET'), ('full', 'ADJ'), (',', '.'), ('four-color', 'NOUN'), ('page', 'NOUN'), ('in', 'ADP'), ('Newsweek', 'NOUN'), ('will', 'VERB'), ('cost', 'NOUN'), ('$', '.'), ('100,980', 'NOUN'), ('*U*', 'X'), ('.', '.'), ('In', 'ADP'), ('London', 'NOUN'), ('at', 'ADP'), ('mid-afternoon', 'DET'), ('yesterday', 'NOUN'), (',', '.'), ('Ratners', 'NOUN'), (\"'s\", 'PRT'), ('shares', 'NOUN'), ('were', 'VERB'), ('up', 'ADV'), ('2', 'NUM'), ('pence', 'NOUN'), ('-LRB-', '.'), ('1.26', 'NUM'), ('cents', 'NOUN'), ('-RRB-', '.'), (',', '.'), ('at', 'ADP'), ('260', 'DET'), ('pence', 'NOUN'), ('-LRB-', '.'), ('$', '.'), ('1.64', 'NUM'), ('*U*', 'X'), ('-RRB-', '.'), ('.', '.'), ('In', 'ADP'), ('the', 'DET'), ('last', 'ADJ'), ('year', 'NOUN'), ('or', 'CONJ'), ('so', 'ADV'), (',', '.'), ('however', 'ADV'), (',', '.'), ('this', 'DET'), ('exclusive', 'ADJ'), ('club', 'NOUN'), ('has', 'VERB'), ('taken', 'VERB'), ('in', 'ADP'), ('a', 'DET'), ('host', 'NOUN'), ('of', 'ADP'), ('flashy', 'DET'), ('new', 'ADJ'), ('members', 'NOUN'), ('.', '.'), ('But', 'CONJ'), ('I', 'PRON'), ('--', '.'), ('I', 'PRON'), ('like', 'VERB'), ('*-1', 'X'), ('to', 'PRT'), ('think', 'VERB'), ('of', 'ADP'), ('it', 'PRON'), ('in', 'ADP'), ('terms', 'NOUN'), ('of', 'ADP'), ('we', 'PRON'), (',', '.'), ('all', 'DET'), ('of', 'ADP'), ('us', 'PRON'), ('--', '.'), ('won', 'VERB'), ('the', 'DET'), ('point', 'NOUN'), ('.', '.'), ('More', 'ADV'), ('than', 'ADP'), ('a', 'DET'), ('half', 'NOUN'), ('of', 'ADP'), ('all', 'DET'), ('sugar', 'NOUN'), ('produced', 'VERB'), ('*', 'X'), ('in', 'ADP'), ('Brazil', 'NOUN'), ('goes', 'VERB'), ('for', 'ADP'), ('alcohol', 'NOUN'), ('production', 'NOUN'), (',', '.'), ('according', 'VERB'), ('to', 'PRT'), ('Ms.', 'NOUN'), ('Ganes', 'NOUN'), ('.', '.'), ('In', 'ADP'), ('American', 'ADJ'), ('Stock', 'NOUN'), ('Exchange', 'NOUN'), ('composite', 'ADJ'), ('trading', 'NOUN'), (',', '.'), ('Citadel', 'NOUN'), ('shares', 'NOUN'), ('closed', 'VERB'), ('yesterday', 'NOUN'), ('at', 'ADP'), ('$', '.'), ('45.75', 'NOUN'), ('*U*', 'X'), (',', '.'), ('down', 'ADV'), ('25', 'NUM'), ('cents', 'NOUN'), ('.', '.'), ('After', 'ADP'), ('years', 'NOUN'), ('of', 'ADP'), ('decline', 'NOUN'), (',', '.'), ('weddings', 'NOUN'), ('in', 'ADP'), ('France', 'NOUN'), ('showed', 'VERB'), ('a', 'DET'), ('2.2', 'NUM'), ('%', 'NOUN'), ('upturn', 'NOUN'), ('last', 'ADJ'), ('year', 'NOUN'), (',', '.'), ('with', 'ADP'), ('6,000', 'NUM'), ('more', 'ADJ'), ('couples', 'NOUN'), ('*ICH*-1', 'X'), ('exchanging', 'VERB'), ('rings', 'VERB'), ('in', 'ADP'), ('1988', 'NUM'), ('than', 'ADP'), ('in', 'ADP'), ('the', 'DET'), ('previous', 'ADJ'), ('year', 'NOUN'), (',', '.'), ('the', 'DET'), ('national', 'ADJ'), ('statistics', 'NOUN'), ('office', 'NOUN'), ('said', 'VERB'), ('0', 'X'), ('*T*-2', 'X'), ('.', '.'), ('American', 'NOUN'), ('Express', 'NOUN'), ('also', 'ADV'), ('represents', 'VERB'), ('the', 'DET'), ('upscale', 'ADJ'), ('image', 'NOUN'), ('0', 'X'), ('``', '.'), ('we', 'PRON'), (\"'re\", 'VERB'), ('trying', 'VERB'), ('*-2', 'X'), ('to', 'PRT'), ('project', 'NOUN'), ('*T*-1', 'X'), (',', '.'), (\"''\", '.'), ('she', 'PRON'), ('adds', 'VERB'), ('*T*-3', 'X'), ('.', '.'), ('The', 'DET'), ('report', 'NOUN'), ('from', 'ADP'), ('the', 'DET'), ('Fed', 'NOUN'), ('found', 'VERB'), ('that', 'ADP'), ('manufacturing', 'NOUN'), (',', '.'), ('in', 'ADP'), ('particular', 'ADJ'), (',', '.'), ('has', 'VERB'), ('been', 'VERB'), ('weak', 'ADJ'), ('in', 'ADP'), ('recent', 'ADJ'), ('weeks', 'NOUN'), ('.', '.'), ('According', 'VERB'), ('to', 'PRT'), ('an', 'DET'), ('American', 'ADJ'), ('member', 'NOUN'), ('of', 'ADP'), ('the', 'DET'), ('Nixon', 'NOUN'), ('party', 'NOUN'), (',', '.'), ('the', 'DET'), ('former', 'ADJ'), ('president', 'NOUN'), ('raised', 'VERB'), ('a', 'DET'), ('number', 'NOUN'), ('of', 'ADP'), ('controversial', 'ADJ'), ('issues', 'NOUN'), ('in', 'ADP'), ('his', 'PRON'), ('20', 'NUM'), ('hours', 'NOUN'), ('of', 'ADP'), ('talks', 'NOUN'), ('with', 'ADP'), ('top-level', 'DET'), ('Chinese', 'ADJ'), ('officials', 'NOUN'), ('.', '.'), ('His', 'PRON'), ('duties', 'NOUN'), ('as', 'ADP'), ('chief', 'NOUN'), ('executive', 'NOUN'), ('will', 'VERB'), ('be', 'VERB'), ('assumed', 'VERB'), ('*-121', 'X'), ('by', 'ADP'), ('Chairman', 'NOUN'), ('Jay', 'NOUN'), ('B.', 'NOUN'), ('Langner', 'NOUN'), ('.', '.'), ('Meanwhile', 'ADV'), (',', '.'), ('stations', 'NOUN'), ('are', 'VERB'), ('fuming', 'X'), ('because', 'ADP'), (',', '.'), ('many', 'ADJ'), ('of', 'ADP'), ('them', 'PRON'), ('say', 'VERB'), ('0', 'X'), ('*T*-1', 'X'), (',', '.'), ('the', 'DET'), ('show', 'NOUN'), (\"'s\", 'PRT'), ('distributor', 'NOUN'), (',', '.'), ('Viacom', 'NOUN'), ('Inc.', 'NOUN'), (',', '.'), ('is', 'VERB'), ('giving', 'VERB'), ('an', 'DET'), ('ultimatum', 'NOUN'), (':', '.'), ('*', 'X'), ('Either', 'VERB'), ('sign', 'NOUN'), ('new', 'ADJ'), ('long-term', 'ADJ'), ('commitments', 'NOUN'), ('*', 'X'), ('to', 'PRT'), ('buy', 'VERB'), ('future', 'ADJ'), ('episodes', 'NOUN'), ('or', 'CONJ'), ('risk', 'NOUN'), ('*-2', 'X'), ('losing', 'VERB'), ('``', '.'), ('Cosby', 'NOUN'), (\"''\", '.'), ('to', 'PRT'), ('a', 'DET'), ('competitor', 'NOUN'), ('.', '.'), ('A', 'DET'), ('second', 'ADJ'), ('citation', 'NOUN'), ('covering', 'VERB'), ('the', 'DET'), ('company', 'NOUN'), (\"'s\", 'PRT'), ('Clairton', 'NOUN'), (',', '.'), ('Pa.', 'NOUN'), (',', '.'), ('coke', 'NOUN'), ('works', 'NOUN'), ('involved', 'VERB'), ('more', 'ADV'), ('than', 'ADP'), ('200', 'NUM'), ('alleged', 'ADJ'), ('violations', 'NOUN'), ('of', 'ADP'), ('electrical-safety', 'DET'), ('and', 'CONJ'), ('other', 'ADJ'), ('requirements', 'NOUN'), (',', '.'), ('for', 'ADP'), ('which', 'DET'), ('OSHA', 'NOUN'), ('proposed', 'VERB'), ('$', '.'), ('1.2', 'NUM'), ('million', 'NUM'), ('*U*', 'X'), ('in', 'ADP'), ('fines', 'NOUN'), ('*T*-1', 'X'), ('.', '.'), ('But', 'CONJ'), ('as', 'ADP'), ('the', 'DET'), ('craze', 'NOUN'), ('died', 'VERB'), (',', '.'), ('Coleco', 'NOUN'), ('failed', 'VERB'), ('*-1', 'X'), ('to', 'PRT'), ('come', 'VERB'), ('up', 'ADV'), ('with', 'ADP'), ('another', 'DET'), ('winner', 'NOUN'), ('and', 'CONJ'), ('filed', 'VERB'), ('for', 'ADP'), ('bankruptcy-law', 'DET'), ('protection', 'NOUN'), ('in', 'ADP'), ('July', 'NOUN'), ('1988', 'NUM'), ('.', '.'), ('The', 'DET'), ('Treasury', 'NOUN'), ('said', 'VERB'), ('0', 'X'), ('it', 'PRON'), ('needs', 'VERB'), ('*-1', 'X'), ('to', 'PRT'), ('raise', 'VERB'), ('$', '.'), ('47.5', 'NOUN'), ('billion', 'NUM'), ('*U*', 'X'), ('in', 'ADP'), ('the', 'DET'), ('current', 'ADJ'), ('quarter', 'NOUN'), ('in', 'ADP'), ('order', 'NOUN'), ('*-1', 'X'), ('to', 'PRT'), ('end', 'VERB'), ('December', 'NOUN'), ('with', 'ADP'), ('a', 'DET'), ('$', '.'), ('20', 'NUM'), ('billion', 'NUM'), ('*U*', 'X'), ('cash', 'NOUN'), ('balance', 'NOUN'), ('.', '.'), ('It', 'PRON'), ('*EXP*-1', 'X'), ('is', 'VERB'), ('easy', 'ADJ'), ('*', 'X'), ('to', 'PRT'), ('see', 'VERB'), ('why', 'ADV'), ('the', 'DET'), ('ancient', 'ADJ'), ('art', 'NOUN'), ('is', 'VERB'), ('on', 'ADP'), ('the', 'DET'), ('ropes', 'NOUN'), ('*T*-2', 'X'), ('.', '.'), ('Grain', 'NOUN'), ('elevators', 'NOUN'), ('built', 'VERB'), ('*', 'X'), ('in', 'ADP'), ('the', 'DET'), ('1920s', 'NOUN'), ('and', 'CONJ'), (\"'30s\", 'NOUN'), ('have', 'VERB'), ('six-inch', 'ADJ'), ('concrete', 'ADJ'), ('walls', 'NOUN'), ('and', 'CONJ'), ('a', 'DET'), ('tubular', 'ADJ'), ('shape', 'NOUN'), ('that', 'ADP'), ('*T*-1', 'X'), ('would', 'VERB'), ('easily', 'ADV'), ('contain', 'VERB'), ('semicircular', 'X'), ('cells', 'VERB'), ('with', 'ADP'), ('a', 'DET'), ('control', 'NOUN'), ('point', 'NOUN'), ('in', 'ADP'), ('the', 'DET'), ('middle', 'ADJ'), (',', '.'), ('the', 'DET'), ('New', 'NOUN'), ('York', 'NOUN'), ('firm', 'NOUN'), ('says', 'VERB'), ('0', 'X'), ('*T*-2', 'X'), ('.', '.'), ('Says', 'VERB'), ('*ICH*-1', 'X'), ('Kathryn', 'VERB'), ('McAuley', 'X'), (',', '.'), ('an', 'DET'), ('analyst', 'NOUN'), ('at', 'ADP'), ('First', 'NOUN'), ('Manhattan', 'NOUN'), ('Co.', 'NOUN'), (':', '.'), ('``', '.'), ('This', 'DET'), ('is', 'VERB'), ('the', 'DET'), ('greatest', 'ADJ'), ('acquisition', 'NOUN'), ('challenge', 'NOUN'), ('0', 'X'), ('he', 'PRON'), ('has', 'VERB'), ('faced', 'VERB'), ('*T*-2', 'X'), ('.', '.'), ('Sales', 'NOUN'), ('of', 'ADP'), ('passenger', 'NOUN'), ('cars', 'NOUN'), ('grew', 'VERB'), ('22', 'NUM'), ('%', 'NOUN'), ('from', 'ADP'), ('a', 'DET'), ('year', 'NOUN'), ('earlier', 'ADV'), ('to', 'PRT'), ('361,376', 'VERB'), ('units', 'NOUN'), ('.', '.'), ('The', 'DET'), ('tire', 'NOUN'), ('maker', 'NOUN'), ('said', 'VERB'), ('0', 'X'), ('the', 'DET'), ('buildings', 'NOUN'), ('consist', 'VERB'), ('of', 'ADP'), ('1.8', 'NUM'), ('million', 'NUM'), ('square', 'ADJ'), ('feet', 'NOUN'), ('of', 'ADP'), ('office', 'NOUN'), (',', '.'), ('manufacturing', 'NOUN'), ('and', 'CONJ'), ('warehousing', 'NOUN'), ('space', 'NOUN'), ('on', 'ADP'), ('353', 'DET'), ('acres', 'NOUN'), ('of', 'ADP'), ('land', 'NOUN'), ('.', '.'), ('``', '.'), ('We', 'PRON'), ('are', 'VERB'), ('prepared', 'VERB'), ('*-1', 'X'), ('to', 'PRT'), ('pursue', 'VERB'), ('aggressively', 'ADV'), ('completion', 'NOUN'), ('of', 'ADP'), ('this', 'DET'), ('transaction', 'NOUN'), (',', '.'), (\"''\", '.'), ('he', 'PRON'), ('says', 'VERB'), ('*T*-2', 'X'), ('.', '.'), ('William', 'NOUN'), ('G.', 'NOUN'), ('Kuhns', 'NOUN'), (',', '.'), ('former', 'ADJ'), ('chairman', 'NOUN'), ('*RNR*-1', 'X'), ('and', 'CONJ'), ('chief', 'NOUN'), ('executive', 'NOUN'), ('officer', 'NOUN'), ('*RNR*-1', 'X'), ('of', 'ADP'), ('General', 'NOUN'), ('Public', 'NOUN'), ('Utilities', 'NOUN'), ('Corp.', 'NOUN'), (',', '.'), ('was', 'VERB'), ('elected', 'VERB'), ('*-2', 'X'), ('a', 'DET'), ('director', 'NOUN'), ('of', 'ADP'), ('this', 'DET'), ('maker', 'NOUN'), ('of', 'ADP'), ('industrial', 'ADJ'), ('and', 'CONJ'), ('construction', 'NOUN'), ('equipment', 'NOUN'), (',', '.'), ('*', 'X'), ('increasing', 'VERB'), ('board', 'NOUN'), ('membership', 'NOUN'), ('to', 'PRT'), ('10', 'NUM'), ('.', '.'), ('They', 'PRON'), ('say', 'VERB'), ('0', 'X'), ('greedy', 'VERB'), ('market', 'NOUN'), ('manipulators', 'NOUN'), ('have', 'VERB'), ('made', 'VERB'), ('a', 'DET'), ('shambles', 'NOUN'), ('of', 'ADP'), ('the', 'DET'), ('nation', 'NOUN'), (\"'s\", 'PRT'), ('free-enterprise', 'VERB'), ('system', 'NOUN'), (',', '.'), ('*-1', 'X'), ('turning', 'VERB'), ('the', 'DET'), ('stock', 'NOUN'), ('market', 'NOUN'), ('into', 'ADP'), ('a', 'DET'), ('big', 'ADJ'), ('gambling', 'NOUN'), ('den', 'NOUN'), (',', '.'), ('with', 'ADP'), ('the', 'DET'), ('odds', 'NOUN'), ('heavily', 'ADV'), ('stacked', 'VERB'), ('*-2', 'X'), ('against', 'ADP'), ('the', 'DET'), ('small', 'ADJ'), ('investor', 'NOUN'), ('.', '.'), ('It', 'PRON'), (\"'s\", 'VERB'), ('not', 'ADV'), ('a', 'DET'), ('sound', 'NOUN'), ('thing', 'NOUN'), (';', '.'), ('there', 'DET'), (\"'s\", 'VERB'), ('no', 'DET'), ('inherent', 'ADJ'), ('virtue', 'NOUN'), ('in', 'ADP'), ('it', 'PRON'), ('.', '.'), (\"''\", '.'), ('As', 'ADP'), ('liability', 'NOUN'), ('expert', 'NOUN'), ('Peter', 'NOUN'), ('Huber', 'NOUN'), ('tells', 'VERB'), ('us', 'PRON'), (',', '.'), ('after', 'ADP'), ('the', 'DET'), ('Hymowitz', 'NOUN'), ('case', 'NOUN'), (',', '.'), ('if', 'ADP'), ('any', 'DET'), ('drug', 'NOUN'), ('maker', 'NOUN'), ('introduces', 'NOUN'), ('an', 'DET'), ('anti-miscarriage', 'NOUN'), ('drug', 'NOUN'), ('``', '.'), ('it', 'PRON'), (\"'s\", 'VERB'), ('time', 'NOUN'), ('0', 'X'), ('*', 'X'), ('to', 'PRT'), ('sell', 'VERB'), ('that', 'ADP'), ('company', 'NOUN'), (\"'s\", 'PRT'), ('stock', 'NOUN'), ('short', 'ADJ'), ('*T*-1', 'X'), ('.', '.'), (\"''\", '.'), ('The', 'DET'), ('combined', 'ADJ'), ('processes', 'NOUN'), ('may', 'VERB'), ('significantly', 'ADV'), ('raise', 'VERB'), ('the', 'DET'), ('current-carrying', 'ADJ'), ('capacity', 'NOUN'), ('of', 'ADP'), ('multi-crystal', 'ADJ'), ('samples', 'NOUN'), ('.', '.'), ('Thomas', 'NOUN'), ('Oxnard', 'NOUN'), (',', '.'), ('sugar', 'NOUN'), ('analyst', 'NOUN'), ('for', 'ADP'), ('PaineWebber', 'NOUN'), ('in', 'ADP'), ('Hackensack', 'DET'), (',', '.'), ('N.J.', 'NOUN'), (',', '.'), ('said', 'VERB'), (':', '.'), ('``', '.'), ('I', 'PRON'), ('am', 'VERB'), ('highly', 'ADV'), ('skeptical', 'ADJ'), ('that', 'ADP'), ('Brazil', 'NOUN'), ('will', 'VERB'), ('curtail', 'VERB'), ('sugar', 'NOUN'), ('exports', 'NOUN'), (',', '.'), ('particularly', 'ADV'), ('with', 'ADP'), ('the', 'DET'), ('price', 'NOUN'), ('of', 'ADP'), ('sugar', 'NOUN'), ('at', 'ADP'), ('over', 'ADP'), ('14', 'NUM'), ('cents', 'NOUN'), ('a', 'DET'), ('pound', 'NOUN'), ('.', '.'), (\"''\", '.'), ('Norman', 'NOUN'), ('Ricken', 'NOUN'), (',', '.'), ('52', 'NUM'), ('years', 'NOUN'), ('old', 'ADJ'), ('and', 'CONJ'), ('former', 'ADJ'), ('president', 'NOUN'), ('and', 'CONJ'), ('chief', 'NOUN'), ('operating', 'NOUN'), ('officer', 'NOUN'), ('of', 'ADP'), ('Toys', 'DET'), ('``', '.'), ('R', 'NOUN'), (\"''\", '.'), ('Us', 'NOUN'), ('Inc.', 'NOUN'), (',', '.'), ('and', 'CONJ'), ('Frederick', 'NOUN'), ('Deane', 'NOUN'), ('Jr.', 'NOUN'), (',', '.'), ('63', 'NUM'), (',', '.'), ('chairman', 'NOUN'), ('of', 'ADP'), ('Signet', 'DET'), ('Banking', 'NOUN'), ('Corp.', 'NOUN'), (',', '.'), ('were', 'VERB'), ('elected', 'VERB'), ('*-15', 'X'), ('directors', 'NOUN'), ('of', 'ADP'), ('this', 'DET'), ('consumer', 'NOUN'), ('electronics', 'NOUN'), ('and', 'CONJ'), ('appliances', 'NOUN'), ('retailing', 'NOUN'), ('chain', 'NOUN'), ('.', '.'), ('The', 'DET'), ('department', 'NOUN'), ('would', 'VERB'), ('be', 'VERB'), ('required', 'VERB'), ('*-1', 'X'), ('to', 'PRT'), ('block', 'VERB'), ('the', 'DET'), ('buy-out', 'NOUN'), ('if', 'ADP'), ('the', 'DET'), ('acquisition', 'NOUN'), ('is', 'VERB'), ('likely', 'ADJ'), ('*-2', 'X'), ('to', 'PRT'), ('financially', 'ADV'), ('weaken', 'VERB'), ('a', 'DET'), ('carrier', 'NOUN'), ('so', 'ADV'), ('that', 'ADP'), ('safety', 'NOUN'), ('would', 'VERB'), ('be', 'VERB'), ('impaired', 'X'), ('*-27', 'X'), (';', '.'), ('its', 'PRON'), ('ability', 'NOUN'), ('*', 'X'), ('to', 'PRT'), ('compete', 'VERB'), ('would', 'VERB'), ('be', 'VERB'), ('sharply', 'ADV'), ('diminished', 'VERB'), ('*-3', 'X'), (';', '.'), ('it', 'PRON'), ('would', 'VERB'), ('be', 'VERB'), ('put', 'VERB'), ('*-28', 'X'), ('into', 'ADP'), ('foreign', 'ADJ'), ('control', 'NOUN'), (';', '.'), ('or', 'CONJ'), ('if', 'ADP'), ('the', 'DET'), ('transaction', 'NOUN'), ('would', 'VERB'), ('result', 'VERB'), ('in', 'ADP'), ('the', 'DET'), ('sale', 'NOUN'), ('of', 'ADP'), ('airline-related', 'DET'), ('assets', 'NOUN'), ('--', '.'), ('unless', 'ADP'), ('*', 'X'), ('selling', 'VERB'), ('such', 'ADJ'), ('assets', 'NOUN'), ('had', 'VERB'), ('an', 'DET'), ('overriding', 'NOUN'), ('public', 'NOUN'), ('benefit', 'VERB'), ('.', '.'), ('Until', 'ADP'), ('last', 'ADJ'), ('week', 'NOUN'), (',', '.'), ('the', 'DET'), ('IRS', 'NOUN'), ('rarely', 'NOUN'), ('acted', 'NOUN'), ('on', 'ADP'), ('the', 'DET'), ('incomplete', 'ADJ'), ('forms', 'NOUN'), ('.', '.'), ('Composer', 'NOUN'), ('Marc', 'NOUN'), ('Marder', 'NOUN'), (',', '.'), ('a', 'DET'), ('college', 'NOUN'), ('friend', 'NOUN'), ('of', 'ADP'), ('Mr.', 'NOUN'), ('Lane', 'NOUN'), (\"'s\", 'PRT'), ('who', 'PRON'), ('*T*-66', 'X'), ('earns', 'VERB'), ('his', 'PRON'), ('living', 'VERB'), ('*-1', 'X'), ('playing', 'VERB'), ('the', 'DET'), ('double', 'VERB'), ('bass', 'X'), ('in', 'ADP'), ('classical', 'DET'), ('music', 'NOUN'), ('ensembles', 'NOUN'), (',', '.'), ('has', 'VERB'), ('prepared', 'VERB'), ('an', 'DET'), ('exciting', 'NOUN'), (',', '.'), ('eclectic', 'NOUN'), ('score', 'NOUN'), ('that', 'ADP'), ('*T*-67', 'X'), ('tells', 'VERB'), ('you', 'PRON'), ('what', 'PRON'), ('the', 'DET'), ('characters', 'NOUN'), ('are', 'VERB'), ('thinking', 'VERB'), ('*T*-2', 'X'), ('and', 'CONJ'), ('feeling', 'VERB'), ('*T*-2', 'X'), ('far', 'ADV'), ('more', 'ADJ'), ('precisely', 'ADV'), ('than', 'ADP'), ('intertitles', 'DET'), (',', '.'), ('or', 'CONJ'), ('even', 'ADV'), ('words', 'NOUN'), (',', '.'), ('would', 'VERB'), ('*?*', 'X'), ('.', '.'), ('But', 'CONJ'), ('Apple', 'NOUN'), ('II', 'NOUN'), ('was', 'VERB'), ('a', 'DET'), ('major', 'ADJ'), ('advance', 'NOUN'), ('from', 'ADP'), ('Apple', 'NOUN'), ('I', 'PRON'), (',', '.'), ('which', 'DET'), ('*T*-1', 'X'), ('was', 'VERB'), ('built', 'VERB'), ('*-33', 'X'), ('in', 'ADP'), ('a', 'DET'), ('garage', 'NOUN'), ('by', 'ADP'), ('Stephen', 'NOUN'), ('Wozniak', 'NOUN'), ('and', 'CONJ'), ('Steven', 'NOUN'), ('Jobs', 'NOUN'), ('for', 'ADP'), ('hobbyists', 'DET'), ('such', 'ADJ'), ('as', 'ADP'), ('the', 'DET'), ('Homebrew', 'NOUN'), ('Computer', 'NOUN'), ('Club', 'NOUN'), ('.', '.'), ('``', '.'), ('The', 'DET'), ('U.S.', 'NOUN'), (',', '.'), ('with', 'ADP'), ('its', 'PRON'), ('regional', 'ADJ'), ('friends', 'NOUN'), (',', '.'), ('must', 'VERB'), ('play', 'VERB'), ('a', 'DET'), ('crucial', 'ADJ'), ('role', 'NOUN'), ('in', 'ADP'), ('*', 'X'), ('designing', 'VERB'), ('its', 'PRON'), ('architecture', 'NOUN'), ('.', '.'), (\"''\", '.'), ('Says', 'VERB'), ('*ICH*-1', 'X'), ('Gayle', 'VERB'), ('Key', 'NOUN'), (',', '.'), ('a', 'DET'), ('mathematics', 'NOUN'), ('teacher', 'NOUN'), (',', '.'), ('``', '.'), ('The', 'DET'), ('incentive', 'NOUN'), ('pay', 'VERB'), ('thing', 'NOUN'), ('has', 'VERB'), ('opened', 'VERB'), ('up', 'ADV'), ('a', 'DET'), ('can', 'VERB'), ('of', 'ADP'), ('worms', 'DET'), ('.', '.'), ('Bribe', 'NOUN'), ('by', 'ADP'), ('bribe', 'DET'), (',', '.'), ('Mr.', 'NOUN'), ('Sternberg', 'NOUN'), ('and', 'CONJ'), ('his', 'PRON'), ('co-author', 'NOUN'), (',', '.'), ('Matthew', 'NOUN'), ('C.', 'NOUN'), ('Harrison', 'NOUN'), ('Jr.', 'NOUN'), (',', '.'), ('lead', 'VERB'), ('us', 'PRON'), ('along', 'ADP'), ('the', 'DET'), ('path', 'NOUN'), ('0', 'X'), ('Wedtech', 'NOUN'), ('traveled', 'NOUN'), ('*T*-1', 'X'), (',', '.'), ('from', 'ADP'), ('its', 'PRON'), ('inception', 'VERB'), ('as', 'ADP'), ('a', 'DET'), ('small', 'ADJ'), ('manufacturing', 'NOUN'), ('company', 'NOUN'), ('to', 'PRT'), ('the', 'DET'), ('status', 'NOUN'), ('of', 'ADP'), ('full-fledged', 'DET'), ('defense', 'NOUN'), ('contractor', 'NOUN'), (',', '.'), ('entrusted', 'VERB'), ('*', 'X'), ('with', 'ADP'), ('the', 'DET'), ('task', 'NOUN'), ('of', 'ADP'), ('*', 'X'), ('producing', 'VERB'), ('vital', 'X'), ('equipment', 'NOUN'), ('for', 'ADP'), ('the', 'DET'), ('Army', 'NOUN'), ('and', 'CONJ'), ('Navy', 'NOUN'), ('.', '.'), ('Mr.', 'NOUN'), ('Stearn', 'NOUN'), (',', '.'), ('46', 'NUM'), ('years', 'NOUN'), ('old', 'ADJ'), (',', '.'), ('could', 'VERB'), (\"n't\", 'ADV'), ('be', 'VERB'), ('reached', 'VERB'), ('*-120', 'X'), ('for', 'ADP'), ('comment', 'NOUN'), ('.', '.'), ('The', 'DET'), ('company', 'NOUN'), (\"'s\", 'PRT'), ('prepared', 'VERB'), ('statement', 'NOUN'), ('quoted', 'VERB'), ('him', 'PRON'), ('as', 'ADP'), ('*-1', 'X'), ('saying', 'VERB'), (',', '.'), ('``', '.'), ('The', 'DET'), ('CEO', 'NOUN'), ('succession', 'NOUN'), ('is', 'VERB'), ('well', 'ADV'), ('along', 'ADP'), ('and', 'CONJ'), ('I', 'PRON'), (\"'ve\", 'VERB'), ('decided', 'VERB'), ('for', 'ADP'), ('personal', 'ADJ'), ('reasons', 'NOUN'), ('*-2', 'X'), ('to', 'PRT'), ('take', 'VERB'), ('early', 'ADV'), ('retirement', 'NOUN'), ('.', '.'), (\"''\", '.'), ('Waertsilae', 'NOUN'), ('Marine', 'NOUN'), (\"'s\", 'PRT'), ('biggest', 'ADJ'), ('creditor', 'NOUN'), ('is', 'VERB'), ('Miami-based', 'ADJ'), ('Carnival', 'NOUN'), ('Cruise', 'NOUN'), ('Lines', 'NOUN'), ('Inc', 'NOUN'), ('.', '.'), ('The', 'DET'), ('results', 'NOUN'), ('reflected', 'VERB'), ('a', 'DET'), ('24', 'NUM'), ('%', 'NOUN'), ('gain', 'NOUN'), ('in', 'ADP'), ('income', 'NOUN'), ('from', 'ADP'), ('its', 'PRON'), ('finance', 'VERB'), ('businesses', 'NOUN'), (',', '.'), ('and', 'CONJ'), ('a', 'DET'), ('15', 'NUM'), ('%', 'NOUN'), ('slide', 'NOUN'), ('in', 'ADP'), ('income', 'NOUN'), ('from', 'ADP'), ('insurance', 'NOUN'), ('operations', 'NOUN'), ('.', '.'), ('Mr.', 'NOUN'), ('Bernstein', 'NOUN'), (',', '.'), ('who', 'PRON'), ('*T*-37', 'X'), ('succeeded', 'VERB'), ('Bennett', 'X'), ('Cerf', 'VERB'), (',', '.'), ('has', 'VERB'), ('been', 'VERB'), ('only', 'ADV'), ('the', 'DET'), ('second', 'ADJ'), ('president', 'NOUN'), ('of', 'ADP'), ('Random', 'NOUN'), ('House', 'NOUN'), ('since', 'ADP'), ('it', 'PRON'), ('was', 'VERB'), ('founded', 'VERB'), ('*-45', 'X'), ('in', 'ADP'), ('1925', 'DET'), ('.', '.'), ('In', 'ADP'), ('her', 'PRON'), ('wake', 'NOUN'), ('she', 'PRON'), ('left', 'VERB'), ('the', 'DET'), ('bitterness', 'NOUN'), ('and', 'CONJ'), ('anger', 'NOUN'), ('of', 'ADP'), ('a', 'DET'), ('principal', 'NOUN'), ('who', 'PRON'), ('*T*-81', 'X'), ('was', 'VERB'), ('her', 'PRON'), ('friend', 'NOUN'), ('and', 'CONJ'), ('now', 'ADV'), ('calls', 'VERB'), ('her', 'PRON'), ('a', 'DET'), ('betrayer', 'NOUN'), (';', '.'), ('of', 'ADP'), ('colleagues', 'NOUN'), ('who', 'PRON'), ('*T*-82', 'VERB'), ('say', 'VERB'), ('0', 'X'), ('she', 'PRON'), ('brought', 'VERB'), ('them', 'PRON'), ('shame', 'NOUN'), (';', '.'), ('of', 'ADP'), ('students', 'NOUN'), ('and', 'CONJ'), ('parents', 'NOUN'), ('who', 'PRON'), ('*T*-83', 'VERB'), ('defended', 'VERB'), ('her', 'PRON'), ('and', 'CONJ'), ('insist', 'VERB'), ('0', 'X'), ('she', 'PRON'), ('was', 'VERB'), ('treated', 'VERB'), ('*-1', 'X'), ('harshly', 'ADV'), (';', '.'), ('and', 'CONJ'), ('of', 'ADP'), ('school-district', 'DET'), ('officials', 'NOUN'), ('stunned', 'NOUN'), ('that', 'ADP'), ('despite', 'ADP'), ('the', 'DET'), ('bald-faced', 'NOUN'), ('nature', 'NOUN'), ('of', 'ADP'), ('her', 'PRON'), ('actions', 'NOUN'), (',', '.'), ('she', 'PRON'), ('became', 'VERB'), ('something', 'NOUN'), ('of', 'ADP'), ('a', 'DET'), ('local', 'ADJ'), ('martyr', 'NOUN'), ('.', '.'), ('No', 'DET'), ('one', 'NUM'), ('is', 'VERB'), ('more', 'ADV'), ('unhappy', 'ADJ'), ('with', 'ADP'), ('program', 'NOUN'), ('trading', 'NOUN'), ('than', 'ADP'), ('the', 'DET'), ('nation', 'NOUN'), (\"'s\", 'PRT'), ('stockbrokers', 'NOUN'), ('.', '.'), ('I', 'PRON'), ('visited', 'VERB'), ('a', 'DET'), ('lot', 'NOUN'), ('of', 'ADP'), ('major', 'ADJ'), ('Japanese', 'ADJ'), ('manufacturers', 'NOUN'), (',', '.'), ('but', 'CONJ'), ('I', 'PRON'), ('never', 'ADV'), ('felt', 'VERB'), ('0', 'X'), ('I', 'PRON'), ('would', 'VERB'), ('want', 'VERB'), ('*-1', 'X'), ('to', 'PRT'), ('be', 'VERB'), ('employed', 'VERB'), ('*-149', 'X'), ('by', 'ADP'), ('any', 'DET'), ('of', 'ADP'), ('them', 'PRON'), ('.', '.'), ('In', 'ADP'), ('addition', 'NOUN'), (',', '.'), ('the', 'DET'), ('Cray-3', 'NOUN'), ('will', 'VERB'), ('contain', 'VERB'), ('16', 'NUM'), ('processors', 'NOUN'), ('--', '.'), ('twice', 'NOUN'), ('as', 'ADP'), ('many', 'ADJ'), ('as', 'ADP'), ('the', 'DET'), ('largest', 'ADJ'), ('current', 'ADJ'), ('supercomputer', 'NOUN'), ('.', '.'), ('USX', 'NOUN'), ('was', 'VERB'), ('cited', 'VERB'), ('*-1', 'X'), ('by', 'ADP'), ('OSHA', 'NOUN'), ('for', 'ADP'), ('several', 'ADJ'), ('health', 'NOUN'), ('and', 'CONJ'), ('safety', 'NOUN'), ('violations', 'NOUN'), ('at', 'ADP'), ('two', 'NUM'), ('Pennsylvania', 'NOUN'), ('plants', 'NOUN'), ('and', 'CONJ'), ('may', 'VERB'), ('face', 'VERB'), ('a', 'DET'), ('record', 'NOUN'), ('fine', 'NOUN'), ('of', 'ADP'), ('$', '.'), ('7.3', 'NUM'), ('million', 'NUM'), ('*U*', 'X'), ('.', '.'), ('The', 'DET'), ('word', 'NOUN'), ('dissemination', 'NOUN'), (',', '.'), ('it', 'PRON'), ('decided', 'VERB'), ('0', 'X'), ('*T*-1', 'X'), (',', '.'), ('referred', 'VERB'), ('only', 'ADV'), ('to', 'PRT'), ('itself', 'PRON'), ('.', '.'), ('Mr.', 'NOUN'), ('Leinonen', 'NOUN'), ('said', 'VERB'), ('0', 'X'), ('he', 'PRON'), ('expects', 'VERB'), ('Ford', 'NOUN'), ('to', 'PRT'), ('meet', 'VERB'), ('the', 'DET'), ('deadline', 'NOUN'), ('easily', 'ADV'), ('.', '.'), ('This', 'DET'), ('time', 'NOUN'), (',', '.'), ('it', 'PRON'), ('was', 'VERB'), ('for', 'ADP'), ('dinner', 'NOUN'), ('and', 'CONJ'), ('dancing', 'NOUN'), ('--', '.'), ('a', 'DET'), ('block', 'NOUN'), ('away', 'ADV'), ('.', '.'), ('It', 'PRON'), (\"'s\", 'VERB'), ('imaginative', 'X'), ('and', 'CONJ'), ('often', 'ADV'), ('funny', 'ADJ'), ('.', '.'), ('John', 'NOUN'), ('Rowe', 'NOUN'), (',', '.'), ('president', 'NOUN'), ('*RNR*-1', 'X'), ('and', 'CONJ'), ('chief', 'NOUN'), ('executive', 'NOUN'), ('officer', 'NOUN'), ('*RNR*-1', 'X'), ('of', 'ADP'), ('New', 'NOUN'), ('England', 'NOUN'), ('Electric', 'NOUN'), (',', '.'), ('said', 'VERB'), ('0', 'X'), ('the', 'DET'), ('company', 'NOUN'), (\"'s\", 'PRT'), ('return', 'NOUN'), ('on', 'ADP'), ('equity', 'NOUN'), ('could', 'VERB'), ('suffer', 'VERB'), ('if', 'ADP'), ('it', 'PRON'), ('made', 'VERB'), ('a', 'DET'), ('higher', 'ADJ'), ('bid', 'NOUN'), ('and', 'CONJ'), ('its', 'PRON'), ('forecasts', 'NOUN'), ('related', 'VERB'), ('*', 'X'), ('to', 'PRT'), ('PS', 'NOUN'), ('of', 'ADP'), ('New', 'NOUN'), ('Hampshire', 'NOUN'), ('--', '.'), ('such', 'ADJ'), ('as', 'ADP'), ('growth', 'NOUN'), ('in', 'ADP'), ('electricity', 'NOUN'), ('demand', 'NOUN'), ('and', 'CONJ'), ('improved', 'VERB'), ('operating', 'VERB'), ('efficiencies', 'X'), ('--', '.'), ('did', 'VERB'), (\"n't\", 'ADV'), ('come', 'VERB'), ('true', 'ADJ'), ('.', '.'), ('``', '.'), ('We', 'PRON'), ('play', 'VERB'), ('*-1', 'X'), ('to', 'PRT'), ('win', 'VERB'), ('.', '.'), ('For', 'ADP'), ('fiscal', 'ADJ'), ('1989', 'NUM'), (\"'s\", 'PRT'), ('fourth', 'ADJ'), ('quarter', 'NOUN'), (',', '.'), ('Rockwell', 'NOUN'), (\"'s\", 'PRT'), ('net', 'ADJ'), ('income', 'NOUN'), ('totaled', 'VERB'), ('$', '.'), ('126.1', 'NOUN'), ('million', 'NUM'), ('*U*', 'X'), (',', '.'), ('or', 'CONJ'), ('50', 'NUM'), ('cents', 'NOUN'), ('a', 'DET'), ('share', 'NOUN'), ('.', '.'), ('Mrs.', 'NOUN'), ('Gorman', 'NOUN'), ('took', 'VERB'), ('advantage', 'NOUN'), ('of', 'ADP'), ('low', 'ADJ'), ('prices', 'NOUN'), ('after', 'ADP'), ('the', 'DET'), ('1987', 'NUM'), ('crash', 'NOUN'), ('*-1', 'X'), ('to', 'PRT'), ('buy', 'VERB'), ('stocks', 'NOUN'), ('and', 'CONJ'), ('has', 'VERB'), ('hunted', 'X'), ('for', 'ADP'), ('other', 'ADJ'), ('bargains', 'NOUN'), ('since', 'ADP'), ('the', 'DET'), ('Oct.', 'NOUN'), ('13', 'NUM'), ('plunge', 'NOUN'), ('.', '.'), ('It', 'PRON'), ('said', 'VERB'), ('0', 'X'), ('that', 'ADP'), ('volume', 'NOUN'), ('makes', 'VERB'), ('it', 'PRON'), ('the', 'DET'), ('largest', 'ADJ'), ('supplier', 'NOUN'), ('of', 'ADP'), ('original', 'ADJ'), ('TV', 'NOUN'), ('programming', 'NOUN'), ('in', 'ADP'), ('Europe', 'NOUN'), ('.', '.'), ('Strong', 'NOUN'), ('dividend', 'NOUN'), ('growth', 'NOUN'), (',', '.'), ('he', 'PRON'), ('says', 'VERB'), ('0', 'X'), ('*T*-1', 'X'), (',', '.'), ('is', 'VERB'), ('``', '.'), ('the', 'DET'), ('black', 'ADJ'), ('widow', 'NOUN'), ('of', 'ADP'), ('valuation', 'NOUN'), (\"''\", '.'), ('--', '.'), ('a', 'DET'), ('reference', 'NOUN'), ('to', 'PRT'), ('the', 'DET'), ('female', 'ADJ'), ('spiders', 'NOUN'), ('that', 'ADP'), ('*T*-231', 'DET'), ('attract', 'VERB'), ('males', 'X'), ('and', 'CONJ'), ('then', 'ADV'), ('kill', 'VERB'), ('them', 'PRON'), ('after', 'ADP'), ('mating', 'DET'), ('.', '.'), ('A', 'DET'), ('reinstatement', 'NOUN'), ('of', 'ADP'), ('the', 'DET'), ('uptick', 'NOUN'), ('rule', 'NOUN'), ('for', 'ADP'), ('program', 'NOUN'), ('traders', 'NOUN'), ('would', 'VERB'), ('slow', 'VERB'), ('their', 'PRON'), ('activity', 'NOUN'), ('considerably', 'ADV'), ('.', '.'), ('Plans', 'NOUN'), ('*', 'X'), ('to', 'PRT'), ('do', 'VERB'), ('this', 'DET'), ('are', 'VERB'), ('due', 'ADJ'), ('*', 'X'), ('to', 'PRT'), ('be', 'VERB'), ('filed', 'VERB'), ('*-1', 'X'), ('in', 'ADP'), ('a', 'DET'), ('week', 'NOUN'), ('or', 'CONJ'), ('so', 'ADV'), ('.', '.'), ('The', 'DET'), ('company', 'NOUN'), ('noted', 'VERB'), ('that', 'ADP'), ('it', 'PRON'), ('has', 'VERB'), ('reduced', 'VERB'), ('debt', 'NOUN'), ('by', 'ADP'), ('$', '.'), ('1.6', 'NUM'), ('billion', 'NUM'), ('*U*', 'X'), ('since', 'ADP'), ('the', 'DET'), ('end', 'NOUN'), ('of', 'ADP'), ('1988', 'NUM'), ('and', 'CONJ'), ('bought', 'VERB'), ('back', 'ADV'), ('about', 'ADP'), ('15.5', 'DET'), ('million', 'NUM'), ('shares', 'NOUN'), ('of', 'ADP'), ('common', 'ADJ'), ('stock', 'NOUN'), ('since', 'ADP'), ('the', 'DET'), ('fourth', 'ADJ'), ('quarter', 'NOUN'), ('of', 'ADP'), ('1987', 'NUM'), ('.', '.'), ('University', 'NOUN'), ('Patents', 'NOUN'), ('Inc.', 'NOUN'), (',', '.'), ('based', 'VERB'), ('*', 'X'), ('in', 'ADP'), ('Westport', 'DET'), (',', '.'), ('Conn.', 'NOUN'), (',', '.'), ('said', 'VERB'), ('0', 'X'), ('it', 'PRON'), ('seeks', 'VERB'), ('Johnson', 'NOUN'), ('&', 'CONJ'), ('Johnson', 'NOUN'), (\"'s\", 'PRT'), ('profits', 'NOUN'), ('from', 'ADP'), ('sales', 'NOUN'), ('of', 'ADP'), ('Retin-A', 'NOUN'), (',', '.'), ('estimated', 'VERB'), ('*', 'X'), ('at', 'ADP'), ('$', '.'), ('50', 'NUM'), ('million', 'NUM'), ('*U*', 'X'), (',', '.'), ('a', 'DET'), ('similar', 'ADJ'), ('amount', 'NOUN'), ('of', 'ADP'), ('punitive', 'DET'), ('damages', 'NOUN'), ('and', 'CONJ'), ('the', 'DET'), ('right', 'NOUN'), ('*', 'X'), ('to', 'PRT'), ('license', 'NOUN'), ('Retin-A', 'NOUN'), ('elsewhere', 'ADV'), ('.', '.'), ('Factory', 'NOUN'), ('payrolls', 'NOUN'), ('fell', 'VERB'), ('in', 'ADP'), ('September', 'NOUN'), ('.', '.'), ('The', 'DET'), ('12', 'NUM'), ('%', 'NOUN'), ('notes', 'NOUN'), ('due', 'ADJ'), ('1995', 'NOUN'), ('fell', 'VERB'), ('9\\\\/32', 'X'), ('to', 'PRT'), ('103', 'VERB'), ('3\\\\/8', 'NUM'), ('*-1', 'X'), ('to', 'PRT'), ('yield', 'VERB'), ('11.10', 'X'), ('%', 'NOUN'), ('.', '.'), ('Note', 'NOUN'), (':', '.'), ('All', 'DET'), ('per-share', 'NOUN'), ('figures', 'NOUN'), ('are', 'VERB'), ('fully', 'ADV'), ('diluted', 'VERB'), ('.', '.'), ('Sumitomo', 'NOUN'), ('Metal', 'NOUN'), ('Mining', 'NOUN'), ('fell', 'VERB'), ('five', 'NUM'), ('yen', 'NOUN'), ('to', 'PRT'), ('692', 'VERB'), ('and', 'CONJ'), ('Nippon', 'NOUN'), ('Mining', 'NOUN'), ('added', 'VERB'), ('15', 'NUM'), ('to', 'PRT'), ('960', 'VERB'), ('.', '.'), ('Only', 'ADV'), ('26.8', 'VERB'), ('%', 'NOUN'), ('in', 'ADP'), ('October', 'NOUN'), (',', '.'), ('compared', 'VERB'), ('with', 'ADP'), ('28.5', 'DET'), ('%', 'NOUN'), ('in', 'ADP'), ('September', 'NOUN'), ('and', 'CONJ'), ('26.8', 'NOUN'), ('%', 'NOUN'), ('in', 'ADP'), ('October', 'NOUN'), ('1988', 'NUM'), (',', '.'), ('said', 'VERB'), ('0', 'X'), ('income', 'NOUN'), ('would', 'VERB'), ('increase', 'VERB'), ('.', '.'), ('Leo', 'NOUN'), ('Melamed', 'NOUN'), (',', '.'), ('Merc', 'NOUN'), ('executive', 'NOUN'), ('committee', 'NOUN'), ('chairman', 'NOUN'), (',', '.'), ('said', 'VERB'), ('that', 'ADP'), ('the', 'DET'), ('12-point', 'ADJ'), ('limit', 'NOUN'), ('appeared', 'VERB'), ('*-1', 'X'), ('to', 'PRT'), ('lessen', 'VERB'), ('the', 'DET'), ('selling', 'NOUN'), ('panic', 'VERB'), ('Oct.', 'NOUN'), ('13', 'NUM'), ('.', '.'), ('At', 'ADP'), ('the', 'DET'), ('end', 'NOUN'), ('of', 'ADP'), ('World', 'NOUN'), ('War', 'NOUN'), ('II', 'NOUN'), (',', '.'), ('Germany', 'NOUN'), ('surrendered', 'VERB'), ('before', 'ADP'), ('Japan', 'NOUN'), ('...', '.'), ('.', '.'), ('A.L.', 'NOUN'), ('Williams', 'NOUN'), ('Corp.', 'NOUN'), ('was', 'VERB'), ('merged', 'VERB'), ('*-1', 'X'), ('into', 'ADP'), ('Primerica', 'NOUN'), ('Corp.', 'NOUN'), (',', '.'), ('New', 'NOUN'), ('York', 'NOUN'), (',', '.'), ('after', 'ADP'), ('a', 'DET'), ('special', 'ADJ'), ('meeting', 'NOUN'), ('of', 'ADP'), ('Williams', 'NOUN'), ('shareholders', 'NOUN'), ('cleared', 'NOUN'), ('the', 'DET'), ('transaction', 'NOUN'), (',', '.'), ('the', 'DET'), ('companies', 'NOUN'), ('said', 'VERB'), ('0', 'X'), ('*T*-2', 'X'), ('.', '.'), ('``', '.'), ('If', 'ADP'), ('you', 'PRON'), ('look', 'VERB'), ('at', 'ADP'), ('the', 'DET'), ('third', 'ADJ'), ('quarter', 'NOUN'), ('as', 'ADP'), ('*', 'X'), ('posting', 'VERB'), ('roughly', 'ADV'), ('2.5', 'NUM'), ('%', 'NOUN'), ('growth', 'NOUN'), (',', '.'), ('I', 'PRON'), ('do', 'VERB'), ('see', 'VERB'), ('some', 'DET'), ('slowing', 'NOUN'), ('in', 'ADP'), ('the', 'DET'), ('fourth', 'ADJ'), ('quarter', 'NOUN'), (',', '.'), (\"''\", '.'), ('agrees', 'VERB'), ('*T*-1', 'X'), ('Kansas', 'NOUN'), ('City', 'NOUN'), ('Fed', 'NOUN'), ('President', 'NOUN'), ('Roger', 'NOUN'), ('Guffey', 'NOUN'), ('.', '.'), ('Each', 'DET'), ('new', 'ADJ'), ('trading', 'NOUN'), ('roadblock', 'NOUN'), ('is', 'VERB'), ('likely', 'ADJ'), ('*-1', 'X'), ('to', 'PRT'), ('be', 'VERB'), ('beaten', 'VERB'), ('*-82', 'X'), ('by', 'ADP'), ('institutions', 'NOUN'), ('seeking', 'VERB'), ('better', 'ADV'), ('ways', 'NOUN'), ('0', 'X'), ('*', 'X'), ('to', 'PRT'), ('serve', 'VERB'), ('their', 'PRON'), ('high-volume', 'VERB'), ('clients', 'NOUN'), ('*T*-2', 'X'), (',', '.'), ('here', 'ADV'), ('or', 'CONJ'), ('overseas', 'ADJ'), ('.', '.'), ('He', 'PRON'), ('said', 'VERB'), ('0', 'X'), ('Equitable', 'NOUN'), ('hopes', 'VERB'), ('*-1', 'X'), ('to', 'PRT'), ('eventually', 'ADV'), ('reduce', 'VERB'), ('its', 'PRON'), ('stake', 'NOUN'), ('in', 'ADP'), ('Younkers', 'NOUN'), ('to', 'PRT'), ('less', 'ADJ'), ('than', 'ADP'), ('50', 'NUM'), ('%', 'NOUN'), ('.', '.'), ('But', 'CONJ'), ('he', 'PRON'), ('is', 'VERB'), ('best', 'ADJ'), ('known', 'ADJ'), ('*-3', 'X'), ('in', 'ADP'), ('the', 'DET'), ('auto', 'NOUN'), ('industry', 'NOUN'), ('as', 'ADP'), ('the', 'DET'), ('creator', 'NOUN'), ('of', 'ADP'), ('a', 'DET'), ('team', 'NOUN'), ('car-development', 'NOUN'), ('approach', 'NOUN'), ('that', 'ADP'), ('*T*-1', 'X'), ('produced', 'VERB'), ('the', 'DET'), ('two', 'NUM'), ('midsized', 'ADJ'), ('cars', 'NOUN'), ('that', 'ADP'), ('*T*-2', 'X'), ('were', 'VERB'), ('instrumental', 'ADJ'), ('in', 'ADP'), ('*', 'X'), ('helping', 'VERB'), ('the', 'DET'), ('No.', 'NOUN'), ('2', 'NUM'), ('auto', 'NOUN'), ('maker', 'NOUN'), ('record', 'NOUN'), ('profits', 'NOUN'), ('in', 'ADP'), ('recent', 'ADJ'), ('years', 'NOUN'), ('and', 'CONJ'), ('in', 'ADP'), ('*', 'X'), ('enabling', 'VERB'), ('the', 'DET'), ('company', 'NOUN'), (\"'s\", 'PRT'), ('Ford', 'NOUN'), ('division', 'NOUN'), ('to', 'PRT'), ('eclipse', 'VERB'), ('General', 'NOUN'), ('Motors', 'NOUN'), ('Corp.', 'NOUN'), (\"'s\", 'PRT'), ('Chevrolet', 'NOUN'), ('division', 'NOUN'), ('as', 'ADP'), ('the', 'DET'), ('top-selling', 'NOUN'), ('nameplate', 'NOUN'), ('in', 'ADP'), ('the', 'DET'), ('U.S.', 'NOUN'), ('.', '.'), ('He', 'PRON'), ('was', 'VERB'), ('previously', 'ADV'), ('president', 'NOUN'), ('of', 'ADP'), ('the', 'DET'), ('company', 'NOUN'), (\"'s\", 'PRT'), ('Eastern', 'NOUN'), ('Edison', 'NOUN'), ('Co.', 'NOUN'), ('unit', 'NOUN'), ('.', '.'), ('Consolidated', 'NOUN'), ('Rail', 'NOUN'), ('Corp.', 'NOUN'), ('said', 'VERB'), ('0', 'X'), ('it', 'PRON'), ('would', 'VERB'), ('spend', 'VERB'), ('more', 'ADV'), ('than', 'ADP'), ('$', '.'), ('30', 'NUM'), ('million', 'NUM'), ('*U*', 'X'), ('on', 'ADP'), ('1,000', 'NUM'), ('enclosed', 'NOUN'), ('railcars', 'NOUN'), ('for', 'ADP'), ('*', 'X'), ('transporting', 'VERB'), ('autos', 'X'), ('.', '.'), ('The', 'DET'), ('show', 'NOUN'), ('did', 'VERB'), (\"n't\", 'ADV'), ('give', 'VERB'), ('the', 'DET'), ('particulars', 'NOUN'), ('of', 'ADP'), ('Mrs.', 'NOUN'), ('Yeargin', 'NOUN'), (\"'s\", 'PRT'), ('offense', 'VERB'), (',', '.'), ('*-1', 'X'), ('saying', 'VERB'), ('only', 'ADV'), ('that', 'ADP'), ('she', 'PRON'), ('helped', 'VERB'), ('students', 'NOUN'), ('do', 'VERB'), ('better', 'ADV'), ('on', 'ADP'), ('the', 'DET'), ('test', 'NOUN'), ('.', '.'), ('As', 'ADP'), ('an', 'DET'), ('indicator', 'NOUN'), ('of', 'ADP'), ('the', 'DET'), ('tight', 'ADJ'), ('grain', 'NOUN'), ('supply', 'NOUN'), ('situation', 'NOUN'), ('in', 'ADP'), ('the', 'DET'), ('U.S.', 'NOUN'), (',', '.'), ('market', 'NOUN'), ('analysts', 'NOUN'), ('said', 'VERB'), ('that', 'ADP'), ('late', 'ADJ'), ('Tuesday', 'NOUN'), ('the', 'DET'), ('Chinese', 'ADJ'), ('government', 'NOUN'), (',', '.'), ('which', 'DET'), ('*T*-1', 'X'), ('often', 'ADV'), ('buys', 'VERB'), ('U.S.', 'NOUN'), ('grains', 'NOUN'), ('in', 'ADP'), ('quantity', 'NOUN'), (',', '.'), ('turned', 'VERB'), ('instead', 'ADV'), ('to', 'PRT'), ('Britain', 'NOUN'), ('*-2', 'X'), ('to', 'PRT'), ('buy', 'VERB'), ('500,000', 'NUM'), ('metric', 'ADJ'), ('tons', 'NOUN'), ('of', 'ADP'), ('wheat', 'NOUN'), ('.', '.'), ('Mr.', 'NOUN'), ('Ross', 'NOUN'), ('said', 'VERB'), ('0', 'X'), ('he', 'PRON'), ('met', 'VERB'), ('with', 'ADP'), ('officials', 'NOUN'), ('of', 'ADP'), ('the', 'DET'), ('IRS', 'NOUN'), ('and', 'CONJ'), ('the', 'DET'), ('Justice', 'NOUN'), ('Department', 'NOUN'), (',', '.'), ('which', 'DET'), ('*T*-133', 'NOUN'), ('would', 'VERB'), ('bring', 'VERB'), ('any', 'DET'), ('enforcement', 'NOUN'), ('actions', 'NOUN'), ('against', 'ADP'), ('taxpayers', 'NOUN'), (',', '.'), ('*-1', 'X'), ('to', 'PRT'), ('discuss', 'VERB'), ('the', 'DET'), ('issue', 'NOUN'), ('last', 'ADJ'), ('May', 'NOUN'), ('.', '.'), ('The', 'DET'), ('department', 'NOUN'), (\"'s\", 'PRT'), ('Occupational', 'NOUN'), ('Safety', 'NOUN'), ('and', 'CONJ'), ('Health', 'NOUN'), ('Administration', 'NOUN'), ('proposed', 'VERB'), ('fines', 'NOUN'), ('of', 'ADP'), ('$', '.'), ('6.1', 'NUM'), ('million', 'NUM'), ('*U*', 'X'), ('for', 'ADP'), ('alleged', 'ADJ'), ('violations', 'NOUN'), ('at', 'ADP'), ('the', 'DET'), ('company', 'NOUN'), (\"'s\", 'PRT'), ('Fairless', 'NOUN'), ('Hills', 'NOUN'), (',', '.'), ('Pa.', 'NOUN'), (',', '.'), ('steel', 'NOUN'), ('mill', 'NOUN'), (';', '.'), ('that', 'DET'), ('was', 'VERB'), ('a', 'DET'), ('record', 'NOUN'), ('for', 'ADP'), ('proposed', 'VERB'), ('penalties', 'NOUN'), ('at', 'ADP'), ('any', 'DET'), ('single', 'ADJ'), ('facility', 'NOUN'), ('.', '.'), ('Mrs.', 'NOUN'), ('Ward', 'NOUN'), ('resolved', 'NOUN'), ('*-1', 'X'), ('to', 'PRT'), ('clean', 'VERB'), ('out', 'PRT'), ('``', '.'), ('deadwood', 'NOUN'), (\"''\", '.'), ('in', 'ADP'), ('the', 'DET'), ('school', 'NOUN'), (\"'s\", 'PRT'), ('faculty', 'NOUN'), ('and', 'CONJ'), ('restore', 'VERB'), ('safety', 'NOUN'), (',', '.'), ('and', 'CONJ'), ('she', 'PRON'), ('also', 'ADV'), ('had', 'VERB'), ('some', 'DET'), ('new', 'ADJ'), ('factors', 'NOUN'), ('working', 'VERB'), ('in', 'ADP'), ('her', 'PRON'), ('behalf', 'NOUN'), ('.', '.'), ('So', 'ADV'), ('far', 'ADV'), (',', '.'), ('Wall', 'NOUN'), ('Street', 'NOUN'), (\"'s\", 'PRT'), ('Old', 'NOUN'), ('Guard', 'NOUN'), ('seems', 'VERB'), ('*-1', 'X'), ('to', 'PRT'), ('be', 'VERB'), ('winning', 'VERB'), ('the', 'DET'), ('program-trading', 'ADJ'), ('battle', 'NOUN'), (',', '.'), ('*-2', 'X'), ('successfully', 'VERB'), ('mobilizing', 'X'), ('public', 'ADJ'), ('and', 'CONJ'), ('congressional', 'ADJ'), ('opinion', 'NOUN'), ('*-3', 'X'), ('to', 'PRT'), ('bludgeon', 'VERB'), ('their', 'PRON'), ('tormentors', 'VERB'), ('.', '.'), ('But', 'CONJ'), ('some', 'DET'), ('of', 'ADP'), ('the', 'DET'), ('TV', 'NOUN'), ('stations', 'NOUN'), ('that', 'ADP'), ('*T*-149', 'DET'), ('bought', 'VERB'), ('``', '.'), ('Cosby', 'NOUN'), (\"''\", '.'), ('reruns', 'NOUN'), ('for', 'ADP'), ('record', 'NOUN'), ('prices', 'NOUN'), ('two', 'NUM'), ('years', 'NOUN'), ('ago', 'ADP'), ('are', 'VERB'), (\"n't\", 'ADV'), ('laughing', 'VERB'), ('much', 'ADV'), ('these', 'DET'), ('days', 'NOUN'), ('.', '.'), ('``', '.'), ('It', 'PRON'), ('can', 'VERB'), ('be', 'VERB'), ('said', 'VERB'), ('that', 'ADP'), ('the', 'DET'), ('trend', 'NOUN'), ('of', 'ADP'), ('financial', 'ADJ'), ('improvement', 'NOUN'), ('has', 'VERB'), ('been', 'VERB'), ('firmly', 'X'), ('set', 'VERB'), (',', '.'), (\"''\", '.'), ('he', 'PRON'), ('added', 'VERB'), ('*T*-1', 'X'), ('.', '.'), ('They', 'PRON'), ('cite', 'VERB'), ('a', 'DET'), ('lack', 'NOUN'), ('of', 'ADP'), ('``', '.'), ('imbalances', 'NOUN'), (\"''\", '.'), ('that', 'DET'), ('*T*-47', 'X'), ('provide', 'VERB'), ('early', 'ADV'), ('warning', 'VERB'), ('signals', 'VERB'), ('of', 'ADP'), ('a', 'DET'), ('downturn', 'NOUN'), ('.', '.'), ('Put', 'VERB'), ('option', 'NOUN'), ('March', 'NOUN'), ('31', 'NUM'), (',', '.'), ('1992', 'NUM'), (',', '.'), ('at', 'ADP'), ('a', 'DET'), ('fixed', 'VERB'), ('107', 'NUM'), ('7\\\\/8', 'NUM'), ('*', 'X'), ('to', 'PRT'), ('yield', 'VERB'), ('3.43', 'X'), ('%', 'NOUN'), ('.', '.'), ('About', 'ADP'), ('11.6', 'DET'), ('%', 'NOUN'), ('of', 'ADP'), ('all', 'DET'), ('program', 'NOUN'), ('trading', 'NOUN'), ('by', 'ADP'), ('New', 'NOUN'), ('York', 'NOUN'), ('Stock', 'NOUN'), ('Exchange', 'NOUN'), ('firms', 'NOUN'), ('in', 'ADP'), ('September', 'NOUN'), ('took', 'VERB'), ('place', 'NOUN'), ('in', 'ADP'), ('foreign', 'ADJ'), ('markets', 'NOUN'), (',', '.'), ('according', 'VERB'), ('to', 'PRT'), ('Big', 'NOUN'), ('Board', 'NOUN'), ('data', 'NOUN'), ('.', '.'), ('Mr.', 'NOUN'), ('Ackerman', 'NOUN'), ('already', 'ADV'), ('is', 'VERB'), ('seeking', 'VERB'), ('*-1', 'X'), ('to', 'PRT'), ('oust', 'VERB'), ('Mr.', 'NOUN'), ('Edelman', 'NOUN'), ('as', 'ADP'), ('chairman', 'NOUN'), ('of', 'ADP'), ('Datapoint', 'DET'), ('Corp.', 'NOUN'), (',', '.'), ('an', 'DET'), ('Intelogic', 'NOUN'), ('affiliate', 'NOUN'), ('.', '.'), ('In', 'ADP'), ('a', 'DET'), ('second', 'ADJ'), ('area', 'NOUN'), ('of', 'ADP'), ('common', 'ADJ'), ('concern', 'NOUN'), (',', '.'), ('the', 'DET'), ('world', 'NOUN'), ('environment', 'NOUN'), (',', '.'), ('an', 'DET'), ('additional', 'ADJ'), ('$', '.'), ('15', 'NUM'), ('million', 'NUM'), ('*U*', 'X'), ('*ICH*-1', 'X'), ('will', 'VERB'), ('be', 'VERB'), ('provided', 'VERB'), ('*-7', 'X'), ('in', 'ADP'), ('development', 'NOUN'), ('assistance', 'NOUN'), ('0', 'X'), ('*T*-2', 'X'), ('to', 'PRT'), ('fund', 'NOUN'), ('a', 'DET'), ('series', 'NOUN'), ('of', 'ADP'), ('initiatives', 'NOUN'), (',', '.'), ('related', 'VERB'), ('both', 'DET'), ('to', 'PRT'), ('global', 'ADJ'), ('warming', 'NOUN'), ('and', 'CONJ'), ('the', 'DET'), ('plight', 'NOUN'), ('of', 'ADP'), ('the', 'DET'), ('African', 'ADJ'), ('elephant', 'NOUN'), ('.', '.'), ('Silver', 'NOUN'), ('is', 'VERB'), ('also', 'ADV'), ('under', 'ADP'), ('pressure', 'NOUN'), ('of', 'ADP'), ('``', '.'), ('extremely', 'ADV'), ('high', 'ADJ'), (\"''\", '.'), ('inventories', 'NOUN'), ('in', 'ADP'), ('warehouses', 'DET'), ('of', 'ADP'), ('the', 'DET'), ('Commodity', 'NOUN'), ('Exchange', 'NOUN'), (',', '.'), ('he', 'PRON'), ('said', 'VERB'), ('0', 'X'), ('*T*-1', 'X'), ('.', '.'), ('``', '.'), ('It', 'PRON'), ('*EXP*-1', 'X'), (\"'s\", 'PRT'), ('hard', 'ADJ'), ('*', 'X'), ('to', 'PRT'), ('explain', 'VERB'), ('to', 'PRT'), ('a', 'DET'), ('17-year-old', 'NOUN'), ('why', 'ADV'), ('someone', 'NOUN'), ('0', 'X'), ('they', 'PRON'), ('like', 'VERB'), ('*T*-2', 'X'), ('had', 'VERB'), ('*-3', 'X'), ('to', 'PRT'), ('go', 'VERB'), (',', '.'), (\"''\", '.'), ('says', 'VERB'), ('*T*-4', 'X'), ('Mrs.', 'NOUN'), ('Ward', 'NOUN'), ('.', '.'), ('Midwesco', 'NOUN'), ('Filter', 'NOUN'), ('Resources', 'NOUN'), ('Inc.', 'NOUN'), (',', '.'), ('initial', 'ADJ'), ('offering', 'NOUN'), ('of', 'ADP'), ('830,000', 'DET'), ('common', 'ADJ'), ('shares', 'NOUN'), ('*PPA*-3', 'X'), (',', '.'), ('0', 'X'), ('*T*-2', 'X'), ('to', 'PRT'), ('be', 'VERB'), ('offered', 'VERB'), ('*-1', 'X'), ('by', 'ADP'), ('the', 'DET'), ('company', 'NOUN'), (',', '.'), ('via', 'ADP'), ('Chicago', 'NOUN'), ('Corp', 'NOUN'), ('.', '.'), ('The', 'DET'), ('judge', 'NOUN'), ('declined', 'VERB'), ('*-1', 'X'), ('to', 'PRT'), ('discuss', 'VERB'), ('his', 'PRON'), ('salary', 'NOUN'), ('in', 'ADP'), ('detail', 'DET'), (',', '.'), ('but', 'CONJ'), ('said', 'VERB'), (':', '.'), ('``', '.'), ('I', 'PRON'), (\"'m\", 'VERB'), ('going', 'VERB'), ('*-2', 'X'), ('to', 'PRT'), ('be', 'VERB'), ('a', 'DET'), ('high-priced', 'ADJ'), ('lawyer', 'NOUN'), ('.', '.'), (\"''\", '.'), ('According', 'VERB'), ('to', 'PRT'), ('Upjohn', 'NOUN'), (\"'s\", 'PRT'), ('estimates', 'NOUN'), (',', '.'), ('only', 'ADV'), ('50', 'NUM'), ('%', 'NOUN'), ('to', 'PRT'), ('60', 'NUM'), ('%', 'NOUN'), ('*U*', 'X'), ('of', 'ADP'), ('the', 'DET'), ('1,100', 'NUM'), ('eligible', 'ADJ'), ('employees', 'NOUN'), ('will', 'VERB'), ('take', 'VERB'), ('advantage', 'NOUN'), ('of', 'ADP'), ('the', 'DET'), ('plan', 'NOUN'), ('.', '.'), ('Giant', 'NOUN'), ('Group', 'NOUN'), ('is', 'VERB'), ('led', 'VERB'), ('*-96', 'X'), ('by', 'ADP'), ('three', 'NUM'), ('Rally', 'NOUN'), (\"'s\", 'PRT'), ('directors', 'NOUN'), (',', '.'), ('Burt', 'NOUN'), ('Sugarman', 'NOUN'), (',', '.'), ('James', 'NOUN'), ('M.', 'NOUN'), ('Trotter', 'NOUN'), ('III', 'NOUN'), ('and', 'CONJ'), ('William', 'NOUN'), ('E.', 'NOUN'), ('Trotter', 'NOUN'), ('II', 'NOUN'), (',', '.'), ('who', 'PRON'), ('last', 'ADJ'), ('month', 'NOUN'), ('*T*-1', 'X'), ('indicated', 'VERB'), ('0', 'X'), ('they', 'PRON'), ('hold', 'VERB'), ('a', 'DET'), ('42.5', 'NOUN'), ('%', 'NOUN'), ('stake', 'NOUN'), ('in', 'ADP'), ('Rally', 'NOUN'), (\"'s\", 'PRT'), ('and', 'CONJ'), ('plan', 'NOUN'), ('*-2', 'X'), ('to', 'PRT'), ('seek', 'VERB'), ('a', 'DET'), ('majority', 'NOUN'), ('of', 'ADP'), ('seats', 'NOUN'), ('on', 'ADP'), ('Rally', 'NOUN'), (\"'s\", 'PRT'), ('nine-member', 'VERB'), ('board', 'NOUN'), ('.', '.'), ('9.82', 'NOUN'), ('%', 'NOUN'), (',', '.'), ('standard', 'ADJ'), ('conventional', 'ADJ'), ('fixed-rate', 'ADJ'), ('mortgages', 'NOUN'), (';', '.'), ('8.25', 'NUM'), ('%', 'NOUN'), (',', '.'), ('2', 'NUM'), ('%', 'NOUN'), ('rate', 'NOUN'), ('capped', 'VERB'), ('one-year', 'ADJ'), ('adjustable', 'ADJ'), ('rate', 'NOUN'), ('mortgages', 'NOUN'), ('.', '.'), ('By', 'ADP'), ('comparison', 'NOUN'), (',', '.'), ('for', 'ADP'), ('the', 'DET'), ('first', 'ADJ'), ('nine', 'NUM'), ('months', 'NOUN'), (',', '.'), ('Xerox', 'NOUN'), ('earned', 'VERB'), ('$', '.'), ('492', 'NOUN'), ('million', 'NUM'), ('*U*', 'X'), (',', '.'), ('or', 'CONJ'), ('$', '.'), ('4.55', 'NOUN'), ('*U*', 'X'), ('a', 'DET'), ('share', 'NOUN'), (',', '.'), ('on', 'ADP'), ('revenue', 'NOUN'), ('of', 'ADP'), ('$', '.'), ('12.97', 'NOUN'), ('billion', 'NUM'), ('*U*', 'X'), ('.', '.'), ('Far', 'NOUN'), ('above', 'ADP'), ('in', 'ADP'), ('the', 'DET'), ('belfry', 'NOUN'), (',', '.'), ('the', 'DET'), ('huge', 'ADJ'), ('bronze', 'NOUN'), ('bells', 'NOUN'), (',', '.'), ('mounted', 'VERB'), ('*', 'X'), ('on', 'ADP'), ('wheels', 'DET'), (',', '.'), ('swing', 'NOUN'), ('madly', 'NOUN'), ('through', 'ADP'), ('a', 'DET'), ('full', 'ADJ'), ('360', 'NOUN'), ('degrees', 'NOUN'), (',', '.'), ('*-1', 'X'), ('starting', 'VERB'), ('and', 'CONJ'), ('ending', 'VERB'), (',', '.'), ('surprisingly', 'ADV'), (',', '.'), ('in', 'ADP'), ('the', 'DET'), ('inverted', 'NOUN'), (',', '.'), ('or', 'CONJ'), ('mouth-up', 'NOUN'), ('position', 'NOUN'), ('.', '.'), ('``', '.'), ('It', 'PRON'), ('has', 'VERB'), ('not', 'ADV'), ('been', 'VERB'), ('disruptive', 'X'), ('in', 'ADP'), ('the', 'DET'), ('markets', 'NOUN'), ('here', 'ADV'), (',', '.'), (\"''\", '.'), ('Mr.', 'NOUN'), ('Maughan', 'NOUN'), ('said', 'VERB'), ('*T*-1', 'X'), ('.', '.'), ('F.H.', 'NOUN'), ('Faulding', 'NOUN'), ('&', 'CONJ'), ('Co.', 'NOUN'), (',', '.'), ('an', 'DET'), ('Australian', 'ADJ'), ('pharmaceuticals', 'NOUN'), ('company', 'NOUN'), (',', '.'), ('said', 'VERB'), ('0', 'X'), ('its', 'PRON'), ('Moleculon', 'NOUN'), ('Inc.', 'NOUN'), ('affiliate', 'NOUN'), ('acquired', 'VERB'), ('Kalipharma', 'NOUN'), ('Inc.', 'NOUN'), ('for', 'ADP'), ('$', '.'), ('23', 'NUM'), ('million', 'NUM'), ('*U*', 'X'), ('.', '.'), ('Yet', 'CONJ'), ('he', 'PRON'), ('is', 'VERB'), (\"n't\", 'ADV'), ('in', 'ADP'), ('favor', 'NOUN'), ('of', 'ADP'), ('new', 'ADJ'), ('legislation', 'NOUN'), ('.', '.'), ('Along', 'ADP'), ('with', 'ADP'), ('the', 'DET'), ('note', 'NOUN'), (',', '.'), ('Cray', 'NOUN'), ('Research', 'NOUN'), ('is', 'VERB'), ('transferring', 'VERB'), ('about', 'ADP'), ('$', '.'), ('53', 'NUM'), ('million', 'NUM'), ('*U*', 'X'), ('in', 'ADP'), ('assets', 'NOUN'), (',', '.'), ('primarily', 'ADV'), ('those', 'DET'), ('related', 'ADJ'), ('to', 'PRT'), ('the', 'DET'), ('Cray-3', 'NOUN'), ('development', 'NOUN'), (',', '.'), ('which', 'DET'), ('*T*-25', 'X'), ('has', 'VERB'), ('been', 'VERB'), ('a', 'DET'), ('drain', 'NOUN'), ('on', 'ADP'), ('Cray', 'NOUN'), ('Research', 'NOUN'), (\"'s\", 'PRT'), ('earnings', 'NOUN'), ('.', '.'), ('It', 'PRON'), ('has', 'VERB'), ('been', 'VERB'), ('targeted', 'VERB'), ('*-48', 'X'), ('by', 'ADP'), ('Japanese', 'ADJ'), ('investors', 'NOUN'), ('as', 'ADP'), ('a', 'DET'), ('good', 'ADJ'), ('long-term', 'ADJ'), ('play', 'VERB'), ('tied', 'VERB'), ('*', 'X'), ('to', 'PRT'), ('1992', 'NUM'), (\"'s\", 'PRT'), ('European', 'ADJ'), ('economic', 'ADJ'), ('integration', 'NOUN'), ('.', '.'), ('Use', 'NOUN'), ('of', 'ADP'), ('Scoring', 'NOUN'), ('High', 'NOUN'), ('is', 'VERB'), ('widespread', 'ADJ'), ('in', 'ADP'), ('South', 'NOUN'), ('Carolina', 'NOUN'), ('and', 'CONJ'), ('common', 'ADJ'), ('in', 'ADP'), ('Greenville', 'NOUN'), ('County', 'NOUN'), (',', '.'), ('Mrs.', 'NOUN'), ('Yeargin', 'NOUN'), (\"'s\", 'PRT'), ('school', 'NOUN'), ('district', 'NOUN'), ('.', '.'), ('President', 'NOUN'), ('Reagan', 'NOUN'), ('learned', 'VERB'), ('that', 'ADP'), ('lesson', 'NOUN'), ('.', '.'), ('The', 'DET'), ('thrift', 'NOUN'), ('said', 'VERB'), ('that', 'ADP'), ('``', '.'), ('after', 'ADP'), ('these', 'DET'), ('charges', 'NOUN'), ('and', 'CONJ'), ('*', 'X'), ('assuming', 'VERB'), ('no', 'DET'), ('dramatic', 'ADJ'), ('fluctuation', 'NOUN'), ('in', 'ADP'), ('interest', 'NOUN'), ('rates', 'NOUN'), (',', '.'), ('the', 'DET'), ('association', 'NOUN'), ('expects', 'VERB'), ('*-1', 'X'), ('to', 'PRT'), ('achieve', 'VERB'), ('near', 'ADP'), ('record', 'NOUN'), ('earnings', 'NOUN'), ('in', 'ADP'), ('1990', 'NUM'), ('.', '.'), (\"''\", '.'), ('An', 'DET'), ('index-arbitrage', 'ADJ'), ('trade', 'NOUN'), ('is', 'VERB'), ('never', 'ADV'), ('executed', 'VERB'), ('unless', 'ADP'), ('there', 'DET'), ('is', 'VERB'), ('sufficient', 'X'), ('difference', 'NOUN'), ('between', 'ADP'), ('the', 'DET'), ('markets', 'NOUN'), ('in', 'ADP'), ('New', 'NOUN'), ('York', 'NOUN'), ('and', 'CONJ'), ('Chicago', 'NOUN'), ('0', 'X'), ('*T*-1', 'X'), ('to', 'PRT'), ('cover', 'VERB'), ('all', 'DET'), ('transaction', 'NOUN'), ('costs', 'NOUN'), ('.', '.'), ('So', 'ADV'), ('far', 'ADV'), (',', '.'), ('the', 'DET'), ('grain', 'NOUN'), ('industry', 'NOUN'), (\"'s\", 'PRT'), ('budding', 'VERB'), ('logistical', 'X'), ('problems', 'NOUN'), ('have', 'VERB'), (\"n't\", 'ADV'), ('been', 'VERB'), ('a', 'DET'), ('major', 'ADJ'), ('factor', 'NOUN'), ('in', 'ADP'), ('the', 'DET'), ('trading', 'NOUN'), ('of', 'ADP'), ('corn', 'NOUN'), ('contracts', 'NOUN'), ('at', 'ADP'), ('the', 'DET'), ('Chicago', 'NOUN'), ('Board', 'NOUN'), ('of', 'ADP'), ('Trade', 'NOUN'), ('.', '.'), ('They', 'PRON'), ('call', 'VERB'), ('it', 'PRON'), ('``', '.'), ('photographic', 'NOUN'), (\"''\", '.'), ('.', '.'), ('*-1', 'X'), ('Observing', 'VERB'), ('that', 'ADP'), ('the', 'DET'), ('judge', 'NOUN'), ('``', '.'), ('has', 'VERB'), ('never', 'ADV'), ('exhibited', 'VERB'), ('any', 'DET'), ('bias', 'NOUN'), ('or', 'CONJ'), ('prejudice', 'NOUN'), (',', '.'), (\"''\", '.'), ('Mr.', 'NOUN'), ('Murray', 'NOUN'), ('concluded', 'VERB'), ('that', 'ADP'), ('he', 'PRON'), ('``', '.'), ('would', 'VERB'), ('be', 'VERB'), ('impartial', 'X'), ('in', 'ADP'), ('any', 'DET'), ('case', 'NOUN'), ('involving', 'VERB'), ('a', 'DET'), ('homosexual', 'ADJ'), ('or', 'CONJ'), ('prostitute', 'NOUN'), (\"''\", '.'), ('as', 'ADP'), ('a', 'DET'), ('victim', 'NOUN'), ('.', '.'), ('The', 'DET'), ('court', 'NOUN'), ('noted', 'VERB'), ('the', 'DET'), ('new', 'ADJ'), ('USIA', 'NOUN'), ('position', 'NOUN'), ('but', 'CONJ'), (',', '.'), ('just', 'ADV'), ('in', 'ADP'), ('case', 'NOUN'), (',', '.'), ('officially', 'ADV'), ('found', 'VERB'), ('``', '.'), ('that', 'DET'), ('Congress', 'NOUN'), ('did', 'VERB'), ('not', 'ADV'), ('intend', 'VERB'), ('*-1', 'X'), ('to', 'PRT'), ('preclude', 'VERB'), ('plaintiffs', 'NOUN'), ('from', 'ADP'), ('*', 'X'), ('disseminating', 'VERB'), ('USIA', 'NOUN'), ('information', 'NOUN'), ('domestically', 'NOUN'), ('.', '.'), (\"''\", '.'), ('GMAC', 'NOUN'), ('screened', 'NOUN'), ('the', 'DET'), ('card-member', 'NOUN'), ('list', 'NOUN'), ('for', 'ADP'), ('holders', 'NOUN'), ('more', 'ADV'), ('than', 'ADP'), ('30', 'NUM'), ('years', 'NOUN'), ('old', 'ADJ'), ('with', 'ADP'), ('household', 'NOUN'), ('incomes', 'NOUN'), ('over', 'ADP'), ('$', '.'), ('45,000', 'NUM'), ('*U*', 'X'), ('who', 'PRON'), ('*T*-54', 'X'), ('had', 'VERB'), (\"n't\", 'ADV'), ('``', '.'), ('missed', 'NOUN'), ('any', 'DET'), ('payments', 'NOUN'), (',', '.'), (\"''\", '.'), ('the', 'DET'), ('Buick', 'NOUN'), ('spokeswoman', 'NOUN'), ('says', 'VERB'), ('0', 'X'), ('*T*-1', 'X'), ('.', '.'), ('He', 'PRON'), ('says', 'VERB'), ('0', 'X'), ('Campbell', 'NOUN'), ('was', 'VERB'), (\"n't\", 'ADV'), ('even', 'ADV'), ('contacted', 'VERB'), ('*-1', 'X'), ('by', 'ADP'), ('the', 'DET'), ('magazine', 'NOUN'), ('for', 'ADP'), ('the', 'DET'), ('opportunity', 'NOUN'), ('*', 'X'), ('to', 'PRT'), ('comment', 'VERB'), ('.', '.'), ('``', '.'), ('Unemployment', 'NOUN'), ('continues', 'VERB'), ('at', 'ADP'), ('a', 'DET'), ('relatively', 'ADV'), ('low', 'ADJ'), ('level', 'NOUN'), (',', '.'), ('*', 'X'), ('providing', 'VERB'), ('a', 'DET'), ('sense', 'NOUN'), ('of', 'ADP'), ('job', 'NOUN'), ('security', 'NOUN'), (',', '.'), ('and', 'CONJ'), ('a', 'DET'), ('low', 'ADJ'), ('inflation', 'NOUN'), ('rate', 'NOUN'), ('has', 'VERB'), ('kept', 'VERB'), ('the', 'DET'), ('purchasing', 'NOUN'), ('power', 'NOUN'), ('of', 'ADP'), ('the', 'DET'), ('weekly', 'ADJ'), ('paycheck', 'NOUN'), ('reasonably', 'NOUN'), ('strong', 'ADJ'), ('.', '.'), (\"''\", '.'), ('The', 'DET'), ('forthcoming', 'NOUN'), ('maturity', 'NOUN'), ('in', 'ADP'), ('November', 'NOUN'), ('of', 'ADP'), ('a', 'DET'), ('10-year', 'ADJ'), ('Japanese', 'ADJ'), ('government', 'NOUN'), ('yen-denominated', 'NOUN'), ('bond', 'NOUN'), ('issue', 'NOUN'), ('valued', 'VERB'), ('*', 'X'), ('at', 'ADP'), ('about', 'ADP'), ('$', '.'), ('16', 'NUM'), ('billion', 'NUM'), ('*U*', 'X'), ('has', 'VERB'), ('prompted', 'VERB'), ('speculation', 'NOUN'), ('*ICH*-2', 'X'), ('in', 'ADP'), ('the', 'DET'), ('market', 'NOUN'), ('that', 'ADP'), ('investors', 'NOUN'), ('redeeming', 'NOUN'), ('the', 'DET'), ('bonds', 'NOUN'), ('will', 'VERB'), ('diversify', 'VERB'), ('into', 'ADP'), ('dollar-denominated', 'ADJ'), ('instruments', 'NOUN'), (',', '.'), ('according', 'VERB'), ('to', 'PRT'), ('Mr.', 'NOUN'), ('Madison', 'NOUN'), ('.', '.')]\n"
     ]
    }
   ],
   "source": [
    "# Running technique 2 on the validation data set and checking the accuracy\n",
    "\n",
    "start = time.time()\n",
    "tagged_seq_modified_transition = Viterbi_modified_transition(validation_tagged_words)\n",
    "end = time.time()\n",
    "difference = end-start\n",
    "\n",
    "print(\"Time taken in seconds: \", difference)\n",
    "print(tagged_seq_modified_transition)\n",
    "\n",
    "validation_run_base = [tup for sent in validation_set for tup in sent]\n",
    "\n"
   ]
  },
  {
   "cell_type": "code",
   "execution_count": 60,
   "metadata": {},
   "outputs": [
    {
     "data": {
      "text/plain": [
       "0.9370683039140445"
      ]
     },
     "execution_count": 60,
     "metadata": {},
     "output_type": "execute_result"
    }
   ],
   "source": [
    "check = [i for i, j in zip(tagged_seq_modified_transition, validation_run_base) if i == j]\n",
    "accuracy = len(check)/len(tagged_seq_modified_transition)\n",
    "accuracy"
   ]
  },
  {
   "cell_type": "code",
   "execution_count": 61,
   "metadata": {},
   "outputs": [
    {
     "data": {
      "text/plain": [
       "[[('triggered', 'VERB'), (('explosive', 'X'), ('explosive', 'ADJ'))],\n",
       " [('in', 'ADP'), (('desktop', 'DET'), ('desktop', 'NOUN'))],\n",
       " [('at', 'ADP'), (('American', 'ADJ'), ('American', 'NOUN'))],\n",
       " [('materials', 'NOUN'), (('closer', 'ADV'), ('closer', 'ADJ'))],\n",
       " [('progress', 'NOUN'), (('moves', 'NOUN'), ('moves', 'VERB'))],\n",
       " [('make', 'VERB'), (('judgments', 'X'), ('judgments', 'NOUN'))],\n",
       " [('*T*-2', 'X'), (('Myron', 'VERB'), ('Myron', 'NOUN'))],\n",
       " [('...', '.'), (('less', 'ADV'), ('less', 'ADJ'))],\n",
       " [('which', 'DET'), (('there', 'ADV'), ('there', 'DET'))],\n",
       " [('--', '.'), (('the', 'DET'), ('the', 'ADJ'))],\n",
       " [('--', '.'), (('the', 'DET'), ('the', 'ADJ'))],\n",
       " [('its', 'PRON'), (('Eveready', 'VERB'), ('Eveready', 'NOUN'))],\n",
       " [('a', 'DET'), (('cosmetic', 'NOUN'), ('cosmetic', 'ADJ'))],\n",
       " [('of', 'ADP'), (('Wertheim', 'DET'), ('Wertheim', 'NOUN'))],\n",
       " [('have', 'VERB'), (('accounted', 'X'), ('accounted', 'VERB'))],\n",
       " [('for', 'ADP'), (('as', 'ADP'), ('as', 'ADV'))],\n",
       " [('who', 'PRON'), (('*T*-95', 'VERB'), ('*T*-95', 'X'))],\n",
       " [('into', 'ADP'), (('chaos', 'DET'), ('chaos', 'NOUN'))],\n",
       " [(\"'s\", 'PRT'), (('work', 'VERB'), ('work', 'NOUN'))],\n",
       " [('who', 'PRON'), (('earlier', 'ADJ'), ('earlier', 'ADV'))],\n",
       " [('a', 'DET'), (('42.5', 'NOUN'), ('42.5', 'NUM'))],\n",
       " [(\"'s\", 'PRT'), (('nine-member', 'VERB'), ('nine-member', 'ADJ'))],\n",
       " [('.', '.'), (('Long-term', 'NOUN'), ('Long-term', 'ADJ'))],\n",
       " [('What', 'PRON'), (('*T*-164', 'VERB'), ('*T*-164', 'X'))],\n",
       " [('*T*-164', 'X'), ((\"'s\", 'PRT'), (\"'s\", 'VERB'))],\n",
       " [('is', 'VERB'), (('happening', 'X'), ('happening', 'VERB'))],\n",
       " [('spend', 'VERB'), (('much', 'ADV'), ('much', 'ADJ'))],\n",
       " [('on', 'ADP'), (('print', 'VERB'), ('print', 'NOUN'))],\n",
       " [('print', 'NOUN'), (('advertising', 'VERB'), ('advertising', 'NOUN'))],\n",
       " [('peaks', 'NOUN'), (('earlier', 'ADV'), ('earlier', 'ADJ'))],\n",
       " [('government', 'NOUN'), (('curtailed', 'NOUN'), ('curtailed', 'VERB'))],\n",
       " [('with', 'ADP'), (('land-idling', 'DET'), ('land-idling', 'ADJ'))],\n",
       " [('reduce', 'VERB'),\n",
       "  (('price-depressing', 'X'), ('price-depressing', 'ADJ'))],\n",
       " [('price-depressing', 'ADJ'), (('surpluses', 'VERB'), ('surpluses', 'NOUN'))],\n",
       " [('were', 'VERB'), (('preapproved', 'X'), ('preapproved', 'VERB'))],\n",
       " [('preapproved', 'VERB'), (('*-67', 'VERB'), ('*-67', 'X'))],\n",
       " [('to', 'PRT'), (('veto', 'NOUN'), ('veto', 'VERB'))],\n",
       " [('veto', 'VERB'), (('such', 'ADJ'), ('such', 'DET'))],\n",
       " [('it', 'PRON'), (('views', 'NOUN'), ('views', 'VERB'))],\n",
       " [('an', 'DET'), (('undesirable', 'NOUN'), ('undesirable', 'ADJ'))],\n",
       " [('the', 'DET'), (('300-113', 'NOUN'), ('300-113', 'NUM'))],\n",
       " [('the', 'DET'), (('potential', 'ADJ'), ('potential', 'NOUN'))],\n",
       " [('breaks', 'VERB'), (('down', 'ADV'), ('down', 'PRT'))],\n",
       " [('prolonged', 'VERB'), (('sunlight', 'X'), ('sunlight', 'NOUN'))],\n",
       " [(\"n't\", 'ADV'), (('recyclable', 'VERB'), ('recyclable', 'ADJ'))],\n",
       " [('of', 'ADP'), (('fronts', 'DET'), ('fronts', 'NOUN'))],\n",
       " [('of', 'ADP'), (('Warrenton', 'DET'), ('Warrenton', 'NOUN'))],\n",
       " [('of', 'ADP'), (('architectural', 'DET'), ('architectural', 'ADJ'))],\n",
       " [('was', 'VERB'), (('foundering', 'X'), ('foundering', 'VERB'))],\n",
       " [('$', '.'), (('2,099', 'NOUN'), ('2,099', 'NUM'))],\n",
       " [('go', 'VERB'), (('through', 'ADP'), ('through', 'PRT'))],\n",
       " [('already', 'ADV'), (('own', 'ADJ'), ('own', 'VERB'))],\n",
       " [('it', 'PRON'), (('bid', 'NOUN'), ('bid', 'VERB'))],\n",
       " [('separate', 'ADJ'), (('public', 'NOUN'), ('public', 'ADJ'))],\n",
       " [('the', 'DET'), (('apparent', 'NOUN'), ('apparent', 'ADJ'))],\n",
       " [('apparent', 'ADJ'), (('slowing', 'VERB'), ('slowing', 'NOUN'))],\n",
       " [('into', 'ADP'), (('oblivion', 'DET'), ('oblivion', 'NOUN'))],\n",
       " [('a', 'DET'), (('seven-yen', 'NOUN'), ('seven-yen', 'ADJ'))],\n",
       " [('The', 'DET'), (('multilevel', 'NOUN'), ('multilevel', 'ADJ'))],\n",
       " [('by', 'ADP'), (('Thrall', 'DET'), ('Thrall', 'NOUN'))],\n",
       " [('held', 'VERB'), (('Duchossois', 'X'), ('Duchossois', 'NOUN'))],\n",
       " [('proposal', 'NOUN'), (('that', 'ADP'), ('that', 'DET'))],\n",
       " [('emissions', 'NOUN'), (('that', 'ADP'), ('that', 'DET'))],\n",
       " [('its', 'PRON'), (('centennial', 'VERB'), ('centennial', 'NOUN'))],\n",
       " [(',', '.'), (('The', 'DET'), ('The', 'NOUN'))],\n",
       " [('will', 'VERB'), (('report', 'NOUN'), ('report', 'VERB'))],\n",
       " [('century', 'NOUN'), (('that', 'ADP'), ('that', 'DET'))],\n",
       " [('as', 'ADP'), (('milestones', 'DET'), ('milestones', 'NOUN'))],\n",
       " [('about', 'ADP'), (('Senior', 'DET'), ('Senior', 'NOUN'))],\n",
       " [('a', 'DET'), (('75-year-old', 'NOUN'), ('75-year-old', 'NUM'))],\n",
       " [('of', 'ADP'), (('Marina', 'DET'), ('Marina', 'NOUN'))],\n",
       " [('Marina', 'NOUN'), (('del', 'NOUN'), ('del', 'DET'))],\n",
       " [('for', 'ADP'), (('alleged', 'ADJ'), ('alleged', 'VERB'))],\n",
       " [('of', 'ADP'), (('reporting', 'NOUN'), ('reporting', 'VERB'))],\n",
       " [('the', 'DET'), (('36-store', 'NOUN'), ('36-store', 'ADJ'))],\n",
       " [('to', 'PRT'), (('free', 'ADJ'), ('free', 'VERB'))],\n",
       " [('*U*', 'X'), (('face', 'VERB'), ('face', 'NOUN'))],\n",
       " [('are', 'VERB'), (('worth', 'ADJ'), ('worth', 'ADP'))],\n",
       " [('for', 'ADP'), (('aesthetic', 'DET'), ('aesthetic', 'ADJ'))],\n",
       " [('one', 'NUM'), (('famed', 'NOUN'), ('famed', 'ADJ'))],\n",
       " [('then', 'ADV'), (('overseas', 'ADJ'), ('overseas', 'ADV'))],\n",
       " [('.', '.'), (('Performing', 'NOUN'), ('Performing', 'VERB'))],\n",
       " [('Treasury', 'NOUN'), (('estimates', 'NOUN'), ('estimates', 'VERB'))],\n",
       " [('to', 'PRT'), (('aim', 'NOUN'), ('aim', 'VERB'))],\n",
       " [('and', 'CONJ'), (('entertaining', 'NOUN'), ('entertaining', 'ADJ'))],\n",
       " [('that', 'DET'), (('means', 'NOUN'), ('means', 'VERB'))],\n",
       " [('means', 'VERB'),\n",
       "  (('confrontational', 'NOUN'), ('confrontational', 'ADJ'))],\n",
       " [('the', 'DET'), (('right', 'NOUN'), ('right', 'ADJ'))],\n",
       " [('areas', 'NOUN'), (('that', 'ADP'), ('that', 'DET'))],\n",
       " [('that', 'DET'), (('*T*-186', 'DET'), ('*T*-186', 'X'))],\n",
       " [('can', 'VERB'), (('bar', 'NOUN'), ('bar', 'VERB'))],\n",
       " [('programs', 'NOUN'), (('that', 'ADP'), ('that', 'DET'))],\n",
       " [('include', 'VERB'),\n",
       "  (('abortion-related', 'X'), ('abortion-related', 'ADJ'))],\n",
       " [(',', '.'), (('down', 'ADV'), ('down', 'ADP'))],\n",
       " [('from', 'ADP'), (('176.1', 'DET'), ('176.1', 'NUM'))],\n",
       " [('Bell', 'NOUN'), (('established', 'NOUN'), ('established', 'VERB'))],\n",
       " [('their', 'PRON'), (('farms', 'VERB'), ('farms', 'NOUN'))],\n",
       " [('*-87', 'X'), (('more', 'ADV'), ('more', 'ADJ'))],\n",
       " [('off', 'PRT'), (('drastically', 'VERB'), ('drastically', 'ADV'))],\n",
       " [('or', 'CONJ'), (('about', 'ADP'), ('about', 'ADV'))],\n",
       " [('Assuming', 'VERB'), (('that', 'ADP'), ('that', 'DET'))],\n",
       " [('in', 'ADP'), (('universities', 'DET'), ('universities', 'NOUN'))],\n",
       " [('is', 'VERB'), (('researching', 'X'), ('researching', 'VERB'))],\n",
       " [('``', '.'), (('headed', 'NOUN'), ('headed', 'VERB'))],\n",
       " [('and', 'CONJ'), (('Soviet', 'ADJ'), ('Soviet', 'NOUN'))],\n",
       " [('in', 'ADP'), (('pre-Communist', 'DET'), ('pre-Communist', 'ADJ'))],\n",
       " [('pre-Communist', 'ADJ'), (('Russian', 'NOUN'), ('Russian', 'ADJ'))],\n",
       " [('.', '.'), (('Ten', 'NOUN'), ('Ten', 'NUM'))],\n",
       " [('Ten', 'NUM'), (('shirt-sleeved', 'NOUN'), ('shirt-sleeved', 'ADJ'))],\n",
       " [('each', 'DET'), (('pulling', 'NOUN'), ('pulling', 'VERB'))],\n",
       " [('rope', 'NOUN'), (('that', 'ADP'), ('that', 'DET'))],\n",
       " [('that', 'DET'), (('*T*-225', 'DET'), ('*T*-225', 'X'))],\n",
       " [('*T*-225', 'X'), (('disappears', 'NOUN'), ('disappears', 'VERB'))],\n",
       " [('#', '.'), (('722', 'NOUN'), ('722', 'NUM'))],\n",
       " [('fourth-quarter', 'NOUN'), (('pre-tax', 'NOUN'), ('pre-tax', 'ADJ'))],\n",
       " [('a', 'DET'), (('definitive', 'NOUN'), ('definitive', 'ADJ'))],\n",
       " [('a', 'DET'), (('lousy', 'NOUN'), ('lousy', 'ADJ'))],\n",
       " [('*T*-1', 'X'), (('anyway', 'VERB'), ('anyway', 'ADV'))],\n",
       " [('and', 'CONJ'), (('contingency-fee', 'NOUN'), ('contingency-fee', 'ADJ'))],\n",
       " [('cut', 'NOUN'), (('either', 'CONJ'), ('either', 'DET'))],\n",
       " [('be', 'VERB'), (('spun', 'X'), ('spun', 'VERB'))],\n",
       " [('$', '.'), (('3.28', 'NOUN'), ('3.28', 'NUM'))],\n",
       " [('$', '.'), (('3.16', 'NOUN'), ('3.16', 'NUM'))],\n",
       " [('$', '.'), (('184', 'NOUN'), ('184', 'NUM'))],\n",
       " [('for', 'ADP'), (('*-30', 'DET'), ('*-30', 'X'))],\n",
       " [('response', 'NOUN'), (('annoyed', 'NOUN'), ('annoyed', 'VERB'))],\n",
       " [('snapped', 'VERB'), (('back', 'ADV'), ('back', 'PRT'))],\n",
       " [('been', 'VERB'), (('enough', 'ADV'), ('enough', 'ADJ'))],\n",
       " [('and', 'CONJ'), (('that', 'DET'), ('that', 'ADP'))],\n",
       " [(\"'\", 'PRT'), (('binders', 'VERB'), ('binders', 'NOUN'))],\n",
       " [(',', '.'), (('four-color', 'NOUN'), ('four-color', 'ADJ'))],\n",
       " [('will', 'VERB'), (('cost', 'NOUN'), ('cost', 'VERB'))],\n",
       " [('$', '.'), (('100,980', 'NOUN'), ('100,980', 'NUM'))],\n",
       " [('at', 'ADP'), (('mid-afternoon', 'DET'), ('mid-afternoon', 'ADJ'))],\n",
       " [('at', 'ADP'), (('260', 'DET'), ('260', 'NUM'))],\n",
       " [('of', 'ADP'), (('flashy', 'DET'), ('flashy', 'ADJ'))],\n",
       " [('.', '.'), (('More', 'ADV'), ('More', 'ADJ'))],\n",
       " [('In', 'ADP'), (('American', 'ADJ'), ('American', 'NOUN'))],\n",
       " [('$', '.'), (('45.75', 'NOUN'), ('45.75', 'NUM'))],\n",
       " [('exchanging', 'VERB'), (('rings', 'VERB'), ('rings', 'NOUN'))],\n",
       " [('the', 'DET'), (('upscale', 'ADJ'), ('upscale', 'NOUN'))],\n",
       " [('to', 'PRT'), (('project', 'NOUN'), ('project', 'VERB'))],\n",
       " [('with', 'ADP'), (('top-level', 'DET'), ('top-level', 'ADJ'))],\n",
       " [('as', 'ADP'), (('chief', 'NOUN'), ('chief', 'ADJ'))],\n",
       " [('are', 'VERB'), (('fuming', 'X'), ('fuming', 'VERB'))],\n",
       " [('fuming', 'VERB'), (('because', 'ADP'), ('because', 'ADV'))],\n",
       " [('*', 'X'), (('Either', 'VERB'), ('Either', 'CONJ'))],\n",
       " [('Either', 'CONJ'), (('sign', 'NOUN'), ('sign', 'VERB'))],\n",
       " [('or', 'CONJ'), (('risk', 'NOUN'), ('risk', 'VERB'))],\n",
       " [('involved', 'VERB'), (('more', 'ADV'), ('more', 'ADJ'))],\n",
       " [('200', 'NUM'), (('alleged', 'ADJ'), ('alleged', 'VERB'))],\n",
       " [('of', 'ADP'), (('electrical-safety', 'DET'), ('electrical-safety', 'ADJ'))],\n",
       " [('come', 'VERB'), (('up', 'ADV'), ('up', 'PRT'))],\n",
       " [('for', 'ADP'), (('bankruptcy-law', 'DET'), ('bankruptcy-law', 'ADJ'))],\n",
       " [('$', '.'), (('47.5', 'NOUN'), ('47.5', 'NUM'))],\n",
       " [('the', 'DET'), (('1920s', 'NOUN'), ('1920s', 'NUM'))],\n",
       " [('and', 'CONJ'), ((\"'30s\", 'NOUN'), (\"'30s\", 'NUM'))],\n",
       " [('shape', 'NOUN'), (('that', 'ADP'), ('that', 'DET'))],\n",
       " [('contain', 'VERB'), (('semicircular', 'X'), ('semicircular', 'ADJ'))],\n",
       " [('semicircular', 'ADJ'), (('cells', 'VERB'), ('cells', 'NOUN'))],\n",
       " [('the', 'DET'), (('middle', 'ADJ'), ('middle', 'NOUN'))],\n",
       " [('*ICH*-1', 'X'), (('Kathryn', 'VERB'), ('Kathryn', 'NOUN'))],\n",
       " [('Kathryn', 'NOUN'), (('McAuley', 'X'), ('McAuley', 'NOUN'))],\n",
       " [('year', 'NOUN'), (('earlier', 'ADV'), ('earlier', 'ADJ'))],\n",
       " [('to', 'PRT'), (('361,376', 'VERB'), ('361,376', 'NUM'))],\n",
       " [('on', 'ADP'), (('353', 'DET'), ('353', 'NUM'))],\n",
       " [('and', 'CONJ'), (('chief', 'NOUN'), ('chief', 'ADJ'))],\n",
       " [('chief', 'ADJ'), (('executive', 'NOUN'), ('executive', 'ADJ'))],\n",
       " [('0', 'X'), (('greedy', 'VERB'), ('greedy', 'ADJ'))],\n",
       " [(\"'s\", 'PRT'), (('free-enterprise', 'VERB'), ('free-enterprise', 'NOUN'))],\n",
       " [('a', 'DET'), (('sound', 'NOUN'), ('sound', 'ADJ'))],\n",
       " [('maker', 'NOUN'), (('introduces', 'NOUN'), ('introduces', 'VERB'))],\n",
       " [('an', 'DET'), (('anti-miscarriage', 'NOUN'), ('anti-miscarriage', 'ADJ'))],\n",
       " [('sell', 'VERB'), (('that', 'ADP'), ('that', 'DET'))],\n",
       " [('stock', 'NOUN'), (('short', 'ADJ'), ('short', 'ADV'))],\n",
       " [('The', 'DET'), (('combined', 'ADJ'), ('combined', 'VERB'))],\n",
       " [('in', 'ADP'), (('Hackensack', 'DET'), ('Hackensack', 'NOUN'))],\n",
       " [('chief', 'NOUN'), (('operating', 'NOUN'), ('operating', 'VERB'))],\n",
       " [('of', 'ADP'), (('Toys', 'DET'), ('Toys', 'NOUN'))],\n",
       " [('of', 'ADP'), (('Signet', 'DET'), ('Signet', 'NOUN'))],\n",
       " [('carrier', 'NOUN'), (('so', 'ADV'), ('so', 'ADP'))],\n",
       " [('be', 'VERB'), (('impaired', 'X'), ('impaired', 'VERB'))],\n",
       " [('of', 'ADP'), (('airline-related', 'DET'), ('airline-related', 'ADJ'))],\n",
       " [('an', 'DET'), (('overriding', 'NOUN'), ('overriding', 'VERB'))],\n",
       " [('public', 'NOUN'), (('benefit', 'VERB'), ('benefit', 'NOUN'))],\n",
       " [('IRS', 'NOUN'), (('rarely', 'NOUN'), ('rarely', 'ADV'))],\n",
       " [('rarely', 'ADV'), (('acted', 'NOUN'), ('acted', 'VERB'))],\n",
       " [('his', 'PRON'), (('living', 'VERB'), ('living', 'NOUN'))],\n",
       " [('the', 'DET'), (('double', 'VERB'), ('double', 'ADJ'))],\n",
       " [('double', 'ADJ'), (('bass', 'X'), ('bass', 'NOUN'))],\n",
       " [('in', 'ADP'), (('classical', 'DET'), ('classical', 'ADJ'))],\n",
       " [('an', 'DET'), (('exciting', 'NOUN'), ('exciting', 'ADJ'))],\n",
       " [(',', '.'), (('eclectic', 'NOUN'), ('eclectic', 'ADJ'))],\n",
       " [('score', 'NOUN'), (('that', 'ADP'), ('that', 'DET'))],\n",
       " [('far', 'ADV'), (('more', 'ADJ'), ('more', 'ADV'))],\n",
       " [('than', 'ADP'), (('intertitles', 'DET'), ('intertitles', 'NOUN'))],\n",
       " [('Apple', 'NOUN'), (('I', 'PRON'), ('I', 'NOUN'))],\n",
       " [('for', 'ADP'), (('hobbyists', 'DET'), ('hobbyists', 'NOUN'))],\n",
       " [('*ICH*-1', 'X'), (('Gayle', 'VERB'), ('Gayle', 'NOUN'))],\n",
       " [('incentive', 'NOUN'), (('pay', 'VERB'), ('pay', 'NOUN'))],\n",
       " [('opened', 'VERB'), (('up', 'ADV'), ('up', 'PRT'))],\n",
       " [('a', 'DET'), (('can', 'VERB'), ('can', 'NOUN'))],\n",
       " [('of', 'ADP'), (('worms', 'DET'), ('worms', 'NOUN'))],\n",
       " [('by', 'ADP'), (('bribe', 'DET'), ('bribe', 'NOUN'))],\n",
       " [('Wedtech', 'NOUN'), (('traveled', 'NOUN'), ('traveled', 'VERB'))],\n",
       " [('its', 'PRON'), (('inception', 'VERB'), ('inception', 'NOUN'))],\n",
       " [('small', 'ADJ'), (('manufacturing', 'NOUN'), ('manufacturing', 'VERB'))],\n",
       " [('of', 'ADP'), (('full-fledged', 'DET'), ('full-fledged', 'ADJ'))],\n",
       " [('producing', 'VERB'), (('vital', 'X'), ('vital', 'ADJ'))],\n",
       " [('take', 'VERB'), (('early', 'ADV'), ('early', 'ADJ'))],\n",
       " [('its', 'PRON'), (('finance', 'VERB'), ('finance', 'NOUN'))],\n",
       " [('succeeded', 'VERB'), (('Bennett', 'X'), ('Bennett', 'NOUN'))],\n",
       " [('Bennett', 'NOUN'), (('Cerf', 'VERB'), ('Cerf', 'NOUN'))],\n",
       " [('in', 'ADP'), (('1925', 'DET'), ('1925', 'NUM'))],\n",
       " [('who', 'PRON'), (('*T*-82', 'VERB'), ('*T*-82', 'X'))],\n",
       " [('who', 'PRON'), (('*T*-83', 'VERB'), ('*T*-83', 'X'))],\n",
       " [('of', 'ADP'), (('school-district', 'DET'), ('school-district', 'NOUN'))],\n",
       " [('officials', 'NOUN'), (('stunned', 'NOUN'), ('stunned', 'ADJ'))],\n",
       " [('the', 'DET'), (('bald-faced', 'NOUN'), ('bald-faced', 'ADJ'))],\n",
       " [('No', 'DET'), (('one', 'NUM'), ('one', 'NOUN'))],\n",
       " [('--', '.'), (('twice', 'NOUN'), ('twice', 'ADV'))],\n",
       " [('twice', 'ADV'), (('as', 'ADP'), ('as', 'ADV'))],\n",
       " [(\"'s\", 'VERB'), (('imaginative', 'X'), ('imaginative', 'ADJ'))],\n",
       " [('and', 'CONJ'), (('chief', 'NOUN'), ('chief', 'ADJ'))],\n",
       " [('chief', 'ADJ'), (('executive', 'NOUN'), ('executive', 'ADJ'))],\n",
       " [('improved', 'VERB'), (('operating', 'VERB'), ('operating', 'NOUN'))],\n",
       " [('operating', 'NOUN'), (('efficiencies', 'X'), ('efficiencies', 'NOUN'))],\n",
       " [('$', '.'), (('126.1', 'NOUN'), ('126.1', 'NUM'))],\n",
       " [('has', 'VERB'), (('hunted', 'X'), ('hunted', 'VERB'))],\n",
       " [('0', 'X'), (('that', 'ADP'), ('that', 'DET'))],\n",
       " [('.', '.'), (('Strong', 'NOUN'), ('Strong', 'ADJ'))],\n",
       " [('spiders', 'NOUN'), (('that', 'ADP'), ('that', 'DET'))],\n",
       " [('that', 'DET'), (('*T*-231', 'DET'), ('*T*-231', 'X'))],\n",
       " [('attract', 'VERB'), (('males', 'X'), ('males', 'NOUN'))],\n",
       " [('after', 'ADP'), (('mating', 'DET'), ('mating', 'VERB'))],\n",
       " [('bought', 'VERB'), (('back', 'ADV'), ('back', 'PRT'))],\n",
       " [('about', 'ADP'), (('15.5', 'DET'), ('15.5', 'NUM'))],\n",
       " [('in', 'ADP'), (('Westport', 'DET'), ('Westport', 'NOUN'))],\n",
       " [('of', 'ADP'), (('punitive', 'DET'), ('punitive', 'ADJ'))],\n",
       " [('to', 'PRT'), (('license', 'NOUN'), ('license', 'VERB'))],\n",
       " [('due', 'ADJ'), (('1995', 'NOUN'), ('1995', 'NUM'))],\n",
       " [('fell', 'VERB'), (('9\\\\/32', 'X'), ('9\\\\/32', 'NUM'))],\n",
       " [('to', 'PRT'), (('103', 'VERB'), ('103', 'NUM'))],\n",
       " [('yield', 'VERB'), (('11.10', 'X'), ('11.10', 'NUM'))],\n",
       " [('.', '.'), (('Note', 'NOUN'), ('Note', 'VERB'))],\n",
       " [('All', 'DET'), (('per-share', 'NOUN'), ('per-share', 'ADJ'))],\n",
       " [('to', 'PRT'), (('692', 'VERB'), ('692', 'NUM'))],\n",
       " [('to', 'PRT'), (('960', 'VERB'), ('960', 'NUM'))],\n",
       " [('Only', 'ADV'), (('26.8', 'VERB'), ('26.8', 'NUM'))],\n",
       " [('with', 'ADP'), (('28.5', 'DET'), ('28.5', 'NUM'))],\n",
       " [('and', 'CONJ'), (('26.8', 'NOUN'), ('26.8', 'NUM'))],\n",
       " [('selling', 'NOUN'), (('panic', 'VERB'), ('panic', 'NOUN'))],\n",
       " [('shareholders', 'NOUN'), (('cleared', 'NOUN'), ('cleared', 'VERB'))],\n",
       " [('seeking', 'VERB'), (('better', 'ADV'), ('better', 'ADJ'))],\n",
       " [('their', 'PRON'), (('high-volume', 'VERB'), ('high-volume', 'ADJ'))],\n",
       " [('or', 'CONJ'), (('overseas', 'ADJ'), ('overseas', 'ADV'))],\n",
       " [('best', 'ADJ'), (('known', 'ADJ'), ('known', 'VERB'))],\n",
       " [('approach', 'NOUN'), (('that', 'ADP'), ('that', 'DET'))],\n",
       " [('two', 'NUM'), (('midsized', 'ADJ'), ('midsized', 'VERB'))],\n",
       " [('cars', 'NOUN'), (('that', 'ADP'), ('that', 'DET'))],\n",
       " [('maker', 'NOUN'), (('record', 'NOUN'), ('record', 'VERB'))],\n",
       " [('the', 'DET'), (('top-selling', 'NOUN'), ('top-selling', 'ADJ'))],\n",
       " [('1,000', 'NUM'), (('enclosed', 'NOUN'), ('enclosed', 'VERB'))],\n",
       " [('transporting', 'VERB'), (('autos', 'X'), ('autos', 'NOUN'))],\n",
       " [(\"'s\", 'PRT'), (('offense', 'VERB'), ('offense', 'NOUN'))],\n",
       " [('which', 'DET'), (('*T*-133', 'NOUN'), ('*T*-133', 'X'))],\n",
       " [('for', 'ADP'), (('alleged', 'ADJ'), ('alleged', 'VERB'))],\n",
       " [('Ward', 'NOUN'), (('resolved', 'NOUN'), ('resolved', 'VERB'))],\n",
       " [('.', '.'), (('So', 'ADV'), ('So', 'ADP'))],\n",
       " [('*-2', 'X'), (('successfully', 'VERB'), ('successfully', 'ADV'))],\n",
       " [('successfully', 'ADV'), (('mobilizing', 'X'), ('mobilizing', 'VERB'))],\n",
       " [('their', 'PRON'), (('tormentors', 'VERB'), ('tormentors', 'NOUN'))],\n",
       " [('stations', 'NOUN'), (('that', 'ADP'), ('that', 'DET'))],\n",
       " [('that', 'DET'), (('*T*-149', 'DET'), ('*T*-149', 'X'))],\n",
       " [('years', 'NOUN'), (('ago', 'ADP'), ('ago', 'ADV'))],\n",
       " [('been', 'VERB'), (('firmly', 'X'), ('firmly', 'ADV'))],\n",
       " [('provide', 'VERB'), (('early', 'ADV'), ('early', 'ADJ'))],\n",
       " [('early', 'ADJ'), (('warning', 'VERB'), ('warning', 'NOUN'))],\n",
       " [('warning', 'NOUN'), (('signals', 'VERB'), ('signals', 'NOUN'))],\n",
       " [('yield', 'VERB'), (('3.43', 'X'), ('3.43', 'NUM'))],\n",
       " [('About', 'ADP'), (('11.6', 'DET'), ('11.6', 'NUM'))],\n",
       " [('of', 'ADP'), (('Datapoint', 'DET'), ('Datapoint', 'NOUN'))],\n",
       " [('to', 'PRT'), (('fund', 'NOUN'), ('fund', 'VERB'))],\n",
       " [('in', 'ADP'), (('warehouses', 'DET'), ('warehouses', 'NOUN'))],\n",
       " [('*EXP*-1', 'X'), ((\"'s\", 'PRT'), (\"'s\", 'VERB'))],\n",
       " [('a', 'DET'), (('17-year-old', 'NOUN'), ('17-year-old', 'ADJ'))],\n",
       " [('of', 'ADP'), (('830,000', 'DET'), ('830,000', 'NUM'))],\n",
       " [('in', 'ADP'), (('detail', 'DET'), ('detail', 'NOUN'))],\n",
       " [('a', 'DET'), (('42.5', 'NOUN'), ('42.5', 'NUM'))],\n",
       " [('and', 'CONJ'), (('plan', 'NOUN'), ('plan', 'VERB'))],\n",
       " [(\"'s\", 'PRT'), (('nine-member', 'VERB'), ('nine-member', 'ADJ'))],\n",
       " [('.', '.'), (('9.82', 'NOUN'), ('9.82', 'NUM'))],\n",
       " [('rate', 'NOUN'), (('capped', 'VERB'), ('capped', 'ADJ'))],\n",
       " [('$', '.'), (('492', 'NOUN'), ('492', 'NUM'))],\n",
       " [('$', '.'), (('4.55', 'NOUN'), ('4.55', 'NUM'))],\n",
       " [('$', '.'), (('12.97', 'NOUN'), ('12.97', 'NUM'))],\n",
       " [('.', '.'), (('Far', 'NOUN'), ('Far', 'ADV'))],\n",
       " [('Far', 'ADV'), (('above', 'ADP'), ('above', 'ADV'))],\n",
       " [('on', 'ADP'), (('wheels', 'DET'), ('wheels', 'NOUN'))],\n",
       " [(',', '.'), (('swing', 'NOUN'), ('swing', 'VERB'))],\n",
       " [('swing', 'VERB'), (('madly', 'NOUN'), ('madly', 'ADV'))],\n",
       " [('full', 'ADJ'), (('360', 'NOUN'), ('360', 'NUM'))],\n",
       " [('the', 'DET'), (('inverted', 'NOUN'), ('inverted', 'ADJ'))],\n",
       " [('or', 'CONJ'), (('mouth-up', 'NOUN'), ('mouth-up', 'ADJ'))],\n",
       " [('been', 'VERB'), (('disruptive', 'X'), ('disruptive', 'ADJ'))],\n",
       " [('.', '.'), (('Yet', 'CONJ'), ('Yet', 'ADV'))],\n",
       " [('those', 'DET'), (('related', 'ADJ'), ('related', 'VERB'))],\n",
       " [('the', 'DET'), (('Cray-3', 'NOUN'), ('Cray-3', 'NUM'))],\n",
       " [('long-term', 'ADJ'), (('play', 'VERB'), ('play', 'NOUN'))],\n",
       " [('learned', 'VERB'), (('that', 'ADP'), ('that', 'DET'))],\n",
       " [('is', 'VERB'), (('sufficient', 'X'), ('sufficient', 'ADJ'))],\n",
       " [('.', '.'), (('So', 'ADV'), ('So', 'ADP'))],\n",
       " [('budding', 'VERB'), (('logistical', 'X'), ('logistical', 'ADJ'))],\n",
       " [('``', '.'), (('photographic', 'NOUN'), ('photographic', 'ADJ'))],\n",
       " [('be', 'VERB'), (('impartial', 'X'), ('impartial', 'ADJ'))],\n",
       " [('a', 'DET'), (('homosexual', 'ADJ'), ('homosexual', 'NOUN'))],\n",
       " [('``', '.'), (('that', 'DET'), ('that', 'ADP'))],\n",
       " [('information', 'NOUN'),\n",
       "  (('domestically', 'NOUN'), ('domestically', 'ADV'))],\n",
       " [('GMAC', 'NOUN'), (('screened', 'NOUN'), ('screened', 'VERB'))],\n",
       " [('holders', 'NOUN'), (('more', 'ADV'), ('more', 'ADJ'))],\n",
       " [('``', '.'), (('missed', 'NOUN'), ('missed', 'VERB'))],\n",
       " [('the', 'DET'), (('purchasing', 'NOUN'), ('purchasing', 'VERB'))],\n",
       " [('paycheck', 'NOUN'), (('reasonably', 'NOUN'), ('reasonably', 'ADV'))],\n",
       " [('The', 'DET'), (('forthcoming', 'NOUN'), ('forthcoming', 'ADJ'))],\n",
       " [('a', 'DET'), (('10-year', 'ADJ'), ('10-year', 'NUM'))],\n",
       " [('government', 'NOUN'),\n",
       "  (('yen-denominated', 'NOUN'), ('yen-denominated', 'ADJ'))],\n",
       " [('at', 'ADP'), (('about', 'ADP'), ('about', 'ADV'))],\n",
       " [('investors', 'NOUN'), (('redeeming', 'NOUN'), ('redeeming', 'VERB'))]]"
      ]
     },
     "execution_count": 61,
     "metadata": {},
     "output_type": "execute_result"
    }
   ],
   "source": [
    "# Idenfying the incorrect tagged cases from technique 2\n",
    "incorrect_tagged_cases_modified_transition = [[validation_run_base[i-1],j] for i, j in enumerate(zip(tagged_seq_modified_transition, validation_run_base)) if j[0]!=j[1]]\n",
    "incorrect_tagged_cases_modified_transition"
   ]
  },
  {
   "cell_type": "code",
   "execution_count": 62,
   "metadata": {},
   "outputs": [
    {
     "data": {
      "text/plain": [
       "328"
      ]
     },
     "execution_count": 62,
     "metadata": {},
     "output_type": "execute_result"
    }
   ],
   "source": [
    "# Checking the number of cases of incorrect tagging from technique 2\n",
    "len(incorrect_tagged_cases_modified_transition)"
   ]
  },
  {
   "cell_type": "code",
   "execution_count": 63,
   "metadata": {},
   "outputs": [],
   "source": [
    "# Identifying tags which are incorrectly predicted by technique 1\n",
    "incorrect_tag=[]\n",
    "for i in incorrect_tagged_cases_modified_transition:\n",
    "    j=i[1]\n",
    "    k=j[1]\n",
    "    l=k[1]\n",
    "    incorrect_tag.append(l)"
   ]
  },
  {
   "cell_type": "code",
   "execution_count": 64,
   "metadata": {},
   "outputs": [
    {
     "name": "stdout",
     "output_type": "stream",
     "text": [
      "Counter({'ADJ': 84, 'NOUN': 73, 'VERB': 62, 'NUM': 41, 'ADV': 23, 'DET': 20, 'X': 11, 'ADP': 7, 'PRT': 6, 'CONJ': 1})\n"
     ]
    }
   ],
   "source": [
    "# Listing number of incorrect tags\n",
    "incorrect_tag_count=Counter(incorrect_tag)\n",
    "print(incorrect_tag_count)"
   ]
  },
  {
   "cell_type": "markdown",
   "metadata": {},
   "source": [
    "#### 4.4.2 Implementing technique 2 on sample test dataset "
   ]
  },
  {
   "cell_type": "code",
   "execution_count": 65,
   "metadata": {},
   "outputs": [],
   "source": [
    "# Implementing the rule based modification on vanilla viterbi on the test sample\n",
    "sentence_test = \"Android is a mobile operating system developed by Google. Android has been the best-selling OS worldwide on smartphones since 2011 and on tablets since 2013. Google and Twitter made a deal in 2015 that gave Google access to Twitter's firehose. Twitter is an online news and social networking service on which users post and interact with messages known as tweets. Before entering politics, Donald Trump was a domineering businessman and a television personality. The 2018 FIFA World Cup is the 21st FIFA World Cup, an international football tournament contested once every four years. This is the first World Cup to be held in Eastern Europe and the 11th time that it has been held in Europe. Show me the cheapest round trips from Dallas to Atlanta I would like to see flights from Denver to Philadelphia. Show me the price of the flights leaving Atlanta at about 3 in the afternoon and arriving in San Francisco. NASA invited social media users to experience the launch of ICESAT-2 Satellite.\"\n",
    "\n",
    "words_test = word_tokenize(sentence_test)\n",
    "\n",
    "start = time.time()\n",
    "tagged_seq_transition = Viterbi_modified_transition(words_test)\n",
    "end = time.time()\n",
    "difference = end-start"
   ]
  },
  {
   "cell_type": "code",
   "execution_count": 66,
   "metadata": {
    "scrolled": true
   },
   "outputs": [
    {
     "name": "stdout",
     "output_type": "stream",
     "text": [
      "36.187808990478516\n",
      "[('Android', 'NOUN'), ('is', 'VERB'), ('a', 'DET'), ('mobile', 'ADJ'), ('operating', 'NOUN'), ('system', 'NOUN'), ('developed', 'VERB'), ('by', 'ADP'), ('Google', 'DET'), ('.', '.'), ('Android', 'NOUN'), ('has', 'VERB'), ('been', 'VERB'), ('the', 'DET'), ('best-selling', 'ADJ'), ('OS', 'NOUN'), ('worldwide', 'NOUN'), ('on', 'ADP'), ('smartphones', 'DET'), ('since', 'ADP'), ('2011', 'DET'), ('and', 'CONJ'), ('on', 'ADP'), ('tablets', 'NOUN'), ('since', 'ADP'), ('2013', 'DET'), ('.', '.'), ('Google', 'NOUN'), ('and', 'CONJ'), ('Twitter', 'NOUN'), ('made', 'VERB'), ('a', 'DET'), ('deal', 'NOUN'), ('in', 'ADP'), ('2015', 'DET'), ('that', 'ADP'), ('gave', 'VERB'), ('Google', 'X'), ('access', 'NOUN'), ('to', 'PRT'), ('Twitter', 'VERB'), (\"'s\", 'PRT'), ('firehose', 'VERB'), ('.', '.'), ('Twitter', 'NOUN'), ('is', 'VERB'), ('an', 'DET'), ('online', 'NOUN'), ('news', 'NOUN'), ('and', 'CONJ'), ('social', 'ADJ'), ('networking', 'NOUN'), ('service', 'NOUN'), ('on', 'ADP'), ('which', 'DET'), ('users', 'NOUN'), ('post', 'NOUN'), ('and', 'CONJ'), ('interact', 'NOUN'), ('with', 'ADP'), ('messages', 'DET'), ('known', 'VERB'), ('as', 'ADP'), ('tweets', 'DET'), ('.', '.'), ('Before', 'ADP'), ('entering', 'VERB'), ('politics', 'NOUN'), (',', '.'), ('Donald', 'NOUN'), ('Trump', 'NOUN'), ('was', 'VERB'), ('a', 'DET'), ('domineering', 'NOUN'), ('businessman', 'NOUN'), ('and', 'CONJ'), ('a', 'DET'), ('television', 'NOUN'), ('personality', 'NOUN'), ('.', '.'), ('The', 'DET'), ('2018', 'NOUN'), ('FIFA', 'NOUN'), ('World', 'NOUN'), ('Cup', 'NOUN'), ('is', 'VERB'), ('the', 'DET'), ('21st', 'NOUN'), ('FIFA', 'NOUN'), ('World', 'NOUN'), ('Cup', 'NOUN'), (',', '.'), ('an', 'DET'), ('international', 'ADJ'), ('football', 'NOUN'), ('tournament', 'NOUN'), ('contested', 'NOUN'), ('once', 'ADV'), ('every', 'DET'), ('four', 'NUM'), ('years', 'NOUN'), ('.', '.'), ('This', 'DET'), ('is', 'VERB'), ('the', 'DET'), ('first', 'ADJ'), ('World', 'NOUN'), ('Cup', 'NOUN'), ('to', 'PRT'), ('be', 'VERB'), ('held', 'VERB'), ('in', 'ADP'), ('Eastern', 'NOUN'), ('Europe', 'NOUN'), ('and', 'CONJ'), ('the', 'DET'), ('11th', 'ADJ'), ('time', 'NOUN'), ('that', 'ADP'), ('it', 'PRON'), ('has', 'VERB'), ('been', 'VERB'), ('held', 'VERB'), ('in', 'ADP'), ('Europe', 'NOUN'), ('.', '.'), ('Show', 'NOUN'), ('me', 'PRON'), ('the', 'DET'), ('cheapest', 'ADJ'), ('round', 'NOUN'), ('trips', 'NOUN'), ('from', 'ADP'), ('Dallas', 'NOUN'), ('to', 'PRT'), ('Atlanta', 'NOUN'), ('I', 'PRON'), ('would', 'VERB'), ('like', 'ADP'), ('to', 'PRT'), ('see', 'VERB'), ('flights', 'NOUN'), ('from', 'ADP'), ('Denver', 'NOUN'), ('to', 'PRT'), ('Philadelphia', 'NOUN'), ('.', '.'), ('Show', 'NOUN'), ('me', 'PRON'), ('the', 'DET'), ('price', 'NOUN'), ('of', 'ADP'), ('the', 'DET'), ('flights', 'NOUN'), ('leaving', 'VERB'), ('Atlanta', 'NOUN'), ('at', 'ADP'), ('about', 'ADP'), ('3', 'NUM'), ('in', 'ADP'), ('the', 'DET'), ('afternoon', 'NOUN'), ('and', 'CONJ'), ('arriving', 'NOUN'), ('in', 'ADP'), ('San', 'NOUN'), ('Francisco', 'NOUN'), ('.', '.'), ('NASA', 'NOUN'), ('invited', 'NOUN'), ('social', 'ADJ'), ('media', 'NOUN'), ('users', 'NOUN'), ('to', 'PRT'), ('experience', 'NOUN'), ('the', 'DET'), ('launch', 'NOUN'), ('of', 'ADP'), ('ICESAT-2', 'DET'), ('Satellite', 'NOUN'), ('.', '.')]\n"
     ]
    }
   ],
   "source": [
    "# Printing the result on the test sample implementation\n",
    "print(difference)\n",
    "print(tagged_seq_transition)"
   ]
  },
  {
   "cell_type": "markdown",
   "metadata": {},
   "source": [
    "#### 4.4.3 Evaluating accuaracy of technique 2"
   ]
  },
  {
   "cell_type": "markdown",
   "metadata": {},
   "source": [
    "Observation:\n",
    "    \n",
    "Similar to technique 1, we have observed following pointers from technique 2\n",
    "\n",
    "    1. We are able to observe improvement in the accuracy in the validation set after modification from 90.9% to 93.7%\n",
    "    2. The number of incorrect cases is reduced from to almost half from 473 to 328\n",
    "    3. Almost half of the incorrect cases with regards to NOUN have been rectified"
   ]
  },
  {
   "cell_type": "markdown",
   "metadata": {},
   "source": [
    "### 5. Compare the tagging accuracies of the modifications with the vanilla Viterbi algorithm"
   ]
  },
  {
   "cell_type": "markdown",
   "metadata": {},
   "source": [
    " #### 1. Accuracy from plain vanilla on validation set:\n",
    " \n",
    " a. Accuracy: 90.9\n",
    " \n",
    " b. No of incorrect cases: 473\n",
    " \n",
    " c. No of incorrect tags: 'NOUN': 187, 'ADJ': 84, 'VERB': 84, 'NUM': 41, 'ADV': 23, 'DET': 18, 'X': 18, 'ADP': 10, 'PRT': 8"
   ]
  },
  {
   "cell_type": "markdown",
   "metadata": {},
   "source": [
    "#### 2. Accuracy from Technique 1 (Rule based modifications):\n",
    "\n",
    "a. Accuracy: 94.6\n",
    "\n",
    "b. No of incorrect cases: 277\n",
    "\n",
    "c. No of incorrect tags:'ADJ': 86, 'VERB': 84, 'NOUN': 26, 'ADV': 23, 'DET': 20, 'X': 18, 'ADP': 7, 'PRT': 6,'NUM': 6,'CONJ': 1"
   ]
  },
  {
   "cell_type": "markdown",
   "metadata": {},
   "source": [
    "#### 3. Accuracy from Technique 2 (Considering transition probability):\n",
    "\n",
    "a. Accuracy: 93.7\n",
    "\n",
    "b. No of incorrect cases: 328\n",
    "\n",
    "C. No of incorrect tags:'ADJ': 84, 'NOUN': 73, 'VERB': 62, 'NUM': 41, 'ADV': 23,'DET': 20, 'X': 11, 'ADP': 7,'PRT': 6,'CONJ': 1"
   ]
  },
  {
   "cell_type": "markdown",
   "metadata": {},
   "source": [
    "#### Observations:\n",
    "\n",
    "1. The accuracy is improved more by using rule based POS tagging along with vanilla viterbi (technique 1) as compared to transition probability (technique 2)\n",
    "\n",
    "2. The number of unknown nouns are correctly identified is high as compared to other tags followed by verb and num"
   ]
  },
  {
   "cell_type": "markdown",
   "metadata": {},
   "source": [
    "### 6. List down cases which were incorrectly tagged by original POS tagger and got corrected by your modifications"
   ]
  },
  {
   "cell_type": "markdown",
   "metadata": {},
   "source": [
    "#### Cases which got rectified after modification from technique 1"
   ]
  },
  {
   "cell_type": "markdown",
   "metadata": {},
   "source": [
    "#### Case 1: Correct identification of proper nouns"
   ]
  },
  {
   "cell_type": "markdown",
   "metadata": {},
   "source": [
    "Unknown words like Android, Twitter, Google, NASA which were not correctly identified by original POS tagger were correctly identified after modification in technique 1. Initially these words were randomly identified as CONJ, VERB, etc. and after modification they were idenfied as NOUN\n",
    "\n",
    "Example:\n",
    "\n",
    "##### Android\n",
    "\n",
    "Tagged by Vanilla: CONJ\n",
    "\n",
    "Tagged by Technique 1: NOUN\n",
    "\n",
    "Tagged by Technique 2: NOUN\n",
    "\n",
    "##### Google\n",
    "\n",
    "Tagged by Vanilla: CONJ\n",
    "\n",
    "Tagged by Technique 1: NOUN\n",
    "\n",
    "Tagged by Technique 2: NOUN\n",
    "\n",
    "##### NASA\n",
    "\n",
    "Tagged by Vanilla: CONJ\n",
    "\n",
    "Tagged by Technique 1: NOUN\n",
    "\n",
    "Tagged by Technique 2: NOUN\n",
    "\n",
    "Similarly, proper nouns are correctly identified by technique 1 and technique 2 after modifications"
   ]
  },
  {
   "cell_type": "markdown",
   "metadata": {},
   "source": [
    "Approach used: Since these proper nouns starts with capital letter. Hence, regex was used to identify them in the modified technique 1 and used only transition probability in technique 2"
   ]
  },
  {
   "cell_type": "markdown",
   "metadata": {},
   "source": [
    "#### Case 2: Correct identification of numbers"
   ]
  },
  {
   "cell_type": "markdown",
   "metadata": {},
   "source": [
    "Numbers like 2013, 2005 were not correctly identified by original POS tagger and most of these numbers were identified as CONJ. After modification in the algorithm these were correctly identified at NUM\n",
    "\n",
    "Example:\n",
    "\n",
    "##### 2013\n",
    "\n",
    "Tagged by Vanilla: CONJ\n",
    "\n",
    "Tagged by Technique 1: NUM\n",
    "\n",
    "\n",
    "##### 2015\n",
    "\n",
    "Tagged by Vanilla: CONJ\n",
    "\n",
    "Tagged by Technique 1: NUM\n",
    "\n",
    "Similarly, numbers are correctly identified by technique 1 after modifications"
   ]
  },
  {
   "cell_type": "markdown",
   "metadata": {},
   "source": [
    "Approach used: Regex was used to identify them correctly in the modified technique"
   ]
  },
  {
   "cell_type": "markdown",
   "metadata": {},
   "source": [
    "#### Case 3: Correct identification of common nouns:"
   ]
  },
  {
   "cell_type": "markdown",
   "metadata": {},
   "source": [
    "Common nouns were not correctly identified by original POS tagger and most of these numbers were identified as CONJ, VERB, DET, etc. After modification in the algorithm these were correctly identified as NOUN\n",
    "\n",
    "Example:\n",
    "\n",
    "##### personality\n",
    "\n",
    "Tagged by Vanilla: CONJ\n",
    "\n",
    "Tagged by Technique 1: NOUN\n",
    "\n",
    "Tagged by Technique 2: NOUN\n",
    "\n",
    "\n",
    "##### firehose\n",
    "\n",
    "Tagged by Vanilla: CONJ\n",
    "\n",
    "Tagged by Technique 1: NOUN\n",
    "\n",
    "\n",
    "##### tweets\n",
    "\n",
    "Tagged by Vanilla: CONJ\n",
    "\n",
    "Tagged by Technique 1: NOUN\n",
    "\n",
    "Similarly, other common nouns are correctly identified by technique 1/2 after modifications"
   ]
  },
  {
   "cell_type": "code",
   "execution_count": null,
   "metadata": {},
   "outputs": [],
   "source": []
  }
 ],
 "metadata": {
  "kernelspec": {
   "display_name": "Python 3",
   "language": "python",
   "name": "python3"
  },
  "language_info": {
   "codemirror_mode": {
    "name": "ipython",
    "version": 3
   },
   "file_extension": ".py",
   "mimetype": "text/x-python",
   "name": "python",
   "nbconvert_exporter": "python",
   "pygments_lexer": "ipython3",
   "version": "3.7.3"
  }
 },
 "nbformat": 4,
 "nbformat_minor": 2
}
